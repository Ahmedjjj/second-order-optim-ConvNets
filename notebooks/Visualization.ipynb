{
 "cells": [
  {
   "cell_type": "code",
   "execution_count": 2,
   "id": "1fc4d33f",
   "metadata": {},
   "outputs": [
    {
     "name": "stdout",
     "output_type": "stream",
     "text": [
      "The autoreload extension is already loaded. To reload it, use:\n",
      "  %reload_ext autoreload\n"
     ]
    }
   ],
   "source": [
    "import torch\n",
    "from torch.utils.data import DataLoader\n",
    "from torchvision import transforms, datasets\n",
    "\n",
    "from src.model import LeNet5\n",
    "from src.exp import run_experiment, run_experiment_all_optimizers\n",
    "from torch.optim import LBFGS, Adam\n",
    "\n",
    "from optim_adahessian import Adahessian\n",
    "from apollo import Apollo\n",
    "\n",
    "import src.utils as utils\n",
    "\n",
    "import matplotlib.pyplot as plt\n",
    "import logging\n",
    "\n",
    "import pickle\n",
    "import copy\n",
    "import numpy as np\n",
    "\n",
    "logging.getLogger().setLevel(logging.INFO)\n",
    "logging.basicConfig(format=\"%(message)s\")\n",
    "\n",
    "%load_ext autoreload\n",
    "%autoreload 2"
   ]
  },
  {
   "cell_type": "code",
   "execution_count": 3,
   "id": "ee2d0a9d",
   "metadata": {},
   "outputs": [],
   "source": [
    "def perturabate_model(model, direction, alpha):\n",
    "    \n",
    "    model_per = copy.deepcopy(model)\n",
    "    \n",
    "    for param, d in zip(model_per.parameters(),direction):\n",
    "        with torch.no_grad():\n",
    "            param = param + d * alpha\n",
    "    \n",
    "    return model_per"
   ]
  },
  {
   "cell_type": "code",
   "execution_count": 4,
   "id": "8fa212f6",
   "metadata": {},
   "outputs": [],
   "source": [
    "def compute_minimum_shape(results_dic, dataset_name, optimizer_name, max_amp_pert = 0.5, num_per = 25):\n",
    "    \n",
    "    train_loader, _ = utils.load_data('/home/app/datasets', dataset = 'MNIST')\n",
    "    \n",
    "    model = results_dic[dataset_name][optimizer_name]['model']\n",
    "    hessian = results_dic[dataset_name][optimizer_name]['hessian']\n",
    "    \n",
    "    criterion = torch.nn.CrossEntropyLoss()\n",
    "    \n",
    "    #density_eigen, density_weight = hessian.density()\n",
    "    top_eigenvalues , top_eigenvectors = hessian.eigenvalues(top_n = 1)\n",
    "    \n",
    "    alphas = np.linspace(-max_amp_pert,max_amp_pert,num_per)\n",
    "    \n",
    "    losses = []\n",
    "        \n",
    "    for alpha in alphas:\n",
    "        model_per = perturabate_model(model,top_eigenvectors[-1],alpha)\n",
    "        \n",
    "        acc_loss = 0\n",
    "        for inputs,targets in train_loader:\n",
    "            acc_loss += criterion(model_per(inputs),targets)\n",
    "        acc_loss = acc_loss/len(train_loader.dataset)\n",
    "        \n",
    "        losses.append(acc_loss)\n",
    "    \n",
    "    return alphas, losses"
   ]
  },
  {
   "cell_type": "code",
   "execution_count": 5,
   "id": "79e4383f",
   "metadata": {},
   "outputs": [],
   "source": [
    "results = pickle.load(open('MNIST_results.dic','rb'))"
   ]
  },
  {
   "cell_type": "code",
   "execution_count": null,
   "id": "b68722cd",
   "metadata": {},
   "outputs": [],
   "source": [
    "out = compute_minimum_shape(results, 'MNIST','Adam')"
   ]
  },
  {
   "cell_type": "code",
   "execution_count": null,
   "id": "fc37b07d",
   "metadata": {},
   "outputs": [],
   "source": [
    "plt.plot(out[0],out[1])"
   ]
  },
  {
   "cell_type": "code",
   "execution_count": null,
   "id": "a1ac0147",
   "metadata": {},
   "outputs": [],
   "source": [
    "results"
   ]
  },
  {
   "cell_type": "code",
   "execution_count": null,
   "id": "136628a2",
   "metadata": {},
   "outputs": [],
   "source": [
    "with open(\"test.dic\",\"wb\") as file:\n",
    "    pickle.dump(results,file)"
   ]
  },
  {
   "cell_type": "code",
   "execution_count": null,
   "id": "f4e977cf",
   "metadata": {},
   "outputs": [],
   "source": [
    "train_loader,test_loader = utils.load_data('/home/app/datasets', dataset = 'MNIST')"
   ]
  },
  {
   "cell_type": "code",
   "execution_count": 6,
   "id": "69acae79",
   "metadata": {},
   "outputs": [],
   "source": [
    "model = results['MNIST']['Adam']['model']"
   ]
  },
  {
   "cell_type": "code",
   "execution_count": 7,
   "id": "fa384d28",
   "metadata": {},
   "outputs": [],
   "source": [
    "hesmx = results['MNIST']['Adam']['hessian']"
   ]
  },
  {
   "cell_type": "code",
   "execution_count": null,
   "id": "ab190937",
   "metadata": {},
   "outputs": [],
   "source": [
    "lam, vec = hesmx.eigenvalues(top_n = 1)"
   ]
  },
  {
   "cell_type": "code",
   "execution_count": null,
   "id": "0d5c8c54",
   "metadata": {},
   "outputs": [],
   "source": []
  },
  {
   "cell_type": "code",
   "execution_count": null,
   "id": "aa4d8a48",
   "metadata": {},
   "outputs": [],
   "source": [
    "perturabate_model(model,vec[-1],0.1)"
   ]
  },
  {
   "cell_type": "code",
   "execution_count": null,
   "id": "1be7a114",
   "metadata": {},
   "outputs": [],
   "source": [
    "model = results['Adam']['model']\n",
    "\n"
   ]
  },
  {
   "cell_type": "code",
   "execution_count": null,
   "id": "5d460002",
   "metadata": {},
   "outputs": [],
   "source": [
    "results['Adam']['model']"
   ]
  },
  {
   "cell_type": "code",
   "execution_count": null,
   "id": "cf004658",
   "metadata": {},
   "outputs": [],
   "source": [
    "results"
   ]
  },
  {
   "cell_type": "code",
   "execution_count": null,
   "id": "0916aaee",
   "metadata": {},
   "outputs": [],
   "source": [
    "# This is a simple function, that will allow us to perturb the model paramters and get the result\n",
    "def get_params(model, direction, alpha):\n",
    "    \n",
    "    for m_orig, m_perb, d in zip(model_orig.parameters(), model_perb.parameters(), direction):\n",
    "        m_perb.data = m_orig.data + alpha * d\n",
    "    return model_perb"
   ]
  }
 ],
 "metadata": {
  "kernelspec": {
   "display_name": "Python 3",
   "language": "python",
   "name": "python3"
  },
  "language_info": {
   "codemirror_mode": {
    "name": "ipython",
    "version": 3
   },
   "file_extension": ".py",
   "mimetype": "text/x-python",
   "name": "python",
   "nbconvert_exporter": "python",
   "pygments_lexer": "ipython3",
   "version": "3.8.8"
  }
 },
 "nbformat": 4,
 "nbformat_minor": 5
}
