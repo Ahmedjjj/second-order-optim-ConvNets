{
 "cells": [
  {
   "cell_type": "code",
   "execution_count": 2,
   "id": "1fc4d33f",
   "metadata": {},
   "outputs": [
    {
     "name": "stderr",
     "output_type": "stream",
     "text": [
      "Generating grammar tables from /home/.local/lib/python3.8/site-packages/blib2to3/Grammar.txt\n",
      "Writing grammar tables to /home/.cache/black/21.6b0/Grammar3.8.8.final.0.pickle\n",
      "Writing failed: [Errno 2] No such file or directory: '/home/.cache/black/21.6b0/tmpv31kcyqr'\n",
      "Generating grammar tables from /home/.local/lib/python3.8/site-packages/blib2to3/PatternGrammar.txt\n",
      "Writing grammar tables to /home/.cache/black/21.6b0/PatternGrammar3.8.8.final.0.pickle\n",
      "Writing failed: [Errno 2] No such file or directory: '/home/.cache/black/21.6b0/tmpikzdoue7'\n"
     ]
    },
    {
     "data": {
      "application/javascript": [
       "\n",
       "            setTimeout(function() {\n",
       "                var nbb_cell_id = 2;\n",
       "                var nbb_unformatted_code = \"import torch\\nfrom torch.utils.data import DataLoader\\nfrom torchvision import transforms, datasets\\n\\nfrom src.model import LeNet5\\nfrom src.exp import run_experiment, run_experiment_all_optimizers\\nfrom torch.optim import LBFGS, Adam\\n\\nfrom optim_adahessian import Adahessian\\nfrom apollo import Apollo\\n\\nimport src.utils as utils\\n\\nimport matplotlib.pyplot as plt\\nimport logging\\n\\nfrom pyhessian import hessian\\n\\nimport pickle\\nimport copy\\nimport numpy as np\\n\\nlogging.getLogger().setLevel(logging.INFO)\\nlogging.basicConfig(format=\\\"%(message)s\\\")\\n\\n%load_ext autoreload\\n%autoreload 2\\n%load_ext nb_black\";\n",
       "                var nbb_formatted_code = \"import torch\\nfrom torch.utils.data import DataLoader\\nfrom torchvision import transforms, datasets\\n\\nfrom src.model import LeNet5\\nfrom src.exp import run_experiment, run_experiment_all_optimizers\\nfrom torch.optim import LBFGS, Adam\\n\\nfrom optim_adahessian import Adahessian\\nfrom apollo import Apollo\\n\\nimport src.utils as utils\\n\\nimport matplotlib.pyplot as plt\\nimport logging\\n\\nfrom pyhessian import hessian\\n\\nimport pickle\\nimport copy\\nimport numpy as np\\n\\nlogging.getLogger().setLevel(logging.INFO)\\nlogging.basicConfig(format=\\\"%(message)s\\\")\\n\\n%load_ext autoreload\\n%autoreload 2\\n%load_ext nb_black\";\n",
       "                var nbb_cells = Jupyter.notebook.get_cells();\n",
       "                for (var i = 0; i < nbb_cells.length; ++i) {\n",
       "                    if (nbb_cells[i].input_prompt_number == nbb_cell_id) {\n",
       "                        if (nbb_cells[i].get_text() == nbb_unformatted_code) {\n",
       "                             nbb_cells[i].set_text(nbb_formatted_code);\n",
       "                        }\n",
       "                        break;\n",
       "                    }\n",
       "                }\n",
       "            }, 500);\n",
       "            "
      ],
      "text/plain": [
       "<IPython.core.display.Javascript object>"
      ]
     },
     "metadata": {},
     "output_type": "display_data"
    }
   ],
   "source": [
    "import torch\n",
    "from torch.utils.data import DataLoader\n",
    "from torchvision import transforms, datasets\n",
    "\n",
    "from src.model import LeNet5\n",
    "from src.exp import run_experiment, run_experiment_all_optimizers\n",
    "from torch.optim import LBFGS, Adam\n",
    "\n",
    "from optim_adahessian import Adahessian\n",
    "from apollo import Apollo\n",
    "\n",
    "import src.utils as utils\n",
    "\n",
    "import matplotlib.pyplot as plt\n",
    "import logging\n",
    "\n",
    "from pyhessian import hessian\n",
    "\n",
    "import pickle\n",
    "import copy\n",
    "import numpy as np\n",
    "\n",
    "logging.getLogger().setLevel(logging.INFO)\n",
    "logging.basicConfig(format=\"%(message)s\")\n",
    "\n",
    "%load_ext autoreload\n",
    "%autoreload 2\n",
    "%load_ext nb_black"
   ]
  },
  {
   "cell_type": "code",
   "execution_count": 8,
   "id": "ee2d0a9d",
   "metadata": {},
   "outputs": [
    {
     "data": {
      "application/javascript": [
       "\n",
       "            setTimeout(function() {\n",
       "                var nbb_cell_id = 8;\n",
       "                var nbb_unformatted_code = \"\\ndef perturbate_model_2d(model, model_per, direction_1, direction_2, alpha_1, alpha_2):\\n\\n    for param_p, param_o, d_1, d_2 in zip(\\n        model_per.parameters(), model.parameters(), direction_1, direction_2\\n    ):\\n        with torch.no_grad():\\n            param_p.data = param_o.data + d_1 * alpha_1 + d_2 * alpha_2\\n\\n    return model_per\\n\\ndef perturbate_model(model, model_per, direction, alpha):\\n\\n    for param_p, param_o, d in zip(\\n        model_per.parameters(), model.parameters(), direction\\n    ):\\n        with torch.no_grad():\\n            param_p.data = param_o.data + d * alpha\\n\\n    return model_per\";\n",
       "                var nbb_formatted_code = \"def perturbate_model_2d(model, model_per, direction_1, direction_2, alpha_1, alpha_2):\\n\\n    for param_p, param_o, d_1, d_2 in zip(\\n        model_per.parameters(), model.parameters(), direction_1, direction_2\\n    ):\\n        with torch.no_grad():\\n            param_p.data = param_o.data + d_1 * alpha_1 + d_2 * alpha_2\\n\\n    return model_per\\n\\n\\ndef perturbate_model(model, model_per, direction, alpha):\\n\\n    for param_p, param_o, d in zip(\\n        model_per.parameters(), model.parameters(), direction\\n    ):\\n        with torch.no_grad():\\n            param_p.data = param_o.data + d * alpha\\n\\n    return model_per\";\n",
       "                var nbb_cells = Jupyter.notebook.get_cells();\n",
       "                for (var i = 0; i < nbb_cells.length; ++i) {\n",
       "                    if (nbb_cells[i].input_prompt_number == nbb_cell_id) {\n",
       "                        if (nbb_cells[i].get_text() == nbb_unformatted_code) {\n",
       "                             nbb_cells[i].set_text(nbb_formatted_code);\n",
       "                        }\n",
       "                        break;\n",
       "                    }\n",
       "                }\n",
       "            }, 500);\n",
       "            "
      ],
      "text/plain": [
       "<IPython.core.display.Javascript object>"
      ]
     },
     "metadata": {},
     "output_type": "display_data"
    }
   ],
   "source": [
    "def perturbate_model_2d(model, model_per, direction_1, direction_2, alpha_1, alpha_2):\n",
    "\n",
    "    for param_p, param_o, d_1, d_2 in zip(\n",
    "        model_per.parameters(), model.parameters(), direction_1, direction_2\n",
    "    ):\n",
    "        with torch.no_grad():\n",
    "            param_p.data = param_o.data + d_1 * alpha_1 + d_2 * alpha_2\n",
    "\n",
    "    return model_per\n",
    "\n",
    "\n",
    "def perturbate_model(model, model_per, direction, alpha):\n",
    "\n",
    "    for param_p, param_o, d in zip(\n",
    "        model_per.parameters(), model.parameters(), direction\n",
    "    ):\n",
    "        with torch.no_grad():\n",
    "            param_p.data = param_o.data + d * alpha\n",
    "\n",
    "    return model_per"
   ]
  },
  {
   "cell_type": "code",
   "execution_count": 75,
   "id": "7a836f1d",
   "metadata": {},
   "outputs": [
    {
     "data": {
      "application/javascript": [
       "\n",
       "            setTimeout(function() {\n",
       "                var nbb_cell_id = 75;\n",
       "                var nbb_unformatted_code = \"def compute_minimum_shape(\\n    model, dataset_name, max_amp_pert=0.5, num_per=25, batch_size=2000, use_3d=False\\n):\\n    # Work with only one (big) batch\\n    train_loader, _ = utils.load_data(\\n        \\\"/home/app/datasets\\\", batch_size=batch_size, dataset=\\\"MNIST\\\"\\n    )\\n    inputs, targets = next(iter(train_loader))\\n\\n    criterion = torch.nn.CrossEntropyLoss()\\n\\n    model_hessian = hessian(model, criterion, data=(inputs, targets), cuda=False)\\n    top_n = 2 if use_3d else 1\\n    top_eigenvalues, top_eigenvectors = model_hessian.eigenvalues(top_n=top_n)\\n    density_eigen, density_weight = model_hessian.density()\\n\\n\\n    alphas = np.linspace(-max_amp_pert, max_amp_pert, num_per).astype(np.float32)\\n    losses = []\\n    model_per = copy.deepcopy(model)\\n\\n    for alpha in alphas:\\n        if use_3d:\\n            for alpha_2 in alphas:\\n                model_per = perturbate_model_2d(\\n                    model,\\n                    model_per,\\n                    top_eigenvectors[0],\\n                    top_eigenvectors[1],\\n                    alpha,\\n                    alpha_2,\\n                )\\n                losses.append(criterion(model_per(inputs), targets).item())\\n        else:\\n            model_per = perturbate_model(model, model_per, top_eigenvectors[0], alpha)\\n            losses.append(criterion(model_per(inputs), targets).item())\\n\\n    return alphas, losses, density_eigen, density_weight\";\n",
       "                var nbb_formatted_code = \"def compute_minimum_shape(\\n    model, dataset_name, max_amp_pert=0.5, num_per=25, batch_size=2000, use_3d=False\\n):\\n    # Work with only one (big) batch\\n    train_loader, _ = utils.load_data(\\n        \\\"/home/app/datasets\\\", batch_size=batch_size, dataset=\\\"MNIST\\\"\\n    )\\n    inputs, targets = next(iter(train_loader))\\n\\n    criterion = torch.nn.CrossEntropyLoss()\\n\\n    model_hessian = hessian(model, criterion, data=(inputs, targets), cuda=False)\\n    top_n = 2 if use_3d else 1\\n    top_eigenvalues, top_eigenvectors = model_hessian.eigenvalues(top_n=top_n)\\n    density_eigen, density_weight = model_hessian.density()\\n\\n    alphas = np.linspace(-max_amp_pert, max_amp_pert, num_per).astype(np.float32)\\n    losses = []\\n    model_per = copy.deepcopy(model)\\n\\n    for alpha in alphas:\\n        if use_3d:\\n            for alpha_2 in alphas:\\n                model_per = perturbate_model_2d(\\n                    model,\\n                    model_per,\\n                    top_eigenvectors[0],\\n                    top_eigenvectors[1],\\n                    alpha,\\n                    alpha_2,\\n                )\\n                losses.append(criterion(model_per(inputs), targets).item())\\n        else:\\n            model_per = perturbate_model(model, model_per, top_eigenvectors[0], alpha)\\n            losses.append(criterion(model_per(inputs), targets).item())\\n\\n    return alphas, losses, density_eigen, density_weight\";\n",
       "                var nbb_cells = Jupyter.notebook.get_cells();\n",
       "                for (var i = 0; i < nbb_cells.length; ++i) {\n",
       "                    if (nbb_cells[i].input_prompt_number == nbb_cell_id) {\n",
       "                        if (nbb_cells[i].get_text() == nbb_unformatted_code) {\n",
       "                             nbb_cells[i].set_text(nbb_formatted_code);\n",
       "                        }\n",
       "                        break;\n",
       "                    }\n",
       "                }\n",
       "            }, 500);\n",
       "            "
      ],
      "text/plain": [
       "<IPython.core.display.Javascript object>"
      ]
     },
     "metadata": {},
     "output_type": "display_data"
    }
   ],
   "source": [
    "def compute_minimum_shape(\n",
    "    model, dataset_name, max_amp_pert=0.5, num_per=25, batch_size=2000, use_3d=False\n",
    "):\n",
    "    # Work with only one (big) batch\n",
    "    train_loader, _ = utils.load_data(\n",
    "        \"/home/app/datasets\", batch_size=batch_size, dataset=\"MNIST\"\n",
    "    )\n",
    "    inputs, targets = next(iter(train_loader))\n",
    "\n",
    "    criterion = torch.nn.CrossEntropyLoss()\n",
    "\n",
    "    model_hessian = hessian(model, criterion, data=(inputs, targets), cuda=False)\n",
    "    top_n = 2 if use_3d else 1\n",
    "    top_eigenvalues, top_eigenvectors = model_hessian.eigenvalues(top_n=top_n)\n",
    "    density_eigen, density_weight = model_hessian.density()\n",
    "\n",
    "    alphas = np.linspace(-max_amp_pert, max_amp_pert, num_per).astype(np.float32)\n",
    "    losses = []\n",
    "    model_per = copy.deepcopy(model)\n",
    "\n",
    "    for alpha in alphas:\n",
    "        if use_3d:\n",
    "            for alpha_2 in alphas:\n",
    "                model_per = perturbate_model_2d(\n",
    "                    model,\n",
    "                    model_per,\n",
    "                    top_eigenvectors[0],\n",
    "                    top_eigenvectors[1],\n",
    "                    alpha,\n",
    "                    alpha_2,\n",
    "                )\n",
    "                losses.append(criterion(model_per(inputs), targets).item())\n",
    "        else:\n",
    "            model_per = perturbate_model(model, model_per, top_eigenvectors[0], alpha)\n",
    "            losses.append(criterion(model_per(inputs), targets).item())\n",
    "\n",
    "    return alphas, losses, density_eigen, density_weight"
   ]
  },
  {
   "cell_type": "code",
   "execution_count": 76,
   "id": "79e4383f",
   "metadata": {},
   "outputs": [
    {
     "data": {
      "application/javascript": [
       "\n",
       "            setTimeout(function() {\n",
       "                var nbb_cell_id = 76;\n",
       "                var nbb_unformatted_code = \"results = pickle.load(open(\\\"MNIST_results.dic\\\", \\\"rb\\\"))\";\n",
       "                var nbb_formatted_code = \"results = pickle.load(open(\\\"MNIST_results.dic\\\", \\\"rb\\\"))\";\n",
       "                var nbb_cells = Jupyter.notebook.get_cells();\n",
       "                for (var i = 0; i < nbb_cells.length; ++i) {\n",
       "                    if (nbb_cells[i].input_prompt_number == nbb_cell_id) {\n",
       "                        if (nbb_cells[i].get_text() == nbb_unformatted_code) {\n",
       "                             nbb_cells[i].set_text(nbb_formatted_code);\n",
       "                        }\n",
       "                        break;\n",
       "                    }\n",
       "                }\n",
       "            }, 500);\n",
       "            "
      ],
      "text/plain": [
       "<IPython.core.display.Javascript object>"
      ]
     },
     "metadata": {},
     "output_type": "display_data"
    }
   ],
   "source": [
    "results = pickle.load(open(\"MNIST_results.dic\", \"rb\"))"
   ]
  },
  {
   "cell_type": "code",
   "execution_count": 77,
   "id": "a936f80f",
   "metadata": {
    "scrolled": true
   },
   "outputs": [
    {
     "data": {
      "application/javascript": [
       "\n",
       "            setTimeout(function() {\n",
       "                var nbb_cell_id = 77;\n",
       "                var nbb_unformatted_code = \"model = results[\\\"MNIST\\\"][\\\"AdaHessian\\\"][\\\"model\\\"]\";\n",
       "                var nbb_formatted_code = \"model = results[\\\"MNIST\\\"][\\\"AdaHessian\\\"][\\\"model\\\"]\";\n",
       "                var nbb_cells = Jupyter.notebook.get_cells();\n",
       "                for (var i = 0; i < nbb_cells.length; ++i) {\n",
       "                    if (nbb_cells[i].input_prompt_number == nbb_cell_id) {\n",
       "                        if (nbb_cells[i].get_text() == nbb_unformatted_code) {\n",
       "                             nbb_cells[i].set_text(nbb_formatted_code);\n",
       "                        }\n",
       "                        break;\n",
       "                    }\n",
       "                }\n",
       "            }, 500);\n",
       "            "
      ],
      "text/plain": [
       "<IPython.core.display.Javascript object>"
      ]
     },
     "metadata": {},
     "output_type": "display_data"
    }
   ],
   "source": [
    "model = results[\"MNIST\"][\"AdaHessian\"][\"model\"]"
   ]
  },
  {
   "cell_type": "code",
   "execution_count": 78,
   "id": "fbf1bef6",
   "metadata": {
    "scrolled": false
   },
   "outputs": [
    {
     "data": {
      "application/javascript": [
       "\n",
       "            setTimeout(function() {\n",
       "                var nbb_cell_id = 78;\n",
       "                var nbb_unformatted_code = \"alphas, losses, density_eigen, density_weight = compute_minimum_shape(model, \\\"MNIST\\\")\";\n",
       "                var nbb_formatted_code = \"alphas, losses, density_eigen, density_weight = compute_minimum_shape(model, \\\"MNIST\\\")\";\n",
       "                var nbb_cells = Jupyter.notebook.get_cells();\n",
       "                for (var i = 0; i < nbb_cells.length; ++i) {\n",
       "                    if (nbb_cells[i].input_prompt_number == nbb_cell_id) {\n",
       "                        if (nbb_cells[i].get_text() == nbb_unformatted_code) {\n",
       "                             nbb_cells[i].set_text(nbb_formatted_code);\n",
       "                        }\n",
       "                        break;\n",
       "                    }\n",
       "                }\n",
       "            }, 500);\n",
       "            "
      ],
      "text/plain": [
       "<IPython.core.display.Javascript object>"
      ]
     },
     "metadata": {},
     "output_type": "display_data"
    }
   ],
   "source": [
    "alphas, losses, density_eigen, density_weight = compute_minimum_shape(model, \"MNIST\")"
   ]
  },
  {
   "cell_type": "code",
   "execution_count": 74,
   "id": "20119054",
   "metadata": {
    "scrolled": false
   },
   "outputs": [
    {
     "data": {
      "text/plain": [
       "[<matplotlib.lines.Line2D at 0x7f5d7e70cdf0>]"
      ]
     },
     "execution_count": 74,
     "metadata": {},
     "output_type": "execute_result"
    },
    {
     "data": {
      "image/png": "[encoded data removed]",
      "text/plain": [
       "<Figure size 432x288 with 1 Axes>"
      ]
     },
     "metadata": {
      "needs_background": "light"
     },
     "output_type": "display_data"
    },
    {
     "data": {
      "application/javascript": [
       "\n",
       "            setTimeout(function() {\n",
       "                var nbb_cell_id = 74;\n",
       "                var nbb_unformatted_code = \"plt.plot(alphas, losses)\";\n",
       "                var nbb_formatted_code = \"plt.plot(alphas, losses)\";\n",
       "                var nbb_cells = Jupyter.notebook.get_cells();\n",
       "                for (var i = 0; i < nbb_cells.length; ++i) {\n",
       "                    if (nbb_cells[i].input_prompt_number == nbb_cell_id) {\n",
       "                        if (nbb_cells[i].get_text() == nbb_unformatted_code) {\n",
       "                             nbb_cells[i].set_text(nbb_formatted_code);\n",
       "                        }\n",
       "                        break;\n",
       "                    }\n",
       "                }\n",
       "            }, 500);\n",
       "            "
      ],
      "text/plain": [
       "<IPython.core.display.Javascript object>"
      ]
     },
     "metadata": {},
     "output_type": "display_data"
    }
   ],
   "source": [
    "plt.plot(alphas, losses)"
   ]
  },
  {
   "cell_type": "code",
   "execution_count": 67,
   "id": "b9148868",
   "metadata": {
    "scrolled": true
   },
   "outputs": [
    {
     "data": {
      "image/png": "[encoded data removed]",
      "text/plain": [
       "<Figure size 1440x360 with 1 Axes>"
      ]
     },
     "metadata": {
      "needs_background": "light"
     },
     "output_type": "display_data"
    },
    {
     "data": {
      "application/javascript": [
       "\n",
       "            setTimeout(function() {\n",
       "                var nbb_cell_id = 67;\n",
       "                var nbb_unformatted_code = \"from mpl_toolkits.mplot3d import Axes3D\\n\\nfig = plt.figure(figsize=(20, 5))\\nax = fig.add_subplot(111, projection=\\\"3d\\\")\\nax.view_init(elev=30, azim=90)\\nax.plot_surface(X=alphas, Y=alphas, Z=losses, cmap=\\\"viridis\\\")\\nfig.show()\";\n",
       "                var nbb_formatted_code = \"from mpl_toolkits.mplot3d import Axes3D\\n\\nfig = plt.figure(figsize=(20, 5))\\nax = fig.add_subplot(111, projection=\\\"3d\\\")\\nax.view_init(elev=30, azim=90)\\nax.plot_surface(X=alphas, Y=alphas, Z=losses, cmap=\\\"viridis\\\")\\nfig.show()\";\n",
       "                var nbb_cells = Jupyter.notebook.get_cells();\n",
       "                for (var i = 0; i < nbb_cells.length; ++i) {\n",
       "                    if (nbb_cells[i].input_prompt_number == nbb_cell_id) {\n",
       "                        if (nbb_cells[i].get_text() == nbb_unformatted_code) {\n",
       "                             nbb_cells[i].set_text(nbb_formatted_code);\n",
       "                        }\n",
       "                        break;\n",
       "                    }\n",
       "                }\n",
       "            }, 500);\n",
       "            "
      ],
      "text/plain": [
       "<IPython.core.display.Javascript object>"
      ]
     },
     "metadata": {},
     "output_type": "display_data"
    }
   ],
   "source": [
    "from mpl_toolkits.mplot3d import Axes3D\n",
    "\n",
    "fig = plt.figure(figsize=(20, 5))\n",
    "ax = fig.add_subplot(111, projection=\"3d\")\n",
    "ax.view_init(elev=30, azim=90)\n",
    "ax.plot_surface(X=alphas, Y=alphas, Z=losses, cmap=\"viridis\")\n",
    "fig.show()"
   ]
  }
 ],
 "metadata": {
  "kernelspec": {
   "display_name": "Python 3",
   "language": "python",
   "name": "python3"
  },
  "language_info": {
   "codemirror_mode": {
    "name": "ipython",
    "version": 3
   },
   "file_extension": ".py",
   "mimetype": "text/x-python",
   "name": "python",
   "nbconvert_exporter": "python",
   "pygments_lexer": "ipython3",
   "version": "3.8.8"
  }
 },
 "nbformat": 4,
 "nbformat_minor": 5
}
