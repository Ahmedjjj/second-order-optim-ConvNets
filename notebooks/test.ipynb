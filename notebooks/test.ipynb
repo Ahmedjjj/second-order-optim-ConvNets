{
 "cells": [
  {
   "cell_type": "code",
   "execution_count": null,
   "id": "aaa4ab37",
   "metadata": {},
   "outputs": [],
   "source": [
    "import torch\n",
    "from torch.utils.data import DataLoader\n",
    "from torchvision import transforms, datasets\n",
    "\n",
    "from src.model import LeNet5\n",
    "from src.exp import run_experiment, run_experiment_all_optimizers\n",
    "from torch.optim import LBFGS, Adam\n",
    "\n",
    "from optim_adahessian import Adahessian\n",
    "from apollo import Apollo\n",
    "\n",
    "\n",
    "import matplotlib.pyplot as plt\n",
    "import logging\n",
    "import pyhessian\n",
    "\n",
    "import pickle\n",
    "\n",
    "logging.getLogger().setLevel(logging.INFO)\n",
    "logging.basicConfig(format=\"%(message)s\")\n",
    "\n",
    "%load_ext autoreload\n",
    "%autoreload 2"
   ]
  },
  {
   "cell_type": "code",
   "execution_count": null,
   "id": "538e4bae",
   "metadata": {},
   "outputs": [],
   "source": [
    "optimizers = [torch.optim.Adam, LBFGS, Adahessian, Apollo]\n",
    "datasets = ['MNIST','Fashion_MNIST','CIFAR']\n",
    "\n",
    "for dataset in datasets:\n",
    "    results = run_experiment_all_optimizers([dataset], optimizers, num_epochs=10)\n",
    "    with open(dataset + \"_results.dic\",\"wb\") as file:\n",
    "        pickle.dump(results,file)"
   ]
  },
  {
   "cell_type": "code",
   "execution_count": null,
   "id": "6356b61c",
   "metadata": {},
   "outputs": [],
   "source": [
    "with open(\"MNIST_results.dic\",\"wb\") as file:\n",
    "    pickle.dump(results,file)"
   ]
  },
  {
   "cell_type": "code",
   "execution_count": null,
   "id": "328c7fd0",
   "metadata": {},
   "outputs": [],
   "source": [
    "results"
   ]
  },
  {
   "cell_type": "code",
   "execution_count": null,
   "id": "349e3ff8",
   "metadata": {},
   "outputs": [],
   "source": [
    "def plot_results(results):\n",
    "    fig, ax = plt.subplots(ncols=2)\n",
    "    ax[0].set_title('Training Accuracy')\n",
    "    ax[1].set_title('Test Accuracy')\n",
    "    \n",
    "    for result in results:\n",
    "        ax[0].plot(range(10), result['test_accuracies'], label=str(result['optimizer']))\n",
    "    fig.legend()"
   ]
  }
 ],
 "metadata": {
  "kernelspec": {
   "display_name": "Python 3",
   "language": "python",
   "name": "python3"
  },
  "language_info": {
   "codemirror_mode": {
    "name": "ipython",
    "version": 3
   },
   "file_extension": ".py",
   "mimetype": "text/x-python",
   "name": "python",
   "nbconvert_exporter": "python",
   "pygments_lexer": "ipython3",
   "version": "3.8.8"
  }
 },
 "nbformat": 4,
 "nbformat_minor": 5
}
