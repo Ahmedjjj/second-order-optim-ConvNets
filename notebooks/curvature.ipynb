{
 "cells": [
  {
   "cell_type": "markdown",
   "id": "e6a8c41d",
   "metadata": {},
   "source": [
    "## Imports"
   ]
  },
  {
   "cell_type": "code",
   "execution_count": 1,
   "id": "7782b332",
   "metadata": {},
   "outputs": [
    {
     "name": "stderr",
     "output_type": "stream",
     "text": [
      "Generating grammar tables from /home/.local/lib/python3.8/site-packages/blib2to3/Grammar.txt\n",
      "Writing grammar tables to /home/.cache/black/21.6b0/Grammar3.8.8.final.0.pickle\n",
      "Writing failed: [Errno 2] No such file or directory: '/home/.cache/black/21.6b0/tmp_5p3lyfj'\n",
      "Generating grammar tables from /home/.local/lib/python3.8/site-packages/blib2to3/PatternGrammar.txt\n",
      "Writing grammar tables to /home/.cache/black/21.6b0/PatternGrammar3.8.8.final.0.pickle\n",
      "Writing failed: [Errno 2] No such file or directory: '/home/.cache/black/21.6b0/tmplonadox1'\n"
     ]
    },
    {
     "data": {
      "application/javascript": [
       "\n",
       "            setTimeout(function() {\n",
       "                var nbb_cell_id = 1;\n",
       "                var nbb_unformatted_code = \"import torch\\nfrom torch.utils.data import DataLoader\\nfrom torchvision import transforms, datasets\\n\\nfrom src.model import LeNet5\\nfrom src.exp import run_experiment, run_experiment_all_optimizers\\nfrom src.hessian_helpers import *\\nfrom torch.optim import LBFGS, Adam\\n\\nfrom optim_adahessian import Adahessian\\nfrom apollo import Apollo\\n\\nimport pandas as pd\\nimport src.utils as utils\\n\\nimport matplotlib.pyplot as plt\\nimport plotly.graph_objects as go\\nfrom plotly.subplots import make_subplots\\nimport logging\\n\\nfrom pyhessian import hessian\\nfrom density_plot import density_generate\\nimport pickle\\nimport copy\\nimport numpy as np\\n\\nlogging.getLogger().setLevel(logging.INFO)\\nlogging.basicConfig(format=\\\"%(message)s\\\")\\n\\n%load_ext autoreload\\n%autoreload 2\\n%load_ext nb_black\";\n",
       "                var nbb_formatted_code = \"import torch\\nfrom torch.utils.data import DataLoader\\nfrom torchvision import transforms, datasets\\n\\nfrom src.model import LeNet5\\nfrom src.exp import run_experiment, run_experiment_all_optimizers\\nfrom src.hessian_helpers import *\\nfrom torch.optim import LBFGS, Adam\\n\\nfrom optim_adahessian import Adahessian\\nfrom apollo import Apollo\\n\\nimport pandas as pd\\nimport src.utils as utils\\n\\nimport matplotlib.pyplot as plt\\nimport plotly.graph_objects as go\\nfrom plotly.subplots import make_subplots\\nimport logging\\n\\nfrom pyhessian import hessian\\nfrom density_plot import density_generate\\nimport pickle\\nimport copy\\nimport numpy as np\\n\\nlogging.getLogger().setLevel(logging.INFO)\\nlogging.basicConfig(format=\\\"%(message)s\\\")\\n\\n%load_ext autoreload\\n%autoreload 2\\n%load_ext nb_black\";\n",
       "                var nbb_cells = Jupyter.notebook.get_cells();\n",
       "                for (var i = 0; i < nbb_cells.length; ++i) {\n",
       "                    if (nbb_cells[i].input_prompt_number == nbb_cell_id) {\n",
       "                        if (nbb_cells[i].get_text() == nbb_unformatted_code) {\n",
       "                             nbb_cells[i].set_text(nbb_formatted_code);\n",
       "                        }\n",
       "                        break;\n",
       "                    }\n",
       "                }\n",
       "            }, 500);\n",
       "            "
      ],
      "text/plain": [
       "<IPython.core.display.Javascript object>"
      ]
     },
     "metadata": {},
     "output_type": "display_data"
    }
   ],
   "source": [
    "import torch\n",
    "from torch.utils.data import DataLoader\n",
    "from torchvision import transforms, datasets\n",
    "\n",
    "from src.model import LeNet5\n",
    "from src.exp import run_experiment, run_experiment_all_optimizers\n",
    "from src.hessian_helpers import *\n",
    "from torch.optim import LBFGS, Adam\n",
    "\n",
    "from optim_adahessian import Adahessian\n",
    "from apollo import Apollo\n",
    "\n",
    "import pandas as pd\n",
    "import src.utils as utils\n",
    "\n",
    "import matplotlib.pyplot as plt\n",
    "import plotly.graph_objects as go\n",
    "from plotly.subplots import make_subplots\n",
    "import logging\n",
    "\n",
    "from pyhessian import hessian\n",
    "from density_plot import density_generate\n",
    "import pickle\n",
    "import copy\n",
    "import numpy as np\n",
    "\n",
    "logging.getLogger().setLevel(logging.INFO)\n",
    "logging.basicConfig(format=\"%(message)s\")\n",
    "\n",
    "%load_ext autoreload\n",
    "%autoreload 2\n",
    "%load_ext nb_black"
   ]
  },
  {
   "cell_type": "markdown",
   "id": "36260443",
   "metadata": {},
   "source": [
    "## Loss Landscape (2D)"
   ]
  },
  {
   "cell_type": "code",
   "execution_count": 43,
   "id": "431471cf",
   "metadata": {
    "scrolled": false
   },
   "outputs": [
    {
     "name": "stdout",
     "output_type": "stream",
     "text": [
      "Files already downloaded and verified\n",
      "Files already downloaded and verified\n",
      "Files already downloaded and verified\n",
      "Files already downloaded and verified\n",
      "Files already downloaded and verified\n",
      "Files already downloaded and verified\n",
      "Files already downloaded and verified\n",
      "Files already downloaded and verified\n"
     ]
    },
    {
     "data": {
      "application/javascript": [
       "\n",
       "            setTimeout(function() {\n",
       "                var nbb_cell_id = 43;\n",
       "                var nbb_unformatted_code = \"# Computes perturbations\\ndatasets = [\\\"MNIST\\\", \\\"Fashion_MNIST\\\", \\\"CIFAR\\\"]\\nalphas, losses = [], {}\\nfor dataset in datasets:\\n    results = pickle.load(open(f\\\"/home/app/results/{dataset}_results.dic\\\", \\\"rb\\\"))\\n    losses[dataset] = {}\\n    for optimizer in results[dataset].keys():\\n        alphas, loss = compute_minimum_shape(\\n            results[dataset][optimizer][\\\"model\\\"], dataset, use_3d=False\\n        )\\n        losses[dataset][optimizer] = np.array(loss)\";\n",
       "                var nbb_formatted_code = \"# Computes perturbations\\ndatasets = [\\\"MNIST\\\", \\\"Fashion_MNIST\\\", \\\"CIFAR\\\"]\\nalphas, losses = [], {}\\nfor dataset in datasets:\\n    results = pickle.load(open(f\\\"/home/app/results/{dataset}_results.dic\\\", \\\"rb\\\"))\\n    losses[dataset] = {}\\n    for optimizer in results[dataset].keys():\\n        alphas, loss = compute_minimum_shape(\\n            results[dataset][optimizer][\\\"model\\\"], dataset, use_3d=False\\n        )\\n        losses[dataset][optimizer] = np.array(loss)\";\n",
       "                var nbb_cells = Jupyter.notebook.get_cells();\n",
       "                for (var i = 0; i < nbb_cells.length; ++i) {\n",
       "                    if (nbb_cells[i].input_prompt_number == nbb_cell_id) {\n",
       "                        if (nbb_cells[i].get_text() == nbb_unformatted_code) {\n",
       "                             nbb_cells[i].set_text(nbb_formatted_code);\n",
       "                        }\n",
       "                        break;\n",
       "                    }\n",
       "                }\n",
       "            }, 500);\n",
       "            "
      ],
      "text/plain": [
       "<IPython.core.display.Javascript object>"
      ]
     },
     "metadata": {},
     "output_type": "display_data"
    }
   ],
   "source": [
    "# Computes perturbations\n",
    "datasets = [\"MNIST\", \"Fashion_MNIST\", \"CIFAR\"]\n",
    "alphas, losses = [], {}\n",
    "for dataset in datasets:\n",
    "    results = pickle.load(open(f\"/home/app/results/{dataset}_results.dic\", \"rb\"))\n",
    "    losses[dataset] = {}\n",
    "    for optimizer in results[dataset].keys():\n",
    "        alphas, loss = compute_minimum_shape(\n",
    "            results[dataset][optimizer][\"model\"], dataset, use_3d=False\n",
    "        )\n",
    "        losses[dataset][optimizer] = np.array(loss)"
   ]
  },
  {
   "cell_type": "code",
   "execution_count": 86,
   "id": "5e61c672",
   "metadata": {
    "scrolled": false
   },
   "outputs": [
    {
     "data": {
      "image/png": "[encoded data removed]",
      "text/plain": [
       "<Figure size 1080x360 with 3 Axes>"
      ]
     },
     "metadata": {
      "needs_background": "light"
     },
     "output_type": "display_data"
    },
    {
     "data": {
      "application/javascript": [
       "\n",
       "            setTimeout(function() {\n",
       "                var nbb_cell_id = 86;\n",
       "                var nbb_unformatted_code = \"fig, axs = plt.subplots(nrows=1, ncols=3, figsize=(15, 5))\\nfor i, (dataset, v) in enumerate(losses.items()):\\n    for optimizer, loss in v.items():\\n        axs[i].plot(alphas, loss)\\n        axs[i].set_title(dataset)\\n        axs[i].set_xlabel(\\\"perturbation\\\", size=\\\"large\\\")\\n        axs[i].set_ylabel(\\\"loss\\\", size=\\\"large\\\")\\n        axs[i].grid(True)\\n\\nfig.legend(\\n    [\\\"Adam\\\", \\\"LBFGS\\\", \\\"AdaHessian\\\", \\\"Apollo\\\"],\\n    loc=\\\"lower center\\\",\\n    bbox_to_anchor=(0.52, -0.05),\\n    ncol=4,\\n)\\n\\n\\nfig.savefig(\\\"/home/app/results/loss_landscape\\\", bbox_inches=\\\"tight\\\")\";\n",
       "                var nbb_formatted_code = \"fig, axs = plt.subplots(nrows=1, ncols=3, figsize=(15, 5))\\nfor i, (dataset, v) in enumerate(losses.items()):\\n    for optimizer, loss in v.items():\\n        axs[i].plot(alphas, loss)\\n        axs[i].set_title(dataset)\\n        axs[i].set_xlabel(\\\"perturbation\\\", size=\\\"large\\\")\\n        axs[i].set_ylabel(\\\"loss\\\", size=\\\"large\\\")\\n        axs[i].grid(True)\\n\\nfig.legend(\\n    [\\\"Adam\\\", \\\"LBFGS\\\", \\\"AdaHessian\\\", \\\"Apollo\\\"],\\n    loc=\\\"lower center\\\",\\n    bbox_to_anchor=(0.52, -0.05),\\n    ncol=4,\\n)\\n\\n\\nfig.savefig(\\\"/home/app/results/loss_landscape\\\", bbox_inches=\\\"tight\\\")\";\n",
       "                var nbb_cells = Jupyter.notebook.get_cells();\n",
       "                for (var i = 0; i < nbb_cells.length; ++i) {\n",
       "                    if (nbb_cells[i].input_prompt_number == nbb_cell_id) {\n",
       "                        if (nbb_cells[i].get_text() == nbb_unformatted_code) {\n",
       "                             nbb_cells[i].set_text(nbb_formatted_code);\n",
       "                        }\n",
       "                        break;\n",
       "                    }\n",
       "                }\n",
       "            }, 500);\n",
       "            "
      ],
      "text/plain": [
       "<IPython.core.display.Javascript object>"
      ]
     },
     "metadata": {},
     "output_type": "display_data"
    }
   ],
   "source": [
    "fig, axs = plt.subplots(nrows=1, ncols=3, figsize=(15, 5))\n",
    "for i, (dataset, v) in enumerate(losses.items()):\n",
    "    for optimizer, loss in v.items():\n",
    "        axs[i].plot(alphas, loss)\n",
    "        axs[i].set_title(dataset)\n",
    "        axs[i].set_xlabel(\"perturbation\", size=\"large\")\n",
    "        axs[i].set_ylabel(\"loss\", size=\"large\")\n",
    "        axs[i].grid(True)\n",
    "\n",
    "fig.legend(\n",
    "    [\"Adam\", \"LBFGS\", \"AdaHessian\", \"Apollo\"],\n",
    "    loc=\"lower center\",\n",
    "    bbox_to_anchor=(0.52, -0.05),\n",
    "    ncol=4,\n",
    ")\n",
    "\n",
    "\n",
    "fig.savefig(\"/home/app/results/loss_landscape\", bbox_inches=\"tight\")"
   ]
  },
  {
   "cell_type": "code",
   "execution_count": 70,
   "id": "4c759609",
   "metadata": {},
   "outputs": [
    {
     "data": {
      "application/javascript": [
       "\n",
       "            setTimeout(function() {\n",
       "                var nbb_cell_id = 70;\n",
       "                var nbb_unformatted_code = \"fig.savefig(\\\"/home/app/results/loss_landscape\\\", bbox_inches=\\\"tight\\\")\";\n",
       "                var nbb_formatted_code = \"fig.savefig(\\\"/home/app/results/loss_landscape\\\", bbox_inches=\\\"tight\\\")\";\n",
       "                var nbb_cells = Jupyter.notebook.get_cells();\n",
       "                for (var i = 0; i < nbb_cells.length; ++i) {\n",
       "                    if (nbb_cells[i].input_prompt_number == nbb_cell_id) {\n",
       "                        if (nbb_cells[i].get_text() == nbb_unformatted_code) {\n",
       "                             nbb_cells[i].set_text(nbb_formatted_code);\n",
       "                        }\n",
       "                        break;\n",
       "                    }\n",
       "                }\n",
       "            }, 500);\n",
       "            "
      ],
      "text/plain": [
       "<IPython.core.display.Javascript object>"
      ]
     },
     "metadata": {},
     "output_type": "display_data"
    }
   ],
   "source": []
  },
  {
   "cell_type": "markdown",
   "id": "1533b0a5",
   "metadata": {},
   "source": [
    "## Loss Landscape (3D)"
   ]
  },
  {
   "cell_type": "code",
   "execution_count": 124,
   "id": "3533a4b8",
   "metadata": {},
   "outputs": [
    {
     "name": "stdout",
     "output_type": "stream",
     "text": [
      "Files already downloaded and verified\n",
      "Files already downloaded and verified\n",
      "Files already downloaded and verified\n",
      "Files already downloaded and verified\n",
      "Files already downloaded and verified\n",
      "Files already downloaded and verified\n",
      "Files already downloaded and verified\n",
      "Files already downloaded and verified\n"
     ]
    },
    {
     "data": {
      "application/javascript": [
       "\n",
       "            setTimeout(function() {\n",
       "                var nbb_cell_id = 124;\n",
       "                var nbb_unformatted_code = \"# Computes perturbations\\ndatasets = [\\\"MNIST\\\", \\\"Fashion_MNIST\\\", \\\"CIFAR\\\"]\\nalphas, losses = [], {}\\nfor dataset in datasets:\\n    results = pickle.load(open(f\\\"{dataset}_results.dic\\\", \\\"rb\\\"))\\n    losses[dataset] = {}\\n    for optimizer in results[dataset].keys():\\n        alphas, loss = compute_minimum_shape(\\n            results[dataset][optimizer][\\\"model\\\"], dataset, use_3d=True\\n        )\\n        losses[dataset][optimizer] = np.array(loss).reshape(len(alphas), -1)\";\n",
       "                var nbb_formatted_code = \"# Computes perturbations\\ndatasets = [\\\"MNIST\\\", \\\"Fashion_MNIST\\\", \\\"CIFAR\\\"]\\nalphas, losses = [], {}\\nfor dataset in datasets:\\n    results = pickle.load(open(f\\\"{dataset}_results.dic\\\", \\\"rb\\\"))\\n    losses[dataset] = {}\\n    for optimizer in results[dataset].keys():\\n        alphas, loss = compute_minimum_shape(\\n            results[dataset][optimizer][\\\"model\\\"], dataset, use_3d=True\\n        )\\n        losses[dataset][optimizer] = np.array(loss).reshape(len(alphas), -1)\";\n",
       "                var nbb_cells = Jupyter.notebook.get_cells();\n",
       "                for (var i = 0; i < nbb_cells.length; ++i) {\n",
       "                    if (nbb_cells[i].input_prompt_number == nbb_cell_id) {\n",
       "                        if (nbb_cells[i].get_text() == nbb_unformatted_code) {\n",
       "                             nbb_cells[i].set_text(nbb_formatted_code);\n",
       "                        }\n",
       "                        break;\n",
       "                    }\n",
       "                }\n",
       "            }, 500);\n",
       "            "
      ],
      "text/plain": [
       "<IPython.core.display.Javascript object>"
      ]
     },
     "metadata": {},
     "output_type": "display_data"
    }
   ],
   "source": [
    "# Computes perturbations\n",
    "datasets = [\"MNIST\", \"Fashion_MNIST\", \"CIFAR\"]\n",
    "alphas, losses_3d = [], {}\n",
    "for dataset in datasets:\n",
    "    results = pickle.load(open(f\"{dataset}_results.dic\", \"rb\"))\n",
    "    losses_3d[dataset] = {}\n",
    "    for optimizer in results[dataset].keys():\n",
    "        alphas, loss = compute_minimum_shape(\n",
    "            results[dataset][optimizer][\"model\"], dataset, use_3d=True\n",
    "        )\n",
    "        losses_3d[dataset][optimizer] = np.array(loss).reshape(len(alphas), -1)"
   ]
  },
  {
   "cell_type": "markdown",
   "id": "41f1d2d5",
   "metadata": {},
   "source": [
    "### MNIST"
   ]
  },
  {
   "cell_type": "code",
   "execution_count": 137,
   "id": "9d7449d8",
   "metadata": {},
   "outputs": [
    {
     "data": {
      "application/javascript": [
       "\n",
       "            setTimeout(function() {\n",
       "                var nbb_cell_id = 137;\n",
       "                var nbb_unformatted_code = \"losses_3d = losses\";\n",
       "                var nbb_formatted_code = \"losses_3d = losses\";\n",
       "                var nbb_cells = Jupyter.notebook.get_cells();\n",
       "                for (var i = 0; i < nbb_cells.length; ++i) {\n",
       "                    if (nbb_cells[i].input_prompt_number == nbb_cell_id) {\n",
       "                        if (nbb_cells[i].get_text() == nbb_unformatted_code) {\n",
       "                             nbb_cells[i].set_text(nbb_formatted_code);\n",
       "                        }\n",
       "                        break;\n",
       "                    }\n",
       "                }\n",
       "            }, 500);\n",
       "            "
      ],
      "text/plain": [
       "<IPython.core.display.Javascript object>"
      ]
     },
     "metadata": {},
     "output_type": "display_data"
    }
   ],
   "source": [
    "losses_3d = losses"
   ]
  },
  {
   "cell_type": "code",
   "execution_count": 157,
   "id": "1c23645f",
   "metadata": {
    "scrolled": true
   },
   "outputs": [
    {
     "data": {
      "application/vnd.plotly.v1+json": {
       "config": {
        "plotlyServerURL": "https://plot.ly"
       },
       "data": [
        {
         "colorscale": [
          [
           0,
           "rgb(255,255,229)"
          ],
          [
           0.125,
           "rgb(247,252,185)"
          ],
          [
           0.25,
           "rgb(217,240,163)"
          ],
          [
           0.375,
           "rgb(173,221,142)"
          ],
          [
           0.5,
           "rgb(120,198,121)"
          ],
          [
           0.625,
           "rgb(65,171,93)"
          ],
          [
           0.75,
           "rgb(35,132,67)"
          ],
          [
           0.875,
           "rgb(0,104,55)"
          ],
          [
           1,
           "rgb(0,69,41)"
          ]
         ],
         "name": "Adam",
         "opacity": 0.7,
         "showlegend": true,
         "showscale": false,
         "type": "surface",
         "x": [
          -0.5,
          -0.4583333432674408,
          -0.4166666567325592,
          -0.375,
          -0.3333333432674408,
          -0.2916666567325592,
          -0.25,
          -0.2083333283662796,
          -0.1666666716337204,
          -0.125,
          -0.0833333358168602,
          -0.0416666679084301,
          0,
          0.0416666679084301,
          0.0833333358168602,
          0.125,
          0.1666666716337204,
          0.2083333283662796,
          0.25,
          0.2916666567325592,
          0.3333333432674408,
          0.375,
          0.4166666567325592,
          0.4583333432674408,
          0.5
         ],
         "y": [
          -0.5,
          -0.4583333432674408,
          -0.4166666567325592,
          -0.375,
          -0.3333333432674408,
          -0.2916666567325592,
          -0.25,
          -0.2083333283662796,
          -0.1666666716337204,
          -0.125,
          -0.0833333358168602,
          -0.0416666679084301,
          0,
          0.0416666679084301,
          0.0833333358168602,
          0.125,
          0.1666666716337204,
          0.2083333283662796,
          0.25,
          0.2916666567325592,
          0.3333333432674408,
          0.375,
          0.4166666567325592,
          0.4583333432674408,
          0.5
         ],
         "z": [
          [
           16.654054641723633,
           16.166044235229492,
           15.677933692932129,
           15.189695358276367,
           14.701231002807617,
           14.211465835571289,
           13.719786643981934,
           13.225728988647461,
           12.7301607131958,
           12.233348846435547,
           11.736644744873047,
           11.241645812988281,
           10.74935531616211,
           10.260607719421387,
           9.778642654418945,
           9.306479454040527,
           8.847786903381348,
           8.40429401397705,
           7.978526592254639,
           7.575675964355469,
           7.2016119956970215,
           6.860731601715088,
           6.564940929412842,
           6.322070121765137,
           6.147832870483398
          ],
          [
           15.030603408813477,
           14.531556129455566,
           14.03615665435791,
           13.542949676513672,
           13.05074691772461,
           12.55805778503418,
           12.065437316894531,
           11.572022438049316,
           11.078639030456543,
           10.587873458862305,
           10.100128173828125,
           9.615836143493652,
           9.13772964477539,
           8.667747497558594,
           8.209360122680664,
           7.7645487785339355,
           7.336013317108154,
           6.92713737487793,
           6.541428089141846,
           6.186767101287842,
           5.873099327087402,
           5.607846736907959,
           5.4022698402404785,
           5.271052360534668,
           5.228096008300781
          ],
          [
           13.41331672668457,
           12.898662567138672,
           12.395694732666016,
           11.899811744689941,
           11.40815258026123,
           10.918363571166992,
           10.428653717041016,
           9.941131591796875,
           9.457741737365723,
           8.979559898376465,
           8.506734848022461,
           8.042587280273438,
           7.587133407592773,
           7.143725395202637,
           6.7139201164245605,
           6.302016735076904,
           5.909817695617676,
           5.544415473937988,
           5.216019630432129,
           4.93325662612915,
           4.7043023109436035,
           4.541105270385742,
           4.4564361572265625,
           4.4590935707092285,
           4.552862644195557
          ],
          [
           11.862005233764648,
           11.308849334716797,
           10.786993026733398,
           10.284750938415527,
           9.792485237121582,
           9.305780410766602,
           8.825345039367676,
           8.351705551147461,
           7.884802341461182,
           7.42556095123291,
           6.975662708282471,
           6.5365309715271,
           6.109654426574707,
           5.697600841522217,
           5.301890850067139,
           4.930667877197266,
           4.5925493240356445,
           4.295613765716553,
           4.04933500289917,
           3.864454746246338,
           3.75075626373291,
           3.7153491973876953,
           3.7617528438568115,
           3.88547420501709,
           4.0834503173828125
          ],
          [
           10.476953506469727,
           9.84248161315918,
           9.264248847961426,
           8.729571342468262,
           8.225826263427734,
           7.743765354156494,
           7.275150299072266,
           6.818850517272949,
           6.373989105224609,
           5.940098762512207,
           5.517877578735352,
           5.107712268829346,
           4.713250637054443,
           4.34059476852417,
           3.997407913208008,
           3.6914658546447754,
           3.4329833984375,
           3.232916831970215,
           3.0997564792633057,
           3.038562536239624,
           3.049628257751465,
           3.1286165714263916,
           3.271073341369629,
           3.4820196628570557,
           3.7763493061065674
          ],
          [
           9.357359886169434,
           8.6160306930542,
           7.941654205322266,
           7.331081390380859,
           6.778456211090088,
           6.272855281829834,
           5.804333686828613,
           5.362810134887695,
           4.940237998962402,
           4.532398223876953,
           4.141289234161377,
           3.7710683345794678,
           3.4278223514556885,
           3.1195454597473145,
           2.8545963764190674,
           2.6426076889038086,
           2.494091749191284,
           2.4131832122802734,
           2.4005463123321533,
           2.449636459350586,
           2.5504324436187744,
           2.7048757076263428,
           2.9276063442230225,
           3.241896867752075,
           3.6673038005828857
          ],
          [
           8.532307624816895,
           7.687110900878906,
           6.916590213775635,
           6.212454795837402,
           5.573486804962158,
           4.998348236083984,
           4.485920429229736,
           4.027039527893066,
           3.6126935482025146,
           3.2344419956207275,
           2.889488697052002,
           2.579559326171875,
           2.3108725547790527,
           2.091874361038208,
           1.930078387260437,
           1.8318562507629395,
           1.7993072271347046,
           1.8268585205078125,
           1.9031939506530762,
           2.020689010620117,
           2.187612295150757,
           2.4254794120788574,
           2.760845184326172,
           3.2101340293884277,
           3.7834017276763916
          ],
          [
           8.021242141723633,
           7.058051109313965,
           6.192780494689941,
           5.407385349273682,
           4.688199043273926,
           4.030361652374268,
           3.4401190280914307,
           2.9237349033355713,
           2.4857242107391357,
           2.1229472160339355,
           1.8259168863296509,
           1.5876431465148926,
           1.4088492393493652,
           1.2916522026062012,
           1.237610101699829,
           1.2456539869308472,
           1.3036887645721436,
           1.400665283203125,
           1.5344676971435547,
           1.7181670665740967,
           1.9762275218963623,
           2.331878423690796,
           2.80081844329834,
           3.4023845195770264,
           4.16264009475708
          ],
          [
           7.850992679595947,
           6.7378411293029785,
           5.752077102661133,
           4.874527931213379,
           4.083609104156494,
           3.3631234169006348,
           2.713153600692749,
           2.1427669525146484,
           1.6663957834243774,
           1.2933608293533325,
           1.0195552110671997,
           0.8360337615013123,
           0.734574556350708,
           0.7074070572853088,
           0.7411103844642639,
           0.8201757073402405,
           0.9342052340507507,
           1.0870014429092407,
           1.2932319641113281,
           1.5749437808990479,
           1.950876235961914,
           2.4406986236572266,
           3.074554204940796,
           3.8857390880584717,
           4.892083168029785
          ],
          [
           8.032061576843262,
           6.758547782897949,
           5.615817070007324,
           4.6092329025268555,
           3.7222750186920166,
           2.9351117610931396,
           2.237118721008301,
           1.6335715055465698,
           1.1384427547454834,
           0.7684797048568726,
           0.5216668248176575,
           0.37819766998291016,
           0.31895431876182556,
           0.32591480016708374,
           0.3900648057460785,
           0.5074251294136047,
           0.6782995462417603,
           0.9101856350898743,
           1.2173696756362915,
           1.6156142950057983,
           2.1322574615478516,
           2.806201934814453,
           3.6731040477752686,
           4.735436916351318,
           5.957840442657471
          ],
          [
           8.466254234313965,
           7.085502624511719,
           5.808737277984619,
           4.653489589691162,
           3.633244514465332,
           2.74393367767334,
           1.977327823638916,
           1.3350911140441895,
           0.8305172324180603,
           0.4797011911869049,
           0.2694559693336487,
           0.1657552272081375,
           0.12855619192123413,
           0.13389571011066437,
           0.19002529978752136,
           0.32967671751976013,
           0.5697402358055115,
           0.8995489478111267,
           1.3245834112167358,
           1.877146601676941,
           2.5998682975769043,
           3.5223472118377686,
           4.630349636077881,
           5.8836493492126465,
           7.248110294342041
          ],
          [
           9.05051040649414,
           7.600500583648682,
           6.23635196685791,
           4.972415447235107,
           3.8253889083862305,
           2.814486265182495,
           1.950263500213623,
           1.2425987720489502,
           0.7109552025794983,
           0.3653700053691864,
           0.17328274250030518,
           0.08770202845335007,
           0.06022149696946144,
           0.06645802408456802,
           0.12480238825082779,
           0.29954618215560913,
           0.6235858798027039,
           1.0763317346572876,
           1.6754766702651978,
           2.4555559158325195,
           3.4300460815429688,
           4.571505546569824,
           5.844541549682617,
           7.2186174392700195,
           8.672577857971191
          ],
          [
           9.747736930847168,
           8.244261741638184,
           6.8150787353515625,
           5.477889060974121,
           4.245455741882324,
           3.1339385509490967,
           2.167541265487671,
           1.3712655305862427,
           0.7754980325698853,
           0.3918249011039734,
           0.18060916662216187,
           0.08653882145881653,
           0.05734125152230263,
           0.07038402557373047,
           0.159718319773674,
           0.41391679644584656,
           0.8755943775177002,
           1.5270241498947144,
           2.3665804862976074,
           3.3833751678466797,
           4.548182964324951,
           5.831242084503174,
           7.206615447998047,
           8.655872344970703,
           10.168403625488281
          ],
          [
           10.564932823181152,
           9.011363983154297,
           7.5265278816223145,
           6.128278732299805,
           4.832178592681885,
           3.653712749481201,
           2.6115684509277344,
           1.7291921377182007,
           1.0425612926483154,
           0.5741111636161804,
           0.298941969871521,
           0.16571038961410522,
           0.12323387712240219,
           0.15773847699165344,
           0.3278171420097351,
           0.7482832074165344,
           1.4351195096969604,
           2.322662591934204,
           3.369974374771118,
           4.549637317657471,
           5.834085464477539,
           7.203648567199707,
           8.642788887023926,
           10.140087127685547,
           11.689860343933105
          ],
          [
           11.538397789001465,
           9.940123558044434,
           8.404815673828125,
           6.946794509887695,
           5.586409091949463,
           4.341144561767578,
           3.231344699859619,
           2.2774105072021484,
           1.5033354759216309,
           0.9378756284713745,
           0.5752707719802856,
           0.3798676133155823,
           0.32115066051483154,
           0.4193762540817261,
           0.757004976272583,
           1.4124212265014648,
           2.318005323410034,
           3.3824965953826904,
           4.566000461578369,
           5.845190525054932,
           7.202103137969971,
           8.623848915100098,
           10.103031158447266,
           11.63529109954834,
           13.216202735900879
          ],
          [
           12.643037796020508,
           11.028475761413574,
           9.460715293884277,
           7.958176136016846,
           6.538573265075684,
           5.22256326675415,
           4.036959171295166,
           3.0021822452545166,
           2.143909454345703,
           1.4892539978027344,
           1.0459882020950317,
           0.8049854636192322,
           0.7726587057113647,
           0.9885658621788025,
           1.5143206119537354,
           2.36159086227417,
           3.417126417160034,
           4.591865539550781,
           5.855981349945068,
           7.193382740020752,
           8.594175338745117,
           10.051054000854492,
           11.562623977661133,
           13.125726699829102,
           14.73499870300293
          ],
          [
           13.816158294677734,
           12.2041654586792,
           10.629281997680664,
           9.106701850891113,
           7.653914451599121,
           6.284789562225342,
           5.0291314125061035,
           3.916987895965576,
           2.974240303039551,
           2.2360196113586426,
           1.7308207750320435,
           1.4801967144012451,
           1.506377935409546,
           1.8331859111785889,
           2.498335361480713,
           3.4728825092315674,
           4.620664596557617,
           5.8616437911987305,
           7.174453258514404,
           8.550508499145508,
           9.983423233032227,
           11.47164535522461,
           13.014443397521973,
           14.60788631439209,
           16.24571990966797
          ],
          [
           15.024310111999512,
           13.426627159118652,
           11.858635902404785,
           10.33164119720459,
           8.856331825256348,
           7.448594570159912,
           6.136566638946533,
           4.960941314697266,
           3.952035427093506,
           3.1477794647216797,
           2.5989203453063965,
           2.344627618789673,
           2.4114460945129395,
           2.8224120140075684,
           3.593170166015625,
           4.654760837554932,
           5.860907077789307,
           7.145379066467285,
           8.49434757232666,
           9.90164852142334,
           11.36573314666748,
           12.886163711547852,
           14.460789680480957,
           16.08563995361328,
           17.755569458007812
          ],
          [
           16.269451141357422,
           14.688687324523926,
           13.128852844238281,
           11.598833084106445,
           10.108036041259766,
           8.671793937683105,
           7.313751697540283,
           6.077574253082275,
           5.00626802444458,
           4.144968032836914,
           3.559554100036621,
           3.300895929336548,
           3.4034225940704346,
           3.884932518005371,
           4.739230632781982,
           5.864629745483398,
           7.11179256439209,
           8.429827690124512,
           9.808629035949707,
           11.245768547058105,
           12.742400169372559,
           14.29638957977295,
           15.906306266784668,
           17.566604614257812,
           19.273746490478516
          ],
          [
           17.542558670043945,
           15.974172592163086,
           14.423821449279785,
           12.895251274108887,
           11.393707275390625,
           9.933014869689941,
           8.537873268127441,
           7.2490553855896,
           6.118137836456299,
           5.197210311889648,
           4.5706562995910645,
           4.308413982391357,
           4.443631172180176,
           4.988105773925781,
           5.910889148712158,
           7.083351135253906,
           8.363027572631836,
           9.710623741149902,
           11.119583129882812,
           12.589652061462402,
           14.121221542358398,
           15.712733268737793,
           17.361427307128906,
           19.061132431030273,
           20.80891227722168
          ],
          [
           18.83824348449707,
           17.28288459777832,
           15.74089241027832,
           14.210299491882324,
           12.698984146118164,
           11.222007751464844,
           9.797259330749512,
           8.462217330932617,
           7.271978855133057,
           6.2894463539123535,
           5.618142604827881,
           5.347656726837158,
           5.5144853591918945,
           6.112845420837402,
           7.09220027923584,
           8.304828643798828,
           9.614748001098633,
           10.990954399108887,
           12.432146072387695,
           13.938247680664062,
           15.50918197631836,
           17.143512725830078,
           18.83542823791504,
           20.579458236694336,
           22.37234115600586
          ],
          [
           20.15325355529785,
           18.60832405090332,
           17.069320678710938,
           15.538431167602539,
           14.022521018981934,
           12.530385971069336,
           11.078286170959473,
           9.69983959197998,
           8.453660011291504,
           7.4105987548828125,
           6.689563751220703,
           6.408029556274414,
           6.6037397384643555,
           7.249150276184082,
           8.280494689941406,
           9.52745246887207,
           10.865388870239258,
           12.273734092712402,
           13.751336097717285,
           15.298541069030762,
           16.91568946838379,
           18.59678077697754,
           20.33541488647461,
           22.127147674560547,
           23.968944549560547
          ],
          [
           21.487024307250977,
           19.946624755859375,
           18.411632537841797,
           16.8801212310791,
           15.357072830200195,
           13.848617553710938,
           12.370689392089844,
           10.953181266784668,
           9.656545639038086,
           8.559504508972168,
           7.7875165939331055,
           7.487052917480469,
           7.704144477844238,
           8.392438888549805,
           9.470266342163086,
           10.749218940734863,
           12.11868667602539,
           13.56343936920166,
           15.083391189575195,
           16.678592681884766,
           18.345125198364258,
           20.07638168334961,
           21.865373611450195,
           23.707895278930664,
           25.600772857666016
          ],
          [
           22.842979431152344,
           21.304784774780273,
           19.768226623535156,
           18.232234954833984,
           16.69794273376465,
           15.174762725830078,
           13.67509651184082,
           12.226202964782715,
           10.88725471496582,
           9.737537384033203,
           8.910296440124512,
           8.580592155456543,
           8.810949325561523,
           9.537820816040039,
           10.658098220825195,
           11.971388816833496,
           13.377720832824707,
           14.866109848022461,
           16.43513298034668,
           18.082813262939453,
           19.80257797241211,
           21.58740234375,
           23.429147720336914,
           25.32362937927246,
           27.269432067871094
          ],
          [
           24.22528648376465,
           22.683706283569336,
           21.140748977661133,
           19.597997665405273,
           18.056711196899414,
           16.52265739440918,
           15.006715774536133,
           13.531152725219727,
           12.150151252746582,
           10.946688652038574,
           10.05716323852539,
           9.68576717376709,
           9.919661521911621,
           10.682090759277344,
           11.846427917480469,
           13.198694229125977,
           14.649139404296875,
           16.18727684020996,
           17.81078338623047,
           19.515216827392578,
           21.291255950927734,
           23.13045883178711,
           25.026611328125,
           26.975135803222656,
           28.975677490234375
          ]
         ]
        },
        {
         "colorscale": [
          [
           0,
           "#440154"
          ],
          [
           0.1111111111111111,
           "#482878"
          ],
          [
           0.2222222222222222,
           "#3e4989"
          ],
          [
           0.3333333333333333,
           "#31688e"
          ],
          [
           0.4444444444444444,
           "#26828e"
          ],
          [
           0.5555555555555556,
           "#1f9e89"
          ],
          [
           0.6666666666666666,
           "#35b779"
          ],
          [
           0.7777777777777778,
           "#6ece58"
          ],
          [
           0.8888888888888888,
           "#b5de2b"
          ],
          [
           1,
           "#fde725"
          ]
         ],
         "name": "LBFGS",
         "opacity": 0.7,
         "showlegend": true,
         "showscale": false,
         "type": "surface",
         "x": [
          -0.5,
          -0.4583333432674408,
          -0.4166666567325592,
          -0.375,
          -0.3333333432674408,
          -0.2916666567325592,
          -0.25,
          -0.2083333283662796,
          -0.1666666716337204,
          -0.125,
          -0.0833333358168602,
          -0.0416666679084301,
          0,
          0.0416666679084301,
          0.0833333358168602,
          0.125,
          0.1666666716337204,
          0.2083333283662796,
          0.25,
          0.2916666567325592,
          0.3333333432674408,
          0.375,
          0.4166666567325592,
          0.4583333432674408,
          0.5
         ],
         "y": [
          -0.5,
          -0.4583333432674408,
          -0.4166666567325592,
          -0.375,
          -0.3333333432674408,
          -0.2916666567325592,
          -0.25,
          -0.2083333283662796,
          -0.1666666716337204,
          -0.125,
          -0.0833333358168602,
          -0.0416666679084301,
          0,
          0.0416666679084301,
          0.0833333358168602,
          0.125,
          0.1666666716337204,
          0.2083333283662796,
          0.25,
          0.2916666567325592,
          0.3333333432674408,
          0.375,
          0.4166666567325592,
          0.4583333432674408,
          0.5
         ],
         "z": [
          [
           88.82553100585938,
           83.02591705322266,
           77.25789642333984,
           71.52308654785156,
           66.05441284179688,
           61.879268646240234,
           60.427940368652344,
           61.17428207397461,
           62.26460266113281,
           63.35967254638672,
           64.44153594970703,
           65.5192642211914,
           66.60568237304688,
           67.69681549072266,
           68.77656555175781,
           69.82781982421875,
           70.82549285888672,
           71.74473571777344,
           72.62249755859375,
           73.53764343261719,
           74.50566864013672,
           75.49337005615234,
           76.55172729492188,
           77.82674407958984,
           79.4468765258789
          ],
          [
           86.60250854492188,
           80.81621551513672,
           75.06167602539062,
           69.3316879272461,
           63.674800872802734,
           58.63252258300781,
           55.539588928222656,
           55.378814697265625,
           56.37959671020508,
           57.4647216796875,
           58.5335807800293,
           59.587398529052734,
           60.63785934448242,
           61.69657897949219,
           62.74995040893555,
           63.78235626220703,
           64.77562713623047,
           65.69988250732422,
           66.56852722167969,
           67.47434997558594,
           68.4906234741211,
           69.64757537841797,
           71.03760528564453,
           72.77571105957031,
           74.91641998291016
          ],
          [
           84.43579864501953,
           78.662109375,
           72.91996765136719,
           67.20066833496094,
           61.50556564331055,
           56.007877349853516,
           51.64586639404297,
           49.87559127807617,
           50.49406433105469,
           51.52822494506836,
           52.56510543823242,
           53.576087951660156,
           54.57135772705078,
           55.56928253173828,
           56.569488525390625,
           57.56410598754883,
           58.54475402832031,
           59.50011444091797,
           60.426246643066406,
           61.44671630859375,
           62.71138000488281,
           64.25912475585938,
           66.12175750732422,
           68.36756134033203,
           70.9974365234375
          ],
          [
           82.28826141357422,
           76.52717590332031,
           70.79647827148438,
           65.08723449707031,
           59.39365768432617,
           53.741783142089844,
           48.58006286621094,
           45.17673110961914,
           44.66064453125,
           45.521480560302734,
           46.49711227416992,
           47.44693374633789,
           48.37826156616211,
           49.316749572753906,
           50.281341552734375,
           51.26829147338867,
           52.271366119384766,
           53.30618667602539,
           54.42436981201172,
           55.77727508544922,
           57.48699951171875,
           59.52849197387695,
           61.904178619384766,
           64.59184265136719,
           67.55638122558594
          ],
          [
           80.14705657958984,
           74.39614868164062,
           68.67356872558594,
           62.97068786621094,
           57.278656005859375,
           51.59201431274414,
           46.03189468383789,
           41.44398880004883,
           39.15545654296875,
           39.41557312011719,
           40.28502655029297,
           41.193641662597656,
           42.099273681640625,
           43.01605224609375,
           43.969642639160156,
           44.97117233276367,
           46.04542922973633,
           47.2780876159668,
           48.80533981323242,
           50.66098403930664,
           52.90009689331055,
           55.48015594482422,
           58.27082824707031,
           61.28593826293945,
           64.55229187011719
          ],
          [
           78.00527954101562,
           72.2597885131836,
           66.54034423828125,
           60.837345123291016,
           55.14091873168945,
           49.44135284423828,
           43.75688934326172,
           38.42770004272461,
           34.59299850463867,
           33.394107818603516,
           34.0186653137207,
           34.89823532104492,
           35.798866271972656,
           36.7130241394043,
           37.672943115234375,
           38.730892181396484,
           39.99696350097656,
           41.6402587890625,
           43.70618438720703,
           46.151573181152344,
           48.96133804321289,
           51.96099853515625,
           55.0853385925293,
           58.39936447143555,
           61.884178161621094
          ],
          [
           75.85057830810547,
           70.10589599609375,
           64.38449096679688,
           58.67689514160156,
           52.972721099853516,
           47.264503479003906,
           41.55314636230469,
           35.904762268066406,
           31.033266067504883,
           28.062355041503906,
           27.81193733215332,
           28.59844207763672,
           29.497615814208984,
           30.426788330078125,
           31.436317443847656,
           32.66663360595703,
           34.324378967285156,
           36.51041030883789,
           39.18789291381836,
           42.24156188964844,
           45.511627197265625,
           48.87113952636719,
           52.29083251953125,
           55.791404724121094,
           59.330360412597656
          ],
          [
           73.67557525634766,
           67.93087005615234,
           62.20904541015625,
           56.50066375732422,
           50.79399490356445,
           45.084442138671875,
           39.3686637878418,
           33.647830963134766,
           28.14971160888672,
           23.89512825012207,
           21.939414978027344,
           22.331613540649414,
           23.205913543701172,
           24.18364906311035,
           25.35407829284668,
           26.949827194213867,
           29.13149070739746,
           31.95684051513672,
           35.25717544555664,
           38.78874969482422,
           42.46583938598633,
           46.13173294067383,
           49.716190338134766,
           53.250797271728516,
           56.771820068359375
          ],
          [
           71.49093627929688,
           65.75434875488281,
           60.03954315185547,
           54.33497619628906,
           48.62897872924805,
           42.91948699951172,
           37.20044708251953,
           31.463417053222656,
           25.74842643737793,
           20.59026527404785,
           17.041399002075195,
           16.191713333129883,
           16.94808006286621,
           18.060094833374023,
           19.585309982299805,
           21.696958541870117,
           24.50644874572754,
           27.976057052612305,
           31.772022247314453,
           35.70952606201172,
           39.705753326416016,
           43.53913879394531,
           47.16612243652344,
           50.69331359863281,
           54.19291687011719
          ],
          [
           69.32431030273438,
           63.601070404052734,
           57.89261245727539,
           52.18781280517578,
           46.47827911376953,
           40.76259231567383,
           35.031612396240234,
           29.28094482421875,
           23.51692771911621,
           17.86209487915039,
           13.202631950378418,
           10.574904441833496,
           10.833734512329102,
           12.226106643676758,
           14.26572322845459,
           17.00677490234375,
           20.476287841796875,
           24.446514129638672,
           28.63979721069336,
           32.871299743652344,
           37.01519775390625,
           40.931671142578125,
           44.58782958984375,
           48.11528396606445,
           51.602413177490234
          ],
          [
           67.18354034423828,
           61.46759796142578,
           55.75703811645508,
           50.0412712097168,
           44.32080078125,
           38.59046173095703,
           32.84144973754883,
           27.06581687927246,
           21.268081665039062,
           15.46204662322998,
           10.006837844848633,
           6.095536708831787,
           5.2442474365234375,
           6.853618144989014,
           9.502257347106934,
           12.931320190429688,
           16.92974090576172,
           21.275421142578125,
           25.71107292175293,
           30.07179832458496,
           34.28505325317383,
           38.27193832397461,
           41.983036041259766,
           45.52549362182617,
           49.00935363769531
          ],
          [
           65.05314636230469,
           59.33027267456055,
           53.608463287353516,
           47.877349853515625,
           42.13816452026367,
           36.382503509521484,
           30.596599578857422,
           24.783327102661133,
           18.946901321411133,
           13.086766242980957,
           7.297233581542969,
           2.7571051120758057,
           1.2769008874893188,
           2.5749571323394775,
           5.536779880523682,
           9.404427528381348,
           13.760791778564453,
           18.300569534301758,
           22.809553146362305,
           27.23003387451172,
           31.513404846191406,
           35.56866455078125,
           39.35152816772461,
           42.92501449584961,
           46.4141731262207
          ],
          [
           62.9255485534668,
           57.179439544677734,
           51.43245315551758,
           45.6730842590332,
           39.89915466308594,
           34.10020065307617,
           28.27159309387207,
           22.41791343688965,
           16.537134170532227,
           10.652098655700684,
           5.07680082321167,
           1.1901216506958008,
           0.18560105562210083,
           0.972980797290802,
           3.228945255279541,
           6.707672595977783,
           10.928933143615723,
           15.40042781829834,
           19.895252227783203,
           24.353748321533203,
           28.703475952148438,
           32.827423095703125,
           36.67991256713867,
           40.310787200927734,
           43.83063888549805
          ],
          [
           60.78841781616211,
           54.99954605102539,
           49.2027702331543,
           43.39733123779297,
           37.5771598815918,
           31.72981071472168,
           25.854707717895508,
           19.970972061157227,
           14.155649185180664,
           8.622345924377441,
           4.092333793640137,
           1.6186614036560059,
           1.0584481954574585,
           1.5315561294555664,
           2.7722535133361816,
           5.129645347595215,
           8.55488395690918,
           12.658246994018555,
           17.030000686645508,
           21.467199325561523,
           25.857357025146484,
           30.055965423583984,
           33.9939079284668,
           37.747501373291016,
           41.394859313964844
          ],
          [
           58.603492736816406,
           52.76069641113281,
           46.908267974853516,
           41.04293441772461,
           35.161930084228516,
           29.272768020629883,
           23.451492309570312,
           17.85919189453125,
           12.74872875213623,
           8.666284561157227,
           6.020132541656494,
           4.525384902954102,
           3.7001876831054688,
           3.4448392391204834,
           3.8056843280792236,
           4.952694416046143,
           7.22443962097168,
           10.447074890136719,
           14.370450973510742,
           18.66293716430664,
           23.051738739013672,
           27.35923194885254,
           31.459537506103516,
           35.37714767456055,
           39.14178466796875
          ],
          [
           56.33203125,
           50.44200897216797,
           44.531124114990234,
           38.6110954284668,
           32.754920959472656,
           27.12883758544922,
           21.965768814086914,
           17.691701889038086,
           14.631213188171387,
           12.420242309570312,
           10.528829574584961,
           8.854398727416992,
           7.503316879272461,
           6.576176166534424,
           6.142451286315918,
           6.310308456420898,
           7.283522605895996,
           9.380781173706055,
           12.422060012817383,
           16.235240936279297,
           20.526487350463867,
           24.891347885131836,
           29.07832145690918,
           33.059757232666016,
           36.89662170410156
          ],
          [
           53.94610595703125,
           48.01591491699219,
           42.123661041259766,
           36.44061279296875,
           31.2072811126709,
           26.852136611938477,
           23.706510543823242,
           21.408916473388672,
           19.36940574645996,
           17.38235092163086,
           15.4514799118042,
           13.62366008758545,
           11.976400375366211,
           10.601926803588867,
           9.597108840942383,
           9.049248695373535,
           9.055471420288086,
           9.789785385131836,
           11.711122512817383,
           14.635152816772461,
           18.375795364379883,
           22.55270004272461,
           26.722278594970703,
           30.740703582763672,
           34.64081573486328
          ],
          [
           51.489009857177734,
           45.73662185668945,
           40.41015625,
           35.94976043701172,
           32.77683639526367,
           30.488338470458984,
           28.433238983154297,
           26.40633773803711,
           24.394878387451172,
           22.407676696777344,
           20.458280563354492,
           18.56776237487793,
           16.778654098510742,
           15.15675163269043,
           13.786795616149902,
           12.756335258483887,
           12.09846019744873,
           11.874262809753418,
           12.332230567932129,
           14.05160140991211,
           16.894874572753906,
           20.515487670898438,
           24.478351593017578,
           28.469432830810547,
           32.39278030395508
          ],
          [
           49.5451545715332,
           44.836395263671875,
           41.48536682128906,
           39.275455474853516,
           37.36651611328125,
           35.435333251953125,
           33.44881820678711,
           31.4392147064209,
           29.43294334411621,
           27.44974136352539,
           25.501394271850586,
           23.60098648071289,
           21.761798858642578,
           20.00942611694336,
           18.39056968688965,
           16.97405433654785,
           15.81851577758789,
           14.988069534301758,
           14.612808227539062,
           14.913637161254883,
           16.479530334472656,
           19.20644760131836,
           22.60270118713379,
           26.33574676513672,
           30.191940307617188
          ],
          [
           50.01803970336914,
           47.694740295410156,
           45.86478042602539,
           44.05773162841797,
           42.217491149902344,
           40.33646011352539,
           38.41530990600586,
           36.45412063598633,
           34.4763069152832,
           32.518070220947266,
           30.594316482543945,
           28.69747543334961,
           26.812471389770508,
           24.94507598876953,
           23.140697479248047,
           21.470523834228516,
           19.983789443969727,
           18.745363235473633,
           17.846071243286133,
           17.407855987548828,
           17.66506576538086,
           19.038841247558594,
           21.51376724243164,
           24.63487434387207,
           28.16101837158203
          ],
          [
           54.115516662597656,
           52.4035530090332,
           50.64250183105469,
           48.84783172607422,
           47.02639389038086,
           45.177886962890625,
           43.306758880615234,
           41.4217529296875,
           39.51902389526367,
           37.59127426147461,
           35.64975357055664,
           33.70268630981445,
           31.7625675201416,
           29.841732025146484,
           27.958364486694336,
           26.141357421875,
           24.420705795288086,
           22.870607376098633,
           21.58097267150879,
           20.644575119018555,
           20.252273559570312,
           20.543033599853516,
           21.66115951538086,
           23.786617279052734,
           26.64161491394043
          ],
          [
           58.73708724975586,
           57.0894775390625,
           55.375083923339844,
           53.60002517700195,
           51.79854965209961,
           49.98501968383789,
           48.155147552490234,
           46.29348373413086,
           44.405372619628906,
           42.48499298095703,
           40.534095764160156,
           38.5694465637207,
           36.6076774597168,
           34.65678405761719,
           32.72651290893555,
           30.822952270507812,
           28.94449234008789,
           27.16419219970703,
           25.569385528564453,
           24.25229835510254,
           23.400434494018555,
           23.14598274230957,
           23.423166275024414,
           24.281248092651367,
           26.046430587768555
          ],
          [
           63.260215759277344,
           61.641990661621094,
           59.98679733276367,
           58.28383255004883,
           56.51646041870117,
           54.694847106933594,
           52.83232116699219,
           50.93944549560547,
           49.03926086425781,
           47.13676452636719,
           45.22236633300781,
           43.27557373046875,
           41.30205535888672,
           39.32198715209961,
           37.35147476196289,
           35.38801193237305,
           33.412349700927734,
           31.472007751464844,
           29.647165298461914,
           28.028736114501953,
           26.809667587280273,
           26.160646438598633,
           26.001150131225586,
           26.2235050201416,
           26.892154693603516
          ],
          [
           67.68539428710938,
           66.09546661376953,
           64.45502471923828,
           62.75891876220703,
           60.99238586425781,
           59.158905029296875,
           57.27667999267578,
           55.3746337890625,
           53.47006607055664,
           51.56760787963867,
           49.660282135009766,
           47.735774993896484,
           45.77321243286133,
           43.77733612060547,
           41.77267837524414,
           39.759246826171875,
           37.723533630371094,
           35.698238372802734,
           33.72795867919922,
           31.892986297607422,
           30.385385513305664,
           29.404111862182617,
           28.911867141723633,
           28.7624568939209,
           28.929834365844727
          ],
          [
           71.9831771850586,
           70.3511962890625,
           68.66201782226562,
           66.92668151855469,
           65.15296936035156,
           63.344520568847656,
           61.49009323120117,
           59.59312438964844,
           57.677555084228516,
           55.762413024902344,
           53.84963607788086,
           51.92881774902344,
           49.9872932434082,
           48.01545333862305,
           46.01057815551758,
           43.971317291259766,
           41.90494918823242,
           39.842079162597656,
           37.805763244628906,
           35.84027099609375,
           34.11838912963867,
           32.86492156982422,
           32.0824089050293,
           31.627798080444336,
           31.464954376220703
          ]
         ]
        },
        {
         "colorscale": [
          [
           0,
           "rgb(247,251,255)"
          ],
          [
           0.125,
           "rgb(222,235,247)"
          ],
          [
           0.25,
           "rgb(198,219,239)"
          ],
          [
           0.375,
           "rgb(158,202,225)"
          ],
          [
           0.5,
           "rgb(107,174,214)"
          ],
          [
           0.625,
           "rgb(66,146,198)"
          ],
          [
           0.75,
           "rgb(33,113,181)"
          ],
          [
           0.875,
           "rgb(8,81,156)"
          ],
          [
           1,
           "rgb(8,48,107)"
          ]
         ],
         "name": "AdaHessian",
         "opacity": 0.7,
         "showlegend": true,
         "showscale": false,
         "type": "surface",
         "x": [
          -0.5,
          -0.4583333432674408,
          -0.4166666567325592,
          -0.375,
          -0.3333333432674408,
          -0.2916666567325592,
          -0.25,
          -0.2083333283662796,
          -0.1666666716337204,
          -0.125,
          -0.0833333358168602,
          -0.0416666679084301,
          0,
          0.0416666679084301,
          0.0833333358168602,
          0.125,
          0.1666666716337204,
          0.2083333283662796,
          0.25,
          0.2916666567325592,
          0.3333333432674408,
          0.375,
          0.4166666567325592,
          0.4583333432674408,
          0.5
         ],
         "y": [
          -0.5,
          -0.4583333432674408,
          -0.4166666567325592,
          -0.375,
          -0.3333333432674408,
          -0.2916666567325592,
          -0.25,
          -0.2083333283662796,
          -0.1666666716337204,
          -0.125,
          -0.0833333358168602,
          -0.0416666679084301,
          0,
          0.0416666679084301,
          0.0833333358168602,
          0.125,
          0.1666666716337204,
          0.2083333283662796,
          0.25,
          0.2916666567325592,
          0.3333333432674408,
          0.375,
          0.4166666567325592,
          0.4583333432674408,
          0.5
         ],
         "z": [
          [
           12.687089920043945,
           11.834796905517578,
           11.009695053100586,
           10.210397720336914,
           9.444161415100098,
           8.742036819458008,
           8.170622825622559,
           7.765750408172607,
           7.547229290008545,
           7.621612071990967,
           8.155953407287598,
           9.165456771850586,
           10.467604637145996,
           11.883373260498047,
           13.316177368164062,
           14.724682807922363,
           16.1103572845459,
           17.482534408569336,
           18.85007667541504,
           20.223796844482422,
           21.608551025390625,
           23.004098892211914,
           24.412555694580078,
           25.83412742614746,
           27.269739151000977
          ],
          [
           11.849165916442871,
           10.982612609863281,
           10.146312713623047,
           9.33997631072998,
           8.568017959594727,
           7.857011318206787,
           7.267965316772461,
           6.836241722106934,
           6.5634074211120605,
           6.508368015289307,
           6.815796852111816,
           7.582256317138672,
           8.71414852142334,
           10.029120445251465,
           11.409333229064941,
           12.792193412780762,
           14.159056663513184,
           15.513919830322266,
           16.864017486572266,
           18.21994400024414,
           19.58717155456543,
           20.967416763305664,
           22.360872268676758,
           23.768922805786133,
           25.194190979003906
          ],
          [
           11.035093307495117,
           10.152061462402344,
           9.301901817321777,
           8.48470401763916,
           7.703895568847656,
           6.98410177230835,
           6.38110876083374,
           5.929781436920166,
           5.620553493499756,
           5.474599838256836,
           5.592962265014648,
           6.10385274887085,
           7.016115188598633,
           8.188786506652832,
           9.483113288879395,
           10.822639465332031,
           12.167043685913086,
           13.506071090698242,
           14.844112396240234,
           16.18674659729004,
           17.539535522460938,
           18.906484603881836,
           20.289348602294922,
           21.68730926513672,
           23.101242065429688
          ],
          [
           10.241842269897461,
           9.34029769897461,
           8.473830223083496,
           7.644157886505127,
           6.855436325073242,
           6.129063129425049,
           5.514617443084717,
           5.049067974090576,
           4.714979648590088,
           4.509525299072266,
           4.490443229675293,
           4.767112731933594,
           5.427881717681885,
           6.41449499130249,
           7.587127208709717,
           8.85278034210205,
           10.158903121948242,
           11.477412223815918,
           12.800283432006836,
           14.130634307861328,
           15.471149444580078,
           16.82768440246582,
           18.19972801208496,
           19.58791732788086,
           20.9947452545166
          ],
          [
           9.459585189819336,
           8.541132926940918,
           7.662104606628418,
           6.823853015899658,
           6.029528617858887,
           5.298868179321289,
           4.675805568695068,
           4.197854042053223,
           3.8457956314086914,
           3.6035354137420654,
           3.4909799098968506,
           3.5876376628875732,
           3.9992401599884033,
           4.76137113571167,
           5.775754451751709,
           6.9345502853393555,
           8.172154426574707,
           9.451531410217285,
           10.7521390914917,
           12.06682300567627,
           13.394072532653809,
           14.73816967010498,
           16.100473403930664,
           17.479597091674805,
           18.879270553588867
          ],
          [
           8.691650390625,
           7.7609944343566895,
           6.873194217681885,
           6.028871059417725,
           5.232512474060059,
           4.500423431396484,
           3.8712759017944336,
           3.3822367191314697,
           3.0160372257232666,
           2.7499287128448486,
           2.5828874111175537,
           2.5584189891815186,
           2.766301155090332,
           3.2921626567840576,
           4.115929126739502,
           5.129957675933838,
           6.261974811553955,
           7.469395160675049,
           8.72577953338623,
           10.013172149658203,
           11.323990821838379,
           12.653650283813477,
           14.003446578979492,
           15.373772621154785,
           16.764074325561523
          ],
          [
           7.937404632568359,
           7.001101493835449,
           6.111144065856934,
           5.267076015472412,
           4.473170757293701,
           3.743422031402588,
           3.1103506088256836,
           2.6133086681365967,
           2.2403066158294678,
           1.9631016254425049,
           1.774330735206604,
           1.6852680444717407,
           1.7574130296707153,
           2.0755629539489746,
           2.6852195262908936,
           3.5268523693084717,
           4.5131516456604,
           5.605737209320068,
           6.781020164489746,
           8.0120210647583,
           9.285974502563477,
           10.59277057647705,
           11.927570343017578,
           13.28304672241211,
           14.662099838256836
          ],
          [
           7.201835632324219,
           6.268831253051758,
           5.384815216064453,
           4.55210018157959,
           3.770728349685669,
           3.052032947540283,
           2.4257314205169678,
           1.928944706916809,
           1.5601835250854492,
           1.286422848701477,
           1.0965795516967773,
           0.9900562167167664,
           0.9895513653755188,
           1.1576999425888062,
           1.557489037513733,
           2.202080726623535,
           3.022576093673706,
           3.9655039310455322,
           5.012263298034668,
           6.148143768310547,
           7.350773334503174,
           8.60763168334961,
           9.907087326049805,
           11.241877555847168,
           12.604637145996094
          ],
          [
           6.501948356628418,
           5.585991859436035,
           4.722884178161621,
           3.914858818054199,
           3.1591734886169434,
           2.4635586738586426,
           1.8523786067962646,
           1.3640385866165161,
           1.0082459449768066,
           0.7547311186790466,
           0.5821007490158081,
           0.48402321338653564,
           0.46117615699768066,
           0.5405142903327942,
           0.7789721488952637,
           1.2199270725250244,
           1.8594748973846436,
           2.6409060955047607,
           3.5329134464263916,
           4.533286094665527,
           5.629917621612549,
           6.802690505981445,
           8.037008285522461,
           9.324972152709961,
           10.659765243530273
          ],
          [
           5.865877151489258,
           4.981302738189697,
           4.153731822967529,
           3.381422281265259,
           2.660935878753662,
           1.9977264404296875,
           1.4133894443511963,
           0.945350706577301,
           0.6131443977355957,
           0.39818325638771057,
           0.2661909759044647,
           0.19471944868564606,
           0.17340120673179626,
           0.2092193216085434,
           0.33916833996772766,
           0.6189126372337341,
           1.0777722597122192,
           1.6981534957885742,
           2.440627098083496,
           3.289771318435669,
           4.247920513153076,
           5.308142185211182,
           6.45245361328125,
           7.667078971862793,
           8.943782806396484
          ],
          [
           5.321493625640869,
           4.478017807006836,
           3.6947860717773438,
           2.966981887817383,
           2.293606758117676,
           1.675308346748352,
           1.1277189254760742,
           0.6912026405334473,
           0.3913244903087616,
           0.21695992350578308,
           0.12389644980430603,
           0.07743404805660248,
           0.06132914125919342,
           0.07474638521671295,
           0.13894067704677582,
           0.3043909966945648,
           0.6176625490188599,
           1.094064712524414,
           1.7105610370635986,
           2.4368698596954346,
           3.2707877159118652,
           4.209654331207275,
           5.249309539794922,
           6.379335403442383,
           7.5872015953063965
          ],
          [
           4.8938069343566895,
           4.100780010223389,
           3.367769479751587,
           2.692059278488159,
           2.0691800117492676,
           1.4988175630569458,
           0.9961597919464111,
           0.5947421789169312,
           0.3189927339553833,
           0.15821002423763275,
           0.0784459337592125,
           0.04178792983293533,
           0.028939630836248398,
           0.033462975174188614,
           0.06541871279478073,
           0.15750747919082642,
           0.36529117822647095,
           0.7208091020584106,
           1.2302155494689941,
           1.8669952154159546,
           2.6133241653442383,
           3.4664947986602783,
           4.423442840576172,
           5.478036403656006,
           6.621389389038086
          ],
          [
           4.6010026931762695,
           3.861971616744995,
           3.176192045211792,
           2.5446081161499023,
           1.967406988143921,
           1.4468388557434082,
           0.9890660047531128,
           0.6115921139717102,
           0.3399858772754669,
           0.16852419078350067,
           0.07987930625677109,
           0.04087287560105324,
           0.028093326836824417,
           0.0311310775578022,
           0.05133166164159775,
           0.10760543495416641,
           0.24575366079807281,
           0.5159199237823486,
           0.9418501853942871,
           1.520856499671936,
           2.2258265018463135,
           3.0344114303588867,
           3.9404568672180176,
           4.939929008483887,
           6.030218124389648
          ],
          [
           4.4300079345703125,
           3.736903667449951,
           3.092284679412842,
           2.5008461475372314,
           1.9669818878173828,
           1.4918423891067505,
           1.069732427597046,
           0.7038634419441223,
           0.4193790555000305,
           0.22769159078598022,
           0.11725454032421112,
           0.06799741089344025,
           0.05198368802666664,
           0.0556534044444561,
           0.07712501287460327,
           0.12995441257953644,
           0.24654832482337952,
           0.4798795282840729,
           0.8666236996650696,
           1.4186855554580688,
           2.112588882446289,
           2.9117515087127686,
           3.7990469932556152,
           4.7729010581970215,
           5.8307576179504395
          ],
          [
           4.359313488006592,
           3.710055112838745,
           3.108635425567627,
           2.561413049697876,
           2.070812225341797,
           1.6304044723510742,
           1.2311428785324097,
           0.8716696500778198,
           0.5712292194366455,
           0.3539929687976837,
           0.21453392505645752,
           0.14378558099269867,
           0.12187238037586212,
           0.13232223689556122,
           0.1744745373725891,
           0.2577441930770874,
           0.40442609786987305,
           0.6492103338241577,
           1.0313680171966553,
           1.5687994956970215,
           2.2503931522369385,
           3.05126690864563,
           3.9464111328125,
           4.921785831451416,
           5.975066661834717
          ],
          [
           4.387031555175781,
           3.787734031677246,
           3.238546133041382,
           2.7405900955200195,
           2.289717435836792,
           1.8776724338531494,
           1.497812032699585,
           1.1467559337615967,
           0.8356239199638367,
           0.5907287001609802,
           0.4230552911758423,
           0.327818363904953,
           0.3005772829055786,
           0.32739371061325073,
           0.4067733883857727,
           0.5407979488372803,
           0.7400725483894348,
           1.0263750553131104,
           1.4242842197418213,
           1.957694172859192,
           2.632636785507202,
           3.433187484741211,
           4.341935634613037,
           5.337143421173096,
           6.406155586242676
          ],
          [
           4.513526916503906,
           3.969881057739258,
           3.47510027885437,
           3.023710012435913,
           2.609607219696045,
           2.2252016067504883,
           1.866199016571045,
           1.5319308042526245,
           1.2270721197128296,
           0.9714000225067139,
           0.7875320911407471,
           0.6811843514442444,
           0.6515294909477234,
           0.6952260732650757,
           0.8076885342597961,
           0.9903765320777893,
           1.2486615180969238,
           1.5906058549880981,
           2.0286080837249756,
           2.5814762115478516,
           3.262005567550659,
           4.068643569946289,
           4.990359306335449,
           6.004992961883545,
           7.09349250793457
          ],
          [
           4.74050760269165,
           4.248007774353027,
           3.7996997833251953,
           3.3878262042999268,
           3.0069077014923096,
           2.6514029502868652,
           2.3177413940429688,
           2.0068488121032715,
           1.7248908281326294,
           1.4875062704086304,
           1.313843011856079,
           1.217408537864685,
           1.2009459733963013,
           1.2646441459655762,
           1.4086663722991943,
           1.6387370824813843,
           1.9529646635055542,
           2.35123348236084,
           2.8409485816955566,
           3.4305179119110107,
           4.130463600158691,
           4.9522857666015625,
           5.887475490570068,
           6.917567253112793,
           8.024263381958008
          ],
          [
           5.066649436950684,
           4.618621349334717,
           4.208151817321777,
           3.8299949169158936,
           3.4793219566345215,
           3.1525888442993164,
           2.8482751846313477,
           2.5704469680786133,
           2.328483819961548,
           2.1349844932556152,
           2.002976417541504,
           1.9432461261749268,
           1.9599933624267578,
           2.058673858642578,
           2.2465405464172363,
           2.5229873657226562,
           2.888313055038452,
           3.3405916690826416,
           3.880664348602295,
           4.510479927062988,
           5.241529941558838,
           6.08323335647583,
           7.032908916473389,
           8.078044891357422,
           9.199261665344238
          ],
          [
           5.491690635681152,
           5.082508087158203,
           4.707809925079346,
           4.36346960067749,
           4.044761657714844,
           3.749871015548706,
           3.481628656387329,
           3.248006820678711,
           3.0579707622528076,
           2.923494815826416,
           2.853743553161621,
           2.854024648666382,
           2.9278805255889893,
           3.0842127799987793,
           3.325434923171997,
           3.650545120239258,
           4.060915946960449,
           4.557844161987305,
           5.141047477722168,
           5.8103203773498535,
           6.576801300048828,
           7.447576522827148,
           8.421137809753418,
           9.484428405761719,
           10.621909141540527
          ],
          [
           6.022985458374023,
           5.6532416343688965,
           5.315896987915039,
           5.006528854370117,
           4.722873210906982,
           4.467034339904785,
           4.244802951812744,
           4.064589500427246,
           3.9375898838043213,
           3.871847629547119,
           3.8722352981567383,
           3.9412529468536377,
           4.0827202796936035,
           4.301947116851807,
           4.602269649505615,
           4.982085704803467,
           5.439933776855469,
           5.977186679840088,
           6.5978264808654785,
           7.307678699493408,
           8.114323616027832,
           9.023659706115723,
           10.02729320526123,
           11.114317893981934,
           12.272923469543457
          ],
          [
           6.681605815887451,
           6.353457927703857,
           6.054223537445068,
           5.782223224639893,
           5.538419723510742,
           5.327458381652832,
           5.156843662261963,
           5.036935806274414,
           4.974953651428223,
           4.97524881362915,
           5.041621208190918,
           5.176838397979736,
           5.382791519165039,
           5.663393497467041,
           6.021592140197754,
           6.457647800445557,
           6.965884685516357,
           7.545731067657471,
           8.205968856811523,
           8.958494186401367,
           9.809782981872559,
           10.757838249206543,
           11.795957565307617,
           12.910096168518066,
           14.091842651367188
          ],
          [
           7.4806013107299805,
           7.189730167388916,
           6.926507472991943,
           6.691715240478516,
           6.489956855773926,
           6.327282905578613,
           6.212112903594971,
           6.151158809661865,
           6.148873329162598,
           6.2106475830078125,
           6.338184833526611,
           6.5319976806640625,
           6.795680999755859,
           7.133426189422607,
           7.5469279289245605,
           8.032958030700684,
           8.588563919067383,
           9.216255187988281,
           9.924637794494629,
           10.725386619567871,
           11.621115684509277,
           12.606904029846191,
           13.676850318908691,
           14.820199012756348,
           16.027666091918945
          ],
          [
           8.404187202453613,
           8.148223876953125,
           7.919280529022217,
           7.72203254699707,
           7.563189506530762,
           7.449868679046631,
           7.387394428253174,
           7.380222320556641,
           7.435085773468018,
           7.553239345550537,
           7.734999656677246,
           7.983132839202881,
           8.300400733947754,
           8.689467430114746,
           9.152180671691895,
           9.684231758117676,
           10.287422180175781,
           10.96828842163086,
           11.73377799987793,
           12.586533546447754,
           13.52907943725586,
           14.553772926330566,
           15.652748107910156,
           16.822240829467773,
           18.052963256835938
          ],
          [
           9.429645538330078,
           9.203704833984375,
           9.010320663452148,
           8.854353904724121,
           8.74173641204834,
           8.676623344421387,
           8.663351058959961,
           8.709012985229492,
           8.815905570983887,
           8.983271598815918,
           9.214255332946777,
           9.511957168579102,
           9.879082679748535,
           10.317682266235352,
           10.827714920043945,
           11.40928840637207,
           12.065939903259277,
           12.805170059204102,
           13.629120826721191,
           14.536459922790527,
           15.524341583251953,
           16.585506439208984,
           17.715482711791992,
           18.9074649810791,
           20.158008575439453
          ]
         ]
        },
        {
         "colorscale": [
          [
           0,
           "#0508b8"
          ],
          [
           0.08333333333333333,
           "#1910d8"
          ],
          [
           0.16666666666666666,
           "#3c19f0"
          ],
          [
           0.25,
           "#6b1cfb"
          ],
          [
           0.3333333333333333,
           "#981cfd"
          ],
          [
           0.4166666666666667,
           "#bf1cfd"
          ],
          [
           0.5,
           "#dd2bfd"
          ],
          [
           0.5833333333333334,
           "#f246fe"
          ],
          [
           0.6666666666666666,
           "#fc67fd"
          ],
          [
           0.75,
           "#fe88fc"
          ],
          [
           0.8333333333333334,
           "#fea5fd"
          ],
          [
           0.9166666666666666,
           "#febefe"
          ],
          [
           1,
           "#fec3fe"
          ]
         ],
         "name": "Apollo",
         "opacity": 0.7,
         "showlegend": true,
         "showscale": false,
         "type": "surface",
         "x": [
          -0.5,
          -0.4583333432674408,
          -0.4166666567325592,
          -0.375,
          -0.3333333432674408,
          -0.2916666567325592,
          -0.25,
          -0.2083333283662796,
          -0.1666666716337204,
          -0.125,
          -0.0833333358168602,
          -0.0416666679084301,
          0,
          0.0416666679084301,
          0.0833333358168602,
          0.125,
          0.1666666716337204,
          0.2083333283662796,
          0.25,
          0.2916666567325592,
          0.3333333432674408,
          0.375,
          0.4166666567325592,
          0.4583333432674408,
          0.5
         ],
         "y": [
          -0.5,
          -0.4583333432674408,
          -0.4166666567325592,
          -0.375,
          -0.3333333432674408,
          -0.2916666567325592,
          -0.25,
          -0.2083333283662796,
          -0.1666666716337204,
          -0.125,
          -0.0833333358168602,
          -0.0416666679084301,
          0,
          0.0416666679084301,
          0.0833333358168602,
          0.125,
          0.1666666716337204,
          0.2083333283662796,
          0.25,
          0.2916666567325592,
          0.3333333432674408,
          0.375,
          0.4166666567325592,
          0.4583333432674408,
          0.5
         ],
         "z": [
          [
           9.221842765808105,
           7.920156955718994,
           6.795369625091553,
           5.862069606781006,
           5.100958347320557,
           4.479701519012451,
           3.974851131439209,
           3.563300848007202,
           3.228294610977173,
           2.9594321250915527,
           2.752262592315674,
           2.6116538047790527,
           2.5432164669036865,
           2.5574724674224854,
           2.676565408706665,
           2.9005842208862305,
           3.2175896167755127,
           3.608386754989624,
           4.053659439086914,
           4.531193256378174,
           5.030160427093506,
           5.551087379455566,
           6.089919090270996,
           6.639385223388672,
           7.197639465332031
          ],
          [
           9.18558120727539,
           7.827536106109619,
           6.628988265991211,
           5.623499870300293,
           4.806978702545166,
           4.146828651428223,
           3.6140763759613037,
           3.178112030029297,
           2.827615976333618,
           2.5442094802856445,
           2.3259310722351074,
           2.1728763580322266,
           2.0932247638702393,
           2.095521926879883,
           2.1957883834838867,
           2.3984758853912354,
           2.692214012145996,
           3.063565254211426,
           3.4916436672210693,
           3.957413911819458,
           4.447761058807373,
           4.961696624755859,
           5.494486331939697,
           6.040470123291016,
           6.596527576446533
          ],
          [
           9.160269737243652,
           7.754861831665039,
           6.487886905670166,
           5.404930591583252,
           4.5243449211120605,
           3.8204598426818848,
           3.257279396057129,
           2.79923415184021,
           2.4318337440490723,
           2.1393868923187256,
           1.9130933284759521,
           1.7573779821395874,
           1.6731195449829102,
           1.6687743663787842,
           1.753505825996399,
           1.9355055093765259,
           2.2058658599853516,
           2.5547924041748047,
           2.9644906520843506,
           3.416882276535034,
           3.898395538330078,
           4.404806613922119,
           4.931979179382324,
           5.475111961364746,
           6.028488636016846
          ],
          [
           9.141973495483398,
           7.6982598304748535,
           6.37097692489624,
           5.210541248321533,
           4.257282733917236,
           3.500784397125244,
           2.903869152069092,
           2.425748586654663,
           2.044232130050659,
           1.7464699745178223,
           1.5213640928268433,
           1.36995267868042,
           1.2907599210739136,
           1.2846688032150269,
           1.3573542833328247,
           1.5202635526657104,
           1.767054796218872,
           2.0910212993621826,
           2.4811322689056396,
           2.9185967445373535,
           3.388758659362793,
           3.887986660003662,
           4.410315036773682,
           4.948968887329102,
           5.501077651977539
          ],
          [
           9.125703811645508,
           7.653563499450684,
           6.276686191558838,
           5.0439605712890625,
           4.0114054679870605,
           3.1939005851745605,
           2.5592703819274902,
           2.0622589588165283,
           1.6720168590545654,
           1.3752254247665405,
           1.1607495546340942,
           1.021276593208313,
           0.9515838027000427,
           0.9481756091117859,
           1.0134217739105225,
           1.1570721864700317,
           1.3797032833099365,
           1.6787285804748535,
           2.0479736328125,
           2.469789981842041,
           2.9277448654174805,
           3.4184415340423584,
           3.934189558029175,
           4.4683308601379395,
           5.017040252685547
          ],
          [
           9.108991622924805,
           7.616031169891357,
           6.199337005615234,
           4.904354095458984,
           3.7934930324554443,
           2.907945156097412,
           2.2301907539367676,
           1.7147895097732544,
           1.3243638277053833,
           1.039281964302063,
           0.8435734510421753,
           0.7226165533065796,
           0.665298342704773,
           0.6660424470901489,
           0.7262679934501648,
           0.8531849384307861,
           1.0528846979141235,
           1.3280645608901978,
           1.6738340854644775,
           2.0772154331207275,
           2.5198678970336914,
           2.9978504180908203,
           3.5050747394561768,
           4.0333991050720215,
           4.5783891677856445
          ],
          [
           9.089776039123535,
           7.582178592681885,
           6.137058734893799,
           4.792556285858154,
           3.6112377643585205,
           2.6552224159240723,
           1.9292685985565186,
           1.398111343383789,
           1.0154118537902832,
           0.7532984614372253,
           0.5829461812973022,
           0.48401907086372375,
           0.4408998191356659,
           0.4461618959903717,
           0.4999330937862396,
           0.611629068851471,
           0.7887575626373291,
           1.0387436151504517,
           1.3594175577163696,
           1.7417277097702026,
           2.167747735977173,
           2.630774974822998,
           3.1266462802886963,
           3.6480331420898438,
           4.186111927032471
          ],
          [
           9.073356628417969,
           7.556074619293213,
           6.090809345245361,
           4.707906723022461,
           3.470487356185913,
           2.44649600982666,
           1.6715985536575317,
           1.1273113489151,
           0.7615674734115601,
           0.5294280648231506,
           0.3883518576622009,
           0.3105780780315399,
           0.280375212430954,
           0.28756117820739746,
           0.3338269591331482,
           0.4302944839000702,
           0.5853362679481506,
           0.8087185621261597,
           1.102864384651184,
           1.4630627632141113,
           1.8721879720687866,
           2.320464611053467,
           2.8036279678344727,
           3.3150746822357178,
           3.8470473289489746
          ],
          [
           9.060772895812988,
           7.539619445800781,
           6.062948226928711,
           4.656350612640381,
           3.375030279159546,
           2.2922723293304443,
           1.4706324338912964,
           0.9144788384437561,
           0.569891095161438,
           0.36818280816078186,
           0.2546379268169403,
           0.19638323783874512,
           0.1753084659576416,
           0.1836959272623062,
           0.22254128754138947,
           0.3026634454727173,
           0.4363660514354706,
           0.6358799934387207,
           0.9050827026367188,
           1.242802619934082,
           1.6366825103759766,
           2.0711939334869385,
           2.5430991649627686,
           3.0465259552001953,
           3.572955846786499
          ],
          [
           9.058753967285156,
           7.539536952972412,
           6.058592319488525,
           4.639688968658447,
           3.3317010402679443,
           2.2066969871520996,
           1.3445950746536255,
           0.7724745273590088,
           0.4415479004383087,
           0.2624739408493042,
           0.17016997933387756,
           0.1261306256055832,
           0.11100262403488159,
           0.11809635907411575,
           0.15025849640369415,
           0.21755863726139069,
           0.3346421718597412,
           0.5162131786346436,
           0.7684595584869385,
           1.0883965492248535,
           1.4684096574783325,
           1.8923077583312988,
           2.3529787063598633,
           2.8486039638519287,
           3.3677101135253906
          ],
          [
           9.069930076599121,
           7.557070255279541,
           6.080295085906982,
           4.662815093994141,
           3.345493793487549,
           2.19771409034729,
           1.3015190362930298,
           0.7059513330459595,
           0.37000927329063416,
           0.20080947875976562,
           0.12022310495376587,
           0.08406107872724533,
           0.07199686765670776,
           0.07761194556951523,
           0.10487893223762512,
           0.16376487910747528,
           0.270476758480072,
           0.4433506429195404,
           0.6885374784469604,
           0.9981995820999146,
           1.3679827451705933,
           1.7829961776733398,
           2.2350893020629883,
           2.7219159603118896,
           3.234680652618408
          ],
          [
           9.102746963500977,
           7.599052429199219,
           6.132640361785889,
           4.728446006774902,
           3.4182674884796143,
           2.2633447647094727,
           1.3449056148529053,
           0.7150341868400574,
           0.3531262278556824,
           0.1761818677186966,
           0.09595751762390137,
           0.061608023941516876,
           0.05056232959032059,
           0.05579203739762306,
           0.08112828433513641,
           0.13627839088439941,
           0.23968122899532318,
           0.41225507855415344,
           0.658536970615387,
           0.9670858383178711,
           1.3324264287948608,
           1.7419471740722656,
           2.1898598670959473,
           2.6708667278289795,
           3.179750919342041
          ],
          [
           9.171318054199219,
           7.672450065612793,
           6.22404670715332,
           4.841460704803467,
           3.5528042316436768,
           2.405191421508789,
           1.4712811708450317,
           0.7985664010047913,
           0.3926052153110504,
           0.18700401484966278,
           0.09425099939107895,
           0.055678896605968475,
           0.044555358588695526,
           0.05072164162993431,
           0.07729934900999069,
           0.13522428274154663,
           0.24517251551151276,
           0.4252464473247528,
           0.6785919666290283,
           0.9946125149726868,
           1.3616220951080322,
           1.7712231874465942,
           2.2176215648651123,
           2.696000576019287,
           3.2020182609558105
          ],
          [
           9.28531265258789,
           7.789852619171143,
           6.359150409698486,
           5.005314826965332,
           3.74996280670166,
           2.621151924133301,
           1.6723837852478027,
           0.9598459601402283,
           0.4947066307067871,
           0.23984350264072418,
           0.11966101825237274,
           0.0707433670759201,
           0.05735037475824356,
           0.06595485657453537,
           0.09919452667236328,
           0.16860049962997437,
           0.29506465792655945,
           0.49138036370277405,
           0.7592793703079224,
           1.0857713222503662,
           1.4584156274795532,
           1.8694157600402832,
           2.315610647201538,
           2.7922141551971436,
           3.294882297515869
          ],
          [
           9.449756622314453,
           7.964230060577393,
           6.5514116287231445,
           5.227882385253906,
           4.004976749420166,
           2.895768642425537,
           1.940613031387329,
           1.194808840751648,
           0.6723120808601379,
           0.355379194021225,
           0.19132453203201294,
           0.1211223229765892,
           0.10186337679624557,
           0.11664952337741852,
           0.16376005113124847,
           0.25340962409973145,
           0.40524137020111084,
           0.6244847774505615,
           0.9095943570137024,
           1.2472952604293823,
           1.6242364645004272,
           2.0368428230285645,
           2.4805638790130615,
           2.952552556991577,
           3.451089859008789
          ],
          [
           9.672130584716797,
           8.203441619873047,
           6.8169145584106445,
           5.521972179412842,
           4.325801372528076,
           3.237332344055176,
           2.285306453704834,
           1.5133026838302612,
           0.945187509059906,
           0.5670267343521118,
           0.34912243485450745,
           0.2445281744003296,
           0.21402545273303986,
           0.23586826026439667,
           0.30226758122444153,
           0.4203590452671051,
           0.6002905964851379,
           0.8422120213508606,
           1.142063021659851,
           1.4870555400848389,
           1.865281581878662,
           2.2764415740966797,
           2.714060068130493,
           3.179647922515869,
           3.6719672679901123
          ],
          [
           9.962793350219727,
           8.52060317993164,
           7.169313430786133,
           5.902778625488281,
           4.730663299560547,
           3.66623592376709,
           2.7307333946228027,
           1.9496017694473267,
           1.3514137268066406,
           0.9314658045768738,
           0.6632694602012634,
           0.517951488494873,
           0.465985506772995,
           0.48682743310928345,
           0.5678637623786926,
           0.7097882628440857,
           0.9119783043861389,
           1.1695761680603027,
           1.4750454425811768,
           1.8206733465194702,
           2.1953189373016357,
           2.5968258380889893,
           3.025956153869629,
           3.4803895950317383,
           3.963270902633667
          ],
          [
           10.334944725036621,
           8.924230575561523,
           7.611364364624023,
           6.38370943069458,
           5.243251323699951,
           4.214012622833252,
           3.3099000453948975,
           2.548754930496216,
           1.9491417407989502,
           1.510368824005127,
           1.2120126485824585,
           1.029610276222229,
           0.9479600787162781,
           0.9502364993095398,
           1.0265063047409058,
           1.1706883907318115,
           1.3750487565994263,
           1.6313005685806274,
           1.9297584295272827,
           2.264955997467041,
           2.630063056945801,
           3.0148448944091797,
           3.4276633262634277,
           3.8659403324127197,
           4.332770824432373
          ],
          [
           10.795927047729492,
           9.431273460388184,
           8.162749290466309,
           6.97955846786499,
           5.89017915725708,
           4.914182186126709,
           4.066216468811035,
           3.3503284454345703,
           2.7720463275909424,
           2.332487106323242,
           2.01975417137146,
           1.8138824701309204,
           1.7019251585006714,
           1.6716704368591309,
           1.7193408012390137,
           1.837070345878601,
           2.015336036682129,
           2.246677875518799,
           2.52278995513916,
           2.8356730937957764,
           3.181061029434204,
           3.544059991836548,
           3.9328906536102295,
           4.347864627838135,
           4.791563987731934
          ],
          [
           11.351683616638184,
           10.044273376464844,
           8.830750465393066,
           7.710205078125,
           6.6953630447387695,
           5.805646896362305,
           5.036267280578613,
           4.3787407875061035,
           3.83251690864563,
           3.4028053283691406,
           3.0854437351226807,
           2.8624491691589355,
           2.717949867248535,
           2.6469509601593018,
           2.6457438468933105,
           2.714627742767334,
           2.845324754714966,
           3.0320990085601807,
           3.2679100036621094,
           3.544633388519287,
           3.858381748199463,
           4.193380355834961,
           4.551029682159424,
           4.93517541885376,
           5.349651336669922
          ],
          [
           12.027350425720215,
           10.782917022705078,
           9.635523796081543,
           8.598977088928223,
           7.689990997314453,
           6.904486179351807,
           6.224150657653809,
           5.628397464752197,
           5.1229023933410645,
           4.7117228507995605,
           4.388252258300781,
           4.144312858581543,
           3.964568853378296,
           3.8440794944763184,
           3.7851037979125977,
           3.7934865951538086,
           3.863999843597412,
           3.99428129196167,
           4.1751203536987305,
           4.402586936950684,
           4.669754981994629,
           4.966152191162109,
           5.284918785095215,
           5.631814002990723,
           6.010104179382324
          ],
          [
           12.833053588867188,
           11.665104866027832,
           10.605779647827148,
           9.679472923278809,
           8.890310287475586,
           8.210002899169922,
           7.616379261016846,
           7.0865278244018555,
           6.6207499504089355,
           6.222976207733154,
           5.888669013977051,
           5.615445613861084,
           5.396261215209961,
           5.22747802734375,
           5.111933708190918,
           5.056707382202148,
           5.061633110046387,
           5.12501335144043,
           5.241043567657471,
           5.407491207122803,
           5.617636203765869,
           5.864672660827637,
           6.13534688949585,
           6.436281204223633,
           6.767834663391113
          ],
          [
           13.782431602478027,
           12.714763641357422,
           11.778590202331543,
           10.97788143157959,
           10.295027732849121,
           9.703095436096191,
           9.183560371398926,
           8.715983390808105,
           8.286114692687988,
           7.892756462097168,
           7.542762756347656,
           7.236315727233887,
           6.97749137878418,
           6.763381481170654,
           6.594446182250977,
           6.476001262664795,
           6.412963390350342,
           6.40548038482666,
           6.45342493057251,
           6.553064346313477,
           6.699021816253662,
           6.885436058044434,
           7.09951639175415,
           7.344637393951416,
           7.622656345367432
          ],
          [
           14.906134605407715,
           13.967472076416016,
           13.166970252990723,
           12.480607032775879,
           11.883959770202637,
           11.359816551208496,
           10.892827033996582,
           10.465012550354004,
           10.060365676879883,
           9.674567222595215,
           9.314882278442383,
           8.98320198059082,
           8.683489799499512,
           8.421507835388184,
           8.198433876037598,
           8.018803596496582,
           7.889928340911865,
           7.8126349449157715,
           7.789665222167969,
           7.820259094238281,
           7.899712562561035,
           8.022066116333008,
           8.175189971923828,
           8.358973503112793,
           8.577327728271484
          ],
          [
           16.241432189941406,
           15.434948921203613,
           14.743457794189453,
           14.143892288208008,
           13.6141939163208,
           13.137800216674805,
           12.702436447143555,
           12.295405387878418,
           11.905319213867188,
           11.53055477142334,
           11.168025970458984,
           10.818782806396484,
           10.488812446594238,
           10.180232048034668,
           9.90202808380127,
           9.662678718566895,
           9.473260879516602,
           9.329194068908691,
           9.239530563354492,
           9.201351165771484,
           9.211050033569336,
           9.265024185180664,
           9.356868743896484,
           9.478209495544434,
           9.63469123840332
          ]
         ]
        }
       ],
       "layout": {
        "autosize": true,
        "margin": {
         "b": 65,
         "l": 65,
         "r": 50,
         "t": 90
        },
        "template": {
         "data": {
          "bar": [
           {
            "error_x": {
             "color": "#2a3f5f"
            },
            "error_y": {
             "color": "#2a3f5f"
            },
            "marker": {
             "line": {
              "color": "#E5ECF6",
              "width": 0.5
             }
            },
            "type": "bar"
           }
          ],
          "barpolar": [
           {
            "marker": {
             "line": {
              "color": "#E5ECF6",
              "width": 0.5
             }
            },
            "type": "barpolar"
           }
          ],
          "carpet": [
           {
            "aaxis": {
             "endlinecolor": "#2a3f5f",
             "gridcolor": "white",
             "linecolor": "white",
             "minorgridcolor": "white",
             "startlinecolor": "#2a3f5f"
            },
            "baxis": {
             "endlinecolor": "#2a3f5f",
             "gridcolor": "white",
             "linecolor": "white",
             "minorgridcolor": "white",
             "startlinecolor": "#2a3f5f"
            },
            "type": "carpet"
           }
          ],
          "choropleth": [
           {
            "colorbar": {
             "outlinewidth": 0,
             "ticks": ""
            },
            "type": "choropleth"
           }
          ],
          "contour": [
           {
            "colorbar": {
             "outlinewidth": 0,
             "ticks": ""
            },
            "colorscale": [
             [
              0,
              "#0d0887"
             ],
             [
              0.1111111111111111,
              "#46039f"
             ],
             [
              0.2222222222222222,
              "#7201a8"
             ],
             [
              0.3333333333333333,
              "#9c179e"
             ],
             [
              0.4444444444444444,
              "#bd3786"
             ],
             [
              0.5555555555555556,
              "#d8576b"
             ],
             [
              0.6666666666666666,
              "#ed7953"
             ],
             [
              0.7777777777777778,
              "#fb9f3a"
             ],
             [
              0.8888888888888888,
              "#fdca26"
             ],
             [
              1,
              "#f0f921"
             ]
            ],
            "type": "contour"
           }
          ],
          "contourcarpet": [
           {
            "colorbar": {
             "outlinewidth": 0,
             "ticks": ""
            },
            "type": "contourcarpet"
           }
          ],
          "heatmap": [
           {
            "colorbar": {
             "outlinewidth": 0,
             "ticks": ""
            },
            "colorscale": [
             [
              0,
              "#0d0887"
             ],
             [
              0.1111111111111111,
              "#46039f"
             ],
             [
              0.2222222222222222,
              "#7201a8"
             ],
             [
              0.3333333333333333,
              "#9c179e"
             ],
             [
              0.4444444444444444,
              "#bd3786"
             ],
             [
              0.5555555555555556,
              "#d8576b"
             ],
             [
              0.6666666666666666,
              "#ed7953"
             ],
             [
              0.7777777777777778,
              "#fb9f3a"
             ],
             [
              0.8888888888888888,
              "#fdca26"
             ],
             [
              1,
              "#f0f921"
             ]
            ],
            "type": "heatmap"
           }
          ],
          "heatmapgl": [
           {
            "colorbar": {
             "outlinewidth": 0,
             "ticks": ""
            },
            "colorscale": [
             [
              0,
              "#0d0887"
             ],
             [
              0.1111111111111111,
              "#46039f"
             ],
             [
              0.2222222222222222,
              "#7201a8"
             ],
             [
              0.3333333333333333,
              "#9c179e"
             ],
             [
              0.4444444444444444,
              "#bd3786"
             ],
             [
              0.5555555555555556,
              "#d8576b"
             ],
             [
              0.6666666666666666,
              "#ed7953"
             ],
             [
              0.7777777777777778,
              "#fb9f3a"
             ],
             [
              0.8888888888888888,
              "#fdca26"
             ],
             [
              1,
              "#f0f921"
             ]
            ],
            "type": "heatmapgl"
           }
          ],
          "histogram": [
           {
            "marker": {
             "colorbar": {
              "outlinewidth": 0,
              "ticks": ""
             }
            },
            "type": "histogram"
           }
          ],
          "histogram2d": [
           {
            "colorbar": {
             "outlinewidth": 0,
             "ticks": ""
            },
            "colorscale": [
             [
              0,
              "#0d0887"
             ],
             [
              0.1111111111111111,
              "#46039f"
             ],
             [
              0.2222222222222222,
              "#7201a8"
             ],
             [
              0.3333333333333333,
              "#9c179e"
             ],
             [
              0.4444444444444444,
              "#bd3786"
             ],
             [
              0.5555555555555556,
              "#d8576b"
             ],
             [
              0.6666666666666666,
              "#ed7953"
             ],
             [
              0.7777777777777778,
              "#fb9f3a"
             ],
             [
              0.8888888888888888,
              "#fdca26"
             ],
             [
              1,
              "#f0f921"
             ]
            ],
            "type": "histogram2d"
           }
          ],
          "histogram2dcontour": [
           {
            "colorbar": {
             "outlinewidth": 0,
             "ticks": ""
            },
            "colorscale": [
             [
              0,
              "#0d0887"
             ],
             [
              0.1111111111111111,
              "#46039f"
             ],
             [
              0.2222222222222222,
              "#7201a8"
             ],
             [
              0.3333333333333333,
              "#9c179e"
             ],
             [
              0.4444444444444444,
              "#bd3786"
             ],
             [
              0.5555555555555556,
              "#d8576b"
             ],
             [
              0.6666666666666666,
              "#ed7953"
             ],
             [
              0.7777777777777778,
              "#fb9f3a"
             ],
             [
              0.8888888888888888,
              "#fdca26"
             ],
             [
              1,
              "#f0f921"
             ]
            ],
            "type": "histogram2dcontour"
           }
          ],
          "mesh3d": [
           {
            "colorbar": {
             "outlinewidth": 0,
             "ticks": ""
            },
            "type": "mesh3d"
           }
          ],
          "parcoords": [
           {
            "line": {
             "colorbar": {
              "outlinewidth": 0,
              "ticks": ""
             }
            },
            "type": "parcoords"
           }
          ],
          "pie": [
           {
            "automargin": true,
            "type": "pie"
           }
          ],
          "scatter": [
           {
            "marker": {
             "colorbar": {
              "outlinewidth": 0,
              "ticks": ""
             }
            },
            "type": "scatter"
           }
          ],
          "scatter3d": [
           {
            "line": {
             "colorbar": {
              "outlinewidth": 0,
              "ticks": ""
             }
            },
            "marker": {
             "colorbar": {
              "outlinewidth": 0,
              "ticks": ""
             }
            },
            "type": "scatter3d"
           }
          ],
          "scattercarpet": [
           {
            "marker": {
             "colorbar": {
              "outlinewidth": 0,
              "ticks": ""
             }
            },
            "type": "scattercarpet"
           }
          ],
          "scattergeo": [
           {
            "marker": {
             "colorbar": {
              "outlinewidth": 0,
              "ticks": ""
             }
            },
            "type": "scattergeo"
           }
          ],
          "scattergl": [
           {
            "marker": {
             "colorbar": {
              "outlinewidth": 0,
              "ticks": ""
             }
            },
            "type": "scattergl"
           }
          ],
          "scattermapbox": [
           {
            "marker": {
             "colorbar": {
              "outlinewidth": 0,
              "ticks": ""
             }
            },
            "type": "scattermapbox"
           }
          ],
          "scatterpolar": [
           {
            "marker": {
             "colorbar": {
              "outlinewidth": 0,
              "ticks": ""
             }
            },
            "type": "scatterpolar"
           }
          ],
          "scatterpolargl": [
           {
            "marker": {
             "colorbar": {
              "outlinewidth": 0,
              "ticks": ""
             }
            },
            "type": "scatterpolargl"
           }
          ],
          "scatterternary": [
           {
            "marker": {
             "colorbar": {
              "outlinewidth": 0,
              "ticks": ""
             }
            },
            "type": "scatterternary"
           }
          ],
          "surface": [
           {
            "colorbar": {
             "outlinewidth": 0,
             "ticks": ""
            },
            "colorscale": [
             [
              0,
              "#0d0887"
             ],
             [
              0.1111111111111111,
              "#46039f"
             ],
             [
              0.2222222222222222,
              "#7201a8"
             ],
             [
              0.3333333333333333,
              "#9c179e"
             ],
             [
              0.4444444444444444,
              "#bd3786"
             ],
             [
              0.5555555555555556,
              "#d8576b"
             ],
             [
              0.6666666666666666,
              "#ed7953"
             ],
             [
              0.7777777777777778,
              "#fb9f3a"
             ],
             [
              0.8888888888888888,
              "#fdca26"
             ],
             [
              1,
              "#f0f921"
             ]
            ],
            "type": "surface"
           }
          ],
          "table": [
           {
            "cells": {
             "fill": {
              "color": "#EBF0F8"
             },
             "line": {
              "color": "white"
             }
            },
            "header": {
             "fill": {
              "color": "#C8D4E3"
             },
             "line": {
              "color": "white"
             }
            },
            "type": "table"
           }
          ]
         },
         "layout": {
          "annotationdefaults": {
           "arrowcolor": "#2a3f5f",
           "arrowhead": 0,
           "arrowwidth": 1
          },
          "autotypenumbers": "strict",
          "coloraxis": {
           "colorbar": {
            "outlinewidth": 0,
            "ticks": ""
           }
          },
          "colorscale": {
           "diverging": [
            [
             0,
             "#8e0152"
            ],
            [
             0.1,
             "#c51b7d"
            ],
            [
             0.2,
             "#de77ae"
            ],
            [
             0.3,
             "#f1b6da"
            ],
            [
             0.4,
             "#fde0ef"
            ],
            [
             0.5,
             "#f7f7f7"
            ],
            [
             0.6,
             "#e6f5d0"
            ],
            [
             0.7,
             "#b8e186"
            ],
            [
             0.8,
             "#7fbc41"
            ],
            [
             0.9,
             "#4d9221"
            ],
            [
             1,
             "#276419"
            ]
           ],
           "sequential": [
            [
             0,
             "#0d0887"
            ],
            [
             0.1111111111111111,
             "#46039f"
            ],
            [
             0.2222222222222222,
             "#7201a8"
            ],
            [
             0.3333333333333333,
             "#9c179e"
            ],
            [
             0.4444444444444444,
             "#bd3786"
            ],
            [
             0.5555555555555556,
             "#d8576b"
            ],
            [
             0.6666666666666666,
             "#ed7953"
            ],
            [
             0.7777777777777778,
             "#fb9f3a"
            ],
            [
             0.8888888888888888,
             "#fdca26"
            ],
            [
             1,
             "#f0f921"
            ]
           ],
           "sequentialminus": [
            [
             0,
             "#0d0887"
            ],
            [
             0.1111111111111111,
             "#46039f"
            ],
            [
             0.2222222222222222,
             "#7201a8"
            ],
            [
             0.3333333333333333,
             "#9c179e"
            ],
            [
             0.4444444444444444,
             "#bd3786"
            ],
            [
             0.5555555555555556,
             "#d8576b"
            ],
            [
             0.6666666666666666,
             "#ed7953"
            ],
            [
             0.7777777777777778,
             "#fb9f3a"
            ],
            [
             0.8888888888888888,
             "#fdca26"
            ],
            [
             1,
             "#f0f921"
            ]
           ]
          },
          "colorway": [
           "#636efa",
           "#EF553B",
           "#00cc96",
           "#ab63fa",
           "#FFA15A",
           "#19d3f3",
           "#FF6692",
           "#B6E880",
           "#FF97FF",
           "#FECB52"
          ],
          "font": {
           "color": "#2a3f5f"
          },
          "geo": {
           "bgcolor": "white",
           "lakecolor": "white",
           "landcolor": "#E5ECF6",
           "showlakes": true,
           "showland": true,
           "subunitcolor": "white"
          },
          "hoverlabel": {
           "align": "left"
          },
          "hovermode": "closest",
          "mapbox": {
           "style": "light"
          },
          "paper_bgcolor": "white",
          "plot_bgcolor": "#E5ECF6",
          "polar": {
           "angularaxis": {
            "gridcolor": "white",
            "linecolor": "white",
            "ticks": ""
           },
           "bgcolor": "#E5ECF6",
           "radialaxis": {
            "gridcolor": "white",
            "linecolor": "white",
            "ticks": ""
           }
          },
          "scene": {
           "xaxis": {
            "backgroundcolor": "#E5ECF6",
            "gridcolor": "white",
            "gridwidth": 2,
            "linecolor": "white",
            "showbackground": true,
            "ticks": "",
            "zerolinecolor": "white"
           },
           "yaxis": {
            "backgroundcolor": "#E5ECF6",
            "gridcolor": "white",
            "gridwidth": 2,
            "linecolor": "white",
            "showbackground": true,
            "ticks": "",
            "zerolinecolor": "white"
           },
           "zaxis": {
            "backgroundcolor": "#E5ECF6",
            "gridcolor": "white",
            "gridwidth": 2,
            "linecolor": "white",
            "showbackground": true,
            "ticks": "",
            "zerolinecolor": "white"
           }
          },
          "shapedefaults": {
           "line": {
            "color": "#2a3f5f"
           }
          },
          "ternary": {
           "aaxis": {
            "gridcolor": "white",
            "linecolor": "white",
            "ticks": ""
           },
           "baxis": {
            "gridcolor": "white",
            "linecolor": "white",
            "ticks": ""
           },
           "bgcolor": "#E5ECF6",
           "caxis": {
            "gridcolor": "white",
            "linecolor": "white",
            "ticks": ""
           }
          },
          "title": {
           "x": 0.05
          },
          "xaxis": {
           "automargin": true,
           "gridcolor": "white",
           "linecolor": "white",
           "ticks": "",
           "title": {
            "standoff": 15
           },
           "zerolinecolor": "white",
           "zerolinewidth": 2
          },
          "yaxis": {
           "automargin": true,
           "gridcolor": "white",
           "linecolor": "white",
           "ticks": "",
           "title": {
            "standoff": 15
           },
           "zerolinecolor": "white",
           "zerolinewidth": 2
          }
         }
        },
        "title": {
         "text": "Loss landscape for MNIST"
        },
        "xaxis": {
         "title": {
          "text": "Perturbation in first eigenvector direction"
         }
        },
        "yaxis": {
         "title": {
          "text": "Perturbation in second eigenvector direction"
         }
        }
       }
      },
      "text/html": [
       "<div>                            <div id=\"95c459db-7fa5-4632-ad30-871be6951e2a\" class=\"plotly-graph-div\" style=\"height:525px; width:100%;\"></div>            <script type=\"text/javascript\">                require([\"plotly\"], function(Plotly) {                    window.PLOTLYENV=window.PLOTLYENV || {};                                    if (document.getElementById(\"95c459db-7fa5-4632-ad30-871be6951e2a\")) {                    Plotly.newPlot(                        \"95c459db-7fa5-4632-ad30-871be6951e2a\",                        [{\"colorscale\": [[0.0, \"rgb(255,255,229)\"], [0.125, \"rgb(247,252,185)\"], [0.25, \"rgb(217,240,163)\"], [0.375, \"rgb(173,221,142)\"], [0.5, \"rgb(120,198,121)\"], [0.625, \"rgb(65,171,93)\"], [0.75, \"rgb(35,132,67)\"], [0.875, \"rgb(0,104,55)\"], [1.0, \"rgb(0,69,41)\"]], \"name\": \"Adam\", \"opacity\": 0.7, \"showlegend\": true, \"showscale\": false, \"type\": \"surface\", \"x\": [-0.5, -0.4583333432674408, -0.4166666567325592, -0.375, -0.3333333432674408, -0.2916666567325592, -0.25, -0.2083333283662796, -0.1666666716337204, -0.125, -0.0833333358168602, -0.0416666679084301, 0.0, 0.0416666679084301, 0.0833333358168602, 0.125, 0.1666666716337204, 0.2083333283662796, 0.25, 0.2916666567325592, 0.3333333432674408, 0.375, 0.4166666567325592, 0.4583333432674408, 0.5], \"y\": [-0.5, -0.4583333432674408, -0.4166666567325592, -0.375, -0.3333333432674408, -0.2916666567325592, -0.25, -0.2083333283662796, -0.1666666716337204, -0.125, -0.0833333358168602, -0.0416666679084301, 0.0, 0.0416666679084301, 0.0833333358168602, 0.125, 0.1666666716337204, 0.2083333283662796, 0.25, 0.2916666567325592, 0.3333333432674408, 0.375, 0.4166666567325592, 0.4583333432674408, 0.5], \"z\": [[16.654054641723633, 16.166044235229492, 15.677933692932129, 15.189695358276367, 14.701231002807617, 14.211465835571289, 13.719786643981934, 13.225728988647461, 12.7301607131958, 12.233348846435547, 11.736644744873047, 11.241645812988281, 10.74935531616211, 10.260607719421387, 9.778642654418945, 9.306479454040527, 8.847786903381348, 8.40429401397705, 7.978526592254639, 7.575675964355469, 7.2016119956970215, 6.860731601715088, 6.564940929412842, 6.322070121765137, 6.147832870483398], [15.030603408813477, 14.531556129455566, 14.03615665435791, 13.542949676513672, 13.05074691772461, 12.55805778503418, 12.065437316894531, 11.572022438049316, 11.078639030456543, 10.587873458862305, 10.100128173828125, 9.615836143493652, 9.13772964477539, 8.667747497558594, 8.209360122680664, 7.7645487785339355, 7.336013317108154, 6.92713737487793, 6.541428089141846, 6.186767101287842, 5.873099327087402, 5.607846736907959, 5.4022698402404785, 5.271052360534668, 5.228096008300781], [13.41331672668457, 12.898662567138672, 12.395694732666016, 11.899811744689941, 11.40815258026123, 10.918363571166992, 10.428653717041016, 9.941131591796875, 9.457741737365723, 8.979559898376465, 8.506734848022461, 8.042587280273438, 7.587133407592773, 7.143725395202637, 6.7139201164245605, 6.302016735076904, 5.909817695617676, 5.544415473937988, 5.216019630432129, 4.93325662612915, 4.7043023109436035, 4.541105270385742, 4.4564361572265625, 4.4590935707092285, 4.552862644195557], [11.862005233764648, 11.308849334716797, 10.786993026733398, 10.284750938415527, 9.792485237121582, 9.305780410766602, 8.825345039367676, 8.351705551147461, 7.884802341461182, 7.42556095123291, 6.975662708282471, 6.5365309715271, 6.109654426574707, 5.697600841522217, 5.301890850067139, 4.930667877197266, 4.5925493240356445, 4.295613765716553, 4.04933500289917, 3.864454746246338, 3.75075626373291, 3.7153491973876953, 3.7617528438568115, 3.88547420501709, 4.0834503173828125], [10.476953506469727, 9.84248161315918, 9.264248847961426, 8.729571342468262, 8.225826263427734, 7.743765354156494, 7.275150299072266, 6.818850517272949, 6.373989105224609, 5.940098762512207, 5.517877578735352, 5.107712268829346, 4.713250637054443, 4.34059476852417, 3.997407913208008, 3.6914658546447754, 3.4329833984375, 3.232916831970215, 3.0997564792633057, 3.038562536239624, 3.049628257751465, 3.1286165714263916, 3.271073341369629, 3.4820196628570557, 3.7763493061065674], [9.357359886169434, 8.6160306930542, 7.941654205322266, 7.331081390380859, 6.778456211090088, 6.272855281829834, 5.804333686828613, 5.362810134887695, 4.940237998962402, 4.532398223876953, 4.141289234161377, 3.7710683345794678, 3.4278223514556885, 3.1195454597473145, 2.8545963764190674, 2.6426076889038086, 2.494091749191284, 2.4131832122802734, 2.4005463123321533, 2.449636459350586, 2.5504324436187744, 2.7048757076263428, 2.9276063442230225, 3.241896867752075, 3.6673038005828857], [8.532307624816895, 7.687110900878906, 6.916590213775635, 6.212454795837402, 5.573486804962158, 4.998348236083984, 4.485920429229736, 4.027039527893066, 3.6126935482025146, 3.2344419956207275, 2.889488697052002, 2.579559326171875, 2.3108725547790527, 2.091874361038208, 1.930078387260437, 1.8318562507629395, 1.7993072271347046, 1.8268585205078125, 1.9031939506530762, 2.020689010620117, 2.187612295150757, 2.4254794120788574, 2.760845184326172, 3.2101340293884277, 3.7834017276763916], [8.021242141723633, 7.058051109313965, 6.192780494689941, 5.407385349273682, 4.688199043273926, 4.030361652374268, 3.4401190280914307, 2.9237349033355713, 2.4857242107391357, 2.1229472160339355, 1.8259168863296509, 1.5876431465148926, 1.4088492393493652, 1.2916522026062012, 1.237610101699829, 1.2456539869308472, 1.3036887645721436, 1.400665283203125, 1.5344676971435547, 1.7181670665740967, 1.9762275218963623, 2.331878423690796, 2.80081844329834, 3.4023845195770264, 4.16264009475708], [7.850992679595947, 6.7378411293029785, 5.752077102661133, 4.874527931213379, 4.083609104156494, 3.3631234169006348, 2.713153600692749, 2.1427669525146484, 1.6663957834243774, 1.2933608293533325, 1.0195552110671997, 0.8360337615013123, 0.734574556350708, 0.7074070572853088, 0.7411103844642639, 0.8201757073402405, 0.9342052340507507, 1.0870014429092407, 1.2932319641113281, 1.5749437808990479, 1.950876235961914, 2.4406986236572266, 3.074554204940796, 3.8857390880584717, 4.892083168029785], [8.032061576843262, 6.758547782897949, 5.615817070007324, 4.6092329025268555, 3.7222750186920166, 2.9351117610931396, 2.237118721008301, 1.6335715055465698, 1.1384427547454834, 0.7684797048568726, 0.5216668248176575, 0.37819766998291016, 0.31895431876182556, 0.32591480016708374, 0.3900648057460785, 0.5074251294136047, 0.6782995462417603, 0.9101856350898743, 1.2173696756362915, 1.6156142950057983, 2.1322574615478516, 2.806201934814453, 3.6731040477752686, 4.735436916351318, 5.957840442657471], [8.466254234313965, 7.085502624511719, 5.808737277984619, 4.653489589691162, 3.633244514465332, 2.74393367767334, 1.977327823638916, 1.3350911140441895, 0.8305172324180603, 0.4797011911869049, 0.2694559693336487, 0.1657552272081375, 0.12855619192123413, 0.13389571011066437, 0.19002529978752136, 0.32967671751976013, 0.5697402358055115, 0.8995489478111267, 1.3245834112167358, 1.877146601676941, 2.5998682975769043, 3.5223472118377686, 4.630349636077881, 5.8836493492126465, 7.248110294342041], [9.05051040649414, 7.600500583648682, 6.23635196685791, 4.972415447235107, 3.8253889083862305, 2.814486265182495, 1.950263500213623, 1.2425987720489502, 0.7109552025794983, 0.3653700053691864, 0.17328274250030518, 0.08770202845335007, 0.06022149696946144, 0.06645802408456802, 0.12480238825082779, 0.29954618215560913, 0.6235858798027039, 1.0763317346572876, 1.6754766702651978, 2.4555559158325195, 3.4300460815429688, 4.571505546569824, 5.844541549682617, 7.2186174392700195, 8.672577857971191], [9.747736930847168, 8.244261741638184, 6.8150787353515625, 5.477889060974121, 4.245455741882324, 3.1339385509490967, 2.167541265487671, 1.3712655305862427, 0.7754980325698853, 0.3918249011039734, 0.18060916662216187, 0.08653882145881653, 0.05734125152230263, 0.07038402557373047, 0.159718319773674, 0.41391679644584656, 0.8755943775177002, 1.5270241498947144, 2.3665804862976074, 3.3833751678466797, 4.548182964324951, 5.831242084503174, 7.206615447998047, 8.655872344970703, 10.168403625488281], [10.564932823181152, 9.011363983154297, 7.5265278816223145, 6.128278732299805, 4.832178592681885, 3.653712749481201, 2.6115684509277344, 1.7291921377182007, 1.0425612926483154, 0.5741111636161804, 0.298941969871521, 0.16571038961410522, 0.12323387712240219, 0.15773847699165344, 0.3278171420097351, 0.7482832074165344, 1.4351195096969604, 2.322662591934204, 3.369974374771118, 4.549637317657471, 5.834085464477539, 7.203648567199707, 8.642788887023926, 10.140087127685547, 11.689860343933105], [11.538397789001465, 9.940123558044434, 8.404815673828125, 6.946794509887695, 5.586409091949463, 4.341144561767578, 3.231344699859619, 2.2774105072021484, 1.5033354759216309, 0.9378756284713745, 0.5752707719802856, 0.3798676133155823, 0.32115066051483154, 0.4193762540817261, 0.757004976272583, 1.4124212265014648, 2.318005323410034, 3.3824965953826904, 4.566000461578369, 5.845190525054932, 7.202103137969971, 8.623848915100098, 10.103031158447266, 11.63529109954834, 13.216202735900879], [12.643037796020508, 11.028475761413574, 9.460715293884277, 7.958176136016846, 6.538573265075684, 5.22256326675415, 4.036959171295166, 3.0021822452545166, 2.143909454345703, 1.4892539978027344, 1.0459882020950317, 0.8049854636192322, 0.7726587057113647, 0.9885658621788025, 1.5143206119537354, 2.36159086227417, 3.417126417160034, 4.591865539550781, 5.855981349945068, 7.193382740020752, 8.594175338745117, 10.051054000854492, 11.562623977661133, 13.125726699829102, 14.73499870300293], [13.816158294677734, 12.2041654586792, 10.629281997680664, 9.106701850891113, 7.653914451599121, 6.284789562225342, 5.0291314125061035, 3.916987895965576, 2.974240303039551, 2.2360196113586426, 1.7308207750320435, 1.4801967144012451, 1.506377935409546, 1.8331859111785889, 2.498335361480713, 3.4728825092315674, 4.620664596557617, 5.8616437911987305, 7.174453258514404, 8.550508499145508, 9.983423233032227, 11.47164535522461, 13.014443397521973, 14.60788631439209, 16.24571990966797], [15.024310111999512, 13.426627159118652, 11.858635902404785, 10.33164119720459, 8.856331825256348, 7.448594570159912, 6.136566638946533, 4.960941314697266, 3.952035427093506, 3.1477794647216797, 2.5989203453063965, 2.344627618789673, 2.4114460945129395, 2.8224120140075684, 3.593170166015625, 4.654760837554932, 5.860907077789307, 7.145379066467285, 8.49434757232666, 9.90164852142334, 11.36573314666748, 12.886163711547852, 14.460789680480957, 16.08563995361328, 17.755569458007812], [16.269451141357422, 14.688687324523926, 13.128852844238281, 11.598833084106445, 10.108036041259766, 8.671793937683105, 7.313751697540283, 6.077574253082275, 5.00626802444458, 4.144968032836914, 3.559554100036621, 3.300895929336548, 3.4034225940704346, 3.884932518005371, 4.739230632781982, 5.864629745483398, 7.11179256439209, 8.429827690124512, 9.808629035949707, 11.245768547058105, 12.742400169372559, 14.29638957977295, 15.906306266784668, 17.566604614257812, 19.273746490478516], [17.542558670043945, 15.974172592163086, 14.423821449279785, 12.895251274108887, 11.393707275390625, 9.933014869689941, 8.537873268127441, 7.2490553855896, 6.118137836456299, 5.197210311889648, 4.5706562995910645, 4.308413982391357, 4.443631172180176, 4.988105773925781, 5.910889148712158, 7.083351135253906, 8.363027572631836, 9.710623741149902, 11.119583129882812, 12.589652061462402, 14.121221542358398, 15.712733268737793, 17.361427307128906, 19.061132431030273, 20.80891227722168], [18.83824348449707, 17.28288459777832, 15.74089241027832, 14.210299491882324, 12.698984146118164, 11.222007751464844, 9.797259330749512, 8.462217330932617, 7.271978855133057, 6.2894463539123535, 5.618142604827881, 5.347656726837158, 5.5144853591918945, 6.112845420837402, 7.09220027923584, 8.304828643798828, 9.614748001098633, 10.990954399108887, 12.432146072387695, 13.938247680664062, 15.50918197631836, 17.143512725830078, 18.83542823791504, 20.579458236694336, 22.37234115600586], [20.15325355529785, 18.60832405090332, 17.069320678710938, 15.538431167602539, 14.022521018981934, 12.530385971069336, 11.078286170959473, 9.69983959197998, 8.453660011291504, 7.4105987548828125, 6.689563751220703, 6.408029556274414, 6.6037397384643555, 7.249150276184082, 8.280494689941406, 9.52745246887207, 10.865388870239258, 12.273734092712402, 13.751336097717285, 15.298541069030762, 16.91568946838379, 18.59678077697754, 20.33541488647461, 22.127147674560547, 23.968944549560547], [21.487024307250977, 19.946624755859375, 18.411632537841797, 16.8801212310791, 15.357072830200195, 13.848617553710938, 12.370689392089844, 10.953181266784668, 9.656545639038086, 8.559504508972168, 7.7875165939331055, 7.487052917480469, 7.704144477844238, 8.392438888549805, 9.470266342163086, 10.749218940734863, 12.11868667602539, 13.56343936920166, 15.083391189575195, 16.678592681884766, 18.345125198364258, 20.07638168334961, 21.865373611450195, 23.707895278930664, 25.600772857666016], [22.842979431152344, 21.304784774780273, 19.768226623535156, 18.232234954833984, 16.69794273376465, 15.174762725830078, 13.67509651184082, 12.226202964782715, 10.88725471496582, 9.737537384033203, 8.910296440124512, 8.580592155456543, 8.810949325561523, 9.537820816040039, 10.658098220825195, 11.971388816833496, 13.377720832824707, 14.866109848022461, 16.43513298034668, 18.082813262939453, 19.80257797241211, 21.58740234375, 23.429147720336914, 25.32362937927246, 27.269432067871094], [24.22528648376465, 22.683706283569336, 21.140748977661133, 19.597997665405273, 18.056711196899414, 16.52265739440918, 15.006715774536133, 13.531152725219727, 12.150151252746582, 10.946688652038574, 10.05716323852539, 9.68576717376709, 9.919661521911621, 10.682090759277344, 11.846427917480469, 13.198694229125977, 14.649139404296875, 16.18727684020996, 17.81078338623047, 19.515216827392578, 21.291255950927734, 23.13045883178711, 25.026611328125, 26.975135803222656, 28.975677490234375]]}, {\"colorscale\": [[0.0, \"#440154\"], [0.1111111111111111, \"#482878\"], [0.2222222222222222, \"#3e4989\"], [0.3333333333333333, \"#31688e\"], [0.4444444444444444, \"#26828e\"], [0.5555555555555556, \"#1f9e89\"], [0.6666666666666666, \"#35b779\"], [0.7777777777777778, \"#6ece58\"], [0.8888888888888888, \"#b5de2b\"], [1.0, \"#fde725\"]], \"name\": \"LBFGS\", \"opacity\": 0.7, \"showlegend\": true, \"showscale\": false, \"type\": \"surface\", \"x\": [-0.5, -0.4583333432674408, -0.4166666567325592, -0.375, -0.3333333432674408, -0.2916666567325592, -0.25, -0.2083333283662796, -0.1666666716337204, -0.125, -0.0833333358168602, -0.0416666679084301, 0.0, 0.0416666679084301, 0.0833333358168602, 0.125, 0.1666666716337204, 0.2083333283662796, 0.25, 0.2916666567325592, 0.3333333432674408, 0.375, 0.4166666567325592, 0.4583333432674408, 0.5], \"y\": [-0.5, -0.4583333432674408, -0.4166666567325592, -0.375, -0.3333333432674408, -0.2916666567325592, -0.25, -0.2083333283662796, -0.1666666716337204, -0.125, -0.0833333358168602, -0.0416666679084301, 0.0, 0.0416666679084301, 0.0833333358168602, 0.125, 0.1666666716337204, 0.2083333283662796, 0.25, 0.2916666567325592, 0.3333333432674408, 0.375, 0.4166666567325592, 0.4583333432674408, 0.5], \"z\": [[88.82553100585938, 83.02591705322266, 77.25789642333984, 71.52308654785156, 66.05441284179688, 61.879268646240234, 60.427940368652344, 61.17428207397461, 62.26460266113281, 63.35967254638672, 64.44153594970703, 65.5192642211914, 66.60568237304688, 67.69681549072266, 68.77656555175781, 69.82781982421875, 70.82549285888672, 71.74473571777344, 72.62249755859375, 73.53764343261719, 74.50566864013672, 75.49337005615234, 76.55172729492188, 77.82674407958984, 79.4468765258789], [86.60250854492188, 80.81621551513672, 75.06167602539062, 69.3316879272461, 63.674800872802734, 58.63252258300781, 55.539588928222656, 55.378814697265625, 56.37959671020508, 57.4647216796875, 58.5335807800293, 59.587398529052734, 60.63785934448242, 61.69657897949219, 62.74995040893555, 63.78235626220703, 64.77562713623047, 65.69988250732422, 66.56852722167969, 67.47434997558594, 68.4906234741211, 69.64757537841797, 71.03760528564453, 72.77571105957031, 74.91641998291016], [84.43579864501953, 78.662109375, 72.91996765136719, 67.20066833496094, 61.50556564331055, 56.007877349853516, 51.64586639404297, 49.87559127807617, 50.49406433105469, 51.52822494506836, 52.56510543823242, 53.576087951660156, 54.57135772705078, 55.56928253173828, 56.569488525390625, 57.56410598754883, 58.54475402832031, 59.50011444091797, 60.426246643066406, 61.44671630859375, 62.71138000488281, 64.25912475585938, 66.12175750732422, 68.36756134033203, 70.9974365234375], [82.28826141357422, 76.52717590332031, 70.79647827148438, 65.08723449707031, 59.39365768432617, 53.741783142089844, 48.58006286621094, 45.17673110961914, 44.66064453125, 45.521480560302734, 46.49711227416992, 47.44693374633789, 48.37826156616211, 49.316749572753906, 50.281341552734375, 51.26829147338867, 52.271366119384766, 53.30618667602539, 54.42436981201172, 55.77727508544922, 57.48699951171875, 59.52849197387695, 61.904178619384766, 64.59184265136719, 67.55638122558594], [80.14705657958984, 74.39614868164062, 68.67356872558594, 62.97068786621094, 57.278656005859375, 51.59201431274414, 46.03189468383789, 41.44398880004883, 39.15545654296875, 39.41557312011719, 40.28502655029297, 41.193641662597656, 42.099273681640625, 43.01605224609375, 43.969642639160156, 44.97117233276367, 46.04542922973633, 47.2780876159668, 48.80533981323242, 50.66098403930664, 52.90009689331055, 55.48015594482422, 58.27082824707031, 61.28593826293945, 64.55229187011719], [78.00527954101562, 72.2597885131836, 66.54034423828125, 60.837345123291016, 55.14091873168945, 49.44135284423828, 43.75688934326172, 38.42770004272461, 34.59299850463867, 33.394107818603516, 34.0186653137207, 34.89823532104492, 35.798866271972656, 36.7130241394043, 37.672943115234375, 38.730892181396484, 39.99696350097656, 41.6402587890625, 43.70618438720703, 46.151573181152344, 48.96133804321289, 51.96099853515625, 55.0853385925293, 58.39936447143555, 61.884178161621094], [75.85057830810547, 70.10589599609375, 64.38449096679688, 58.67689514160156, 52.972721099853516, 47.264503479003906, 41.55314636230469, 35.904762268066406, 31.033266067504883, 28.062355041503906, 27.81193733215332, 28.59844207763672, 29.497615814208984, 30.426788330078125, 31.436317443847656, 32.66663360595703, 34.324378967285156, 36.51041030883789, 39.18789291381836, 42.24156188964844, 45.511627197265625, 48.87113952636719, 52.29083251953125, 55.791404724121094, 59.330360412597656], [73.67557525634766, 67.93087005615234, 62.20904541015625, 56.50066375732422, 50.79399490356445, 45.084442138671875, 39.3686637878418, 33.647830963134766, 28.14971160888672, 23.89512825012207, 21.939414978027344, 22.331613540649414, 23.205913543701172, 24.18364906311035, 25.35407829284668, 26.949827194213867, 29.13149070739746, 31.95684051513672, 35.25717544555664, 38.78874969482422, 42.46583938598633, 46.13173294067383, 49.716190338134766, 53.250797271728516, 56.771820068359375], [71.49093627929688, 65.75434875488281, 60.03954315185547, 54.33497619628906, 48.62897872924805, 42.91948699951172, 37.20044708251953, 31.463417053222656, 25.74842643737793, 20.59026527404785, 17.041399002075195, 16.191713333129883, 16.94808006286621, 18.060094833374023, 19.585309982299805, 21.696958541870117, 24.50644874572754, 27.976057052612305, 31.772022247314453, 35.70952606201172, 39.705753326416016, 43.53913879394531, 47.16612243652344, 50.69331359863281, 54.19291687011719], [69.32431030273438, 63.601070404052734, 57.89261245727539, 52.18781280517578, 46.47827911376953, 40.76259231567383, 35.031612396240234, 29.28094482421875, 23.51692771911621, 17.86209487915039, 13.202631950378418, 10.574904441833496, 10.833734512329102, 12.226106643676758, 14.26572322845459, 17.00677490234375, 20.476287841796875, 24.446514129638672, 28.63979721069336, 32.871299743652344, 37.01519775390625, 40.931671142578125, 44.58782958984375, 48.11528396606445, 51.602413177490234], [67.18354034423828, 61.46759796142578, 55.75703811645508, 50.0412712097168, 44.32080078125, 38.59046173095703, 32.84144973754883, 27.06581687927246, 21.268081665039062, 15.46204662322998, 10.006837844848633, 6.095536708831787, 5.2442474365234375, 6.853618144989014, 9.502257347106934, 12.931320190429688, 16.92974090576172, 21.275421142578125, 25.71107292175293, 30.07179832458496, 34.28505325317383, 38.27193832397461, 41.983036041259766, 45.52549362182617, 49.00935363769531], [65.05314636230469, 59.33027267456055, 53.608463287353516, 47.877349853515625, 42.13816452026367, 36.382503509521484, 30.596599578857422, 24.783327102661133, 18.946901321411133, 13.086766242980957, 7.297233581542969, 2.7571051120758057, 1.2769008874893188, 2.5749571323394775, 5.536779880523682, 9.404427528381348, 13.760791778564453, 18.300569534301758, 22.809553146362305, 27.23003387451172, 31.513404846191406, 35.56866455078125, 39.35152816772461, 42.92501449584961, 46.4141731262207], [62.9255485534668, 57.179439544677734, 51.43245315551758, 45.6730842590332, 39.89915466308594, 34.10020065307617, 28.27159309387207, 22.41791343688965, 16.537134170532227, 10.652098655700684, 5.07680082321167, 1.1901216506958008, 0.18560105562210083, 0.972980797290802, 3.228945255279541, 6.707672595977783, 10.928933143615723, 15.40042781829834, 19.895252227783203, 24.353748321533203, 28.703475952148438, 32.827423095703125, 36.67991256713867, 40.310787200927734, 43.83063888549805], [60.78841781616211, 54.99954605102539, 49.2027702331543, 43.39733123779297, 37.5771598815918, 31.72981071472168, 25.854707717895508, 19.970972061157227, 14.155649185180664, 8.622345924377441, 4.092333793640137, 1.6186614036560059, 1.0584481954574585, 1.5315561294555664, 2.7722535133361816, 5.129645347595215, 8.55488395690918, 12.658246994018555, 17.030000686645508, 21.467199325561523, 25.857357025146484, 30.055965423583984, 33.9939079284668, 37.747501373291016, 41.394859313964844], [58.603492736816406, 52.76069641113281, 46.908267974853516, 41.04293441772461, 35.161930084228516, 29.272768020629883, 23.451492309570312, 17.85919189453125, 12.74872875213623, 8.666284561157227, 6.020132541656494, 4.525384902954102, 3.7001876831054688, 3.4448392391204834, 3.8056843280792236, 4.952694416046143, 7.22443962097168, 10.447074890136719, 14.370450973510742, 18.66293716430664, 23.051738739013672, 27.35923194885254, 31.459537506103516, 35.37714767456055, 39.14178466796875], [56.33203125, 50.44200897216797, 44.531124114990234, 38.6110954284668, 32.754920959472656, 27.12883758544922, 21.965768814086914, 17.691701889038086, 14.631213188171387, 12.420242309570312, 10.528829574584961, 8.854398727416992, 7.503316879272461, 6.576176166534424, 6.142451286315918, 6.310308456420898, 7.283522605895996, 9.380781173706055, 12.422060012817383, 16.235240936279297, 20.526487350463867, 24.891347885131836, 29.07832145690918, 33.059757232666016, 36.89662170410156], [53.94610595703125, 48.01591491699219, 42.123661041259766, 36.44061279296875, 31.2072811126709, 26.852136611938477, 23.706510543823242, 21.408916473388672, 19.36940574645996, 17.38235092163086, 15.4514799118042, 13.62366008758545, 11.976400375366211, 10.601926803588867, 9.597108840942383, 9.049248695373535, 9.055471420288086, 9.789785385131836, 11.711122512817383, 14.635152816772461, 18.375795364379883, 22.55270004272461, 26.722278594970703, 30.740703582763672, 34.64081573486328], [51.489009857177734, 45.73662185668945, 40.41015625, 35.94976043701172, 32.77683639526367, 30.488338470458984, 28.433238983154297, 26.40633773803711, 24.394878387451172, 22.407676696777344, 20.458280563354492, 18.56776237487793, 16.778654098510742, 15.15675163269043, 13.786795616149902, 12.756335258483887, 12.09846019744873, 11.874262809753418, 12.332230567932129, 14.05160140991211, 16.894874572753906, 20.515487670898438, 24.478351593017578, 28.469432830810547, 32.39278030395508], [49.5451545715332, 44.836395263671875, 41.48536682128906, 39.275455474853516, 37.36651611328125, 35.435333251953125, 33.44881820678711, 31.4392147064209, 29.43294334411621, 27.44974136352539, 25.501394271850586, 23.60098648071289, 21.761798858642578, 20.00942611694336, 18.39056968688965, 16.97405433654785, 15.81851577758789, 14.988069534301758, 14.612808227539062, 14.913637161254883, 16.479530334472656, 19.20644760131836, 22.60270118713379, 26.33574676513672, 30.191940307617188], [50.01803970336914, 47.694740295410156, 45.86478042602539, 44.05773162841797, 42.217491149902344, 40.33646011352539, 38.41530990600586, 36.45412063598633, 34.4763069152832, 32.518070220947266, 30.594316482543945, 28.69747543334961, 26.812471389770508, 24.94507598876953, 23.140697479248047, 21.470523834228516, 19.983789443969727, 18.745363235473633, 17.846071243286133, 17.407855987548828, 17.66506576538086, 19.038841247558594, 21.51376724243164, 24.63487434387207, 28.16101837158203], [54.115516662597656, 52.4035530090332, 50.64250183105469, 48.84783172607422, 47.02639389038086, 45.177886962890625, 43.306758880615234, 41.4217529296875, 39.51902389526367, 37.59127426147461, 35.64975357055664, 33.70268630981445, 31.7625675201416, 29.841732025146484, 27.958364486694336, 26.141357421875, 24.420705795288086, 22.870607376098633, 21.58097267150879, 20.644575119018555, 20.252273559570312, 20.543033599853516, 21.66115951538086, 23.786617279052734, 26.64161491394043], [58.73708724975586, 57.0894775390625, 55.375083923339844, 53.60002517700195, 51.79854965209961, 49.98501968383789, 48.155147552490234, 46.29348373413086, 44.405372619628906, 42.48499298095703, 40.534095764160156, 38.5694465637207, 36.6076774597168, 34.65678405761719, 32.72651290893555, 30.822952270507812, 28.94449234008789, 27.16419219970703, 25.569385528564453, 24.25229835510254, 23.400434494018555, 23.14598274230957, 23.423166275024414, 24.281248092651367, 26.046430587768555], [63.260215759277344, 61.641990661621094, 59.98679733276367, 58.28383255004883, 56.51646041870117, 54.694847106933594, 52.83232116699219, 50.93944549560547, 49.03926086425781, 47.13676452636719, 45.22236633300781, 43.27557373046875, 41.30205535888672, 39.32198715209961, 37.35147476196289, 35.38801193237305, 33.412349700927734, 31.472007751464844, 29.647165298461914, 28.028736114501953, 26.809667587280273, 26.160646438598633, 26.001150131225586, 26.2235050201416, 26.892154693603516], [67.68539428710938, 66.09546661376953, 64.45502471923828, 62.75891876220703, 60.99238586425781, 59.158905029296875, 57.27667999267578, 55.3746337890625, 53.47006607055664, 51.56760787963867, 49.660282135009766, 47.735774993896484, 45.77321243286133, 43.77733612060547, 41.77267837524414, 39.759246826171875, 37.723533630371094, 35.698238372802734, 33.72795867919922, 31.892986297607422, 30.385385513305664, 29.404111862182617, 28.911867141723633, 28.7624568939209, 28.929834365844727], [71.9831771850586, 70.3511962890625, 68.66201782226562, 66.92668151855469, 65.15296936035156, 63.344520568847656, 61.49009323120117, 59.59312438964844, 57.677555084228516, 55.762413024902344, 53.84963607788086, 51.92881774902344, 49.9872932434082, 48.01545333862305, 46.01057815551758, 43.971317291259766, 41.90494918823242, 39.842079162597656, 37.805763244628906, 35.84027099609375, 34.11838912963867, 32.86492156982422, 32.0824089050293, 31.627798080444336, 31.464954376220703]]}, {\"colorscale\": [[0.0, \"rgb(247,251,255)\"], [0.125, \"rgb(222,235,247)\"], [0.25, \"rgb(198,219,239)\"], [0.375, \"rgb(158,202,225)\"], [0.5, \"rgb(107,174,214)\"], [0.625, \"rgb(66,146,198)\"], [0.75, \"rgb(33,113,181)\"], [0.875, \"rgb(8,81,156)\"], [1.0, \"rgb(8,48,107)\"]], \"name\": \"AdaHessian\", \"opacity\": 0.7, \"showlegend\": true, \"showscale\": false, \"type\": \"surface\", \"x\": [-0.5, -0.4583333432674408, -0.4166666567325592, -0.375, -0.3333333432674408, -0.2916666567325592, -0.25, -0.2083333283662796, -0.1666666716337204, -0.125, -0.0833333358168602, -0.0416666679084301, 0.0, 0.0416666679084301, 0.0833333358168602, 0.125, 0.1666666716337204, 0.2083333283662796, 0.25, 0.2916666567325592, 0.3333333432674408, 0.375, 0.4166666567325592, 0.4583333432674408, 0.5], \"y\": [-0.5, -0.4583333432674408, -0.4166666567325592, -0.375, -0.3333333432674408, -0.2916666567325592, -0.25, -0.2083333283662796, -0.1666666716337204, -0.125, -0.0833333358168602, -0.0416666679084301, 0.0, 0.0416666679084301, 0.0833333358168602, 0.125, 0.1666666716337204, 0.2083333283662796, 0.25, 0.2916666567325592, 0.3333333432674408, 0.375, 0.4166666567325592, 0.4583333432674408, 0.5], \"z\": [[12.687089920043945, 11.834796905517578, 11.009695053100586, 10.210397720336914, 9.444161415100098, 8.742036819458008, 8.170622825622559, 7.765750408172607, 7.547229290008545, 7.621612071990967, 8.155953407287598, 9.165456771850586, 10.467604637145996, 11.883373260498047, 13.316177368164062, 14.724682807922363, 16.1103572845459, 17.482534408569336, 18.85007667541504, 20.223796844482422, 21.608551025390625, 23.004098892211914, 24.412555694580078, 25.83412742614746, 27.269739151000977], [11.849165916442871, 10.982612609863281, 10.146312713623047, 9.33997631072998, 8.568017959594727, 7.857011318206787, 7.267965316772461, 6.836241722106934, 6.5634074211120605, 6.508368015289307, 6.815796852111816, 7.582256317138672, 8.71414852142334, 10.029120445251465, 11.409333229064941, 12.792193412780762, 14.159056663513184, 15.513919830322266, 16.864017486572266, 18.21994400024414, 19.58717155456543, 20.967416763305664, 22.360872268676758, 23.768922805786133, 25.194190979003906], [11.035093307495117, 10.152061462402344, 9.301901817321777, 8.48470401763916, 7.703895568847656, 6.98410177230835, 6.38110876083374, 5.929781436920166, 5.620553493499756, 5.474599838256836, 5.592962265014648, 6.10385274887085, 7.016115188598633, 8.188786506652832, 9.483113288879395, 10.822639465332031, 12.167043685913086, 13.506071090698242, 14.844112396240234, 16.18674659729004, 17.539535522460938, 18.906484603881836, 20.289348602294922, 21.68730926513672, 23.101242065429688], [10.241842269897461, 9.34029769897461, 8.473830223083496, 7.644157886505127, 6.855436325073242, 6.129063129425049, 5.514617443084717, 5.049067974090576, 4.714979648590088, 4.509525299072266, 4.490443229675293, 4.767112731933594, 5.427881717681885, 6.41449499130249, 7.587127208709717, 8.85278034210205, 10.158903121948242, 11.477412223815918, 12.800283432006836, 14.130634307861328, 15.471149444580078, 16.82768440246582, 18.19972801208496, 19.58791732788086, 20.9947452545166], [9.459585189819336, 8.541132926940918, 7.662104606628418, 6.823853015899658, 6.029528617858887, 5.298868179321289, 4.675805568695068, 4.197854042053223, 3.8457956314086914, 3.6035354137420654, 3.4909799098968506, 3.5876376628875732, 3.9992401599884033, 4.76137113571167, 5.775754451751709, 6.9345502853393555, 8.172154426574707, 9.451531410217285, 10.7521390914917, 12.06682300567627, 13.394072532653809, 14.73816967010498, 16.100473403930664, 17.479597091674805, 18.879270553588867], [8.691650390625, 7.7609944343566895, 6.873194217681885, 6.028871059417725, 5.232512474060059, 4.500423431396484, 3.8712759017944336, 3.3822367191314697, 3.0160372257232666, 2.7499287128448486, 2.5828874111175537, 2.5584189891815186, 2.766301155090332, 3.2921626567840576, 4.115929126739502, 5.129957675933838, 6.261974811553955, 7.469395160675049, 8.72577953338623, 10.013172149658203, 11.323990821838379, 12.653650283813477, 14.003446578979492, 15.373772621154785, 16.764074325561523], [7.937404632568359, 7.001101493835449, 6.111144065856934, 5.267076015472412, 4.473170757293701, 3.743422031402588, 3.1103506088256836, 2.6133086681365967, 2.2403066158294678, 1.9631016254425049, 1.774330735206604, 1.6852680444717407, 1.7574130296707153, 2.0755629539489746, 2.6852195262908936, 3.5268523693084717, 4.5131516456604, 5.605737209320068, 6.781020164489746, 8.0120210647583, 9.285974502563477, 10.59277057647705, 11.927570343017578, 13.28304672241211, 14.662099838256836], [7.201835632324219, 6.268831253051758, 5.384815216064453, 4.55210018157959, 3.770728349685669, 3.052032947540283, 2.4257314205169678, 1.928944706916809, 1.5601835250854492, 1.286422848701477, 1.0965795516967773, 0.9900562167167664, 0.9895513653755188, 1.1576999425888062, 1.557489037513733, 2.202080726623535, 3.022576093673706, 3.9655039310455322, 5.012263298034668, 6.148143768310547, 7.350773334503174, 8.60763168334961, 9.907087326049805, 11.241877555847168, 12.604637145996094], [6.501948356628418, 5.585991859436035, 4.722884178161621, 3.914858818054199, 3.1591734886169434, 2.4635586738586426, 1.8523786067962646, 1.3640385866165161, 1.0082459449768066, 0.7547311186790466, 0.5821007490158081, 0.48402321338653564, 0.46117615699768066, 0.5405142903327942, 0.7789721488952637, 1.2199270725250244, 1.8594748973846436, 2.6409060955047607, 3.5329134464263916, 4.533286094665527, 5.629917621612549, 6.802690505981445, 8.037008285522461, 9.324972152709961, 10.659765243530273], [5.865877151489258, 4.981302738189697, 4.153731822967529, 3.381422281265259, 2.660935878753662, 1.9977264404296875, 1.4133894443511963, 0.945350706577301, 0.6131443977355957, 0.39818325638771057, 0.2661909759044647, 0.19471944868564606, 0.17340120673179626, 0.2092193216085434, 0.33916833996772766, 0.6189126372337341, 1.0777722597122192, 1.6981534957885742, 2.440627098083496, 3.289771318435669, 4.247920513153076, 5.308142185211182, 6.45245361328125, 7.667078971862793, 8.943782806396484], [5.321493625640869, 4.478017807006836, 3.6947860717773438, 2.966981887817383, 2.293606758117676, 1.675308346748352, 1.1277189254760742, 0.6912026405334473, 0.3913244903087616, 0.21695992350578308, 0.12389644980430603, 0.07743404805660248, 0.06132914125919342, 0.07474638521671295, 0.13894067704677582, 0.3043909966945648, 0.6176625490188599, 1.094064712524414, 1.7105610370635986, 2.4368698596954346, 3.2707877159118652, 4.209654331207275, 5.249309539794922, 6.379335403442383, 7.5872015953063965], [4.8938069343566895, 4.100780010223389, 3.367769479751587, 2.692059278488159, 2.0691800117492676, 1.4988175630569458, 0.9961597919464111, 0.5947421789169312, 0.3189927339553833, 0.15821002423763275, 0.0784459337592125, 0.04178792983293533, 0.028939630836248398, 0.033462975174188614, 0.06541871279478073, 0.15750747919082642, 0.36529117822647095, 0.7208091020584106, 1.2302155494689941, 1.8669952154159546, 2.6133241653442383, 3.4664947986602783, 4.423442840576172, 5.478036403656006, 6.621389389038086], [4.6010026931762695, 3.861971616744995, 3.176192045211792, 2.5446081161499023, 1.967406988143921, 1.4468388557434082, 0.9890660047531128, 0.6115921139717102, 0.3399858772754669, 0.16852419078350067, 0.07987930625677109, 0.04087287560105324, 0.028093326836824417, 0.0311310775578022, 0.05133166164159775, 0.10760543495416641, 0.24575366079807281, 0.5159199237823486, 0.9418501853942871, 1.520856499671936, 2.2258265018463135, 3.0344114303588867, 3.9404568672180176, 4.939929008483887, 6.030218124389648], [4.4300079345703125, 3.736903667449951, 3.092284679412842, 2.5008461475372314, 1.9669818878173828, 1.4918423891067505, 1.069732427597046, 0.7038634419441223, 0.4193790555000305, 0.22769159078598022, 0.11725454032421112, 0.06799741089344025, 0.05198368802666664, 0.0556534044444561, 0.07712501287460327, 0.12995441257953644, 0.24654832482337952, 0.4798795282840729, 0.8666236996650696, 1.4186855554580688, 2.112588882446289, 2.9117515087127686, 3.7990469932556152, 4.7729010581970215, 5.8307576179504395], [4.359313488006592, 3.710055112838745, 3.108635425567627, 2.561413049697876, 2.070812225341797, 1.6304044723510742, 1.2311428785324097, 0.8716696500778198, 0.5712292194366455, 0.3539929687976837, 0.21453392505645752, 0.14378558099269867, 0.12187238037586212, 0.13232223689556122, 0.1744745373725891, 0.2577441930770874, 0.40442609786987305, 0.6492103338241577, 1.0313680171966553, 1.5687994956970215, 2.2503931522369385, 3.05126690864563, 3.9464111328125, 4.921785831451416, 5.975066661834717], [4.387031555175781, 3.787734031677246, 3.238546133041382, 2.7405900955200195, 2.289717435836792, 1.8776724338531494, 1.497812032699585, 1.1467559337615967, 0.8356239199638367, 0.5907287001609802, 0.4230552911758423, 0.327818363904953, 0.3005772829055786, 0.32739371061325073, 0.4067733883857727, 0.5407979488372803, 0.7400725483894348, 1.0263750553131104, 1.4242842197418213, 1.957694172859192, 2.632636785507202, 3.433187484741211, 4.341935634613037, 5.337143421173096, 6.406155586242676], [4.513526916503906, 3.969881057739258, 3.47510027885437, 3.023710012435913, 2.609607219696045, 2.2252016067504883, 1.866199016571045, 1.5319308042526245, 1.2270721197128296, 0.9714000225067139, 0.7875320911407471, 0.6811843514442444, 0.6515294909477234, 0.6952260732650757, 0.8076885342597961, 0.9903765320777893, 1.2486615180969238, 1.5906058549880981, 2.0286080837249756, 2.5814762115478516, 3.262005567550659, 4.068643569946289, 4.990359306335449, 6.004992961883545, 7.09349250793457], [4.74050760269165, 4.248007774353027, 3.7996997833251953, 3.3878262042999268, 3.0069077014923096, 2.6514029502868652, 2.3177413940429688, 2.0068488121032715, 1.7248908281326294, 1.4875062704086304, 1.313843011856079, 1.217408537864685, 1.2009459733963013, 1.2646441459655762, 1.4086663722991943, 1.6387370824813843, 1.9529646635055542, 2.35123348236084, 2.8409485816955566, 3.4305179119110107, 4.130463600158691, 4.9522857666015625, 5.887475490570068, 6.917567253112793, 8.024263381958008], [5.066649436950684, 4.618621349334717, 4.208151817321777, 3.8299949169158936, 3.4793219566345215, 3.1525888442993164, 2.8482751846313477, 2.5704469680786133, 2.328483819961548, 2.1349844932556152, 2.002976417541504, 1.9432461261749268, 1.9599933624267578, 2.058673858642578, 2.2465405464172363, 2.5229873657226562, 2.888313055038452, 3.3405916690826416, 3.880664348602295, 4.510479927062988, 5.241529941558838, 6.08323335647583, 7.032908916473389, 8.078044891357422, 9.199261665344238], [5.491690635681152, 5.082508087158203, 4.707809925079346, 4.36346960067749, 4.044761657714844, 3.749871015548706, 3.481628656387329, 3.248006820678711, 3.0579707622528076, 2.923494815826416, 2.853743553161621, 2.854024648666382, 2.9278805255889893, 3.0842127799987793, 3.325434923171997, 3.650545120239258, 4.060915946960449, 4.557844161987305, 5.141047477722168, 5.8103203773498535, 6.576801300048828, 7.447576522827148, 8.421137809753418, 9.484428405761719, 10.621909141540527], [6.022985458374023, 5.6532416343688965, 5.315896987915039, 5.006528854370117, 4.722873210906982, 4.467034339904785, 4.244802951812744, 4.064589500427246, 3.9375898838043213, 3.871847629547119, 3.8722352981567383, 3.9412529468536377, 4.0827202796936035, 4.301947116851807, 4.602269649505615, 4.982085704803467, 5.439933776855469, 5.977186679840088, 6.5978264808654785, 7.307678699493408, 8.114323616027832, 9.023659706115723, 10.02729320526123, 11.114317893981934, 12.272923469543457], [6.681605815887451, 6.353457927703857, 6.054223537445068, 5.782223224639893, 5.538419723510742, 5.327458381652832, 5.156843662261963, 5.036935806274414, 4.974953651428223, 4.97524881362915, 5.041621208190918, 5.176838397979736, 5.382791519165039, 5.663393497467041, 6.021592140197754, 6.457647800445557, 6.965884685516357, 7.545731067657471, 8.205968856811523, 8.958494186401367, 9.809782981872559, 10.757838249206543, 11.795957565307617, 12.910096168518066, 14.091842651367188], [7.4806013107299805, 7.189730167388916, 6.926507472991943, 6.691715240478516, 6.489956855773926, 6.327282905578613, 6.212112903594971, 6.151158809661865, 6.148873329162598, 6.2106475830078125, 6.338184833526611, 6.5319976806640625, 6.795680999755859, 7.133426189422607, 7.5469279289245605, 8.032958030700684, 8.588563919067383, 9.216255187988281, 9.924637794494629, 10.725386619567871, 11.621115684509277, 12.606904029846191, 13.676850318908691, 14.820199012756348, 16.027666091918945], [8.404187202453613, 8.148223876953125, 7.919280529022217, 7.72203254699707, 7.563189506530762, 7.449868679046631, 7.387394428253174, 7.380222320556641, 7.435085773468018, 7.553239345550537, 7.734999656677246, 7.983132839202881, 8.300400733947754, 8.689467430114746, 9.152180671691895, 9.684231758117676, 10.287422180175781, 10.96828842163086, 11.73377799987793, 12.586533546447754, 13.52907943725586, 14.553772926330566, 15.652748107910156, 16.822240829467773, 18.052963256835938], [9.429645538330078, 9.203704833984375, 9.010320663452148, 8.854353904724121, 8.74173641204834, 8.676623344421387, 8.663351058959961, 8.709012985229492, 8.815905570983887, 8.983271598815918, 9.214255332946777, 9.511957168579102, 9.879082679748535, 10.317682266235352, 10.827714920043945, 11.40928840637207, 12.065939903259277, 12.805170059204102, 13.629120826721191, 14.536459922790527, 15.524341583251953, 16.585506439208984, 17.715482711791992, 18.9074649810791, 20.158008575439453]]}, {\"colorscale\": [[0.0, \"#0508b8\"], [0.08333333333333333, \"#1910d8\"], [0.16666666666666666, \"#3c19f0\"], [0.25, \"#6b1cfb\"], [0.3333333333333333, \"#981cfd\"], [0.4166666666666667, \"#bf1cfd\"], [0.5, \"#dd2bfd\"], [0.5833333333333334, \"#f246fe\"], [0.6666666666666666, \"#fc67fd\"], [0.75, \"#fe88fc\"], [0.8333333333333334, \"#fea5fd\"], [0.9166666666666666, \"#febefe\"], [1.0, \"#fec3fe\"]], \"name\": \"Apollo\", \"opacity\": 0.7, \"showlegend\": true, \"showscale\": false, \"type\": \"surface\", \"x\": [-0.5, -0.4583333432674408, -0.4166666567325592, -0.375, -0.3333333432674408, -0.2916666567325592, -0.25, -0.2083333283662796, -0.1666666716337204, -0.125, -0.0833333358168602, -0.0416666679084301, 0.0, 0.0416666679084301, 0.0833333358168602, 0.125, 0.1666666716337204, 0.2083333283662796, 0.25, 0.2916666567325592, 0.3333333432674408, 0.375, 0.4166666567325592, 0.4583333432674408, 0.5], \"y\": [-0.5, -0.4583333432674408, -0.4166666567325592, -0.375, -0.3333333432674408, -0.2916666567325592, -0.25, -0.2083333283662796, -0.1666666716337204, -0.125, -0.0833333358168602, -0.0416666679084301, 0.0, 0.0416666679084301, 0.0833333358168602, 0.125, 0.1666666716337204, 0.2083333283662796, 0.25, 0.2916666567325592, 0.3333333432674408, 0.375, 0.4166666567325592, 0.4583333432674408, 0.5], \"z\": [[9.221842765808105, 7.920156955718994, 6.795369625091553, 5.862069606781006, 5.100958347320557, 4.479701519012451, 3.974851131439209, 3.563300848007202, 3.228294610977173, 2.9594321250915527, 2.752262592315674, 2.6116538047790527, 2.5432164669036865, 2.5574724674224854, 2.676565408706665, 2.9005842208862305, 3.2175896167755127, 3.608386754989624, 4.053659439086914, 4.531193256378174, 5.030160427093506, 5.551087379455566, 6.089919090270996, 6.639385223388672, 7.197639465332031], [9.18558120727539, 7.827536106109619, 6.628988265991211, 5.623499870300293, 4.806978702545166, 4.146828651428223, 3.6140763759613037, 3.178112030029297, 2.827615976333618, 2.5442094802856445, 2.3259310722351074, 2.1728763580322266, 2.0932247638702393, 2.095521926879883, 2.1957883834838867, 2.3984758853912354, 2.692214012145996, 3.063565254211426, 3.4916436672210693, 3.957413911819458, 4.447761058807373, 4.961696624755859, 5.494486331939697, 6.040470123291016, 6.596527576446533], [9.160269737243652, 7.754861831665039, 6.487886905670166, 5.404930591583252, 4.5243449211120605, 3.8204598426818848, 3.257279396057129, 2.79923415184021, 2.4318337440490723, 2.1393868923187256, 1.9130933284759521, 1.7573779821395874, 1.6731195449829102, 1.6687743663787842, 1.753505825996399, 1.9355055093765259, 2.2058658599853516, 2.5547924041748047, 2.9644906520843506, 3.416882276535034, 3.898395538330078, 4.404806613922119, 4.931979179382324, 5.475111961364746, 6.028488636016846], [9.141973495483398, 7.6982598304748535, 6.37097692489624, 5.210541248321533, 4.257282733917236, 3.500784397125244, 2.903869152069092, 2.425748586654663, 2.044232130050659, 1.7464699745178223, 1.5213640928268433, 1.36995267868042, 1.2907599210739136, 1.2846688032150269, 1.3573542833328247, 1.5202635526657104, 1.767054796218872, 2.0910212993621826, 2.4811322689056396, 2.9185967445373535, 3.388758659362793, 3.887986660003662, 4.410315036773682, 4.948968887329102, 5.501077651977539], [9.125703811645508, 7.653563499450684, 6.276686191558838, 5.0439605712890625, 4.0114054679870605, 3.1939005851745605, 2.5592703819274902, 2.0622589588165283, 1.6720168590545654, 1.3752254247665405, 1.1607495546340942, 1.021276593208313, 0.9515838027000427, 0.9481756091117859, 1.0134217739105225, 1.1570721864700317, 1.3797032833099365, 1.6787285804748535, 2.0479736328125, 2.469789981842041, 2.9277448654174805, 3.4184415340423584, 3.934189558029175, 4.4683308601379395, 5.017040252685547], [9.108991622924805, 7.616031169891357, 6.199337005615234, 4.904354095458984, 3.7934930324554443, 2.907945156097412, 2.2301907539367676, 1.7147895097732544, 1.3243638277053833, 1.039281964302063, 0.8435734510421753, 0.7226165533065796, 0.665298342704773, 0.6660424470901489, 0.7262679934501648, 0.8531849384307861, 1.0528846979141235, 1.3280645608901978, 1.6738340854644775, 2.0772154331207275, 2.5198678970336914, 2.9978504180908203, 3.5050747394561768, 4.0333991050720215, 4.5783891677856445], [9.089776039123535, 7.582178592681885, 6.137058734893799, 4.792556285858154, 3.6112377643585205, 2.6552224159240723, 1.9292685985565186, 1.398111343383789, 1.0154118537902832, 0.7532984614372253, 0.5829461812973022, 0.48401907086372375, 0.4408998191356659, 0.4461618959903717, 0.4999330937862396, 0.611629068851471, 0.7887575626373291, 1.0387436151504517, 1.3594175577163696, 1.7417277097702026, 2.167747735977173, 2.630774974822998, 3.1266462802886963, 3.6480331420898438, 4.186111927032471], [9.073356628417969, 7.556074619293213, 6.090809345245361, 4.707906723022461, 3.470487356185913, 2.44649600982666, 1.6715985536575317, 1.1273113489151, 0.7615674734115601, 0.5294280648231506, 0.3883518576622009, 0.3105780780315399, 0.280375212430954, 0.28756117820739746, 0.3338269591331482, 0.4302944839000702, 0.5853362679481506, 0.8087185621261597, 1.102864384651184, 1.4630627632141113, 1.8721879720687866, 2.320464611053467, 2.8036279678344727, 3.3150746822357178, 3.8470473289489746], [9.060772895812988, 7.539619445800781, 6.062948226928711, 4.656350612640381, 3.375030279159546, 2.2922723293304443, 1.4706324338912964, 0.9144788384437561, 0.569891095161438, 0.36818280816078186, 0.2546379268169403, 0.19638323783874512, 0.1753084659576416, 0.1836959272623062, 0.22254128754138947, 0.3026634454727173, 0.4363660514354706, 0.6358799934387207, 0.9050827026367188, 1.242802619934082, 1.6366825103759766, 2.0711939334869385, 2.5430991649627686, 3.0465259552001953, 3.572955846786499], [9.058753967285156, 7.539536952972412, 6.058592319488525, 4.639688968658447, 3.3317010402679443, 2.2066969871520996, 1.3445950746536255, 0.7724745273590088, 0.4415479004383087, 0.2624739408493042, 0.17016997933387756, 0.1261306256055832, 0.11100262403488159, 0.11809635907411575, 0.15025849640369415, 0.21755863726139069, 0.3346421718597412, 0.5162131786346436, 0.7684595584869385, 1.0883965492248535, 1.4684096574783325, 1.8923077583312988, 2.3529787063598633, 2.8486039638519287, 3.3677101135253906], [9.069930076599121, 7.557070255279541, 6.080295085906982, 4.662815093994141, 3.345493793487549, 2.19771409034729, 1.3015190362930298, 0.7059513330459595, 0.37000927329063416, 0.20080947875976562, 0.12022310495376587, 0.08406107872724533, 0.07199686765670776, 0.07761194556951523, 0.10487893223762512, 0.16376487910747528, 0.270476758480072, 0.4433506429195404, 0.6885374784469604, 0.9981995820999146, 1.3679827451705933, 1.7829961776733398, 2.2350893020629883, 2.7219159603118896, 3.234680652618408], [9.102746963500977, 7.599052429199219, 6.132640361785889, 4.728446006774902, 3.4182674884796143, 2.2633447647094727, 1.3449056148529053, 0.7150341868400574, 0.3531262278556824, 0.1761818677186966, 0.09595751762390137, 0.061608023941516876, 0.05056232959032059, 0.05579203739762306, 0.08112828433513641, 0.13627839088439941, 0.23968122899532318, 0.41225507855415344, 0.658536970615387, 0.9670858383178711, 1.3324264287948608, 1.7419471740722656, 2.1898598670959473, 2.6708667278289795, 3.179750919342041], [9.171318054199219, 7.672450065612793, 6.22404670715332, 4.841460704803467, 3.5528042316436768, 2.405191421508789, 1.4712811708450317, 0.7985664010047913, 0.3926052153110504, 0.18700401484966278, 0.09425099939107895, 0.055678896605968475, 0.044555358588695526, 0.05072164162993431, 0.07729934900999069, 0.13522428274154663, 0.24517251551151276, 0.4252464473247528, 0.6785919666290283, 0.9946125149726868, 1.3616220951080322, 1.7712231874465942, 2.2176215648651123, 2.696000576019287, 3.2020182609558105], [9.28531265258789, 7.789852619171143, 6.359150409698486, 5.005314826965332, 3.74996280670166, 2.621151924133301, 1.6723837852478027, 0.9598459601402283, 0.4947066307067871, 0.23984350264072418, 0.11966101825237274, 0.0707433670759201, 0.05735037475824356, 0.06595485657453537, 0.09919452667236328, 0.16860049962997437, 0.29506465792655945, 0.49138036370277405, 0.7592793703079224, 1.0857713222503662, 1.4584156274795532, 1.8694157600402832, 2.315610647201538, 2.7922141551971436, 3.294882297515869], [9.449756622314453, 7.964230060577393, 6.5514116287231445, 5.227882385253906, 4.004976749420166, 2.895768642425537, 1.940613031387329, 1.194808840751648, 0.6723120808601379, 0.355379194021225, 0.19132453203201294, 0.1211223229765892, 0.10186337679624557, 0.11664952337741852, 0.16376005113124847, 0.25340962409973145, 0.40524137020111084, 0.6244847774505615, 0.9095943570137024, 1.2472952604293823, 1.6242364645004272, 2.0368428230285645, 2.4805638790130615, 2.952552556991577, 3.451089859008789], [9.672130584716797, 8.203441619873047, 6.8169145584106445, 5.521972179412842, 4.325801372528076, 3.237332344055176, 2.285306453704834, 1.5133026838302612, 0.945187509059906, 0.5670267343521118, 0.34912243485450745, 0.2445281744003296, 0.21402545273303986, 0.23586826026439667, 0.30226758122444153, 0.4203590452671051, 0.6002905964851379, 0.8422120213508606, 1.142063021659851, 1.4870555400848389, 1.865281581878662, 2.2764415740966797, 2.714060068130493, 3.179647922515869, 3.6719672679901123], [9.962793350219727, 8.52060317993164, 7.169313430786133, 5.902778625488281, 4.730663299560547, 3.66623592376709, 2.7307333946228027, 1.9496017694473267, 1.3514137268066406, 0.9314658045768738, 0.6632694602012634, 0.517951488494873, 0.465985506772995, 0.48682743310928345, 0.5678637623786926, 0.7097882628440857, 0.9119783043861389, 1.1695761680603027, 1.4750454425811768, 1.8206733465194702, 2.1953189373016357, 2.5968258380889893, 3.025956153869629, 3.4803895950317383, 3.963270902633667], [10.334944725036621, 8.924230575561523, 7.611364364624023, 6.38370943069458, 5.243251323699951, 4.214012622833252, 3.3099000453948975, 2.548754930496216, 1.9491417407989502, 1.510368824005127, 1.2120126485824585, 1.029610276222229, 0.9479600787162781, 0.9502364993095398, 1.0265063047409058, 1.1706883907318115, 1.3750487565994263, 1.6313005685806274, 1.9297584295272827, 2.264955997467041, 2.630063056945801, 3.0148448944091797, 3.4276633262634277, 3.8659403324127197, 4.332770824432373], [10.795927047729492, 9.431273460388184, 8.162749290466309, 6.97955846786499, 5.89017915725708, 4.914182186126709, 4.066216468811035, 3.3503284454345703, 2.7720463275909424, 2.332487106323242, 2.01975417137146, 1.8138824701309204, 1.7019251585006714, 1.6716704368591309, 1.7193408012390137, 1.837070345878601, 2.015336036682129, 2.246677875518799, 2.52278995513916, 2.8356730937957764, 3.181061029434204, 3.544059991836548, 3.9328906536102295, 4.347864627838135, 4.791563987731934], [11.351683616638184, 10.044273376464844, 8.830750465393066, 7.710205078125, 6.6953630447387695, 5.805646896362305, 5.036267280578613, 4.3787407875061035, 3.83251690864563, 3.4028053283691406, 3.0854437351226807, 2.8624491691589355, 2.717949867248535, 2.6469509601593018, 2.6457438468933105, 2.714627742767334, 2.845324754714966, 3.0320990085601807, 3.2679100036621094, 3.544633388519287, 3.858381748199463, 4.193380355834961, 4.551029682159424, 4.93517541885376, 5.349651336669922], [12.027350425720215, 10.782917022705078, 9.635523796081543, 8.598977088928223, 7.689990997314453, 6.904486179351807, 6.224150657653809, 5.628397464752197, 5.1229023933410645, 4.7117228507995605, 4.388252258300781, 4.144312858581543, 3.964568853378296, 3.8440794944763184, 3.7851037979125977, 3.7934865951538086, 3.863999843597412, 3.99428129196167, 4.1751203536987305, 4.402586936950684, 4.669754981994629, 4.966152191162109, 5.284918785095215, 5.631814002990723, 6.010104179382324], [12.833053588867188, 11.665104866027832, 10.605779647827148, 9.679472923278809, 8.890310287475586, 8.210002899169922, 7.616379261016846, 7.0865278244018555, 6.6207499504089355, 6.222976207733154, 5.888669013977051, 5.615445613861084, 5.396261215209961, 5.22747802734375, 5.111933708190918, 5.056707382202148, 5.061633110046387, 5.12501335144043, 5.241043567657471, 5.407491207122803, 5.617636203765869, 5.864672660827637, 6.13534688949585, 6.436281204223633, 6.767834663391113], [13.782431602478027, 12.714763641357422, 11.778590202331543, 10.97788143157959, 10.295027732849121, 9.703095436096191, 9.183560371398926, 8.715983390808105, 8.286114692687988, 7.892756462097168, 7.542762756347656, 7.236315727233887, 6.97749137878418, 6.763381481170654, 6.594446182250977, 6.476001262664795, 6.412963390350342, 6.40548038482666, 6.45342493057251, 6.553064346313477, 6.699021816253662, 6.885436058044434, 7.09951639175415, 7.344637393951416, 7.622656345367432], [14.906134605407715, 13.967472076416016, 13.166970252990723, 12.480607032775879, 11.883959770202637, 11.359816551208496, 10.892827033996582, 10.465012550354004, 10.060365676879883, 9.674567222595215, 9.314882278442383, 8.98320198059082, 8.683489799499512, 8.421507835388184, 8.198433876037598, 8.018803596496582, 7.889928340911865, 7.8126349449157715, 7.789665222167969, 7.820259094238281, 7.899712562561035, 8.022066116333008, 8.175189971923828, 8.358973503112793, 8.577327728271484], [16.241432189941406, 15.434948921203613, 14.743457794189453, 14.143892288208008, 13.6141939163208, 13.137800216674805, 12.702436447143555, 12.295405387878418, 11.905319213867188, 11.53055477142334, 11.168025970458984, 10.818782806396484, 10.488812446594238, 10.180232048034668, 9.90202808380127, 9.662678718566895, 9.473260879516602, 9.329194068908691, 9.239530563354492, 9.201351165771484, 9.211050033569336, 9.265024185180664, 9.356868743896484, 9.478209495544434, 9.63469123840332]]}],                        {\"autosize\": true, \"margin\": {\"b\": 65, \"l\": 65, \"r\": 50, \"t\": 90}, \"template\": {\"data\": {\"bar\": [{\"error_x\": {\"color\": \"#2a3f5f\"}, \"error_y\": {\"color\": \"#2a3f5f\"}, \"marker\": {\"line\": {\"color\": \"#E5ECF6\", \"width\": 0.5}}, \"type\": \"bar\"}], \"barpolar\": [{\"marker\": {\"line\": {\"color\": \"#E5ECF6\", \"width\": 0.5}}, \"type\": \"barpolar\"}], \"carpet\": [{\"aaxis\": {\"endlinecolor\": \"#2a3f5f\", \"gridcolor\": \"white\", \"linecolor\": \"white\", \"minorgridcolor\": \"white\", \"startlinecolor\": \"#2a3f5f\"}, \"baxis\": {\"endlinecolor\": \"#2a3f5f\", \"gridcolor\": \"white\", \"linecolor\": \"white\", \"minorgridcolor\": \"white\", \"startlinecolor\": \"#2a3f5f\"}, \"type\": \"carpet\"}], \"choropleth\": [{\"colorbar\": {\"outlinewidth\": 0, \"ticks\": \"\"}, \"type\": \"choropleth\"}], \"contour\": [{\"colorbar\": {\"outlinewidth\": 0, \"ticks\": \"\"}, \"colorscale\": [[0.0, \"#0d0887\"], [0.1111111111111111, \"#46039f\"], [0.2222222222222222, \"#7201a8\"], [0.3333333333333333, \"#9c179e\"], [0.4444444444444444, \"#bd3786\"], [0.5555555555555556, \"#d8576b\"], [0.6666666666666666, \"#ed7953\"], [0.7777777777777778, \"#fb9f3a\"], [0.8888888888888888, \"#fdca26\"], [1.0, \"#f0f921\"]], \"type\": \"contour\"}], \"contourcarpet\": [{\"colorbar\": {\"outlinewidth\": 0, \"ticks\": \"\"}, \"type\": \"contourcarpet\"}], \"heatmap\": [{\"colorbar\": {\"outlinewidth\": 0, \"ticks\": \"\"}, \"colorscale\": [[0.0, \"#0d0887\"], [0.1111111111111111, \"#46039f\"], [0.2222222222222222, \"#7201a8\"], [0.3333333333333333, \"#9c179e\"], [0.4444444444444444, \"#bd3786\"], [0.5555555555555556, \"#d8576b\"], [0.6666666666666666, \"#ed7953\"], [0.7777777777777778, \"#fb9f3a\"], [0.8888888888888888, \"#fdca26\"], [1.0, \"#f0f921\"]], \"type\": \"heatmap\"}], \"heatmapgl\": [{\"colorbar\": {\"outlinewidth\": 0, \"ticks\": \"\"}, \"colorscale\": [[0.0, \"#0d0887\"], [0.1111111111111111, \"#46039f\"], [0.2222222222222222, \"#7201a8\"], [0.3333333333333333, \"#9c179e\"], [0.4444444444444444, \"#bd3786\"], [0.5555555555555556, \"#d8576b\"], [0.6666666666666666, \"#ed7953\"], [0.7777777777777778, \"#fb9f3a\"], [0.8888888888888888, \"#fdca26\"], [1.0, \"#f0f921\"]], \"type\": \"heatmapgl\"}], \"histogram\": [{\"marker\": {\"colorbar\": {\"outlinewidth\": 0, \"ticks\": \"\"}}, \"type\": \"histogram\"}], \"histogram2d\": [{\"colorbar\": {\"outlinewidth\": 0, \"ticks\": \"\"}, \"colorscale\": [[0.0, \"#0d0887\"], [0.1111111111111111, \"#46039f\"], [0.2222222222222222, \"#7201a8\"], [0.3333333333333333, \"#9c179e\"], [0.4444444444444444, \"#bd3786\"], [0.5555555555555556, \"#d8576b\"], [0.6666666666666666, \"#ed7953\"], [0.7777777777777778, \"#fb9f3a\"], [0.8888888888888888, \"#fdca26\"], [1.0, \"#f0f921\"]], \"type\": \"histogram2d\"}], \"histogram2dcontour\": [{\"colorbar\": {\"outlinewidth\": 0, \"ticks\": \"\"}, \"colorscale\": [[0.0, \"#0d0887\"], [0.1111111111111111, \"#46039f\"], [0.2222222222222222, \"#7201a8\"], [0.3333333333333333, \"#9c179e\"], [0.4444444444444444, \"#bd3786\"], [0.5555555555555556, \"#d8576b\"], [0.6666666666666666, \"#ed7953\"], [0.7777777777777778, \"#fb9f3a\"], [0.8888888888888888, \"#fdca26\"], [1.0, \"#f0f921\"]], \"type\": \"histogram2dcontour\"}], \"mesh3d\": [{\"colorbar\": {\"outlinewidth\": 0, \"ticks\": \"\"}, \"type\": \"mesh3d\"}], \"parcoords\": [{\"line\": {\"colorbar\": {\"outlinewidth\": 0, \"ticks\": \"\"}}, \"type\": \"parcoords\"}], \"pie\": [{\"automargin\": true, \"type\": \"pie\"}], \"scatter\": [{\"marker\": {\"colorbar\": {\"outlinewidth\": 0, \"ticks\": \"\"}}, \"type\": \"scatter\"}], \"scatter3d\": [{\"line\": {\"colorbar\": {\"outlinewidth\": 0, \"ticks\": \"\"}}, \"marker\": {\"colorbar\": {\"outlinewidth\": 0, \"ticks\": \"\"}}, \"type\": \"scatter3d\"}], \"scattercarpet\": [{\"marker\": {\"colorbar\": {\"outlinewidth\": 0, \"ticks\": \"\"}}, \"type\": \"scattercarpet\"}], \"scattergeo\": [{\"marker\": {\"colorbar\": {\"outlinewidth\": 0, \"ticks\": \"\"}}, \"type\": \"scattergeo\"}], \"scattergl\": [{\"marker\": {\"colorbar\": {\"outlinewidth\": 0, \"ticks\": \"\"}}, \"type\": \"scattergl\"}], \"scattermapbox\": [{\"marker\": {\"colorbar\": {\"outlinewidth\": 0, \"ticks\": \"\"}}, \"type\": \"scattermapbox\"}], \"scatterpolar\": [{\"marker\": {\"colorbar\": {\"outlinewidth\": 0, \"ticks\": \"\"}}, \"type\": \"scatterpolar\"}], \"scatterpolargl\": [{\"marker\": {\"colorbar\": {\"outlinewidth\": 0, \"ticks\": \"\"}}, \"type\": \"scatterpolargl\"}], \"scatterternary\": [{\"marker\": {\"colorbar\": {\"outlinewidth\": 0, \"ticks\": \"\"}}, \"type\": \"scatterternary\"}], \"surface\": [{\"colorbar\": {\"outlinewidth\": 0, \"ticks\": \"\"}, \"colorscale\": [[0.0, \"#0d0887\"], [0.1111111111111111, \"#46039f\"], [0.2222222222222222, \"#7201a8\"], [0.3333333333333333, \"#9c179e\"], [0.4444444444444444, \"#bd3786\"], [0.5555555555555556, \"#d8576b\"], [0.6666666666666666, \"#ed7953\"], [0.7777777777777778, \"#fb9f3a\"], [0.8888888888888888, \"#fdca26\"], [1.0, \"#f0f921\"]], \"type\": \"surface\"}], \"table\": [{\"cells\": {\"fill\": {\"color\": \"#EBF0F8\"}, \"line\": {\"color\": \"white\"}}, \"header\": {\"fill\": {\"color\": \"#C8D4E3\"}, \"line\": {\"color\": \"white\"}}, \"type\": \"table\"}]}, \"layout\": {\"annotationdefaults\": {\"arrowcolor\": \"#2a3f5f\", \"arrowhead\": 0, \"arrowwidth\": 1}, \"autotypenumbers\": \"strict\", \"coloraxis\": {\"colorbar\": {\"outlinewidth\": 0, \"ticks\": \"\"}}, \"colorscale\": {\"diverging\": [[0, \"#8e0152\"], [0.1, \"#c51b7d\"], [0.2, \"#de77ae\"], [0.3, \"#f1b6da\"], [0.4, \"#fde0ef\"], [0.5, \"#f7f7f7\"], [0.6, \"#e6f5d0\"], [0.7, \"#b8e186\"], [0.8, \"#7fbc41\"], [0.9, \"#4d9221\"], [1, \"#276419\"]], \"sequential\": [[0.0, \"#0d0887\"], [0.1111111111111111, \"#46039f\"], [0.2222222222222222, \"#7201a8\"], [0.3333333333333333, \"#9c179e\"], [0.4444444444444444, \"#bd3786\"], [0.5555555555555556, \"#d8576b\"], [0.6666666666666666, \"#ed7953\"], [0.7777777777777778, \"#fb9f3a\"], [0.8888888888888888, \"#fdca26\"], [1.0, \"#f0f921\"]], \"sequentialminus\": [[0.0, \"#0d0887\"], [0.1111111111111111, \"#46039f\"], [0.2222222222222222, \"#7201a8\"], [0.3333333333333333, \"#9c179e\"], [0.4444444444444444, \"#bd3786\"], [0.5555555555555556, \"#d8576b\"], [0.6666666666666666, \"#ed7953\"], [0.7777777777777778, \"#fb9f3a\"], [0.8888888888888888, \"#fdca26\"], [1.0, \"#f0f921\"]]}, \"colorway\": [\"#636efa\", \"#EF553B\", \"#00cc96\", \"#ab63fa\", \"#FFA15A\", \"#19d3f3\", \"#FF6692\", \"#B6E880\", \"#FF97FF\", \"#FECB52\"], \"font\": {\"color\": \"#2a3f5f\"}, \"geo\": {\"bgcolor\": \"white\", \"lakecolor\": \"white\", \"landcolor\": \"#E5ECF6\", \"showlakes\": true, \"showland\": true, \"subunitcolor\": \"white\"}, \"hoverlabel\": {\"align\": \"left\"}, \"hovermode\": \"closest\", \"mapbox\": {\"style\": \"light\"}, \"paper_bgcolor\": \"white\", \"plot_bgcolor\": \"#E5ECF6\", \"polar\": {\"angularaxis\": {\"gridcolor\": \"white\", \"linecolor\": \"white\", \"ticks\": \"\"}, \"bgcolor\": \"#E5ECF6\", \"radialaxis\": {\"gridcolor\": \"white\", \"linecolor\": \"white\", \"ticks\": \"\"}}, \"scene\": {\"xaxis\": {\"backgroundcolor\": \"#E5ECF6\", \"gridcolor\": \"white\", \"gridwidth\": 2, \"linecolor\": \"white\", \"showbackground\": true, \"ticks\": \"\", \"zerolinecolor\": \"white\"}, \"yaxis\": {\"backgroundcolor\": \"#E5ECF6\", \"gridcolor\": \"white\", \"gridwidth\": 2, \"linecolor\": \"white\", \"showbackground\": true, \"ticks\": \"\", \"zerolinecolor\": \"white\"}, \"zaxis\": {\"backgroundcolor\": \"#E5ECF6\", \"gridcolor\": \"white\", \"gridwidth\": 2, \"linecolor\": \"white\", \"showbackground\": true, \"ticks\": \"\", \"zerolinecolor\": \"white\"}}, \"shapedefaults\": {\"line\": {\"color\": \"#2a3f5f\"}}, \"ternary\": {\"aaxis\": {\"gridcolor\": \"white\", \"linecolor\": \"white\", \"ticks\": \"\"}, \"baxis\": {\"gridcolor\": \"white\", \"linecolor\": \"white\", \"ticks\": \"\"}, \"bgcolor\": \"#E5ECF6\", \"caxis\": {\"gridcolor\": \"white\", \"linecolor\": \"white\", \"ticks\": \"\"}}, \"title\": {\"x\": 0.05}, \"xaxis\": {\"automargin\": true, \"gridcolor\": \"white\", \"linecolor\": \"white\", \"ticks\": \"\", \"title\": {\"standoff\": 15}, \"zerolinecolor\": \"white\", \"zerolinewidth\": 2}, \"yaxis\": {\"automargin\": true, \"gridcolor\": \"white\", \"linecolor\": \"white\", \"ticks\": \"\", \"title\": {\"standoff\": 15}, \"zerolinecolor\": \"white\", \"zerolinewidth\": 2}}}, \"title\": {\"text\": \"Loss landscape for MNIST\"}, \"xaxis\": {\"title\": {\"text\": \"Perturbation in first eigenvector direction\"}}, \"yaxis\": {\"title\": {\"text\": \"Perturbation in second eigenvector direction\"}}},                        {\"responsive\": true}                    ).then(function(){\n",
       "                            \n",
       "var gd = document.getElementById('95c459db-7fa5-4632-ad30-871be6951e2a');\n",
       "var x = new MutationObserver(function (mutations, observer) {{\n",
       "        var display = window.getComputedStyle(gd).display;\n",
       "        if (!display || display === 'none') {{\n",
       "            console.log([gd, 'removed!']);\n",
       "            Plotly.purge(gd);\n",
       "            observer.disconnect();\n",
       "        }}\n",
       "}});\n",
       "\n",
       "// Listen for the removal of the full notebook cells\n",
       "var notebookContainer = gd.closest('#notebook-container');\n",
       "if (notebookContainer) {{\n",
       "    x.observe(notebookContainer, {childList: true});\n",
       "}}\n",
       "\n",
       "// Listen for the clearing of the current output cell\n",
       "var outputEl = gd.closest('.output');\n",
       "if (outputEl) {{\n",
       "    x.observe(outputEl, {childList: true});\n",
       "}}\n",
       "\n",
       "                        })                };                });            </script>        </div>"
      ]
     },
     "metadata": {},
     "output_type": "display_data"
    },
    {
     "data": {
      "application/javascript": [
       "\n",
       "            setTimeout(function() {\n",
       "                var nbb_cell_id = 157;\n",
       "                var nbb_unformatted_code = \"# Different colormaps for different optimizers\\ndataset = \\\"MNIST\\\"\\ncolors = [\\\"ylgn\\\", \\\"viridis\\\", \\\"blues\\\", \\\"plotly3\\\"]\\nfig = go.Figure()\\n\\nfor (optimizer, loss), c in zip(losses_3d[dataset].items(), colors):\\n    fig.add_trace(\\n        go.Surface(\\n            z=loss,\\n            x=alphas,\\n            y=alphas,\\n            opacity=0.7,\\n            name=optimizer,\\n            showscale=False,\\n            showlegend=True,\\n            colorscale=c,\\n        ),\\n    )\\n\\nfig.update_layout(\\n    title=f\\\"Loss landscape for {dataset}\\\",\\n    autosize=True,\\n    margin=dict(l=65, r=50, b=65, t=90),\\n    xaxis_title=\\\"Perturbation in first eigenvector direction\\\",\\n    yaxis_title=\\\"Perturbation in second eigenvector direction\\\",\\n    overwrite=True,\\n)\\nfig.show()\";\n",
       "                var nbb_formatted_code = \"# Different colormaps for different optimizers\\ndataset = \\\"MNIST\\\"\\ncolors = [\\\"ylgn\\\", \\\"viridis\\\", \\\"blues\\\", \\\"plotly3\\\"]\\nfig = go.Figure()\\n\\nfor (optimizer, loss), c in zip(losses_3d[dataset].items(), colors):\\n    fig.add_trace(\\n        go.Surface(\\n            z=loss,\\n            x=alphas,\\n            y=alphas,\\n            opacity=0.7,\\n            name=optimizer,\\n            showscale=False,\\n            showlegend=True,\\n            colorscale=c,\\n        ),\\n    )\\n\\nfig.update_layout(\\n    title=f\\\"Loss landscape for {dataset}\\\",\\n    autosize=True,\\n    margin=dict(l=65, r=50, b=65, t=90),\\n    xaxis_title=\\\"Perturbation in first eigenvector direction\\\",\\n    yaxis_title=\\\"Perturbation in second eigenvector direction\\\",\\n    overwrite=True,\\n)\\nfig.show()\";\n",
       "                var nbb_cells = Jupyter.notebook.get_cells();\n",
       "                for (var i = 0; i < nbb_cells.length; ++i) {\n",
       "                    if (nbb_cells[i].input_prompt_number == nbb_cell_id) {\n",
       "                        if (nbb_cells[i].get_text() == nbb_unformatted_code) {\n",
       "                             nbb_cells[i].set_text(nbb_formatted_code);\n",
       "                        }\n",
       "                        break;\n",
       "                    }\n",
       "                }\n",
       "            }, 500);\n",
       "            "
      ],
      "text/plain": [
       "<IPython.core.display.Javascript object>"
      ]
     },
     "metadata": {},
     "output_type": "display_data"
    }
   ],
   "source": [
    "# Different colormaps for different optimizers\n",
    "dataset = \"MNIST\"\n",
    "colors = [\"ylgn\", \"viridis\", \"blues\", \"plotly3\"]\n",
    "fig = go.Figure()\n",
    "\n",
    "for (optimizer, loss), c in zip(losses_3d[dataset].items(), colors):\n",
    "    fig.add_trace(\n",
    "        go.Surface(\n",
    "            z=loss,\n",
    "            x=alphas,\n",
    "            y=alphas,\n",
    "            opacity=0.7,\n",
    "            name=optimizer,\n",
    "            showscale=False,\n",
    "            showlegend=True,\n",
    "            colorscale=c,\n",
    "        ),\n",
    "    )\n",
    "\n",
    "fig.update_layout(\n",
    "    title=f\"Loss landscape for {dataset}\",\n",
    "    autosize=True,\n",
    "    margin=dict(l=65, r=50, b=65, t=90),\n",
    "    xaxis_title=\"Perturbation in first eigenvector direction\",\n",
    "    yaxis_title=\"Perturbation in second eigenvector direction\",\n",
    "    overwrite=True,\n",
    ")\n",
    "fig.show()\n"
   ]
  },
  {
   "cell_type": "markdown",
   "id": "3f21abe5",
   "metadata": {},
   "source": [
    "### Fashion-MNIST"
   ]
  },
  {
   "cell_type": "code",
   "execution_count": 159,
   "id": "e0b35efd",
   "metadata": {
    "scrolled": true
   },
   "outputs": [
    {
     "data": {
      "application/vnd.plotly.v1+json": {
       "config": {
        "plotlyServerURL": "https://plot.ly"
       },
       "data": [
        {
         "colorscale": [
          [
           0,
           "rgb(255,255,229)"
          ],
          [
           0.125,
           "rgb(247,252,185)"
          ],
          [
           0.25,
           "rgb(217,240,163)"
          ],
          [
           0.375,
           "rgb(173,221,142)"
          ],
          [
           0.5,
           "rgb(120,198,121)"
          ],
          [
           0.625,
           "rgb(65,171,93)"
          ],
          [
           0.75,
           "rgb(35,132,67)"
          ],
          [
           0.875,
           "rgb(0,104,55)"
          ],
          [
           1,
           "rgb(0,69,41)"
          ]
         ],
         "name": "Adam",
         "opacity": 0.7,
         "showlegend": true,
         "showscale": false,
         "type": "surface",
         "x": [
          -0.5,
          -0.4583333432674408,
          -0.4166666567325592,
          -0.375,
          -0.3333333432674408,
          -0.2916666567325592,
          -0.25,
          -0.2083333283662796,
          -0.1666666716337204,
          -0.125,
          -0.0833333358168602,
          -0.0416666679084301,
          0,
          0.0416666679084301,
          0.0833333358168602,
          0.125,
          0.1666666716337204,
          0.2083333283662796,
          0.25,
          0.2916666567325592,
          0.3333333432674408,
          0.375,
          0.4166666567325592,
          0.4583333432674408,
          0.5
         ],
         "y": [
          -0.5,
          -0.4583333432674408,
          -0.4166666567325592,
          -0.375,
          -0.3333333432674408,
          -0.2916666567325592,
          -0.25,
          -0.2083333283662796,
          -0.1666666716337204,
          -0.125,
          -0.0833333358168602,
          -0.0416666679084301,
          0,
          0.0416666679084301,
          0.0833333358168602,
          0.125,
          0.1666666716337204,
          0.2083333283662796,
          0.25,
          0.2916666567325592,
          0.3333333432674408,
          0.375,
          0.4166666567325592,
          0.4583333432674408,
          0.5
         ],
         "z": [
          [
           14.863850593566895,
           12.964255332946777,
           11.25674819946289,
           9.697511672973633,
           8.27650260925293,
           7.008213996887207,
           5.893631935119629,
           4.92897891998291,
           4.1352458000183105,
           3.563246250152588,
           3.233961343765259,
           3.1081960201263428,
           3.124835968017578,
           3.233863592147827,
           3.4009692668914795,
           3.5999863147735596,
           3.818787097930908,
           4.050657749176025,
           4.293725490570068,
           4.549310684204102,
           4.817669868469238,
           5.098983287811279,
           5.39249324798584,
           5.696120262145996,
           6.007298469543457
          ],
          [
           14.896492004394531,
           12.95461654663086,
           11.215673446655273,
           9.632530212402344,
           8.193984031677246,
           6.9085164070129395,
           5.7768659591674805,
           4.79163122177124,
           3.969480037689209,
           3.359140634536743,
           2.991415023803711,
           2.834566831588745,
           2.8285605907440186,
           2.923603057861328,
           3.0857481956481934,
           3.28216814994812,
           3.4967939853668213,
           3.7233927249908447,
           3.9594340324401855,
           4.206501483917236,
           4.466308116912842,
           4.738595962524414,
           5.022780895233154,
           5.317338466644287,
           5.620337963104248
          ],
          [
           14.938728332519531,
           12.948040008544922,
           11.173917770385742,
           9.56726360321045,
           8.11056137084961,
           6.809156894683838,
           5.65932035446167,
           4.654636383056641,
           3.807307243347168,
           3.1616246700286865,
           2.7575578689575195,
           2.570690155029297,
           2.5426814556121826,
           2.6250102519989014,
           2.7805123329162598,
           2.975639820098877,
           3.18881893157959,
           3.4112417697906494,
           3.6409904956817627,
           3.880152940750122,
           4.130814075469971,
           4.393003940582275,
           4.666912078857422,
           4.950618267059326,
           5.243504047393799
          ],
          [
           14.991621971130371,
           12.947310447692871,
           11.133222579956055,
           9.500120162963867,
           8.026399612426758,
           6.709650039672852,
           5.541409492492676,
           4.517862319946289,
           3.648350715637207,
           2.9702298641204834,
           2.530540704727173,
           2.31404972076416,
           2.2661261558532715,
           2.337817668914795,
           2.4896962642669678,
           2.6821129322052,
           2.893667221069336,
           3.1138978004455566,
           3.339246988296509,
           3.571647882461548,
           3.8129661083221436,
           4.065098762512207,
           4.32802677154541,
           4.6006951332092285,
           4.882575511932373
          ],
          [
           15.054289817810059,
           12.953577041625977,
           11.094873428344727,
           9.433096885681152,
           7.940614700317383,
           6.609192848205566,
           5.423266410827637,
           4.3818769454956055,
           3.4926223754882812,
           2.784939765930176,
           2.310434341430664,
           2.0637433528900146,
           1.997035264968872,
           2.0619606971740723,
           2.213209629058838,
           2.4054558277130127,
           2.614133358001709,
           2.830500841140747,
           3.0534162521362305,
           3.280590772628784,
           3.514272928237915,
           3.756927967071533,
           4.009194850921631,
           4.27058219909668,
           4.540597438812256
          ],
          [
           15.1260404586792,
           12.968707084655762,
           11.06042194366455,
           9.367506980895996,
           7.854604721069336,
           6.507668972015381,
           5.305367946624756,
           4.246058464050293,
           3.3393378257751465,
           2.605787515640259,
           2.096245288848877,
           1.8192309141159058,
           1.7350172996520996,
           1.7969423532485962,
           1.9515984058380127,
           2.146085023880005,
           2.353579044342041,
           2.565662145614624,
           2.782947301864624,
           3.0060195922851562,
           3.2342607975006104,
           3.469189405441284,
           3.711590051651001,
           3.961740016937256,
           4.220675468444824
          ],
          [
           15.20149040222168,
           12.991294860839844,
           11.031997680664062,
           9.303176879882812,
           7.769003868103027,
           6.405191421508789,
           5.186459064483643,
           4.110637187957764,
           3.187326431274414,
           2.430940628051758,
           1.8874049186706543,
           1.5799111127853394,
           1.4800472259521484,
           1.5429542064666748,
           1.7040823698043823,
           1.9035481214523315,
           2.111886978149414,
           2.321661949157715,
           2.533857822418213,
           2.749844789505005,
           2.9721298217773438,
           3.2014319896698,
           3.4359259605407715,
           3.6761083602905273,
           3.923846960067749
          ],
          [
           15.280736923217773,
           13.018410682678223,
           11.006694793701172,
           9.240172386169434,
           7.68293571472168,
           6.301387786865234,
           5.066652774810791,
           3.9755959510803223,
           3.0371251106262207,
           2.259917736053467,
           1.683652639389038,
           1.3456960916519165,
           1.2321809530258179,
           1.2994534969329834,
           1.4694652557373047,
           1.6755250692367554,
           1.8872543573379517,
           2.0975453853607178,
           2.306734323501587,
           2.517568826675415,
           2.7321012020111084,
           2.952430486679077,
           3.180105447769165,
           3.412496328353882,
           3.6501548290252686
          ],
          [
           15.362383842468262,
           13.050646781921387,
           10.985902786254883,
           9.176690101623535,
           7.5961127281188965,
           6.196696758270264,
           4.945902347564697,
           3.839773654937744,
           2.8879380226135254,
           2.0924434661865234,
           1.4850455522537231,
           1.117421269416809,
           0.9933512210845947,
           1.067122459411621,
           1.2469204664230347,
           1.4608473777770996,
           1.6780158281326294,
           1.8908348083496094,
           2.0998146533966064,
           2.3076510429382324,
           2.5165412425994873,
           2.728452205657959,
           2.9455673694610596,
           3.1693716049194336,
           3.3992996215820312
          ],
          [
           15.445647239685059,
           13.086947441101074,
           10.9688138961792,
           9.114295959472656,
           7.505352020263672,
           6.088675498962402,
           4.8236188888549805,
           3.7028868198394775,
           2.7374422550201416,
           1.9276396036148071,
           1.292428731918335,
           0.8967509269714355,
           0.765812337398529,
           0.8477193713188171,
           1.037354826927185,
           1.2589428424835205,
           1.48225998878479,
           1.6999608278274536,
           1.9110751152038574,
           2.1178364753723145,
           2.3231465816497803,
           2.529026508331299,
           2.7375497817993164,
           2.9506335258483887,
           3.1699960231781006
          ],
          [
           15.52688980102539,
           13.12597942352295,
           10.955926895141602,
           9.05302906036377,
           7.4120283126831055,
           5.976287364959717,
           4.697689056396484,
           3.5644161701202393,
           2.5868427753448486,
           1.7642885446548462,
           1.1077324151992798,
           0.6907734870910645,
           0.5607496500015259,
           0.651498556137085,
           0.8476674556732178,
           1.073760747909546,
           1.3012356758117676,
           1.5226716995239258,
           1.7368515729904175,
           1.9451589584350586,
           2.1498324871063232,
           2.3526644706726074,
           2.5552620887756348,
           2.759974956512451,
           2.969083309173584
          ],
          [
           15.602457046508789,
           13.164154052734375,
           10.945003509521484,
           8.994026184082031,
           7.3170928955078125,
           5.860170364379883,
           4.566751480102539,
           3.421389102935791,
           2.4339804649353027,
           1.6034072637557983,
           0.9417163729667664,
           0.529143214225769,
           0.4145437180995941,
           0.5122358202934265,
           0.7042507529258728,
           0.9236448407173157,
           1.146457314491272,
           1.365632176399231,
           1.5801582336425781,
           1.7894163131713867,
           1.9940838813781738,
           2.195864677429199,
           2.3957860469818115,
           2.5952389240264893,
           2.797060251235962
          ],
          [
           15.6701021194458,
           13.200945854187012,
           10.935762405395508,
           8.937199592590332,
           7.221468448638916,
           5.740077018737793,
           4.431724548339844,
           3.2762439250946045,
           2.281804084777832,
           1.4605371952056885,
           0.8390371203422546,
           0.480001300573349,
           0.39314448833465576,
           0.48193153738975525,
           0.6489704847335815,
           0.8438971042633057,
           1.0477614402770996,
           1.2530725002288818,
           1.457359790802002,
           1.6603947877883911,
           1.8612053394317627,
           2.0602643489837646,
           2.25775146484375,
           2.454606294631958,
           2.651804208755493
          ],
          [
           15.730737686157227,
           13.235563278198242,
           10.929984092712402,
           8.885086059570312,
           7.128512382507324,
           5.620014667510986,
           4.2962565422058105,
           3.1354479789733887,
           2.1564600467681885,
           1.3949528932571411,
           0.8804609179496765,
           0.6239522099494934,
           0.5723438262939453,
           0.6328080296516418,
           0.7457631826400757,
           0.8876354098320007,
           1.048092246055603,
           1.2200783491134644,
           1.3993370532989502,
           1.582822322845459,
           1.7694164514541626,
           1.9582245349884033,
           2.1485514640808105,
           2.3397433757781982,
           2.532130718231201
          ],
          [
           15.781073570251465,
           13.265080451965332,
           10.924741744995117,
           8.836139678955078,
           7.039422512054443,
           5.502893447875977,
           4.171205043792725,
           3.036987781524658,
           2.1412365436553955,
           1.5103631019592285,
           1.1377737522125244,
           0.9857901930809021,
           0.9591338634490967,
           0.9840947389602661,
           1.0352786779403687,
           1.1090044975280762,
           1.2044676542282104,
           1.3194416761398315,
           1.4507447481155396,
           1.5958293676376343,
           1.752349853515625,
           1.9178191423416138,
           2.0901575088500977,
           2.2676520347595215,
           2.4492099285125732
          ],
          [
           15.81749439239502,
           13.283601760864258,
           10.914948463439941,
           8.788667678833008,
           6.956502437591553,
           5.40318489074707,
           4.108490943908691,
           3.0917115211486816,
           2.3603856563568115,
           1.8814847469329834,
           1.621654987335205,
           1.5175774097442627,
           1.4819042682647705,
           1.4722386598587036,
           1.4772007465362549,
           1.4978426694869995,
           1.5345876216888428,
           1.588454008102417,
           1.660062551498413,
           1.7500931024551392,
           1.8578813076019287,
           1.9815919399261475,
           2.118906021118164,
           2.268005132675171,
           2.4266982078552246
          ],
          [
           15.835746765136719,
           13.28799819946289,
           10.900477409362793,
           8.74925708770752,
           6.906853199005127,
           5.400012493133545,
           4.249669075012207,
           3.427799940109253,
           2.8642055988311768,
           2.500044107437134,
           2.295921802520752,
           2.1845476627349854,
           2.1110384464263916,
           2.057767629623413,
           2.021481513977051,
           2.0011463165283203,
           1.9955198764801025,
           2.004039764404297,
           2.026625394821167,
           2.0645318031311035,
           2.1191561222076416,
           2.190819263458252,
           2.2795135974884033,
           2.3838424682617188,
           2.5031650066375732
          ],
          [
           15.837257385253906,
           13.282707214355469,
           10.896021842956543,
           8.766996383666992,
           7.006644248962402,
           5.6722092628479,
           4.7249531745910645,
           4.064840793609619,
           3.613395929336548,
           3.31719970703125,
           3.1240592002868652,
           2.9768147468566895,
           2.8526854515075684,
           2.7479302883148193,
           2.6644155979156494,
           2.600675344467163,
           2.554678440093994,
           2.5249602794647217,
           2.510362386703491,
           2.5085458755493164,
           2.5202157497406006,
           2.5461161136627197,
           2.587038993835449,
           2.6437551975250244,
           2.7156617641448975
          ],
          [
           15.829255104064941,
           13.292508125305176,
           10.96985912322998,
           8.994524002075195,
           7.467222213745117,
           6.356159210205078,
           5.555222034454346,
           4.989419937133789,
           4.595010280609131,
           4.313231945037842,
           4.086163520812988,
           3.8864123821258545,
           3.707050085067749,
           3.550610303878784,
           3.4185287952423096,
           3.3082756996154785,
           3.2174150943756104,
           3.145948648452759,
           3.092510938644409,
           3.054924249649048,
           3.0304744243621826,
           3.0190036296844482,
           3.0208301544189453,
           3.036252021789551,
           3.065364360809326
          ],
          [
           15.838908195495605,
           13.397150039672852,
           11.29002857208252,
           9.631976127624512,
           8.384337425231934,
           7.438816070556641,
           6.736039638519287,
           6.2174577713012695,
           5.819880485534668,
           5.486418724060059,
           5.191590785980225,
           4.925051212310791,
           4.68274450302124,
           4.46989107131958,
           4.285928249359131,
           4.128238201141357,
           3.9931561946868896,
           3.878690242767334,
           3.7836687564849854,
           3.7067203521728516,
           3.645641803741455,
           3.597792863845825,
           3.5630242824554443,
           3.5421619415283203,
           3.533933162689209
          ],
          [
           15.968320846557617,
           13.784979820251465,
           12.047168731689453,
           10.706461906433105,
           9.667146682739258,
           8.875187873840332,
           8.256142616271973,
           7.735348701477051,
           7.2690043449401855,
           6.845914840698242,
           6.463238716125488,
           6.115392684936523,
           5.7997050285339355,
           5.521859169006348,
           5.279822826385498,
           5.069533348083496,
           4.886258125305176,
           4.725892543792725,
           4.588253021240234,
           4.4712982177734375,
           4.372485637664795,
           4.288415908813477,
           4.217158317565918,
           4.158710956573486,
           4.114269256591797
          ],
          [
           16.42474365234375,
           14.640843391418457,
           13.223934173583984,
           12.110323905944824,
           11.269816398620605,
           10.608379364013672,
           10.023781776428223,
           9.463972091674805,
           8.9224853515625,
           8.406661033630371,
           7.923839092254639,
           7.481497287750244,
           7.080782890319824,
           6.727691173553467,
           6.418532848358154,
           6.147486686706543,
           5.9090728759765625,
           5.697899341583252,
           5.512588024139404,
           5.352334022521973,
           5.213902473449707,
           5.092880725860596,
           4.986377716064453,
           4.893237590789795,
           4.812994956970215
          ],
          [
           17.374717712402344,
           15.903731346130371,
           14.7275972366333,
           13.852155685424805,
           13.16519832611084,
           12.542627334594727,
           11.935040473937988,
           11.333832740783691,
           10.739235877990723,
           10.154708862304688,
           9.58618450164795,
           9.045483589172363,
           8.548985481262207,
           8.110629081726074,
           7.7240753173828125,
           7.382313251495361,
           7.080548286437988,
           6.811656951904297,
           6.572761535644531,
           6.362830638885498,
           6.17955207824707,
           6.018337726593018,
           5.875297546386719,
           5.74713134765625,
           5.633902072906494
          ],
          [
           18.72027587890625,
           17.506084442138672,
           16.6108455657959,
           15.905393600463867,
           15.2514009475708,
           14.605816841125488,
           13.96304702758789,
           13.323266983032227,
           12.685751914978027,
           12.051508903503418,
           11.4232816696167,
           10.809392929077148,
           10.22754955291748,
           9.69920825958252,
           9.224913597106934,
           8.801569938659668,
           8.42549991607666,
           8.090343475341797,
           7.79085111618042,
           7.524171352386475,
           7.288784503936768,
           7.081060886383057,
           6.896242141723633,
           6.730749130249023,
           6.581154823303223
          ],
          [
           20.422840118408203,
           19.525066375732422,
           18.804460525512695,
           18.12338638305664,
           17.44654655456543,
           16.769380569458008,
           16.09290885925293,
           15.416838645935059,
           14.740689277648926,
           14.064696311950684,
           13.391695976257324,
           12.728346824645996,
           12.09104061126709,
           11.495479583740234,
           10.940985679626465,
           10.431744575500488,
           9.971296310424805,
           9.558891296386719,
           9.188921928405762,
           8.857039451599121,
           8.56086254119873,
           8.297809600830078,
           8.06350040435791,
           7.853700637817383,
           7.663908958435059
          ]
         ]
        },
        {
         "colorscale": [
          [
           0,
           "#440154"
          ],
          [
           0.1111111111111111,
           "#482878"
          ],
          [
           0.2222222222222222,
           "#3e4989"
          ],
          [
           0.3333333333333333,
           "#31688e"
          ],
          [
           0.4444444444444444,
           "#26828e"
          ],
          [
           0.5555555555555556,
           "#1f9e89"
          ],
          [
           0.6666666666666666,
           "#35b779"
          ],
          [
           0.7777777777777778,
           "#6ece58"
          ],
          [
           0.8888888888888888,
           "#b5de2b"
          ],
          [
           1,
           "#fde725"
          ]
         ],
         "name": "LBFGS",
         "opacity": 0.7,
         "showlegend": true,
         "showscale": false,
         "type": "surface",
         "x": [
          -0.5,
          -0.4583333432674408,
          -0.4166666567325592,
          -0.375,
          -0.3333333432674408,
          -0.2916666567325592,
          -0.25,
          -0.2083333283662796,
          -0.1666666716337204,
          -0.125,
          -0.0833333358168602,
          -0.0416666679084301,
          0,
          0.0416666679084301,
          0.0833333358168602,
          0.125,
          0.1666666716337204,
          0.2083333283662796,
          0.25,
          0.2916666567325592,
          0.3333333432674408,
          0.375,
          0.4166666567325592,
          0.4583333432674408,
          0.5
         ],
         "y": [
          -0.5,
          -0.4583333432674408,
          -0.4166666567325592,
          -0.375,
          -0.3333333432674408,
          -0.2916666567325592,
          -0.25,
          -0.2083333283662796,
          -0.1666666716337204,
          -0.125,
          -0.0833333358168602,
          -0.0416666679084301,
          0,
          0.0416666679084301,
          0.0833333358168602,
          0.125,
          0.1666666716337204,
          0.2083333283662796,
          0.25,
          0.2916666567325592,
          0.3333333432674408,
          0.375,
          0.4166666567325592,
          0.4583333432674408,
          0.5
         ],
         "z": [
          [
           41.995880126953125,
           42.117610931396484,
           42.25413131713867,
           42.39153289794922,
           42.52836227416992,
           42.66432189941406,
           42.800376892089844,
           42.937007904052734,
           43.07484817504883,
           43.21485900878906,
           43.35692596435547,
           43.50142288208008,
           43.64812088012695,
           43.796714782714844,
           43.94707107543945,
           44.0999755859375,
           44.2553825378418,
           44.411128997802734,
           44.5622444152832,
           44.70371627807617,
           44.837120056152344,
           44.9653434753418,
           45.09024429321289,
           45.21308898925781,
           45.334625244140625
          ],
          [
           37.68320846557617,
           37.81175231933594,
           37.955867767333984,
           38.099403381347656,
           38.241127014160156,
           38.38124465942383,
           38.51999282836914,
           38.657684326171875,
           38.79519271850586,
           38.93348693847656,
           39.072853088378906,
           39.2131462097168,
           39.35381317138672,
           39.495670318603516,
           39.64020919799805,
           39.788665771484375,
           39.941551208496094,
           40.09974670410156,
           40.26157760620117,
           40.42247009277344,
           40.57879638671875,
           40.73403549194336,
           40.89201736450195,
           41.05421447753906,
           41.21946334838867
          ],
          [
           33.3406867980957,
           33.47903823852539,
           33.633235931396484,
           33.787418365478516,
           33.93907928466797,
           34.088348388671875,
           34.23499298095703,
           34.379032135009766,
           34.521236419677734,
           34.66291809082031,
           34.804805755615234,
           34.94667053222656,
           35.08910369873047,
           35.23375701904297,
           35.38258743286133,
           35.53799057006836,
           35.70232391357422,
           35.87778854370117,
           36.06310272216797,
           36.25890350341797,
           36.460330963134766,
           36.663299560546875,
           36.86753845214844,
           37.0743522644043,
           37.286521911621094
          ],
          [
           28.967376708984375,
           29.1212100982666,
           29.288461685180664,
           29.45553970336914,
           29.618915557861328,
           29.779273986816406,
           29.937192916870117,
           30.093109130859375,
           30.24819564819336,
           30.40349006652832,
           30.55974006652832,
           30.717893600463867,
           30.879928588867188,
           31.049060821533203,
           31.22728729248047,
           31.416791915893555,
           31.618135452270508,
           31.832551956176758,
           32.05763244628906,
           32.29304122924805,
           32.536502838134766,
           32.78386306762695,
           33.031497955322266,
           33.281593322753906,
           33.53582000732422
          ],
          [
           24.65369987487793,
           24.804765701293945,
           24.980798721313477,
           25.162734985351562,
           25.34354019165039,
           25.522180557250977,
           25.69809913635254,
           25.872472763061523,
           26.047748565673828,
           26.22573471069336,
           26.40870475769043,
           26.599632263183594,
           26.800769805908203,
           27.014259338378906,
           27.24097442626953,
           27.480064392089844,
           27.728490829467773,
           27.983312606811523,
           28.2432804107666,
           28.508325576782227,
           28.780879974365234,
           29.06047821044922,
           29.343368530273438,
           29.624588012695312,
           29.901973724365234
          ],
          [
           20.773265838623047,
           20.71875,
           20.848295211791992,
           21.02226448059082,
           21.204517364501953,
           21.39051628112793,
           21.58077621459961,
           21.777076721191406,
           21.980854034423828,
           22.192842483520508,
           22.41319465637207,
           22.643836975097656,
           22.886764526367188,
           23.143247604370117,
           23.41179847717285,
           23.6900577545166,
           23.972993850708008,
           24.256803512573242,
           24.54335594177246,
           24.834007263183594,
           25.12737464904785,
           25.423032760620117,
           25.720420837402344,
           26.02003288269043,
           26.31800079345703
          ],
          [
           18.760656356811523,
           17.483646392822266,
           17.127561569213867,
           17.125507354736328,
           17.26991844177246,
           17.449935913085938,
           17.64419937133789,
           17.85064697265625,
           18.069395065307617,
           18.30062484741211,
           18.54546356201172,
           18.80364418029785,
           19.074356079101562,
           19.358346939086914,
           19.652963638305664,
           19.95355224609375,
           20.258373260498047,
           20.565799713134766,
           20.87465476989746,
           21.183944702148438,
           21.493024826049805,
           21.80231475830078,
           22.113122940063477,
           22.429019927978516,
           22.75743293762207
          ],
          [
           19.640287399291992,
           17.137725830078125,
           15.039990425109863,
           14.001880645751953,
           13.727006912231445,
           13.756915092468262,
           13.921097755432129,
           14.122201919555664,
           14.339860916137695,
           14.56898021697998,
           14.808098793029785,
           15.057921409606934,
           15.31872844696045,
           15.593289375305176,
           15.884919166564941,
           16.19232749938965,
           16.51117706298828,
           16.836105346679688,
           17.164546966552734,
           17.494630813598633,
           17.826017379760742,
           18.1615047454834,
           18.52016258239746,
           18.98003387451172,
           19.713571548461914
          ],
          [
           20.868478775024414,
           18.292722702026367,
           15.854418754577637,
           13.538501739501953,
           11.601792335510254,
           10.72546100616455,
           10.505218505859375,
           10.559686660766602,
           10.72914981842041,
           10.928877830505371,
           11.14144515991211,
           11.366299629211426,
           11.607397079467773,
           11.86682415008545,
           12.145298957824707,
           12.441118240356445,
           12.751629829406738,
           13.074631690979004,
           13.409184455871582,
           13.760415077209473,
           14.167006492614746,
           14.744767189025879,
           15.707808494567871,
           17.43109893798828,
           19.613710403442383
          ],
          [
           22.141233444213867,
           19.52705192565918,
           17.04628562927246,
           14.658501625061035,
           12.334723472595215,
           10.103350639343262,
           8.326833724975586,
           7.585836887359619,
           7.3818559646606445,
           7.423117160797119,
           7.573958396911621,
           7.760686874389648,
           7.9704155921936035,
           8.200827598571777,
           8.45188045501709,
           8.725996971130371,
           9.025997161865234,
           9.366421699523926,
           9.819580078125,
           10.53562068939209,
           11.841202735900879,
           13.859615325927734,
           16.098791122436523,
           18.364633560180664,
           20.617273330688477
          ],
          [
           23.444746017456055,
           20.79931640625,
           18.27812385559082,
           15.850340843200684,
           13.486237525939941,
           11.17302417755127,
           8.928943634033203,
           6.842809677124023,
           5.239655494689941,
           4.559825897216797,
           4.357545375823975,
           4.393507480621338,
           4.534002304077148,
           4.713167190551758,
           4.929845809936523,
           5.222731113433838,
           5.7093071937561035,
           6.603264331817627,
           8.22927474975586,
           10.363349914550781,
           12.61001968383789,
           14.874248504638672,
           17.145641326904297,
           19.410062789916992,
           21.66053009033203
          ],
          [
           24.78444480895996,
           22.10475730895996,
           19.539932250976562,
           17.07542610168457,
           14.680065155029297,
           12.338401794433594,
           10.040682792663574,
           7.815471649169922,
           5.734325408935547,
           3.864297389984131,
           2.450594902038574,
           1.886459231376648,
           1.7921446561813354,
           1.9123064279556274,
           2.3694870471954346,
           3.3824896812438965,
           5.005230903625488,
           6.999291896820068,
           9.175152778625488,
           11.416838645935059,
           13.676681518554688,
           15.946344375610352,
           18.213947296142578,
           20.47711181640625,
           22.729942321777344
          ],
          [
           26.15567398071289,
           23.443870544433594,
           20.83610725402832,
           18.33612823486328,
           15.915034294128418,
           13.544958114624023,
           11.216818809509277,
           8.929139137268066,
           6.724627494812012,
           4.682835102081299,
           2.8593008518218994,
           1.3595384359359741,
           0.5969191789627075,
           1.144176959991455,
           2.3986294269561768,
           4.021568775177002,
           5.9303178787231445,
           8.049161911010742,
           10.262762069702148,
           12.507518768310547,
           14.768339157104492,
           17.03506851196289,
           19.304174423217773,
           21.572885513305664,
           23.838401794433594
          ],
          [
           27.50859832763672,
           24.789703369140625,
           22.152122497558594,
           19.614274978637695,
           17.16536521911621,
           14.776189804077148,
           12.427582740783691,
           10.110986709594727,
           7.837519645690918,
           5.668579578399658,
           3.7161853313446045,
           2.1266448497772217,
           1.1941702365875244,
           1.8169625997543335,
           3.1727724075317383,
           4.959253311157227,
           6.999561309814453,
           9.166964530944824,
           11.381218910217285,
           13.622003555297852,
           15.88066577911377,
           18.147905349731445,
           20.428112030029297,
           22.70918083190918,
           24.993900299072266
          ],
          [
           28.801416397094727,
           26.072776794433594,
           23.41510581970215,
           20.852479934692383,
           18.38499641418457,
           15.989628791809082,
           13.638964653015137,
           11.317543029785156,
           9.021658897399902,
           6.784783840179443,
           4.740991115570068,
           3.109977960586548,
           2.1580357551574707,
           2.687680721282959,
           4.109349727630615,
           6.038477420806885,
           8.145774841308594,
           10.317229270935059,
           12.523681640625,
           14.761335372924805,
           17.017805099487305,
           19.29802703857422,
           21.591306686401367,
           23.884033203125,
           26.1870059967041
          ],
          [
           30.090869903564453,
           27.33751678466797,
           24.64597511291504,
           22.042781829833984,
           19.541837692260742,
           17.12733268737793,
           14.775070190429688,
           12.465161323547363,
           10.187335014343262,
           7.958991527557373,
           5.919243812561035,
           4.309491157531738,
           3.365485906600952,
           3.75897479057312,
           5.217475414276123,
           7.223421573638916,
           9.339591026306152,
           11.499985694885254,
           13.699357986450195,
           15.928167343139648,
           18.19167137145996,
           20.48126983642578,
           22.78656005859375,
           25.105939865112305,
           27.454326629638672
          ],
          [
           31.397964477539062,
           28.62482261657715,
           25.89702796936035,
           23.246116638183594,
           20.69450569152832,
           18.239492416381836,
           15.862869262695312,
           13.542612075805664,
           11.271127700805664,
           9.081921577453613,
           7.138214588165283,
           5.644145488739014,
           4.75169563293457,
           5.023841857910156,
           6.45325231552124,
           8.460749626159668,
           10.567185401916504,
           12.71957778930664,
           14.906816482543945,
           17.133264541625977,
           19.40093421936035,
           21.71157455444336,
           24.0520076751709,
           26.42364501953125,
           28.829866409301758
          ],
          [
           32.70117950439453,
           29.934764862060547,
           27.18444061279297,
           24.486370086669922,
           21.877132415771484,
           19.36910629272461,
           16.954120635986328,
           14.612555503845215,
           12.336629867553711,
           10.19587230682373,
           8.381478309631348,
           7.055013656616211,
           6.219861030578613,
           6.381674289703369,
           7.733391284942627,
           9.717541694641113,
           11.81334114074707,
           13.953611373901367,
           16.13812828063965,
           18.381216049194336,
           20.690113067626953,
           23.055063247680664,
           25.450069427490234,
           27.87275505065918,
           30.320337295532227
          ],
          [
           33.97325134277344,
           31.225252151489258,
           28.483661651611328,
           25.761606216430664,
           23.098134994506836,
           20.52931785583496,
           18.065929412841797,
           15.696863174438477,
           13.424139976501465,
           11.354409217834473,
           9.686758995056152,
           8.524687767028809,
           7.738371849060059,
           7.786169528961182,
           9.032974243164062,
           10.970719337463379,
           13.03836727142334,
           15.17585563659668,
           17.401052474975586,
           19.715566635131836,
           22.104875564575195,
           24.5322322845459,
           26.974498748779297,
           29.431018829345703,
           31.900068283081055
          ],
          [
           35.208343505859375,
           32.475223541259766,
           29.745712280273438,
           27.032119750976562,
           24.347257614135742,
           21.727296829223633,
           19.211402893066406,
           16.807497024536133,
           14.542253494262695,
           12.565430641174316,
           11.060502052307129,
           10.030674934387207,
           9.267353057861328,
           9.215272903442383,
           10.346205711364746,
           12.234698295593262,
           14.288866996765137,
           16.45586585998535,
           18.744152069091797,
           21.134410858154297,
           23.587251663208008,
           26.060321807861328,
           28.538860321044922,
           31.023847579956055,
           33.51112747192383
          ],
          [
           36.41049575805664,
           33.68556213378906,
           30.967567443847656,
           28.26490592956543,
           25.586977005004883,
           22.948999404907227,
           20.38371467590332,
           17.9362735748291,
           15.68110466003418,
           13.807838439941406,
           12.463784217834473,
           11.523521423339844,
           10.761285781860352,
           10.618212699890137,
           11.65812873840332,
           13.517173767089844,
           15.601211547851562,
           17.831275939941406,
           20.19365882873535,
           22.639198303222656,
           25.120967864990234,
           27.609193801879883,
           30.101058959960938,
           32.59696960449219,
           35.094791412353516
          ],
          [
           37.5998649597168,
           34.865692138671875,
           32.152225494384766,
           29.463878631591797,
           26.792024612426758,
           24.146318435668945,
           21.558311462402344,
           19.07404327392578,
           16.82366943359375,
           15.036008834838867,
           13.796741485595703,
           12.898487091064453,
           12.148642539978027,
           11.966647148132324,
           12.954647064208984,
           14.821968078613281,
           16.973268508911133,
           19.28924560546875,
           21.717012405395508,
           24.196046829223633,
           26.68860626220703,
           29.179420471191406,
           31.67413330078125,
           34.17409133911133,
           36.67906951904297
          ],
          [
           38.78980255126953,
           36.045631408691406,
           33.31989669799805,
           30.62592887878418,
           27.958206176757812,
           25.309221267700195,
           22.701555252075195,
           20.20819664001465,
           17.991073608398438,
           16.257427215576172,
           15.063366889953613,
           14.181539535522461,
           13.438896179199219,
           13.262585639953613,
           14.243576049804688,
           16.152793884277344,
           18.394216537475586,
           20.790063858032227,
           23.261127471923828,
           25.760278701782227,
           28.259353637695312,
           30.753103256225586,
           33.25080490112305,
           35.75556182861328,
           38.269561767578125
          ],
          [
           39.99892807006836,
           37.240753173828125,
           34.4977912902832,
           31.785036087036133,
           29.100236892700195,
           26.445323944091797,
           23.839616775512695,
           21.345914840698242,
           19.158145904541016,
           17.489185333251953,
           16.343412399291992,
           15.467981338500977,
           14.724206924438477,
           14.553375244140625,
           15.561773300170898,
           17.541170120239258,
           19.87332534790039,
           22.328937530517578,
           24.829303741455078,
           27.33966064453125,
           29.841646194458008,
           32.340614318847656,
           34.84336853027344,
           37.35238265991211,
           39.87320327758789
          ],
          [
           41.226009368896484,
           38.452335357666016,
           35.68940734863281,
           32.955833435058594,
           30.25568962097168,
           27.593461990356445,
           24.980863571166992,
           22.484663009643555,
           20.315433502197266,
           18.70262336730957,
           17.62492561340332,
           16.773746490478516,
           16.026296615600586,
           15.867110252380371,
           16.920753479003906,
           18.984167098999023,
           21.392858505249023,
           23.888214111328125,
           26.41008949279785,
           28.933502197265625,
           31.44548797607422,
           33.95433807373047,
           36.466407775878906,
           38.983699798583984,
           41.51206588745117
          ]
         ]
        },
        {
         "colorscale": [
          [
           0,
           "rgb(247,251,255)"
          ],
          [
           0.125,
           "rgb(222,235,247)"
          ],
          [
           0.25,
           "rgb(198,219,239)"
          ],
          [
           0.375,
           "rgb(158,202,225)"
          ],
          [
           0.5,
           "rgb(107,174,214)"
          ],
          [
           0.625,
           "rgb(66,146,198)"
          ],
          [
           0.75,
           "rgb(33,113,181)"
          ],
          [
           0.875,
           "rgb(8,81,156)"
          ],
          [
           1,
           "rgb(8,48,107)"
          ]
         ],
         "name": "AdaHessian",
         "opacity": 0.7,
         "showlegend": true,
         "showscale": false,
         "type": "surface",
         "x": [
          -0.5,
          -0.4583333432674408,
          -0.4166666567325592,
          -0.375,
          -0.3333333432674408,
          -0.2916666567325592,
          -0.25,
          -0.2083333283662796,
          -0.1666666716337204,
          -0.125,
          -0.0833333358168602,
          -0.0416666679084301,
          0,
          0.0416666679084301,
          0.0833333358168602,
          0.125,
          0.1666666716337204,
          0.2083333283662796,
          0.25,
          0.2916666567325592,
          0.3333333432674408,
          0.375,
          0.4166666567325592,
          0.4583333432674408,
          0.5
         ],
         "y": [
          -0.5,
          -0.4583333432674408,
          -0.4166666567325592,
          -0.375,
          -0.3333333432674408,
          -0.2916666567325592,
          -0.25,
          -0.2083333283662796,
          -0.1666666716337204,
          -0.125,
          -0.0833333358168602,
          -0.0416666679084301,
          0,
          0.0416666679084301,
          0.0833333358168602,
          0.125,
          0.1666666716337204,
          0.2083333283662796,
          0.25,
          0.2916666567325592,
          0.3333333432674408,
          0.375,
          0.4166666567325592,
          0.4583333432674408,
          0.5
         ],
         "z": [
          [
           20.89983558654785,
           21.08930015563965,
           21.268709182739258,
           21.442079544067383,
           21.610742568969727,
           21.77437973022461,
           21.934789657592773,
           22.092552185058594,
           22.248554229736328,
           22.403423309326172,
           22.557201385498047,
           22.709768295288086,
           22.861286163330078,
           23.012510299682617,
           23.164865493774414,
           23.319042205810547,
           23.475570678710938,
           23.634910583496094,
           23.79877471923828,
           23.969633102416992,
           24.148767471313477,
           24.33917236328125,
           24.542978286743164,
           24.75747299194336,
           24.980974197387695
          ],
          [
           18.796125411987305,
           18.984695434570312,
           19.161848068237305,
           19.332347869873047,
           19.49762725830078,
           19.65887451171875,
           19.815845489501953,
           19.969825744628906,
           20.12183952331543,
           20.27303123474121,
           20.423694610595703,
           20.57404136657715,
           20.723331451416016,
           20.873126983642578,
           21.02423667907715,
           21.177520751953125,
           21.33317756652832,
           21.49249267578125,
           21.65797996520996,
           21.83321762084961,
           22.023277282714844,
           22.22614860534668,
           22.438724517822266,
           22.659151077270508,
           22.886199951171875
          ],
          [
           16.719226837158203,
           16.915447235107422,
           17.097522735595703,
           17.26954460144043,
           17.435230255126953,
           17.595365524291992,
           17.750659942626953,
           17.90196418762207,
           18.050905227661133,
           18.198854446411133,
           18.3465633392334,
           18.494977951049805,
           18.644439697265625,
           18.794208526611328,
           18.945159912109375,
           19.09933853149414,
           19.25750160217285,
           19.421640396118164,
           19.597524642944336,
           19.786165237426758,
           19.986064910888672,
           20.195756912231445,
           20.41192054748535,
           20.634254455566406,
           20.8614444732666
          ],
          [
           14.460430145263672,
           14.760894775390625,
           14.999685287475586,
           15.201637268066406,
           15.384331703186035,
           15.554459571838379,
           15.716959953308105,
           15.872600555419922,
           16.024394989013672,
           16.173688888549805,
           16.322509765625,
           16.472349166870117,
           16.623321533203125,
           16.775230407714844,
           16.929027557373047,
           17.087871551513672,
           17.25579261779785,
           17.433929443359375,
           17.62234115600586,
           17.819738388061523,
           18.0250186920166,
           18.2371768951416,
           18.454044342041016,
           18.675518035888672,
           18.901865005493164
          ],
          [
           11.608373641967773,
           12.010054588317871,
           12.37236213684082,
           12.713014602661133,
           13.03489875793457,
           13.33694839477539,
           13.600805282592773,
           13.81161880493164,
           13.994477272033691,
           14.164155960083008,
           14.327335357666016,
           14.48801326751709,
           14.647335052490234,
           14.807827949523926,
           14.973740577697754,
           15.148332595825195,
           15.331128120422363,
           15.521367073059082,
           15.717634201049805,
           15.919883728027344,
           16.127971649169922,
           16.341094970703125,
           16.558116912841797,
           16.779111862182617,
           17.00478744506836
          ],
          [
           8.679767608642578,
           9.055502891540527,
           9.468282699584961,
           9.873939514160156,
           10.23877239227295,
           10.573956489562988,
           10.902215003967285,
           11.22868537902832,
           11.552905082702637,
           11.869049072265625,
           12.171093940734863,
           12.436698913574219,
           12.655808448791504,
           12.859753608703613,
           13.060148239135742,
           13.259577751159668,
           13.45960521697998,
           13.661850929260254,
           13.86685848236084,
           14.074751853942871,
           14.286125183105469,
           14.501203536987305,
           14.719367027282715,
           14.941636085510254,
           15.168730735778809
          ],
          [
           6.646073818206787,
           6.702121257781982,
           6.853323936462402,
           7.104745864868164,
           7.438313961029053,
           7.813691139221191,
           8.18731689453125,
           8.52942943572998,
           8.850566864013672,
           9.168807983398438,
           9.492762565612793,
           9.830578804016113,
           10.18165397644043,
           10.540075302124023,
           10.894760131835938,
           11.23696231842041,
           11.540135383605957,
           11.79586124420166,
           12.031244277954102,
           12.258179664611816,
           12.481643676757812,
           12.705181121826172,
           12.929924964904785,
           13.158198356628418,
           13.390010833740234
          ],
          [
           5.426658630371094,
           5.286531448364258,
           5.221487522125244,
           5.234533309936523,
           5.325641632080078,
           5.494438648223877,
           5.744236946105957,
           6.062439441680908,
           6.41934061050415,
           6.776775360107422,
           7.108807563781738,
           7.420975208282471,
           7.7319254875183105,
           8.05135440826416,
           8.38315486907959,
           8.7288818359375,
           9.090217590332031,
           9.460526466369629,
           9.834598541259766,
           10.204373359680176,
           10.562117576599121,
           10.880441665649414,
           11.154295921325684,
           11.410961151123047,
           11.663405418395996
          ],
          [
           4.8867974281311035,
           4.467828750610352,
           4.1859002113342285,
           4.010468006134033,
           3.9210922718048096,
           3.9070565700531006,
           3.968226909637451,
           4.101452827453613,
           4.305822372436523,
           4.580106258392334,
           4.9127068519592285,
           5.277295112609863,
           5.642195224761963,
           5.987722873687744,
           6.310787200927734,
           6.625221252441406,
           6.938950538635254,
           7.254133224487305,
           7.5774664878845215,
           7.913041591644287,
           8.266595840454102,
           8.640864372253418,
           9.029666900634766,
           9.42556095123291,
           9.821056365966797
          ],
          [
           5.451005935668945,
           4.753846168518066,
           4.126764297485352,
           3.5852863788604736,
           3.155383825302124,
           2.8622679710388184,
           2.702195167541504,
           2.6432242393493652,
           2.66827654838562,
           2.7766947746276855,
           2.970781087875366,
           3.250720977783203,
           3.6038808822631836,
           3.9957714080810547,
           4.398339748382568,
           4.794300556182861,
           5.17124605178833,
           5.526914119720459,
           5.871774673461914,
           6.215617656707764,
           6.562461853027344,
           6.915895462036133,
           7.2816596031188965,
           7.662561893463135,
           8.05831241607666
          ],
          [
           6.1201348304748535,
           5.360610485076904,
           4.649162769317627,
           3.989625930786133,
           3.386707305908203,
           2.8424766063690186,
           2.362983226776123,
           1.9628719091415405,
           1.666630744934082,
           1.50372314453125,
           1.487764835357666,
           1.6175044775009155,
           1.8978983163833618,
           2.2885425090789795,
           2.72683048248291,
           3.18123459815979,
           3.63773775100708,
           4.089093208312988,
           4.525180816650391,
           4.9373250007629395,
           5.326753616333008,
           5.7000508308410645,
           6.070693016052246,
           6.443737506866455,
           6.820960998535156
          ],
          [
           6.669194221496582,
           5.840579986572266,
           5.061583995819092,
           4.340637683868408,
           3.683198928833008,
           3.0876059532165527,
           2.54693865776062,
           2.057004690170288,
           1.6164768934249878,
           1.2280750274658203,
           0.913936972618103,
           0.7198426127433777,
           0.7122832536697388,
           0.9388372898101807,
           1.3289042711257935,
           1.7855486869812012,
           2.268756866455078,
           2.7658627033233643,
           3.2666122913360596,
           3.7624266147613525,
           4.245523452758789,
           4.709928035736084,
           5.151096820831299,
           5.566771984100342,
           5.959239959716797
          ],
          [
           7.240638732910156,
           6.33692741394043,
           5.492860317230225,
           4.710150718688965,
           3.989905595779419,
           3.3278772830963135,
           2.7208383083343506,
           2.1680617332458496,
           1.6678318977355957,
           1.2267731428146362,
           0.8644155859947205,
           0.6057851910591125,
           0.4812015891075134,
           0.5229976773262024,
           0.707790195941925,
           0.9750748872756958,
           1.307911992073059,
           1.7171694040298462,
           2.1956729888916016,
           2.714367389678955,
           3.247891902923584,
           3.781690835952759,
           4.306243419647217,
           4.8133625984191895,
           5.298710823059082
          ],
          [
           7.907304286956787,
           6.922194004058838,
           6.002326488494873,
           5.14849853515625,
           4.355699062347412,
           3.622009754180908,
           2.950437545776367,
           2.342252492904663,
           1.7996866703033447,
           1.3334492444992065,
           0.9629147052764893,
           0.7142412066459656,
           0.6198185086250305,
           0.6862736344337463,
           0.8542787432670593,
           1.069629192352295,
           1.3166791200637817,
           1.594382405281067,
           1.9094709157943726,
           2.2672314643859863,
           2.675309419631958,
           3.1433684825897217,
           3.661470413208008,
           4.205851078033447,
           4.756680011749268
          ],
          [
           8.623441696166992,
           7.568402290344238,
           6.5788774490356445,
           5.65998649597168,
           4.80903434753418,
           4.025274753570557,
           3.311023235321045,
           2.669731855392456,
           2.107543468475342,
           1.6425992250442505,
           1.2981778383255005,
           1.0950323343276978,
           1.0424766540527344,
           1.1147880554199219,
           1.2621088027954102,
           1.4543358087539673,
           1.6806224584579468,
           1.938026785850525,
           2.2272210121154785,
           2.552062749862671,
           2.912663459777832,
           3.3031005859375,
           3.716494083404541,
           4.155429840087891,
           4.625129699707031
          ],
          [
           9.323358535766602,
           8.208340644836426,
           7.15960693359375,
           6.190555095672607,
           5.302061557769775,
           4.496163845062256,
           3.7764594554901123,
           3.1488935947418213,
           2.6221730709075928,
           2.2115578651428223,
           1.926992654800415,
           1.7668750286102295,
           1.7180157899856567,
           1.7549573183059692,
           1.858389973640442,
           2.0161473751068115,
           2.220315933227539,
           2.4655730724334717,
           2.7487049102783203,
           3.069827079772949,
           3.429083824157715,
           3.8264851570129395,
           4.259711265563965,
           4.721073627471924,
           5.202402114868164
          ],
          [
           9.975372314453125,
           8.811164855957031,
           7.722949981689453,
           6.728596210479736,
           5.834930896759033,
           5.047271251678467,
           4.372868061065674,
           3.8175814151763916,
           3.3788771629333496,
           3.052180767059326,
           2.825028419494629,
           2.6805458068847656,
           2.6043460369110107,
           2.5910799503326416,
           2.6415510177612305,
           2.755192518234253,
           2.929155111312866,
           3.160000801086426,
           3.44303297996521,
           3.7737088203430176,
           4.149717330932617,
           4.569375514984131,
           5.030698299407959,
           5.528590679168701,
           6.055160045623779
          ],
          [
           10.576354026794434,
           9.378280639648438,
           8.277002334594727,
           7.294427394866943,
           6.442502498626709,
           5.7269487380981445,
           5.144800186157227,
           4.685707092285156,
           4.336971282958984,
           4.079596042633057,
           3.889742374420166,
           3.7497825622558594,
           3.6534719467163086,
           3.606017589569092,
           3.6161446571350098,
           3.690046787261963,
           3.83089280128479,
           4.040999889373779,
           4.319093227386475,
           4.659642219543457,
           5.057518005371094,
           5.507592678070068,
           6.004332542419434,
           6.544975280761719,
           7.123828411102295
          ],
          [
           11.134450912475586,
           9.924577713012695,
           8.845671653747559,
           7.922538757324219,
           7.15715217590332,
           6.538976669311523,
           6.052286624908447,
           5.683299541473389,
           5.409401893615723,
           5.20301628112793,
           5.0388593673706055,
           4.907953262329102,
           4.809406757354736,
           4.748703479766846,
           4.734364032745361,
           4.777055263519287,
           4.886451721191406,
           5.070197582244873,
           5.3345561027526855,
           5.678403377532959,
           6.094078540802002,
           6.570376873016357,
           7.10066032409668,
           7.680280685424805,
           8.307060241699219
          ],
          [
           11.64249324798584,
           10.457023620605469,
           9.44210433959961,
           8.606484413146973,
           7.933350086212158,
           7.402377605438232,
           7.00053596496582,
           6.7071356773376465,
           6.489383220672607,
           6.317002296447754,
           6.1738810539245605,
           6.055340766906738,
           5.962187767028809,
           5.899166107177734,
           5.873920917510986,
           5.896512031555176,
           5.979706287384033,
           6.134825706481934,
           6.374983787536621,
           6.710224628448486,
           7.136318683624268,
           7.639749526977539,
           8.20560073852539,
           8.82713794708252,
           9.504999160766602
          ],
          [
           12.148431777954102,
           11.021587371826172,
           10.092864990234375,
           9.345799446105957,
           8.750272750854492,
           8.286992073059082,
           7.941951274871826,
           7.687556743621826,
           7.48862886428833,
           7.324583053588867,
           7.18747091293335,
           7.073487758636475,
           6.9825544357299805,
           6.919156074523926,
           6.891025543212891,
           6.908875465393066,
           6.9840593338012695,
           7.127403736114502,
           7.349954128265381,
           7.671953201293945,
           8.103340148925781,
           8.633781433105469,
           9.243165969848633,
           9.91468334197998,
           10.647257804870605
          ],
          [
           12.686077117919922,
           11.644012451171875,
           10.808319091796875,
           10.14022445678711,
           9.609901428222656,
           9.199697494506836,
           8.890987396240234,
           8.649612426757812,
           8.449807167053223,
           8.279938697814941,
           8.135409355163574,
           8.013882637023926,
           7.915672302246094,
           7.8439764976501465,
           7.805915832519531,
           7.813350200653076,
           7.879754066467285,
           8.015990257263184,
           8.231062889099121,
           8.54338550567627,
           8.972759246826172,
           9.519684791564941,
           10.163309097290039,
           10.880682945251465,
           11.665023803710938
          ],
          [
           13.267009735107422,
           12.324275016784668,
           11.575807571411133,
           10.97671127319336,
           10.502490043640137,
           10.135422706604004,
           9.846976280212402,
           9.604902267456055,
           9.395231246948242,
           9.213573455810547,
           9.057283401489258,
           8.92545223236084,
           8.817544937133789,
           8.736625671386719,
           8.688568115234375,
           8.687050819396973,
           8.749171257019043,
           8.884251594543457,
           9.097899436950684,
           9.404826164245605,
           9.83008861541748,
           10.385093688964844,
           11.053961753845215,
           11.809283256530762,
           12.637931823730469
          ],
          [
           13.908414840698242,
           13.064451217651367,
           12.392077445983887,
           11.853930473327637,
           11.428150177001953,
           11.091482162475586,
           10.808263778686523,
           10.557354927062988,
           10.334577560424805,
           10.139291763305664,
           9.97065544128418,
           9.827632904052734,
           9.710556030273438,
           9.621186256408691,
           9.566673278808594,
           9.56033706665039,
           9.620795249938965,
           9.758954048156738,
           9.97752571105957,
           10.28794002532959,
           10.714167594909668,
           11.277427673339844,
           11.969522476196289,
           12.759894371032715,
           13.626534461975098
          ],
          [
           14.615889549255371,
           13.861370086669922,
           13.258845329284668,
           12.776052474975586,
           12.391056060791016,
           12.068150520324707,
           11.779266357421875,
           11.515995979309082,
           11.278321266174316,
           11.067618370056152,
           10.885547637939453,
           10.730690956115723,
           10.60409164428711,
           10.508506774902344,
           10.450348854064941,
           10.442724227905273,
           10.503844261169434,
           10.647270202636719,
           10.875658988952637,
           11.195686340332031,
           11.628035545349121,
           12.201181411743164,
           12.914822578430176,
           13.735633850097656,
           14.634889602661133
          ]
         ]
        },
        {
         "colorscale": [
          [
           0,
           "#0508b8"
          ],
          [
           0.08333333333333333,
           "#1910d8"
          ],
          [
           0.16666666666666666,
           "#3c19f0"
          ],
          [
           0.25,
           "#6b1cfb"
          ],
          [
           0.3333333333333333,
           "#981cfd"
          ],
          [
           0.4166666666666667,
           "#bf1cfd"
          ],
          [
           0.5,
           "#dd2bfd"
          ],
          [
           0.5833333333333334,
           "#f246fe"
          ],
          [
           0.6666666666666666,
           "#fc67fd"
          ],
          [
           0.75,
           "#fe88fc"
          ],
          [
           0.8333333333333334,
           "#fea5fd"
          ],
          [
           0.9166666666666666,
           "#febefe"
          ],
          [
           1,
           "#fec3fe"
          ]
         ],
         "name": "Apollo",
         "opacity": 0.7,
         "showlegend": true,
         "showscale": false,
         "type": "surface",
         "x": [
          -0.5,
          -0.4583333432674408,
          -0.4166666567325592,
          -0.375,
          -0.3333333432674408,
          -0.2916666567325592,
          -0.25,
          -0.2083333283662796,
          -0.1666666716337204,
          -0.125,
          -0.0833333358168602,
          -0.0416666679084301,
          0,
          0.0416666679084301,
          0.0833333358168602,
          0.125,
          0.1666666716337204,
          0.2083333283662796,
          0.25,
          0.2916666567325592,
          0.3333333432674408,
          0.375,
          0.4166666567325592,
          0.4583333432674408,
          0.5
         ],
         "y": [
          -0.5,
          -0.4583333432674408,
          -0.4166666567325592,
          -0.375,
          -0.3333333432674408,
          -0.2916666567325592,
          -0.25,
          -0.2083333283662796,
          -0.1666666716337204,
          -0.125,
          -0.0833333358168602,
          -0.0416666679084301,
          0,
          0.0416666679084301,
          0.0833333358168602,
          0.125,
          0.1666666716337204,
          0.2083333283662796,
          0.25,
          0.2916666567325592,
          0.3333333432674408,
          0.375,
          0.4166666567325592,
          0.4583333432674408,
          0.5
         ],
         "z": [
          [
           3.8354218006134033,
           3.6727566719055176,
           3.5239856243133545,
           3.3907575607299805,
           3.2738144397735596,
           3.1760144233703613,
           3.101003408432007,
           3.0496184825897217,
           3.0205373764038086,
           3.01181697845459,
           3.023406982421875,
           3.0559051036834717,
           3.107964038848877,
           3.1773107051849365,
           3.262378692626953,
           3.3631856441497803,
           3.4817678928375244,
           3.619966983795166,
           3.780465841293335,
           3.964698076248169,
           4.171576976776123,
           4.4007720947265625,
           4.6482744216918945,
           4.910951137542725,
           5.186520576477051
          ],
          [
           3.575472593307495,
           3.410670280456543,
           3.258669376373291,
           3.120952606201172,
           2.9999239444732666,
           2.898149013519287,
           2.817350387573242,
           2.7615599632263184,
           2.7276813983917236,
           2.713656425476074,
           2.721203327178955,
           2.747790813446045,
           2.793494462966919,
           2.85442852973938,
           2.93080997467041,
           3.020996570587158,
           3.1258647441864014,
           3.2471201419830322,
           3.3880624771118164,
           3.5504355430603027,
           3.73528790473938,
           3.9431209564208984,
           4.171990394592285,
           4.418130874633789,
           4.6792449951171875
          ],
          [
           3.337864398956299,
           3.1692793369293213,
           3.0147323608398438,
           2.8741958141326904,
           2.749727964401245,
           2.644548177719116,
           2.5596306324005127,
           2.4983251094818115,
           2.459279775619507,
           2.4400455951690674,
           2.4428257942199707,
           2.4636316299438477,
           2.5009665489196777,
           2.55290150642395,
           2.6180789470672607,
           2.6944119930267334,
           2.7822391986846924,
           2.8848085403442383,
           3.0061490535736084,
           3.1491434574127197,
           3.315502882003784,
           3.5059070587158203,
           3.7196402549743652,
           3.9525721073150635,
           4.2034173011779785
          ],
          [
           3.1203973293304443,
           2.9477334022521973,
           2.7903590202331543,
           2.6461844444274902,
           2.5194993019104004,
           2.411876916885376,
           2.3238747119903564,
           2.2573280334472656,
           2.212541103363037,
           2.1879351139068604,
           2.1849515438079834,
           2.1988823413848877,
           2.2275798320770264,
           2.2675721645355225,
           2.3173272609710693,
           2.3775811195373535,
           2.448578119277954,
           2.5337743759155273,
           2.6396071910858154,
           2.7672486305236816,
           2.918734312057495,
           3.0951664447784424,
           3.297252893447876,
           3.5221669673919678,
           3.7681632041931152
          ],
          [
           2.917726516723633,
           2.7421629428863525,
           2.581864833831787,
           2.435047149658203,
           2.30458664894104,
           2.194856882095337,
           2.1044986248016357,
           2.034547805786133,
           1.9839736223220825,
           1.9528707265853882,
           1.9429502487182617,
           1.9487218856811523,
           1.9654576778411865,
           1.9909158945083618,
           2.0256245136260986,
           2.0699503421783447,
           2.126990795135498,
           2.1999552249908447,
           2.2927935123443604,
           2.4085745811462402,
           2.549395799636841,
           2.716473340988159,
           2.9120986461639404,
           3.1358115673065186,
           3.387646198272705
          ],
          [
           2.7221667766571045,
           2.543628692626953,
           2.380235195159912,
           2.232349395751953,
           2.0983197689056396,
           1.986295461654663,
           1.8943090438842773,
           1.821380615234375,
           1.7658746242523193,
           1.7288153171539307,
           1.7102819681167603,
           1.705143928527832,
           1.7097971439361572,
           1.7215261459350586,
           1.7435173988342285,
           1.7765178680419922,
           1.8232988119125366,
           1.8866782188415527,
           1.969809651374817,
           2.078152894973755,
           2.213585138320923,
           2.3787519931793213,
           2.577476978302002,
           2.812540054321289,
           3.0836920738220215
          ],
          [
           2.5382373332977295,
           2.3563625812530518,
           2.1865413188934326,
           2.032742738723755,
           1.8948938846588135,
           1.777354121208191,
           1.6822947263717651,
           1.6072338819503784,
           1.548628330230713,
           1.5048372745513916,
           1.4789259433746338,
           1.463881254196167,
           1.4588583707809448,
           1.4625645875930786,
           1.476021409034729,
           1.5003662109375,
           1.5400819778442383,
           1.5973904132843018,
           1.6768771409988403,
           1.7836370468139648,
           1.9228088855743408,
           2.0983872413635254,
           2.3141491413116455,
           2.5716679096221924,
           2.8697569370269775
          ],
          [
           2.377354145050049,
           2.1897637844085693,
           2.012923240661621,
           1.849920392036438,
           1.7037423849105835,
           1.5768767595291138,
           1.4739818572998047,
           1.3924673795700073,
           1.329355001449585,
           1.2808046340942383,
           1.247931957244873,
           1.2274523973464966,
           1.2166073322296143,
           1.2152245044708252,
           1.2232141494750977,
           1.2430552244186401,
           1.280173897743225,
           1.3378387689590454,
           1.4217641353607178,
           1.538985252380371,
           1.6950627565383911,
           1.8930857181549072,
           2.1349499225616455,
           2.4202189445495605,
           2.746753454208374
          ],
          [
           2.2554941177368164,
           2.0602211952209473,
           1.8749446868896484,
           1.7012379169464111,
           1.54241144657135,
           1.4021496772766113,
           1.2835896015167236,
           1.1891614198684692,
           1.1161309480667114,
           1.0607988834381104,
           1.0212658643722534,
           0.9972149729728699,
           0.9834280610084534,
           0.9798240065574646,
           0.987389326095581,
           1.0096197128295898,
           1.0517799854278564,
           1.1207408905029297,
           1.2220581769943237,
           1.362240195274353,
           1.54507315158844,
           1.7714877128601074,
           2.041175127029419,
           2.3530449867248535,
           2.70503306388855
          ],
          [
           2.182162046432495,
           1.9785542488098145,
           1.784225583076477,
           1.6011543273925781,
           1.4284132719039917,
           1.2714872360229492,
           1.1342637538909912,
           1.0186593532562256,
           0.927397608757019,
           0.8581283092498779,
           0.8082630038261414,
           0.7770971059799194,
           0.7631938457489014,
           0.7625499367713928,
           0.7773714661598206,
           0.812191367149353,
           0.8722013831138611,
           0.9645378589630127,
           1.0932084321975708,
           1.2623600959777832,
           1.4743931293487549,
           1.727577805519104,
           2.02168345451355,
           2.355485677719116,
           2.7287070751190186
          ],
          [
           2.162031888961792,
           1.9494121074676514,
           1.7466548681259155,
           1.5542397499084473,
           1.370467185974121,
           1.1986202001571655,
           1.042993426322937,
           0.9054088592529297,
           0.7889476418495178,
           0.6949641108512878,
           0.6258293390274048,
           0.5844438672065735,
           0.5690757632255554,
           0.5777403116226196,
           0.6102991700172424,
           0.6688693761825562,
           0.756851851940155,
           0.8788298964500427,
           1.0371215343475342,
           1.2340137958526611,
           1.4697352647781372,
           1.7450731992721558,
           2.059699058532715,
           2.4130897521972656,
           2.8049614429473877
          ],
          [
           2.1944503784179688,
           1.9739587306976318,
           1.7629035711288452,
           1.5611109733581543,
           1.3680171966552734,
           1.184308648109436,
           1.0129177570343018,
           0.8561995625495911,
           0.7156596183776855,
           0.59486323595047,
           0.5026117563247681,
           0.44594186544418335,
           0.42798662185668945,
           0.44900715351104736,
           0.5045421719551086,
           0.5915524363517761,
           0.7085481882095337,
           0.8583104610443115,
           1.0417674779891968,
           1.2612603902816772,
           1.517253041267395,
           1.8118103742599487,
           2.144774913787842,
           2.514892816543579,
           2.921172857284546
          ],
          [
           2.270005941390991,
           2.046041488647461,
           1.8287853002548218,
           1.6194090843200684,
           1.4178717136383057,
           1.2262712717056274,
           1.0437146425247192,
           0.8709600567817688,
           0.7110453248023987,
           0.5684945583343506,
           0.4558258056640625,
           0.3860335052013397,
           0.36501389741897583,
           0.3938407897949219,
           0.4677158296108246,
           0.5780319571495056,
           0.7197415828704834,
           0.8904248476028442,
           1.0930240154266357,
           1.331606149673462,
           1.6064974069595337,
           1.9178203344345093,
           2.2651777267456055,
           2.6477174758911133,
           3.0662715435028076
          ],
          [
           2.3782858848571777,
           2.1535403728485107,
           1.9331010580062866,
           1.7189793586730957,
           1.5125339031219482,
           1.3149824142456055,
           1.1269185543060303,
           0.9449502825737,
           0.7719265222549438,
           0.614810049533844,
           0.488411009311676,
           0.4077834486961365,
           0.3826335370540619,
           0.4141395688056946,
           0.49798205494880676,
           0.6238051652908325,
           0.7813488841056824,
           0.9688441753387451,
           1.188253402709961,
           1.4422616958618164,
           1.7321721315383911,
           2.055593967437744,
           2.4118399620056152,
           2.8032448291778564,
           3.23071026802063
          ],
          [
           2.5111076831817627,
           2.286248207092285,
           2.0646793842315674,
           1.8476920127868652,
           1.6388614177703857,
           1.4380854368209839,
           1.2469980716705322,
           1.0637311935424805,
           0.8857910633087158,
           0.7225965857505798,
           0.5876796841621399,
           0.49997904896736145,
           0.4692818820476532,
           0.5001435279846191,
           0.5873244404792786,
           0.7206040620803833,
           0.8883045315742493,
           1.089578628540039,
           1.3222479820251465,
           1.5880804061889648,
           1.887610673904419,
           2.2200472354888916,
           2.5858888626098633,
           2.985401153564453,
           3.421121835708618
          ],
          [
           2.6610097885131836,
           2.4362192153930664,
           2.213916301727295,
           1.9965085983276367,
           1.7867518663406372,
           1.5852563381195068,
           1.3931059837341309,
           1.2105060815811157,
           1.0362797975540161,
           0.8725025653839111,
           0.7352761626243591,
           0.6435953974723816,
           0.6089909672737122,
           0.6369343400001526,
           0.7244192361831665,
           0.8595088720321655,
           1.0332809686660767,
           1.2400943040847778,
           1.4792346954345703,
           1.7512528896331787,
           2.0575501918792725,
           2.3967716693878174,
           2.770137310028076,
           3.177748680114746,
           3.6211905479431152
          ],
          [
           2.823498010635376,
           2.5977590084075928,
           2.3746745586395264,
           2.1583316326141357,
           1.949690580368042,
           1.7487496137619019,
           1.5564125776290894,
           1.3745471239089966,
           1.2053312063217163,
           1.0466628074645996,
           0.910373330116272,
           0.8176975250244141,
           0.7811949253082275,
           0.8064984679222107,
           0.8930838704109192,
           1.027920126914978,
           1.2015854120254517,
           1.4084291458129883,
           1.6499292850494385,
           1.9254788160324097,
           2.234992504119873,
           2.580169200897217,
           2.9600741863250732,
           3.3745920658111572,
           3.825502872467041
          ],
          [
           2.993015766143799,
           2.768366813659668,
           2.545809507369995,
           2.329712390899658,
           2.1227195262908936,
           1.9226981401443481,
           1.7306679487228394,
           1.5505021810531616,
           1.384568691253662,
           1.233686089515686,
           1.1013432741165161,
           1.008436679840088,
           0.9713678956031799,
           0.9951561093330383,
           1.078982949256897,
           1.212317705154419,
           1.3841402530670166,
           1.5898306369781494,
           1.8317079544067383,
           2.1087024211883545,
           2.420769453048706,
           2.768721342086792,
           3.1545326709747314,
           3.5751779079437256,
           4.0327019691467285
          ],
          [
           3.1677427291870117,
           2.9451355934143066,
           2.7240002155303955,
           2.5093448162078857,
           2.3029916286468506,
           2.1037564277648926,
           1.9128375053405762,
           1.7341647148132324,
           1.5707122087478638,
           1.4256184101104736,
           1.3013163805007935,
           1.209604263305664,
           1.1711149215698242,
           1.1948750019073486,
           1.2761741876602173,
           1.4076545238494873,
           1.5797977447509766,
           1.7860761880874634,
           2.026991844177246,
           2.30372953414917,
           2.617220401763916,
           2.968353033065796,
           3.356842517852783,
           3.7819559574127197,
           4.243683338165283
          ],
          [
           3.3468172550201416,
           3.126913547515869,
           2.9091715812683105,
           2.6959125995635986,
           2.489194631576538,
           2.2911365032196045,
           2.1013853549957275,
           1.924363374710083,
           1.7641804218292236,
           1.622475028038025,
           1.5053969621658325,
           1.4176918268203735,
           1.378946304321289,
           1.4019775390625,
           1.482741355895996,
           1.6152371168136597,
           1.7885111570358276,
           1.9959310293197632,
           2.237412929534912,
           2.5140724182128906,
           2.827983856201172,
           3.179398775100708,
           3.5695149898529053,
           3.996755599975586,
           4.46036434173584
          ],
          [
           3.53145694732666,
           3.314479351043701,
           3.099642753601074,
           2.887876272201538,
           2.6813974380493164,
           2.4831080436706543,
           2.294379234313965,
           2.1188292503356934,
           1.9607685804367065,
           1.8224350214004517,
           1.7106938362121582,
           1.631784439086914,
           1.5948069095611572,
           1.6167185306549072,
           1.6998649835586548,
           1.8346279859542847,
           2.010128974914551,
           2.219139337539673,
           2.4614574909210205,
           2.7387285232543945,
           3.0517308712005615,
           3.403357982635498,
           3.792311191558838,
           4.218589782714844,
           4.681593894958496
          ],
          [
           3.7228360176086426,
           3.5078463554382324,
           3.2947816848754883,
           3.084254264831543,
           2.8781349658966064,
           2.6797051429748535,
           2.492128610610962,
           2.3186755180358887,
           2.1612088680267334,
           2.0261080265045166,
           1.919800043106079,
           1.8479180335998535,
           1.8167797327041626,
           1.8410230875015259,
           1.9269970655441284,
           2.06535267829895,
           2.2439796924591064,
           2.4556896686553955,
           2.697817325592041,
           2.975358486175537,
           3.2880945205688477,
           3.637125015258789,
           4.023083209991455,
           4.446475028991699,
           4.907952785491943
          ],
          [
           3.919661283493042,
           3.7056515216827393,
           3.4931352138519287,
           3.2835755348205566,
           3.078508138656616,
           2.8803515434265137,
           2.69427227973938,
           2.5223381519317627,
           2.3664045333862305,
           2.234201192855835,
           2.1335391998291016,
           2.0681750774383545,
           2.04571795463562,
           2.0746805667877197,
           2.164466142654419,
           2.306689739227295,
           2.48844575881958,
           2.701892137527466,
           2.9445958137512207,
           3.220245122909546,
           3.532252550125122,
           3.8787379264831543,
           4.2612810134887695,
           4.68170690536499,
           5.140980243682861
          ],
          [
           4.122021198272705,
           3.907965898513794,
           3.695321798324585,
           3.4862258434295654,
           3.2824134826660156,
           3.0857701301574707,
           2.9005463123321533,
           2.7297348976135254,
           2.5760483741760254,
           2.447237491607666,
           2.3515141010284424,
           2.294135332107544,
           2.2808947563171387,
           2.3184468746185303,
           2.4124395847320557,
           2.5575456619262695,
           2.7430176734924316,
           2.957359790802002,
           3.200613498687744,
           3.4746367931365967,
           3.7826695442199707,
           4.127115249633789,
           4.5066819190979,
           4.923932075500488,
           5.380744457244873
          ],
          [
           4.328911304473877,
           4.114295482635498,
           3.9019179344177246,
           3.6932919025421143,
           3.49061918258667,
           3.2949721813201904,
           3.110225200653076,
           2.9404497146606445,
           2.7900922298431396,
           2.6653645038604736,
           2.5744590759277344,
           2.5252761840820312,
           2.523204803466797,
           2.5711746215820312,
           2.670362949371338,
           2.8183932304382324,
           3.0060970783233643,
           3.222996234893799,
           3.465986728668213,
           3.738412857055664,
           4.042962074279785,
           4.383540630340576,
           4.760457515716553,
           5.174571990966797,
           5.628494739532471
          ]
         ]
        }
       ],
       "layout": {
        "autosize": true,
        "margin": {
         "b": 65,
         "l": 65,
         "r": 50,
         "t": 90
        },
        "template": {
         "data": {
          "bar": [
           {
            "error_x": {
             "color": "#2a3f5f"
            },
            "error_y": {
             "color": "#2a3f5f"
            },
            "marker": {
             "line": {
              "color": "#E5ECF6",
              "width": 0.5
             }
            },
            "type": "bar"
           }
          ],
          "barpolar": [
           {
            "marker": {
             "line": {
              "color": "#E5ECF6",
              "width": 0.5
             }
            },
            "type": "barpolar"
           }
          ],
          "carpet": [
           {
            "aaxis": {
             "endlinecolor": "#2a3f5f",
             "gridcolor": "white",
             "linecolor": "white",
             "minorgridcolor": "white",
             "startlinecolor": "#2a3f5f"
            },
            "baxis": {
             "endlinecolor": "#2a3f5f",
             "gridcolor": "white",
             "linecolor": "white",
             "minorgridcolor": "white",
             "startlinecolor": "#2a3f5f"
            },
            "type": "carpet"
           }
          ],
          "choropleth": [
           {
            "colorbar": {
             "outlinewidth": 0,
             "ticks": ""
            },
            "type": "choropleth"
           }
          ],
          "contour": [
           {
            "colorbar": {
             "outlinewidth": 0,
             "ticks": ""
            },
            "colorscale": [
             [
              0,
              "#0d0887"
             ],
             [
              0.1111111111111111,
              "#46039f"
             ],
             [
              0.2222222222222222,
              "#7201a8"
             ],
             [
              0.3333333333333333,
              "#9c179e"
             ],
             [
              0.4444444444444444,
              "#bd3786"
             ],
             [
              0.5555555555555556,
              "#d8576b"
             ],
             [
              0.6666666666666666,
              "#ed7953"
             ],
             [
              0.7777777777777778,
              "#fb9f3a"
             ],
             [
              0.8888888888888888,
              "#fdca26"
             ],
             [
              1,
              "#f0f921"
             ]
            ],
            "type": "contour"
           }
          ],
          "contourcarpet": [
           {
            "colorbar": {
             "outlinewidth": 0,
             "ticks": ""
            },
            "type": "contourcarpet"
           }
          ],
          "heatmap": [
           {
            "colorbar": {
             "outlinewidth": 0,
             "ticks": ""
            },
            "colorscale": [
             [
              0,
              "#0d0887"
             ],
             [
              0.1111111111111111,
              "#46039f"
             ],
             [
              0.2222222222222222,
              "#7201a8"
             ],
             [
              0.3333333333333333,
              "#9c179e"
             ],
             [
              0.4444444444444444,
              "#bd3786"
             ],
             [
              0.5555555555555556,
              "#d8576b"
             ],
             [
              0.6666666666666666,
              "#ed7953"
             ],
             [
              0.7777777777777778,
              "#fb9f3a"
             ],
             [
              0.8888888888888888,
              "#fdca26"
             ],
             [
              1,
              "#f0f921"
             ]
            ],
            "type": "heatmap"
           }
          ],
          "heatmapgl": [
           {
            "colorbar": {
             "outlinewidth": 0,
             "ticks": ""
            },
            "colorscale": [
             [
              0,
              "#0d0887"
             ],
             [
              0.1111111111111111,
              "#46039f"
             ],
             [
              0.2222222222222222,
              "#7201a8"
             ],
             [
              0.3333333333333333,
              "#9c179e"
             ],
             [
              0.4444444444444444,
              "#bd3786"
             ],
             [
              0.5555555555555556,
              "#d8576b"
             ],
             [
              0.6666666666666666,
              "#ed7953"
             ],
             [
              0.7777777777777778,
              "#fb9f3a"
             ],
             [
              0.8888888888888888,
              "#fdca26"
             ],
             [
              1,
              "#f0f921"
             ]
            ],
            "type": "heatmapgl"
           }
          ],
          "histogram": [
           {
            "marker": {
             "colorbar": {
              "outlinewidth": 0,
              "ticks": ""
             }
            },
            "type": "histogram"
           }
          ],
          "histogram2d": [
           {
            "colorbar": {
             "outlinewidth": 0,
             "ticks": ""
            },
            "colorscale": [
             [
              0,
              "#0d0887"
             ],
             [
              0.1111111111111111,
              "#46039f"
             ],
             [
              0.2222222222222222,
              "#7201a8"
             ],
             [
              0.3333333333333333,
              "#9c179e"
             ],
             [
              0.4444444444444444,
              "#bd3786"
             ],
             [
              0.5555555555555556,
              "#d8576b"
             ],
             [
              0.6666666666666666,
              "#ed7953"
             ],
             [
              0.7777777777777778,
              "#fb9f3a"
             ],
             [
              0.8888888888888888,
              "#fdca26"
             ],
             [
              1,
              "#f0f921"
             ]
            ],
            "type": "histogram2d"
           }
          ],
          "histogram2dcontour": [
           {
            "colorbar": {
             "outlinewidth": 0,
             "ticks": ""
            },
            "colorscale": [
             [
              0,
              "#0d0887"
             ],
             [
              0.1111111111111111,
              "#46039f"
             ],
             [
              0.2222222222222222,
              "#7201a8"
             ],
             [
              0.3333333333333333,
              "#9c179e"
             ],
             [
              0.4444444444444444,
              "#bd3786"
             ],
             [
              0.5555555555555556,
              "#d8576b"
             ],
             [
              0.6666666666666666,
              "#ed7953"
             ],
             [
              0.7777777777777778,
              "#fb9f3a"
             ],
             [
              0.8888888888888888,
              "#fdca26"
             ],
             [
              1,
              "#f0f921"
             ]
            ],
            "type": "histogram2dcontour"
           }
          ],
          "mesh3d": [
           {
            "colorbar": {
             "outlinewidth": 0,
             "ticks": ""
            },
            "type": "mesh3d"
           }
          ],
          "parcoords": [
           {
            "line": {
             "colorbar": {
              "outlinewidth": 0,
              "ticks": ""
             }
            },
            "type": "parcoords"
           }
          ],
          "pie": [
           {
            "automargin": true,
            "type": "pie"
           }
          ],
          "scatter": [
           {
            "marker": {
             "colorbar": {
              "outlinewidth": 0,
              "ticks": ""
             }
            },
            "type": "scatter"
           }
          ],
          "scatter3d": [
           {
            "line": {
             "colorbar": {
              "outlinewidth": 0,
              "ticks": ""
             }
            },
            "marker": {
             "colorbar": {
              "outlinewidth": 0,
              "ticks": ""
             }
            },
            "type": "scatter3d"
           }
          ],
          "scattercarpet": [
           {
            "marker": {
             "colorbar": {
              "outlinewidth": 0,
              "ticks": ""
             }
            },
            "type": "scattercarpet"
           }
          ],
          "scattergeo": [
           {
            "marker": {
             "colorbar": {
              "outlinewidth": 0,
              "ticks": ""
             }
            },
            "type": "scattergeo"
           }
          ],
          "scattergl": [
           {
            "marker": {
             "colorbar": {
              "outlinewidth": 0,
              "ticks": ""
             }
            },
            "type": "scattergl"
           }
          ],
          "scattermapbox": [
           {
            "marker": {
             "colorbar": {
              "outlinewidth": 0,
              "ticks": ""
             }
            },
            "type": "scattermapbox"
           }
          ],
          "scatterpolar": [
           {
            "marker": {
             "colorbar": {
              "outlinewidth": 0,
              "ticks": ""
             }
            },
            "type": "scatterpolar"
           }
          ],
          "scatterpolargl": [
           {
            "marker": {
             "colorbar": {
              "outlinewidth": 0,
              "ticks": ""
             }
            },
            "type": "scatterpolargl"
           }
          ],
          "scatterternary": [
           {
            "marker": {
             "colorbar": {
              "outlinewidth": 0,
              "ticks": ""
             }
            },
            "type": "scatterternary"
           }
          ],
          "surface": [
           {
            "colorbar": {
             "outlinewidth": 0,
             "ticks": ""
            },
            "colorscale": [
             [
              0,
              "#0d0887"
             ],
             [
              0.1111111111111111,
              "#46039f"
             ],
             [
              0.2222222222222222,
              "#7201a8"
             ],
             [
              0.3333333333333333,
              "#9c179e"
             ],
             [
              0.4444444444444444,
              "#bd3786"
             ],
             [
              0.5555555555555556,
              "#d8576b"
             ],
             [
              0.6666666666666666,
              "#ed7953"
             ],
             [
              0.7777777777777778,
              "#fb9f3a"
             ],
             [
              0.8888888888888888,
              "#fdca26"
             ],
             [
              1,
              "#f0f921"
             ]
            ],
            "type": "surface"
           }
          ],
          "table": [
           {
            "cells": {
             "fill": {
              "color": "#EBF0F8"
             },
             "line": {
              "color": "white"
             }
            },
            "header": {
             "fill": {
              "color": "#C8D4E3"
             },
             "line": {
              "color": "white"
             }
            },
            "type": "table"
           }
          ]
         },
         "layout": {
          "annotationdefaults": {
           "arrowcolor": "#2a3f5f",
           "arrowhead": 0,
           "arrowwidth": 1
          },
          "autotypenumbers": "strict",
          "coloraxis": {
           "colorbar": {
            "outlinewidth": 0,
            "ticks": ""
           }
          },
          "colorscale": {
           "diverging": [
            [
             0,
             "#8e0152"
            ],
            [
             0.1,
             "#c51b7d"
            ],
            [
             0.2,
             "#de77ae"
            ],
            [
             0.3,
             "#f1b6da"
            ],
            [
             0.4,
             "#fde0ef"
            ],
            [
             0.5,
             "#f7f7f7"
            ],
            [
             0.6,
             "#e6f5d0"
            ],
            [
             0.7,
             "#b8e186"
            ],
            [
             0.8,
             "#7fbc41"
            ],
            [
             0.9,
             "#4d9221"
            ],
            [
             1,
             "#276419"
            ]
           ],
           "sequential": [
            [
             0,
             "#0d0887"
            ],
            [
             0.1111111111111111,
             "#46039f"
            ],
            [
             0.2222222222222222,
             "#7201a8"
            ],
            [
             0.3333333333333333,
             "#9c179e"
            ],
            [
             0.4444444444444444,
             "#bd3786"
            ],
            [
             0.5555555555555556,
             "#d8576b"
            ],
            [
             0.6666666666666666,
             "#ed7953"
            ],
            [
             0.7777777777777778,
             "#fb9f3a"
            ],
            [
             0.8888888888888888,
             "#fdca26"
            ],
            [
             1,
             "#f0f921"
            ]
           ],
           "sequentialminus": [
            [
             0,
             "#0d0887"
            ],
            [
             0.1111111111111111,
             "#46039f"
            ],
            [
             0.2222222222222222,
             "#7201a8"
            ],
            [
             0.3333333333333333,
             "#9c179e"
            ],
            [
             0.4444444444444444,
             "#bd3786"
            ],
            [
             0.5555555555555556,
             "#d8576b"
            ],
            [
             0.6666666666666666,
             "#ed7953"
            ],
            [
             0.7777777777777778,
             "#fb9f3a"
            ],
            [
             0.8888888888888888,
             "#fdca26"
            ],
            [
             1,
             "#f0f921"
            ]
           ]
          },
          "colorway": [
           "#636efa",
           "#EF553B",
           "#00cc96",
           "#ab63fa",
           "#FFA15A",
           "#19d3f3",
           "#FF6692",
           "#B6E880",
           "#FF97FF",
           "#FECB52"
          ],
          "font": {
           "color": "#2a3f5f"
          },
          "geo": {
           "bgcolor": "white",
           "lakecolor": "white",
           "landcolor": "#E5ECF6",
           "showlakes": true,
           "showland": true,
           "subunitcolor": "white"
          },
          "hoverlabel": {
           "align": "left"
          },
          "hovermode": "closest",
          "mapbox": {
           "style": "light"
          },
          "paper_bgcolor": "white",
          "plot_bgcolor": "#E5ECF6",
          "polar": {
           "angularaxis": {
            "gridcolor": "white",
            "linecolor": "white",
            "ticks": ""
           },
           "bgcolor": "#E5ECF6",
           "radialaxis": {
            "gridcolor": "white",
            "linecolor": "white",
            "ticks": ""
           }
          },
          "scene": {
           "xaxis": {
            "backgroundcolor": "#E5ECF6",
            "gridcolor": "white",
            "gridwidth": 2,
            "linecolor": "white",
            "showbackground": true,
            "ticks": "",
            "zerolinecolor": "white"
           },
           "yaxis": {
            "backgroundcolor": "#E5ECF6",
            "gridcolor": "white",
            "gridwidth": 2,
            "linecolor": "white",
            "showbackground": true,
            "ticks": "",
            "zerolinecolor": "white"
           },
           "zaxis": {
            "backgroundcolor": "#E5ECF6",
            "gridcolor": "white",
            "gridwidth": 2,
            "linecolor": "white",
            "showbackground": true,
            "ticks": "",
            "zerolinecolor": "white"
           }
          },
          "shapedefaults": {
           "line": {
            "color": "#2a3f5f"
           }
          },
          "ternary": {
           "aaxis": {
            "gridcolor": "white",
            "linecolor": "white",
            "ticks": ""
           },
           "baxis": {
            "gridcolor": "white",
            "linecolor": "white",
            "ticks": ""
           },
           "bgcolor": "#E5ECF6",
           "caxis": {
            "gridcolor": "white",
            "linecolor": "white",
            "ticks": ""
           }
          },
          "title": {
           "x": 0.05
          },
          "xaxis": {
           "automargin": true,
           "gridcolor": "white",
           "linecolor": "white",
           "ticks": "",
           "title": {
            "standoff": 15
           },
           "zerolinecolor": "white",
           "zerolinewidth": 2
          },
          "yaxis": {
           "automargin": true,
           "gridcolor": "white",
           "linecolor": "white",
           "ticks": "",
           "title": {
            "standoff": 15
           },
           "zerolinecolor": "white",
           "zerolinewidth": 2
          }
         }
        },
        "title": {
         "text": "Loss landscape for Fashion_MNIST"
        },
        "xaxis": {
         "title": {
          "text": "Perturbation in first eigenvector direction"
         }
        },
        "yaxis": {
         "title": {
          "text": "Perturbation in second eigenvector direction"
         }
        }
       }
      },
      "text/html": [
       "<div>                            <div id=\"51bcbb7e-a7d2-4db7-98d9-9346918e7c71\" class=\"plotly-graph-div\" style=\"height:525px; width:100%;\"></div>            <script type=\"text/javascript\">                require([\"plotly\"], function(Plotly) {                    window.PLOTLYENV=window.PLOTLYENV || {};                                    if (document.getElementById(\"51bcbb7e-a7d2-4db7-98d9-9346918e7c71\")) {                    Plotly.newPlot(                        \"51bcbb7e-a7d2-4db7-98d9-9346918e7c71\",                        [{\"colorscale\": [[0.0, \"rgb(255,255,229)\"], [0.125, \"rgb(247,252,185)\"], [0.25, \"rgb(217,240,163)\"], [0.375, \"rgb(173,221,142)\"], [0.5, \"rgb(120,198,121)\"], [0.625, \"rgb(65,171,93)\"], [0.75, \"rgb(35,132,67)\"], [0.875, \"rgb(0,104,55)\"], [1.0, \"rgb(0,69,41)\"]], \"name\": \"Adam\", \"opacity\": 0.7, \"showlegend\": true, \"showscale\": false, \"type\": \"surface\", \"x\": [-0.5, -0.4583333432674408, -0.4166666567325592, -0.375, -0.3333333432674408, -0.2916666567325592, -0.25, -0.2083333283662796, -0.1666666716337204, -0.125, -0.0833333358168602, -0.0416666679084301, 0.0, 0.0416666679084301, 0.0833333358168602, 0.125, 0.1666666716337204, 0.2083333283662796, 0.25, 0.2916666567325592, 0.3333333432674408, 0.375, 0.4166666567325592, 0.4583333432674408, 0.5], \"y\": [-0.5, -0.4583333432674408, -0.4166666567325592, -0.375, -0.3333333432674408, -0.2916666567325592, -0.25, -0.2083333283662796, -0.1666666716337204, -0.125, -0.0833333358168602, -0.0416666679084301, 0.0, 0.0416666679084301, 0.0833333358168602, 0.125, 0.1666666716337204, 0.2083333283662796, 0.25, 0.2916666567325592, 0.3333333432674408, 0.375, 0.4166666567325592, 0.4583333432674408, 0.5], \"z\": [[14.863850593566895, 12.964255332946777, 11.25674819946289, 9.697511672973633, 8.27650260925293, 7.008213996887207, 5.893631935119629, 4.92897891998291, 4.1352458000183105, 3.563246250152588, 3.233961343765259, 3.1081960201263428, 3.124835968017578, 3.233863592147827, 3.4009692668914795, 3.5999863147735596, 3.818787097930908, 4.050657749176025, 4.293725490570068, 4.549310684204102, 4.817669868469238, 5.098983287811279, 5.39249324798584, 5.696120262145996, 6.007298469543457], [14.896492004394531, 12.95461654663086, 11.215673446655273, 9.632530212402344, 8.193984031677246, 6.9085164070129395, 5.7768659591674805, 4.79163122177124, 3.969480037689209, 3.359140634536743, 2.991415023803711, 2.834566831588745, 2.8285605907440186, 2.923603057861328, 3.0857481956481934, 3.28216814994812, 3.4967939853668213, 3.7233927249908447, 3.9594340324401855, 4.206501483917236, 4.466308116912842, 4.738595962524414, 5.022780895233154, 5.317338466644287, 5.620337963104248], [14.938728332519531, 12.948040008544922, 11.173917770385742, 9.56726360321045, 8.11056137084961, 6.809156894683838, 5.65932035446167, 4.654636383056641, 3.807307243347168, 3.1616246700286865, 2.7575578689575195, 2.570690155029297, 2.5426814556121826, 2.6250102519989014, 2.7805123329162598, 2.975639820098877, 3.18881893157959, 3.4112417697906494, 3.6409904956817627, 3.880152940750122, 4.130814075469971, 4.393003940582275, 4.666912078857422, 4.950618267059326, 5.243504047393799], [14.991621971130371, 12.947310447692871, 11.133222579956055, 9.500120162963867, 8.026399612426758, 6.709650039672852, 5.541409492492676, 4.517862319946289, 3.648350715637207, 2.9702298641204834, 2.530540704727173, 2.31404972076416, 2.2661261558532715, 2.337817668914795, 2.4896962642669678, 2.6821129322052, 2.893667221069336, 3.1138978004455566, 3.339246988296509, 3.571647882461548, 3.8129661083221436, 4.065098762512207, 4.32802677154541, 4.6006951332092285, 4.882575511932373], [15.054289817810059, 12.953577041625977, 11.094873428344727, 9.433096885681152, 7.940614700317383, 6.609192848205566, 5.423266410827637, 4.3818769454956055, 3.4926223754882812, 2.784939765930176, 2.310434341430664, 2.0637433528900146, 1.997035264968872, 2.0619606971740723, 2.213209629058838, 2.4054558277130127, 2.614133358001709, 2.830500841140747, 3.0534162521362305, 3.280590772628784, 3.514272928237915, 3.756927967071533, 4.009194850921631, 4.27058219909668, 4.540597438812256], [15.1260404586792, 12.968707084655762, 11.06042194366455, 9.367506980895996, 7.854604721069336, 6.507668972015381, 5.305367946624756, 4.246058464050293, 3.3393378257751465, 2.605787515640259, 2.096245288848877, 1.8192309141159058, 1.7350172996520996, 1.7969423532485962, 1.9515984058380127, 2.146085023880005, 2.353579044342041, 2.565662145614624, 2.782947301864624, 3.0060195922851562, 3.2342607975006104, 3.469189405441284, 3.711590051651001, 3.961740016937256, 4.220675468444824], [15.20149040222168, 12.991294860839844, 11.031997680664062, 9.303176879882812, 7.769003868103027, 6.405191421508789, 5.186459064483643, 4.110637187957764, 3.187326431274414, 2.430940628051758, 1.8874049186706543, 1.5799111127853394, 1.4800472259521484, 1.5429542064666748, 1.7040823698043823, 1.9035481214523315, 2.111886978149414, 2.321661949157715, 2.533857822418213, 2.749844789505005, 2.9721298217773438, 3.2014319896698, 3.4359259605407715, 3.6761083602905273, 3.923846960067749], [15.280736923217773, 13.018410682678223, 11.006694793701172, 9.240172386169434, 7.68293571472168, 6.301387786865234, 5.066652774810791, 3.9755959510803223, 3.0371251106262207, 2.259917736053467, 1.683652639389038, 1.3456960916519165, 1.2321809530258179, 1.2994534969329834, 1.4694652557373047, 1.6755250692367554, 1.8872543573379517, 2.0975453853607178, 2.306734323501587, 2.517568826675415, 2.7321012020111084, 2.952430486679077, 3.180105447769165, 3.412496328353882, 3.6501548290252686], [15.362383842468262, 13.050646781921387, 10.985902786254883, 9.176690101623535, 7.5961127281188965, 6.196696758270264, 4.945902347564697, 3.839773654937744, 2.8879380226135254, 2.0924434661865234, 1.4850455522537231, 1.117421269416809, 0.9933512210845947, 1.067122459411621, 1.2469204664230347, 1.4608473777770996, 1.6780158281326294, 1.8908348083496094, 2.0998146533966064, 2.3076510429382324, 2.5165412425994873, 2.728452205657959, 2.9455673694610596, 3.1693716049194336, 3.3992996215820312], [15.445647239685059, 13.086947441101074, 10.9688138961792, 9.114295959472656, 7.505352020263672, 6.088675498962402, 4.8236188888549805, 3.7028868198394775, 2.7374422550201416, 1.9276396036148071, 1.292428731918335, 0.8967509269714355, 0.765812337398529, 0.8477193713188171, 1.037354826927185, 1.2589428424835205, 1.48225998878479, 1.6999608278274536, 1.9110751152038574, 2.1178364753723145, 2.3231465816497803, 2.529026508331299, 2.7375497817993164, 2.9506335258483887, 3.1699960231781006], [15.52688980102539, 13.12597942352295, 10.955926895141602, 9.05302906036377, 7.4120283126831055, 5.976287364959717, 4.697689056396484, 3.5644161701202393, 2.5868427753448486, 1.7642885446548462, 1.1077324151992798, 0.6907734870910645, 0.5607496500015259, 0.651498556137085, 0.8476674556732178, 1.073760747909546, 1.3012356758117676, 1.5226716995239258, 1.7368515729904175, 1.9451589584350586, 2.1498324871063232, 2.3526644706726074, 2.5552620887756348, 2.759974956512451, 2.969083309173584], [15.602457046508789, 13.164154052734375, 10.945003509521484, 8.994026184082031, 7.3170928955078125, 5.860170364379883, 4.566751480102539, 3.421389102935791, 2.4339804649353027, 1.6034072637557983, 0.9417163729667664, 0.529143214225769, 0.4145437180995941, 0.5122358202934265, 0.7042507529258728, 0.9236448407173157, 1.146457314491272, 1.365632176399231, 1.5801582336425781, 1.7894163131713867, 1.9940838813781738, 2.195864677429199, 2.3957860469818115, 2.5952389240264893, 2.797060251235962], [15.6701021194458, 13.200945854187012, 10.935762405395508, 8.937199592590332, 7.221468448638916, 5.740077018737793, 4.431724548339844, 3.2762439250946045, 2.281804084777832, 1.4605371952056885, 0.8390371203422546, 0.480001300573349, 0.39314448833465576, 0.48193153738975525, 0.6489704847335815, 0.8438971042633057, 1.0477614402770996, 1.2530725002288818, 1.457359790802002, 1.6603947877883911, 1.8612053394317627, 2.0602643489837646, 2.25775146484375, 2.454606294631958, 2.651804208755493], [15.730737686157227, 13.235563278198242, 10.929984092712402, 8.885086059570312, 7.128512382507324, 5.620014667510986, 4.2962565422058105, 3.1354479789733887, 2.1564600467681885, 1.3949528932571411, 0.8804609179496765, 0.6239522099494934, 0.5723438262939453, 0.6328080296516418, 0.7457631826400757, 0.8876354098320007, 1.048092246055603, 1.2200783491134644, 1.3993370532989502, 1.582822322845459, 1.7694164514541626, 1.9582245349884033, 2.1485514640808105, 2.3397433757781982, 2.532130718231201], [15.781073570251465, 13.265080451965332, 10.924741744995117, 8.836139678955078, 7.039422512054443, 5.502893447875977, 4.171205043792725, 3.036987781524658, 2.1412365436553955, 1.5103631019592285, 1.1377737522125244, 0.9857901930809021, 0.9591338634490967, 0.9840947389602661, 1.0352786779403687, 1.1090044975280762, 1.2044676542282104, 1.3194416761398315, 1.4507447481155396, 1.5958293676376343, 1.752349853515625, 1.9178191423416138, 2.0901575088500977, 2.2676520347595215, 2.4492099285125732], [15.81749439239502, 13.283601760864258, 10.914948463439941, 8.788667678833008, 6.956502437591553, 5.40318489074707, 4.108490943908691, 3.0917115211486816, 2.3603856563568115, 1.8814847469329834, 1.621654987335205, 1.5175774097442627, 1.4819042682647705, 1.4722386598587036, 1.4772007465362549, 1.4978426694869995, 1.5345876216888428, 1.588454008102417, 1.660062551498413, 1.7500931024551392, 1.8578813076019287, 1.9815919399261475, 2.118906021118164, 2.268005132675171, 2.4266982078552246], [15.835746765136719, 13.28799819946289, 10.900477409362793, 8.74925708770752, 6.906853199005127, 5.400012493133545, 4.249669075012207, 3.427799940109253, 2.8642055988311768, 2.500044107437134, 2.295921802520752, 2.1845476627349854, 2.1110384464263916, 2.057767629623413, 2.021481513977051, 2.0011463165283203, 1.9955198764801025, 2.004039764404297, 2.026625394821167, 2.0645318031311035, 2.1191561222076416, 2.190819263458252, 2.2795135974884033, 2.3838424682617188, 2.5031650066375732], [15.837257385253906, 13.282707214355469, 10.896021842956543, 8.766996383666992, 7.006644248962402, 5.6722092628479, 4.7249531745910645, 4.064840793609619, 3.613395929336548, 3.31719970703125, 3.1240592002868652, 2.9768147468566895, 2.8526854515075684, 2.7479302883148193, 2.6644155979156494, 2.600675344467163, 2.554678440093994, 2.5249602794647217, 2.510362386703491, 2.5085458755493164, 2.5202157497406006, 2.5461161136627197, 2.587038993835449, 2.6437551975250244, 2.7156617641448975], [15.829255104064941, 13.292508125305176, 10.96985912322998, 8.994524002075195, 7.467222213745117, 6.356159210205078, 5.555222034454346, 4.989419937133789, 4.595010280609131, 4.313231945037842, 4.086163520812988, 3.8864123821258545, 3.707050085067749, 3.550610303878784, 3.4185287952423096, 3.3082756996154785, 3.2174150943756104, 3.145948648452759, 3.092510938644409, 3.054924249649048, 3.0304744243621826, 3.0190036296844482, 3.0208301544189453, 3.036252021789551, 3.065364360809326], [15.838908195495605, 13.397150039672852, 11.29002857208252, 9.631976127624512, 8.384337425231934, 7.438816070556641, 6.736039638519287, 6.2174577713012695, 5.819880485534668, 5.486418724060059, 5.191590785980225, 4.925051212310791, 4.68274450302124, 4.46989107131958, 4.285928249359131, 4.128238201141357, 3.9931561946868896, 3.878690242767334, 3.7836687564849854, 3.7067203521728516, 3.645641803741455, 3.597792863845825, 3.5630242824554443, 3.5421619415283203, 3.533933162689209], [15.968320846557617, 13.784979820251465, 12.047168731689453, 10.706461906433105, 9.667146682739258, 8.875187873840332, 8.256142616271973, 7.735348701477051, 7.2690043449401855, 6.845914840698242, 6.463238716125488, 6.115392684936523, 5.7997050285339355, 5.521859169006348, 5.279822826385498, 5.069533348083496, 4.886258125305176, 4.725892543792725, 4.588253021240234, 4.4712982177734375, 4.372485637664795, 4.288415908813477, 4.217158317565918, 4.158710956573486, 4.114269256591797], [16.42474365234375, 14.640843391418457, 13.223934173583984, 12.110323905944824, 11.269816398620605, 10.608379364013672, 10.023781776428223, 9.463972091674805, 8.9224853515625, 8.406661033630371, 7.923839092254639, 7.481497287750244, 7.080782890319824, 6.727691173553467, 6.418532848358154, 6.147486686706543, 5.9090728759765625, 5.697899341583252, 5.512588024139404, 5.352334022521973, 5.213902473449707, 5.092880725860596, 4.986377716064453, 4.893237590789795, 4.812994956970215], [17.374717712402344, 15.903731346130371, 14.7275972366333, 13.852155685424805, 13.16519832611084, 12.542627334594727, 11.935040473937988, 11.333832740783691, 10.739235877990723, 10.154708862304688, 9.58618450164795, 9.045483589172363, 8.548985481262207, 8.110629081726074, 7.7240753173828125, 7.382313251495361, 7.080548286437988, 6.811656951904297, 6.572761535644531, 6.362830638885498, 6.17955207824707, 6.018337726593018, 5.875297546386719, 5.74713134765625, 5.633902072906494], [18.72027587890625, 17.506084442138672, 16.6108455657959, 15.905393600463867, 15.2514009475708, 14.605816841125488, 13.96304702758789, 13.323266983032227, 12.685751914978027, 12.051508903503418, 11.4232816696167, 10.809392929077148, 10.22754955291748, 9.69920825958252, 9.224913597106934, 8.801569938659668, 8.42549991607666, 8.090343475341797, 7.79085111618042, 7.524171352386475, 7.288784503936768, 7.081060886383057, 6.896242141723633, 6.730749130249023, 6.581154823303223], [20.422840118408203, 19.525066375732422, 18.804460525512695, 18.12338638305664, 17.44654655456543, 16.769380569458008, 16.09290885925293, 15.416838645935059, 14.740689277648926, 14.064696311950684, 13.391695976257324, 12.728346824645996, 12.09104061126709, 11.495479583740234, 10.940985679626465, 10.431744575500488, 9.971296310424805, 9.558891296386719, 9.188921928405762, 8.857039451599121, 8.56086254119873, 8.297809600830078, 8.06350040435791, 7.853700637817383, 7.663908958435059]]}, {\"colorscale\": [[0.0, \"#440154\"], [0.1111111111111111, \"#482878\"], [0.2222222222222222, \"#3e4989\"], [0.3333333333333333, \"#31688e\"], [0.4444444444444444, \"#26828e\"], [0.5555555555555556, \"#1f9e89\"], [0.6666666666666666, \"#35b779\"], [0.7777777777777778, \"#6ece58\"], [0.8888888888888888, \"#b5de2b\"], [1.0, \"#fde725\"]], \"name\": \"LBFGS\", \"opacity\": 0.7, \"showlegend\": true, \"showscale\": false, \"type\": \"surface\", \"x\": [-0.5, -0.4583333432674408, -0.4166666567325592, -0.375, -0.3333333432674408, -0.2916666567325592, -0.25, -0.2083333283662796, -0.1666666716337204, -0.125, -0.0833333358168602, -0.0416666679084301, 0.0, 0.0416666679084301, 0.0833333358168602, 0.125, 0.1666666716337204, 0.2083333283662796, 0.25, 0.2916666567325592, 0.3333333432674408, 0.375, 0.4166666567325592, 0.4583333432674408, 0.5], \"y\": [-0.5, -0.4583333432674408, -0.4166666567325592, -0.375, -0.3333333432674408, -0.2916666567325592, -0.25, -0.2083333283662796, -0.1666666716337204, -0.125, -0.0833333358168602, -0.0416666679084301, 0.0, 0.0416666679084301, 0.0833333358168602, 0.125, 0.1666666716337204, 0.2083333283662796, 0.25, 0.2916666567325592, 0.3333333432674408, 0.375, 0.4166666567325592, 0.4583333432674408, 0.5], \"z\": [[41.995880126953125, 42.117610931396484, 42.25413131713867, 42.39153289794922, 42.52836227416992, 42.66432189941406, 42.800376892089844, 42.937007904052734, 43.07484817504883, 43.21485900878906, 43.35692596435547, 43.50142288208008, 43.64812088012695, 43.796714782714844, 43.94707107543945, 44.0999755859375, 44.2553825378418, 44.411128997802734, 44.5622444152832, 44.70371627807617, 44.837120056152344, 44.9653434753418, 45.09024429321289, 45.21308898925781, 45.334625244140625], [37.68320846557617, 37.81175231933594, 37.955867767333984, 38.099403381347656, 38.241127014160156, 38.38124465942383, 38.51999282836914, 38.657684326171875, 38.79519271850586, 38.93348693847656, 39.072853088378906, 39.2131462097168, 39.35381317138672, 39.495670318603516, 39.64020919799805, 39.788665771484375, 39.941551208496094, 40.09974670410156, 40.26157760620117, 40.42247009277344, 40.57879638671875, 40.73403549194336, 40.89201736450195, 41.05421447753906, 41.21946334838867], [33.3406867980957, 33.47903823852539, 33.633235931396484, 33.787418365478516, 33.93907928466797, 34.088348388671875, 34.23499298095703, 34.379032135009766, 34.521236419677734, 34.66291809082031, 34.804805755615234, 34.94667053222656, 35.08910369873047, 35.23375701904297, 35.38258743286133, 35.53799057006836, 35.70232391357422, 35.87778854370117, 36.06310272216797, 36.25890350341797, 36.460330963134766, 36.663299560546875, 36.86753845214844, 37.0743522644043, 37.286521911621094], [28.967376708984375, 29.1212100982666, 29.288461685180664, 29.45553970336914, 29.618915557861328, 29.779273986816406, 29.937192916870117, 30.093109130859375, 30.24819564819336, 30.40349006652832, 30.55974006652832, 30.717893600463867, 30.879928588867188, 31.049060821533203, 31.22728729248047, 31.416791915893555, 31.618135452270508, 31.832551956176758, 32.05763244628906, 32.29304122924805, 32.536502838134766, 32.78386306762695, 33.031497955322266, 33.281593322753906, 33.53582000732422], [24.65369987487793, 24.804765701293945, 24.980798721313477, 25.162734985351562, 25.34354019165039, 25.522180557250977, 25.69809913635254, 25.872472763061523, 26.047748565673828, 26.22573471069336, 26.40870475769043, 26.599632263183594, 26.800769805908203, 27.014259338378906, 27.24097442626953, 27.480064392089844, 27.728490829467773, 27.983312606811523, 28.2432804107666, 28.508325576782227, 28.780879974365234, 29.06047821044922, 29.343368530273438, 29.624588012695312, 29.901973724365234], [20.773265838623047, 20.71875, 20.848295211791992, 21.02226448059082, 21.204517364501953, 21.39051628112793, 21.58077621459961, 21.777076721191406, 21.980854034423828, 22.192842483520508, 22.41319465637207, 22.643836975097656, 22.886764526367188, 23.143247604370117, 23.41179847717285, 23.6900577545166, 23.972993850708008, 24.256803512573242, 24.54335594177246, 24.834007263183594, 25.12737464904785, 25.423032760620117, 25.720420837402344, 26.02003288269043, 26.31800079345703], [18.760656356811523, 17.483646392822266, 17.127561569213867, 17.125507354736328, 17.26991844177246, 17.449935913085938, 17.64419937133789, 17.85064697265625, 18.069395065307617, 18.30062484741211, 18.54546356201172, 18.80364418029785, 19.074356079101562, 19.358346939086914, 19.652963638305664, 19.95355224609375, 20.258373260498047, 20.565799713134766, 20.87465476989746, 21.183944702148438, 21.493024826049805, 21.80231475830078, 22.113122940063477, 22.429019927978516, 22.75743293762207], [19.640287399291992, 17.137725830078125, 15.039990425109863, 14.001880645751953, 13.727006912231445, 13.756915092468262, 13.921097755432129, 14.122201919555664, 14.339860916137695, 14.56898021697998, 14.808098793029785, 15.057921409606934, 15.31872844696045, 15.593289375305176, 15.884919166564941, 16.19232749938965, 16.51117706298828, 16.836105346679688, 17.164546966552734, 17.494630813598633, 17.826017379760742, 18.1615047454834, 18.52016258239746, 18.98003387451172, 19.713571548461914], [20.868478775024414, 18.292722702026367, 15.854418754577637, 13.538501739501953, 11.601792335510254, 10.72546100616455, 10.505218505859375, 10.559686660766602, 10.72914981842041, 10.928877830505371, 11.14144515991211, 11.366299629211426, 11.607397079467773, 11.86682415008545, 12.145298957824707, 12.441118240356445, 12.751629829406738, 13.074631690979004, 13.409184455871582, 13.760415077209473, 14.167006492614746, 14.744767189025879, 15.707808494567871, 17.43109893798828, 19.613710403442383], [22.141233444213867, 19.52705192565918, 17.04628562927246, 14.658501625061035, 12.334723472595215, 10.103350639343262, 8.326833724975586, 7.585836887359619, 7.3818559646606445, 7.423117160797119, 7.573958396911621, 7.760686874389648, 7.9704155921936035, 8.200827598571777, 8.45188045501709, 8.725996971130371, 9.025997161865234, 9.366421699523926, 9.819580078125, 10.53562068939209, 11.841202735900879, 13.859615325927734, 16.098791122436523, 18.364633560180664, 20.617273330688477], [23.444746017456055, 20.79931640625, 18.27812385559082, 15.850340843200684, 13.486237525939941, 11.17302417755127, 8.928943634033203, 6.842809677124023, 5.239655494689941, 4.559825897216797, 4.357545375823975, 4.393507480621338, 4.534002304077148, 4.713167190551758, 4.929845809936523, 5.222731113433838, 5.7093071937561035, 6.603264331817627, 8.22927474975586, 10.363349914550781, 12.61001968383789, 14.874248504638672, 17.145641326904297, 19.410062789916992, 21.66053009033203], [24.78444480895996, 22.10475730895996, 19.539932250976562, 17.07542610168457, 14.680065155029297, 12.338401794433594, 10.040682792663574, 7.815471649169922, 5.734325408935547, 3.864297389984131, 2.450594902038574, 1.886459231376648, 1.7921446561813354, 1.9123064279556274, 2.3694870471954346, 3.3824896812438965, 5.005230903625488, 6.999291896820068, 9.175152778625488, 11.416838645935059, 13.676681518554688, 15.946344375610352, 18.213947296142578, 20.47711181640625, 22.729942321777344], [26.15567398071289, 23.443870544433594, 20.83610725402832, 18.33612823486328, 15.915034294128418, 13.544958114624023, 11.216818809509277, 8.929139137268066, 6.724627494812012, 4.682835102081299, 2.8593008518218994, 1.3595384359359741, 0.5969191789627075, 1.144176959991455, 2.3986294269561768, 4.021568775177002, 5.9303178787231445, 8.049161911010742, 10.262762069702148, 12.507518768310547, 14.768339157104492, 17.03506851196289, 19.304174423217773, 21.572885513305664, 23.838401794433594], [27.50859832763672, 24.789703369140625, 22.152122497558594, 19.614274978637695, 17.16536521911621, 14.776189804077148, 12.427582740783691, 10.110986709594727, 7.837519645690918, 5.668579578399658, 3.7161853313446045, 2.1266448497772217, 1.1941702365875244, 1.8169625997543335, 3.1727724075317383, 4.959253311157227, 6.999561309814453, 9.166964530944824, 11.381218910217285, 13.622003555297852, 15.88066577911377, 18.147905349731445, 20.428112030029297, 22.70918083190918, 24.993900299072266], [28.801416397094727, 26.072776794433594, 23.41510581970215, 20.852479934692383, 18.38499641418457, 15.989628791809082, 13.638964653015137, 11.317543029785156, 9.021658897399902, 6.784783840179443, 4.740991115570068, 3.109977960586548, 2.1580357551574707, 2.687680721282959, 4.109349727630615, 6.038477420806885, 8.145774841308594, 10.317229270935059, 12.523681640625, 14.761335372924805, 17.017805099487305, 19.29802703857422, 21.591306686401367, 23.884033203125, 26.1870059967041], [30.090869903564453, 27.33751678466797, 24.64597511291504, 22.042781829833984, 19.541837692260742, 17.12733268737793, 14.775070190429688, 12.465161323547363, 10.187335014343262, 7.958991527557373, 5.919243812561035, 4.309491157531738, 3.365485906600952, 3.75897479057312, 5.217475414276123, 7.223421573638916, 9.339591026306152, 11.499985694885254, 13.699357986450195, 15.928167343139648, 18.19167137145996, 20.48126983642578, 22.78656005859375, 25.105939865112305, 27.454326629638672], [31.397964477539062, 28.62482261657715, 25.89702796936035, 23.246116638183594, 20.69450569152832, 18.239492416381836, 15.862869262695312, 13.542612075805664, 11.271127700805664, 9.081921577453613, 7.138214588165283, 5.644145488739014, 4.75169563293457, 5.023841857910156, 6.45325231552124, 8.460749626159668, 10.567185401916504, 12.71957778930664, 14.906816482543945, 17.133264541625977, 19.40093421936035, 21.71157455444336, 24.0520076751709, 26.42364501953125, 28.829866409301758], [32.70117950439453, 29.934764862060547, 27.18444061279297, 24.486370086669922, 21.877132415771484, 19.36910629272461, 16.954120635986328, 14.612555503845215, 12.336629867553711, 10.19587230682373, 8.381478309631348, 7.055013656616211, 6.219861030578613, 6.381674289703369, 7.733391284942627, 9.717541694641113, 11.81334114074707, 13.953611373901367, 16.13812828063965, 18.381216049194336, 20.690113067626953, 23.055063247680664, 25.450069427490234, 27.87275505065918, 30.320337295532227], [33.97325134277344, 31.225252151489258, 28.483661651611328, 25.761606216430664, 23.098134994506836, 20.52931785583496, 18.065929412841797, 15.696863174438477, 13.424139976501465, 11.354409217834473, 9.686758995056152, 8.524687767028809, 7.738371849060059, 7.786169528961182, 9.032974243164062, 10.970719337463379, 13.03836727142334, 15.17585563659668, 17.401052474975586, 19.715566635131836, 22.104875564575195, 24.5322322845459, 26.974498748779297, 29.431018829345703, 31.900068283081055], [35.208343505859375, 32.475223541259766, 29.745712280273438, 27.032119750976562, 24.347257614135742, 21.727296829223633, 19.211402893066406, 16.807497024536133, 14.542253494262695, 12.565430641174316, 11.060502052307129, 10.030674934387207, 9.267353057861328, 9.215272903442383, 10.346205711364746, 12.234698295593262, 14.288866996765137, 16.45586585998535, 18.744152069091797, 21.134410858154297, 23.587251663208008, 26.060321807861328, 28.538860321044922, 31.023847579956055, 33.51112747192383], [36.41049575805664, 33.68556213378906, 30.967567443847656, 28.26490592956543, 25.586977005004883, 22.948999404907227, 20.38371467590332, 17.9362735748291, 15.68110466003418, 13.807838439941406, 12.463784217834473, 11.523521423339844, 10.761285781860352, 10.618212699890137, 11.65812873840332, 13.517173767089844, 15.601211547851562, 17.831275939941406, 20.19365882873535, 22.639198303222656, 25.120967864990234, 27.609193801879883, 30.101058959960938, 32.59696960449219, 35.094791412353516], [37.5998649597168, 34.865692138671875, 32.152225494384766, 29.463878631591797, 26.792024612426758, 24.146318435668945, 21.558311462402344, 19.07404327392578, 16.82366943359375, 15.036008834838867, 13.796741485595703, 12.898487091064453, 12.148642539978027, 11.966647148132324, 12.954647064208984, 14.821968078613281, 16.973268508911133, 19.28924560546875, 21.717012405395508, 24.196046829223633, 26.68860626220703, 29.179420471191406, 31.67413330078125, 34.17409133911133, 36.67906951904297], [38.78980255126953, 36.045631408691406, 33.31989669799805, 30.62592887878418, 27.958206176757812, 25.309221267700195, 22.701555252075195, 20.20819664001465, 17.991073608398438, 16.257427215576172, 15.063366889953613, 14.181539535522461, 13.438896179199219, 13.262585639953613, 14.243576049804688, 16.152793884277344, 18.394216537475586, 20.790063858032227, 23.261127471923828, 25.760278701782227, 28.259353637695312, 30.753103256225586, 33.25080490112305, 35.75556182861328, 38.269561767578125], [39.99892807006836, 37.240753173828125, 34.4977912902832, 31.785036087036133, 29.100236892700195, 26.445323944091797, 23.839616775512695, 21.345914840698242, 19.158145904541016, 17.489185333251953, 16.343412399291992, 15.467981338500977, 14.724206924438477, 14.553375244140625, 15.561773300170898, 17.541170120239258, 19.87332534790039, 22.328937530517578, 24.829303741455078, 27.33966064453125, 29.841646194458008, 32.340614318847656, 34.84336853027344, 37.35238265991211, 39.87320327758789], [41.226009368896484, 38.452335357666016, 35.68940734863281, 32.955833435058594, 30.25568962097168, 27.593461990356445, 24.980863571166992, 22.484663009643555, 20.315433502197266, 18.70262336730957, 17.62492561340332, 16.773746490478516, 16.026296615600586, 15.867110252380371, 16.920753479003906, 18.984167098999023, 21.392858505249023, 23.888214111328125, 26.41008949279785, 28.933502197265625, 31.44548797607422, 33.95433807373047, 36.466407775878906, 38.983699798583984, 41.51206588745117]]}, {\"colorscale\": [[0.0, \"rgb(247,251,255)\"], [0.125, \"rgb(222,235,247)\"], [0.25, \"rgb(198,219,239)\"], [0.375, \"rgb(158,202,225)\"], [0.5, \"rgb(107,174,214)\"], [0.625, \"rgb(66,146,198)\"], [0.75, \"rgb(33,113,181)\"], [0.875, \"rgb(8,81,156)\"], [1.0, \"rgb(8,48,107)\"]], \"name\": \"AdaHessian\", \"opacity\": 0.7, \"showlegend\": true, \"showscale\": false, \"type\": \"surface\", \"x\": [-0.5, -0.4583333432674408, -0.4166666567325592, -0.375, -0.3333333432674408, -0.2916666567325592, -0.25, -0.2083333283662796, -0.1666666716337204, -0.125, -0.0833333358168602, -0.0416666679084301, 0.0, 0.0416666679084301, 0.0833333358168602, 0.125, 0.1666666716337204, 0.2083333283662796, 0.25, 0.2916666567325592, 0.3333333432674408, 0.375, 0.4166666567325592, 0.4583333432674408, 0.5], \"y\": [-0.5, -0.4583333432674408, -0.4166666567325592, -0.375, -0.3333333432674408, -0.2916666567325592, -0.25, -0.2083333283662796, -0.1666666716337204, -0.125, -0.0833333358168602, -0.0416666679084301, 0.0, 0.0416666679084301, 0.0833333358168602, 0.125, 0.1666666716337204, 0.2083333283662796, 0.25, 0.2916666567325592, 0.3333333432674408, 0.375, 0.4166666567325592, 0.4583333432674408, 0.5], \"z\": [[20.89983558654785, 21.08930015563965, 21.268709182739258, 21.442079544067383, 21.610742568969727, 21.77437973022461, 21.934789657592773, 22.092552185058594, 22.248554229736328, 22.403423309326172, 22.557201385498047, 22.709768295288086, 22.861286163330078, 23.012510299682617, 23.164865493774414, 23.319042205810547, 23.475570678710938, 23.634910583496094, 23.79877471923828, 23.969633102416992, 24.148767471313477, 24.33917236328125, 24.542978286743164, 24.75747299194336, 24.980974197387695], [18.796125411987305, 18.984695434570312, 19.161848068237305, 19.332347869873047, 19.49762725830078, 19.65887451171875, 19.815845489501953, 19.969825744628906, 20.12183952331543, 20.27303123474121, 20.423694610595703, 20.57404136657715, 20.723331451416016, 20.873126983642578, 21.02423667907715, 21.177520751953125, 21.33317756652832, 21.49249267578125, 21.65797996520996, 21.83321762084961, 22.023277282714844, 22.22614860534668, 22.438724517822266, 22.659151077270508, 22.886199951171875], [16.719226837158203, 16.915447235107422, 17.097522735595703, 17.26954460144043, 17.435230255126953, 17.595365524291992, 17.750659942626953, 17.90196418762207, 18.050905227661133, 18.198854446411133, 18.3465633392334, 18.494977951049805, 18.644439697265625, 18.794208526611328, 18.945159912109375, 19.09933853149414, 19.25750160217285, 19.421640396118164, 19.597524642944336, 19.786165237426758, 19.986064910888672, 20.195756912231445, 20.41192054748535, 20.634254455566406, 20.8614444732666], [14.460430145263672, 14.760894775390625, 14.999685287475586, 15.201637268066406, 15.384331703186035, 15.554459571838379, 15.716959953308105, 15.872600555419922, 16.024394989013672, 16.173688888549805, 16.322509765625, 16.472349166870117, 16.623321533203125, 16.775230407714844, 16.929027557373047, 17.087871551513672, 17.25579261779785, 17.433929443359375, 17.62234115600586, 17.819738388061523, 18.0250186920166, 18.2371768951416, 18.454044342041016, 18.675518035888672, 18.901865005493164], [11.608373641967773, 12.010054588317871, 12.37236213684082, 12.713014602661133, 13.03489875793457, 13.33694839477539, 13.600805282592773, 13.81161880493164, 13.994477272033691, 14.164155960083008, 14.327335357666016, 14.48801326751709, 14.647335052490234, 14.807827949523926, 14.973740577697754, 15.148332595825195, 15.331128120422363, 15.521367073059082, 15.717634201049805, 15.919883728027344, 16.127971649169922, 16.341094970703125, 16.558116912841797, 16.779111862182617, 17.00478744506836], [8.679767608642578, 9.055502891540527, 9.468282699584961, 9.873939514160156, 10.23877239227295, 10.573956489562988, 10.902215003967285, 11.22868537902832, 11.552905082702637, 11.869049072265625, 12.171093940734863, 12.436698913574219, 12.655808448791504, 12.859753608703613, 13.060148239135742, 13.259577751159668, 13.45960521697998, 13.661850929260254, 13.86685848236084, 14.074751853942871, 14.286125183105469, 14.501203536987305, 14.719367027282715, 14.941636085510254, 15.168730735778809], [6.646073818206787, 6.702121257781982, 6.853323936462402, 7.104745864868164, 7.438313961029053, 7.813691139221191, 8.18731689453125, 8.52942943572998, 8.850566864013672, 9.168807983398438, 9.492762565612793, 9.830578804016113, 10.18165397644043, 10.540075302124023, 10.894760131835938, 11.23696231842041, 11.540135383605957, 11.79586124420166, 12.031244277954102, 12.258179664611816, 12.481643676757812, 12.705181121826172, 12.929924964904785, 13.158198356628418, 13.390010833740234], [5.426658630371094, 5.286531448364258, 5.221487522125244, 5.234533309936523, 5.325641632080078, 5.494438648223877, 5.744236946105957, 6.062439441680908, 6.41934061050415, 6.776775360107422, 7.108807563781738, 7.420975208282471, 7.7319254875183105, 8.05135440826416, 8.38315486907959, 8.7288818359375, 9.090217590332031, 9.460526466369629, 9.834598541259766, 10.204373359680176, 10.562117576599121, 10.880441665649414, 11.154295921325684, 11.410961151123047, 11.663405418395996], [4.8867974281311035, 4.467828750610352, 4.1859002113342285, 4.010468006134033, 3.9210922718048096, 3.9070565700531006, 3.968226909637451, 4.101452827453613, 4.305822372436523, 4.580106258392334, 4.9127068519592285, 5.277295112609863, 5.642195224761963, 5.987722873687744, 6.310787200927734, 6.625221252441406, 6.938950538635254, 7.254133224487305, 7.5774664878845215, 7.913041591644287, 8.266595840454102, 8.640864372253418, 9.029666900634766, 9.42556095123291, 9.821056365966797], [5.451005935668945, 4.753846168518066, 4.126764297485352, 3.5852863788604736, 3.155383825302124, 2.8622679710388184, 2.702195167541504, 2.6432242393493652, 2.66827654838562, 2.7766947746276855, 2.970781087875366, 3.250720977783203, 3.6038808822631836, 3.9957714080810547, 4.398339748382568, 4.794300556182861, 5.17124605178833, 5.526914119720459, 5.871774673461914, 6.215617656707764, 6.562461853027344, 6.915895462036133, 7.2816596031188965, 7.662561893463135, 8.05831241607666], [6.1201348304748535, 5.360610485076904, 4.649162769317627, 3.989625930786133, 3.386707305908203, 2.8424766063690186, 2.362983226776123, 1.9628719091415405, 1.666630744934082, 1.50372314453125, 1.487764835357666, 1.6175044775009155, 1.8978983163833618, 2.2885425090789795, 2.72683048248291, 3.18123459815979, 3.63773775100708, 4.089093208312988, 4.525180816650391, 4.9373250007629395, 5.326753616333008, 5.7000508308410645, 6.070693016052246, 6.443737506866455, 6.820960998535156], [6.669194221496582, 5.840579986572266, 5.061583995819092, 4.340637683868408, 3.683198928833008, 3.0876059532165527, 2.54693865776062, 2.057004690170288, 1.6164768934249878, 1.2280750274658203, 0.913936972618103, 0.7198426127433777, 0.7122832536697388, 0.9388372898101807, 1.3289042711257935, 1.7855486869812012, 2.268756866455078, 2.7658627033233643, 3.2666122913360596, 3.7624266147613525, 4.245523452758789, 4.709928035736084, 5.151096820831299, 5.566771984100342, 5.959239959716797], [7.240638732910156, 6.33692741394043, 5.492860317230225, 4.710150718688965, 3.989905595779419, 3.3278772830963135, 2.7208383083343506, 2.1680617332458496, 1.6678318977355957, 1.2267731428146362, 0.8644155859947205, 0.6057851910591125, 0.4812015891075134, 0.5229976773262024, 0.707790195941925, 0.9750748872756958, 1.307911992073059, 1.7171694040298462, 2.1956729888916016, 2.714367389678955, 3.247891902923584, 3.781690835952759, 4.306243419647217, 4.8133625984191895, 5.298710823059082], [7.907304286956787, 6.922194004058838, 6.002326488494873, 5.14849853515625, 4.355699062347412, 3.622009754180908, 2.950437545776367, 2.342252492904663, 1.7996866703033447, 1.3334492444992065, 0.9629147052764893, 0.7142412066459656, 0.6198185086250305, 0.6862736344337463, 0.8542787432670593, 1.069629192352295, 1.3166791200637817, 1.594382405281067, 1.9094709157943726, 2.2672314643859863, 2.675309419631958, 3.1433684825897217, 3.661470413208008, 4.205851078033447, 4.756680011749268], [8.623441696166992, 7.568402290344238, 6.5788774490356445, 5.65998649597168, 4.80903434753418, 4.025274753570557, 3.311023235321045, 2.669731855392456, 2.107543468475342, 1.6425992250442505, 1.2981778383255005, 1.0950323343276978, 1.0424766540527344, 1.1147880554199219, 1.2621088027954102, 1.4543358087539673, 1.6806224584579468, 1.938026785850525, 2.2272210121154785, 2.552062749862671, 2.912663459777832, 3.3031005859375, 3.716494083404541, 4.155429840087891, 4.625129699707031], [9.323358535766602, 8.208340644836426, 7.15960693359375, 6.190555095672607, 5.302061557769775, 4.496163845062256, 3.7764594554901123, 3.1488935947418213, 2.6221730709075928, 2.2115578651428223, 1.926992654800415, 1.7668750286102295, 1.7180157899856567, 1.7549573183059692, 1.858389973640442, 2.0161473751068115, 2.220315933227539, 2.4655730724334717, 2.7487049102783203, 3.069827079772949, 3.429083824157715, 3.8264851570129395, 4.259711265563965, 4.721073627471924, 5.202402114868164], [9.975372314453125, 8.811164855957031, 7.722949981689453, 6.728596210479736, 5.834930896759033, 5.047271251678467, 4.372868061065674, 3.8175814151763916, 3.3788771629333496, 3.052180767059326, 2.825028419494629, 2.6805458068847656, 2.6043460369110107, 2.5910799503326416, 2.6415510177612305, 2.755192518234253, 2.929155111312866, 3.160000801086426, 3.44303297996521, 3.7737088203430176, 4.149717330932617, 4.569375514984131, 5.030698299407959, 5.528590679168701, 6.055160045623779], [10.576354026794434, 9.378280639648438, 8.277002334594727, 7.294427394866943, 6.442502498626709, 5.7269487380981445, 5.144800186157227, 4.685707092285156, 4.336971282958984, 4.079596042633057, 3.889742374420166, 3.7497825622558594, 3.6534719467163086, 3.606017589569092, 3.6161446571350098, 3.690046787261963, 3.83089280128479, 4.040999889373779, 4.319093227386475, 4.659642219543457, 5.057518005371094, 5.507592678070068, 6.004332542419434, 6.544975280761719, 7.123828411102295], [11.134450912475586, 9.924577713012695, 8.845671653747559, 7.922538757324219, 7.15715217590332, 6.538976669311523, 6.052286624908447, 5.683299541473389, 5.409401893615723, 5.20301628112793, 5.0388593673706055, 4.907953262329102, 4.809406757354736, 4.748703479766846, 4.734364032745361, 4.777055263519287, 4.886451721191406, 5.070197582244873, 5.3345561027526855, 5.678403377532959, 6.094078540802002, 6.570376873016357, 7.10066032409668, 7.680280685424805, 8.307060241699219], [11.64249324798584, 10.457023620605469, 9.44210433959961, 8.606484413146973, 7.933350086212158, 7.402377605438232, 7.00053596496582, 6.7071356773376465, 6.489383220672607, 6.317002296447754, 6.1738810539245605, 6.055340766906738, 5.962187767028809, 5.899166107177734, 5.873920917510986, 5.896512031555176, 5.979706287384033, 6.134825706481934, 6.374983787536621, 6.710224628448486, 7.136318683624268, 7.639749526977539, 8.20560073852539, 8.82713794708252, 9.504999160766602], [12.148431777954102, 11.021587371826172, 10.092864990234375, 9.345799446105957, 8.750272750854492, 8.286992073059082, 7.941951274871826, 7.687556743621826, 7.48862886428833, 7.324583053588867, 7.18747091293335, 7.073487758636475, 6.9825544357299805, 6.919156074523926, 6.891025543212891, 6.908875465393066, 6.9840593338012695, 7.127403736114502, 7.349954128265381, 7.671953201293945, 8.103340148925781, 8.633781433105469, 9.243165969848633, 9.91468334197998, 10.647257804870605], [12.686077117919922, 11.644012451171875, 10.808319091796875, 10.14022445678711, 9.609901428222656, 9.199697494506836, 8.890987396240234, 8.649612426757812, 8.449807167053223, 8.279938697814941, 8.135409355163574, 8.013882637023926, 7.915672302246094, 7.8439764976501465, 7.805915832519531, 7.813350200653076, 7.879754066467285, 8.015990257263184, 8.231062889099121, 8.54338550567627, 8.972759246826172, 9.519684791564941, 10.163309097290039, 10.880682945251465, 11.665023803710938], [13.267009735107422, 12.324275016784668, 11.575807571411133, 10.97671127319336, 10.502490043640137, 10.135422706604004, 9.846976280212402, 9.604902267456055, 9.395231246948242, 9.213573455810547, 9.057283401489258, 8.92545223236084, 8.817544937133789, 8.736625671386719, 8.688568115234375, 8.687050819396973, 8.749171257019043, 8.884251594543457, 9.097899436950684, 9.404826164245605, 9.83008861541748, 10.385093688964844, 11.053961753845215, 11.809283256530762, 12.637931823730469], [13.908414840698242, 13.064451217651367, 12.392077445983887, 11.853930473327637, 11.428150177001953, 11.091482162475586, 10.808263778686523, 10.557354927062988, 10.334577560424805, 10.139291763305664, 9.97065544128418, 9.827632904052734, 9.710556030273438, 9.621186256408691, 9.566673278808594, 9.56033706665039, 9.620795249938965, 9.758954048156738, 9.97752571105957, 10.28794002532959, 10.714167594909668, 11.277427673339844, 11.969522476196289, 12.759894371032715, 13.626534461975098], [14.615889549255371, 13.861370086669922, 13.258845329284668, 12.776052474975586, 12.391056060791016, 12.068150520324707, 11.779266357421875, 11.515995979309082, 11.278321266174316, 11.067618370056152, 10.885547637939453, 10.730690956115723, 10.60409164428711, 10.508506774902344, 10.450348854064941, 10.442724227905273, 10.503844261169434, 10.647270202636719, 10.875658988952637, 11.195686340332031, 11.628035545349121, 12.201181411743164, 12.914822578430176, 13.735633850097656, 14.634889602661133]]}, {\"colorscale\": [[0.0, \"#0508b8\"], [0.08333333333333333, \"#1910d8\"], [0.16666666666666666, \"#3c19f0\"], [0.25, \"#6b1cfb\"], [0.3333333333333333, \"#981cfd\"], [0.4166666666666667, \"#bf1cfd\"], [0.5, \"#dd2bfd\"], [0.5833333333333334, \"#f246fe\"], [0.6666666666666666, \"#fc67fd\"], [0.75, \"#fe88fc\"], [0.8333333333333334, \"#fea5fd\"], [0.9166666666666666, \"#febefe\"], [1.0, \"#fec3fe\"]], \"name\": \"Apollo\", \"opacity\": 0.7, \"showlegend\": true, \"showscale\": false, \"type\": \"surface\", \"x\": [-0.5, -0.4583333432674408, -0.4166666567325592, -0.375, -0.3333333432674408, -0.2916666567325592, -0.25, -0.2083333283662796, -0.1666666716337204, -0.125, -0.0833333358168602, -0.0416666679084301, 0.0, 0.0416666679084301, 0.0833333358168602, 0.125, 0.1666666716337204, 0.2083333283662796, 0.25, 0.2916666567325592, 0.3333333432674408, 0.375, 0.4166666567325592, 0.4583333432674408, 0.5], \"y\": [-0.5, -0.4583333432674408, -0.4166666567325592, -0.375, -0.3333333432674408, -0.2916666567325592, -0.25, -0.2083333283662796, -0.1666666716337204, -0.125, -0.0833333358168602, -0.0416666679084301, 0.0, 0.0416666679084301, 0.0833333358168602, 0.125, 0.1666666716337204, 0.2083333283662796, 0.25, 0.2916666567325592, 0.3333333432674408, 0.375, 0.4166666567325592, 0.4583333432674408, 0.5], \"z\": [[3.8354218006134033, 3.6727566719055176, 3.5239856243133545, 3.3907575607299805, 3.2738144397735596, 3.1760144233703613, 3.101003408432007, 3.0496184825897217, 3.0205373764038086, 3.01181697845459, 3.023406982421875, 3.0559051036834717, 3.107964038848877, 3.1773107051849365, 3.262378692626953, 3.3631856441497803, 3.4817678928375244, 3.619966983795166, 3.780465841293335, 3.964698076248169, 4.171576976776123, 4.4007720947265625, 4.6482744216918945, 4.910951137542725, 5.186520576477051], [3.575472593307495, 3.410670280456543, 3.258669376373291, 3.120952606201172, 2.9999239444732666, 2.898149013519287, 2.817350387573242, 2.7615599632263184, 2.7276813983917236, 2.713656425476074, 2.721203327178955, 2.747790813446045, 2.793494462966919, 2.85442852973938, 2.93080997467041, 3.020996570587158, 3.1258647441864014, 3.2471201419830322, 3.3880624771118164, 3.5504355430603027, 3.73528790473938, 3.9431209564208984, 4.171990394592285, 4.418130874633789, 4.6792449951171875], [3.337864398956299, 3.1692793369293213, 3.0147323608398438, 2.8741958141326904, 2.749727964401245, 2.644548177719116, 2.5596306324005127, 2.4983251094818115, 2.459279775619507, 2.4400455951690674, 2.4428257942199707, 2.4636316299438477, 2.5009665489196777, 2.55290150642395, 2.6180789470672607, 2.6944119930267334, 2.7822391986846924, 2.8848085403442383, 3.0061490535736084, 3.1491434574127197, 3.315502882003784, 3.5059070587158203, 3.7196402549743652, 3.9525721073150635, 4.2034173011779785], [3.1203973293304443, 2.9477334022521973, 2.7903590202331543, 2.6461844444274902, 2.5194993019104004, 2.411876916885376, 2.3238747119903564, 2.2573280334472656, 2.212541103363037, 2.1879351139068604, 2.1849515438079834, 2.1988823413848877, 2.2275798320770264, 2.2675721645355225, 2.3173272609710693, 2.3775811195373535, 2.448578119277954, 2.5337743759155273, 2.6396071910858154, 2.7672486305236816, 2.918734312057495, 3.0951664447784424, 3.297252893447876, 3.5221669673919678, 3.7681632041931152], [2.917726516723633, 2.7421629428863525, 2.581864833831787, 2.435047149658203, 2.30458664894104, 2.194856882095337, 2.1044986248016357, 2.034547805786133, 1.9839736223220825, 1.9528707265853882, 1.9429502487182617, 1.9487218856811523, 1.9654576778411865, 1.9909158945083618, 2.0256245136260986, 2.0699503421783447, 2.126990795135498, 2.1999552249908447, 2.2927935123443604, 2.4085745811462402, 2.549395799636841, 2.716473340988159, 2.9120986461639404, 3.1358115673065186, 3.387646198272705], [2.7221667766571045, 2.543628692626953, 2.380235195159912, 2.232349395751953, 2.0983197689056396, 1.986295461654663, 1.8943090438842773, 1.821380615234375, 1.7658746242523193, 1.7288153171539307, 1.7102819681167603, 1.705143928527832, 1.7097971439361572, 1.7215261459350586, 1.7435173988342285, 1.7765178680419922, 1.8232988119125366, 1.8866782188415527, 1.969809651374817, 2.078152894973755, 2.213585138320923, 2.3787519931793213, 2.577476978302002, 2.812540054321289, 3.0836920738220215], [2.5382373332977295, 2.3563625812530518, 2.1865413188934326, 2.032742738723755, 1.8948938846588135, 1.777354121208191, 1.6822947263717651, 1.6072338819503784, 1.548628330230713, 1.5048372745513916, 1.4789259433746338, 1.463881254196167, 1.4588583707809448, 1.4625645875930786, 1.476021409034729, 1.5003662109375, 1.5400819778442383, 1.5973904132843018, 1.6768771409988403, 1.7836370468139648, 1.9228088855743408, 2.0983872413635254, 2.3141491413116455, 2.5716679096221924, 2.8697569370269775], [2.377354145050049, 2.1897637844085693, 2.012923240661621, 1.849920392036438, 1.7037423849105835, 1.5768767595291138, 1.4739818572998047, 1.3924673795700073, 1.329355001449585, 1.2808046340942383, 1.247931957244873, 1.2274523973464966, 1.2166073322296143, 1.2152245044708252, 1.2232141494750977, 1.2430552244186401, 1.280173897743225, 1.3378387689590454, 1.4217641353607178, 1.538985252380371, 1.6950627565383911, 1.8930857181549072, 2.1349499225616455, 2.4202189445495605, 2.746753454208374], [2.2554941177368164, 2.0602211952209473, 1.8749446868896484, 1.7012379169464111, 1.54241144657135, 1.4021496772766113, 1.2835896015167236, 1.1891614198684692, 1.1161309480667114, 1.0607988834381104, 1.0212658643722534, 0.9972149729728699, 0.9834280610084534, 0.9798240065574646, 0.987389326095581, 1.0096197128295898, 1.0517799854278564, 1.1207408905029297, 1.2220581769943237, 1.362240195274353, 1.54507315158844, 1.7714877128601074, 2.041175127029419, 2.3530449867248535, 2.70503306388855], [2.182162046432495, 1.9785542488098145, 1.784225583076477, 1.6011543273925781, 1.4284132719039917, 1.2714872360229492, 1.1342637538909912, 1.0186593532562256, 0.927397608757019, 0.8581283092498779, 0.8082630038261414, 0.7770971059799194, 0.7631938457489014, 0.7625499367713928, 0.7773714661598206, 0.812191367149353, 0.8722013831138611, 0.9645378589630127, 1.0932084321975708, 1.2623600959777832, 1.4743931293487549, 1.727577805519104, 2.02168345451355, 2.355485677719116, 2.7287070751190186], [2.162031888961792, 1.9494121074676514, 1.7466548681259155, 1.5542397499084473, 1.370467185974121, 1.1986202001571655, 1.042993426322937, 0.9054088592529297, 0.7889476418495178, 0.6949641108512878, 0.6258293390274048, 0.5844438672065735, 0.5690757632255554, 0.5777403116226196, 0.6102991700172424, 0.6688693761825562, 0.756851851940155, 0.8788298964500427, 1.0371215343475342, 1.2340137958526611, 1.4697352647781372, 1.7450731992721558, 2.059699058532715, 2.4130897521972656, 2.8049614429473877], [2.1944503784179688, 1.9739587306976318, 1.7629035711288452, 1.5611109733581543, 1.3680171966552734, 1.184308648109436, 1.0129177570343018, 0.8561995625495911, 0.7156596183776855, 0.59486323595047, 0.5026117563247681, 0.44594186544418335, 0.42798662185668945, 0.44900715351104736, 0.5045421719551086, 0.5915524363517761, 0.7085481882095337, 0.8583104610443115, 1.0417674779891968, 1.2612603902816772, 1.517253041267395, 1.8118103742599487, 2.144774913787842, 2.514892816543579, 2.921172857284546], [2.270005941390991, 2.046041488647461, 1.8287853002548218, 1.6194090843200684, 1.4178717136383057, 1.2262712717056274, 1.0437146425247192, 0.8709600567817688, 0.7110453248023987, 0.5684945583343506, 0.4558258056640625, 0.3860335052013397, 0.36501389741897583, 0.3938407897949219, 0.4677158296108246, 0.5780319571495056, 0.7197415828704834, 0.8904248476028442, 1.0930240154266357, 1.331606149673462, 1.6064974069595337, 1.9178203344345093, 2.2651777267456055, 2.6477174758911133, 3.0662715435028076], [2.3782858848571777, 2.1535403728485107, 1.9331010580062866, 1.7189793586730957, 1.5125339031219482, 1.3149824142456055, 1.1269185543060303, 0.9449502825737, 0.7719265222549438, 0.614810049533844, 0.488411009311676, 0.4077834486961365, 0.3826335370540619, 0.4141395688056946, 0.49798205494880676, 0.6238051652908325, 0.7813488841056824, 0.9688441753387451, 1.188253402709961, 1.4422616958618164, 1.7321721315383911, 2.055593967437744, 2.4118399620056152, 2.8032448291778564, 3.23071026802063], [2.5111076831817627, 2.286248207092285, 2.0646793842315674, 1.8476920127868652, 1.6388614177703857, 1.4380854368209839, 1.2469980716705322, 1.0637311935424805, 0.8857910633087158, 0.7225965857505798, 0.5876796841621399, 0.49997904896736145, 0.4692818820476532, 0.5001435279846191, 0.5873244404792786, 0.7206040620803833, 0.8883045315742493, 1.089578628540039, 1.3222479820251465, 1.5880804061889648, 1.887610673904419, 2.2200472354888916, 2.5858888626098633, 2.985401153564453, 3.421121835708618], [2.6610097885131836, 2.4362192153930664, 2.213916301727295, 1.9965085983276367, 1.7867518663406372, 1.5852563381195068, 1.3931059837341309, 1.2105060815811157, 1.0362797975540161, 0.8725025653839111, 0.7352761626243591, 0.6435953974723816, 0.6089909672737122, 0.6369343400001526, 0.7244192361831665, 0.8595088720321655, 1.0332809686660767, 1.2400943040847778, 1.4792346954345703, 1.7512528896331787, 2.0575501918792725, 2.3967716693878174, 2.770137310028076, 3.177748680114746, 3.6211905479431152], [2.823498010635376, 2.5977590084075928, 2.3746745586395264, 2.1583316326141357, 1.949690580368042, 1.7487496137619019, 1.5564125776290894, 1.3745471239089966, 1.2053312063217163, 1.0466628074645996, 0.910373330116272, 0.8176975250244141, 0.7811949253082275, 0.8064984679222107, 0.8930838704109192, 1.027920126914978, 1.2015854120254517, 1.4084291458129883, 1.6499292850494385, 1.9254788160324097, 2.234992504119873, 2.580169200897217, 2.9600741863250732, 3.3745920658111572, 3.825502872467041], [2.993015766143799, 2.768366813659668, 2.545809507369995, 2.329712390899658, 2.1227195262908936, 1.9226981401443481, 1.7306679487228394, 1.5505021810531616, 1.384568691253662, 1.233686089515686, 1.1013432741165161, 1.008436679840088, 0.9713678956031799, 0.9951561093330383, 1.078982949256897, 1.212317705154419, 1.3841402530670166, 1.5898306369781494, 1.8317079544067383, 2.1087024211883545, 2.420769453048706, 2.768721342086792, 3.1545326709747314, 3.5751779079437256, 4.0327019691467285], [3.1677427291870117, 2.9451355934143066, 2.7240002155303955, 2.5093448162078857, 2.3029916286468506, 2.1037564277648926, 1.9128375053405762, 1.7341647148132324, 1.5707122087478638, 1.4256184101104736, 1.3013163805007935, 1.209604263305664, 1.1711149215698242, 1.1948750019073486, 1.2761741876602173, 1.4076545238494873, 1.5797977447509766, 1.7860761880874634, 2.026991844177246, 2.30372953414917, 2.617220401763916, 2.968353033065796, 3.356842517852783, 3.7819559574127197, 4.243683338165283], [3.3468172550201416, 3.126913547515869, 2.9091715812683105, 2.6959125995635986, 2.489194631576538, 2.2911365032196045, 2.1013853549957275, 1.924363374710083, 1.7641804218292236, 1.622475028038025, 1.5053969621658325, 1.4176918268203735, 1.378946304321289, 1.4019775390625, 1.482741355895996, 1.6152371168136597, 1.7885111570358276, 1.9959310293197632, 2.237412929534912, 2.5140724182128906, 2.827983856201172, 3.179398775100708, 3.5695149898529053, 3.996755599975586, 4.46036434173584], [3.53145694732666, 3.314479351043701, 3.099642753601074, 2.887876272201538, 2.6813974380493164, 2.4831080436706543, 2.294379234313965, 2.1188292503356934, 1.9607685804367065, 1.8224350214004517, 1.7106938362121582, 1.631784439086914, 1.5948069095611572, 1.6167185306549072, 1.6998649835586548, 1.8346279859542847, 2.010128974914551, 2.219139337539673, 2.4614574909210205, 2.7387285232543945, 3.0517308712005615, 3.403357982635498, 3.792311191558838, 4.218589782714844, 4.681593894958496], [3.7228360176086426, 3.5078463554382324, 3.2947816848754883, 3.084254264831543, 2.8781349658966064, 2.6797051429748535, 2.492128610610962, 2.3186755180358887, 2.1612088680267334, 2.0261080265045166, 1.919800043106079, 1.8479180335998535, 1.8167797327041626, 1.8410230875015259, 1.9269970655441284, 2.06535267829895, 2.2439796924591064, 2.4556896686553955, 2.697817325592041, 2.975358486175537, 3.2880945205688477, 3.637125015258789, 4.023083209991455, 4.446475028991699, 4.907952785491943], [3.919661283493042, 3.7056515216827393, 3.4931352138519287, 3.2835755348205566, 3.078508138656616, 2.8803515434265137, 2.69427227973938, 2.5223381519317627, 2.3664045333862305, 2.234201192855835, 2.1335391998291016, 2.0681750774383545, 2.04571795463562, 2.0746805667877197, 2.164466142654419, 2.306689739227295, 2.48844575881958, 2.701892137527466, 2.9445958137512207, 3.220245122909546, 3.532252550125122, 3.8787379264831543, 4.2612810134887695, 4.68170690536499, 5.140980243682861], [4.122021198272705, 3.907965898513794, 3.695321798324585, 3.4862258434295654, 3.2824134826660156, 3.0857701301574707, 2.9005463123321533, 2.7297348976135254, 2.5760483741760254, 2.447237491607666, 2.3515141010284424, 2.294135332107544, 2.2808947563171387, 2.3184468746185303, 2.4124395847320557, 2.5575456619262695, 2.7430176734924316, 2.957359790802002, 3.200613498687744, 3.4746367931365967, 3.7826695442199707, 4.127115249633789, 4.5066819190979, 4.923932075500488, 5.380744457244873], [4.328911304473877, 4.114295482635498, 3.9019179344177246, 3.6932919025421143, 3.49061918258667, 3.2949721813201904, 3.110225200653076, 2.9404497146606445, 2.7900922298431396, 2.6653645038604736, 2.5744590759277344, 2.5252761840820312, 2.523204803466797, 2.5711746215820312, 2.670362949371338, 2.8183932304382324, 3.0060970783233643, 3.222996234893799, 3.465986728668213, 3.738412857055664, 4.042962074279785, 4.383540630340576, 4.760457515716553, 5.174571990966797, 5.628494739532471]]}],                        {\"autosize\": true, \"margin\": {\"b\": 65, \"l\": 65, \"r\": 50, \"t\": 90}, \"template\": {\"data\": {\"bar\": [{\"error_x\": {\"color\": \"#2a3f5f\"}, \"error_y\": {\"color\": \"#2a3f5f\"}, \"marker\": {\"line\": {\"color\": \"#E5ECF6\", \"width\": 0.5}}, \"type\": \"bar\"}], \"barpolar\": [{\"marker\": {\"line\": {\"color\": \"#E5ECF6\", \"width\": 0.5}}, \"type\": \"barpolar\"}], \"carpet\": [{\"aaxis\": {\"endlinecolor\": \"#2a3f5f\", \"gridcolor\": \"white\", \"linecolor\": \"white\", \"minorgridcolor\": \"white\", \"startlinecolor\": \"#2a3f5f\"}, \"baxis\": {\"endlinecolor\": \"#2a3f5f\", \"gridcolor\": \"white\", \"linecolor\": \"white\", \"minorgridcolor\": \"white\", \"startlinecolor\": \"#2a3f5f\"}, \"type\": \"carpet\"}], \"choropleth\": [{\"colorbar\": {\"outlinewidth\": 0, \"ticks\": \"\"}, \"type\": \"choropleth\"}], \"contour\": [{\"colorbar\": {\"outlinewidth\": 0, \"ticks\": \"\"}, \"colorscale\": [[0.0, \"#0d0887\"], [0.1111111111111111, \"#46039f\"], [0.2222222222222222, \"#7201a8\"], [0.3333333333333333, \"#9c179e\"], [0.4444444444444444, \"#bd3786\"], [0.5555555555555556, \"#d8576b\"], [0.6666666666666666, \"#ed7953\"], [0.7777777777777778, \"#fb9f3a\"], [0.8888888888888888, \"#fdca26\"], [1.0, \"#f0f921\"]], \"type\": \"contour\"}], \"contourcarpet\": [{\"colorbar\": {\"outlinewidth\": 0, \"ticks\": \"\"}, \"type\": \"contourcarpet\"}], \"heatmap\": [{\"colorbar\": {\"outlinewidth\": 0, \"ticks\": \"\"}, \"colorscale\": [[0.0, \"#0d0887\"], [0.1111111111111111, \"#46039f\"], [0.2222222222222222, \"#7201a8\"], [0.3333333333333333, \"#9c179e\"], [0.4444444444444444, \"#bd3786\"], [0.5555555555555556, \"#d8576b\"], [0.6666666666666666, \"#ed7953\"], [0.7777777777777778, \"#fb9f3a\"], [0.8888888888888888, \"#fdca26\"], [1.0, \"#f0f921\"]], \"type\": \"heatmap\"}], \"heatmapgl\": [{\"colorbar\": {\"outlinewidth\": 0, \"ticks\": \"\"}, \"colorscale\": [[0.0, \"#0d0887\"], [0.1111111111111111, \"#46039f\"], [0.2222222222222222, \"#7201a8\"], [0.3333333333333333, \"#9c179e\"], [0.4444444444444444, \"#bd3786\"], [0.5555555555555556, \"#d8576b\"], [0.6666666666666666, \"#ed7953\"], [0.7777777777777778, \"#fb9f3a\"], [0.8888888888888888, \"#fdca26\"], [1.0, \"#f0f921\"]], \"type\": \"heatmapgl\"}], \"histogram\": [{\"marker\": {\"colorbar\": {\"outlinewidth\": 0, \"ticks\": \"\"}}, \"type\": \"histogram\"}], \"histogram2d\": [{\"colorbar\": {\"outlinewidth\": 0, \"ticks\": \"\"}, \"colorscale\": [[0.0, \"#0d0887\"], [0.1111111111111111, \"#46039f\"], [0.2222222222222222, \"#7201a8\"], [0.3333333333333333, \"#9c179e\"], [0.4444444444444444, \"#bd3786\"], [0.5555555555555556, \"#d8576b\"], [0.6666666666666666, \"#ed7953\"], [0.7777777777777778, \"#fb9f3a\"], [0.8888888888888888, \"#fdca26\"], [1.0, \"#f0f921\"]], \"type\": \"histogram2d\"}], \"histogram2dcontour\": [{\"colorbar\": {\"outlinewidth\": 0, \"ticks\": \"\"}, \"colorscale\": [[0.0, \"#0d0887\"], [0.1111111111111111, \"#46039f\"], [0.2222222222222222, \"#7201a8\"], [0.3333333333333333, \"#9c179e\"], [0.4444444444444444, \"#bd3786\"], [0.5555555555555556, \"#d8576b\"], [0.6666666666666666, \"#ed7953\"], [0.7777777777777778, \"#fb9f3a\"], [0.8888888888888888, \"#fdca26\"], [1.0, \"#f0f921\"]], \"type\": \"histogram2dcontour\"}], \"mesh3d\": [{\"colorbar\": {\"outlinewidth\": 0, \"ticks\": \"\"}, \"type\": \"mesh3d\"}], \"parcoords\": [{\"line\": {\"colorbar\": {\"outlinewidth\": 0, \"ticks\": \"\"}}, \"type\": \"parcoords\"}], \"pie\": [{\"automargin\": true, \"type\": \"pie\"}], \"scatter\": [{\"marker\": {\"colorbar\": {\"outlinewidth\": 0, \"ticks\": \"\"}}, \"type\": \"scatter\"}], \"scatter3d\": [{\"line\": {\"colorbar\": {\"outlinewidth\": 0, \"ticks\": \"\"}}, \"marker\": {\"colorbar\": {\"outlinewidth\": 0, \"ticks\": \"\"}}, \"type\": \"scatter3d\"}], \"scattercarpet\": [{\"marker\": {\"colorbar\": {\"outlinewidth\": 0, \"ticks\": \"\"}}, \"type\": \"scattercarpet\"}], \"scattergeo\": [{\"marker\": {\"colorbar\": {\"outlinewidth\": 0, \"ticks\": \"\"}}, \"type\": \"scattergeo\"}], \"scattergl\": [{\"marker\": {\"colorbar\": {\"outlinewidth\": 0, \"ticks\": \"\"}}, \"type\": \"scattergl\"}], \"scattermapbox\": [{\"marker\": {\"colorbar\": {\"outlinewidth\": 0, \"ticks\": \"\"}}, \"type\": \"scattermapbox\"}], \"scatterpolar\": [{\"marker\": {\"colorbar\": {\"outlinewidth\": 0, \"ticks\": \"\"}}, \"type\": \"scatterpolar\"}], \"scatterpolargl\": [{\"marker\": {\"colorbar\": {\"outlinewidth\": 0, \"ticks\": \"\"}}, \"type\": \"scatterpolargl\"}], \"scatterternary\": [{\"marker\": {\"colorbar\": {\"outlinewidth\": 0, \"ticks\": \"\"}}, \"type\": \"scatterternary\"}], \"surface\": [{\"colorbar\": {\"outlinewidth\": 0, \"ticks\": \"\"}, \"colorscale\": [[0.0, \"#0d0887\"], [0.1111111111111111, \"#46039f\"], [0.2222222222222222, \"#7201a8\"], [0.3333333333333333, \"#9c179e\"], [0.4444444444444444, \"#bd3786\"], [0.5555555555555556, \"#d8576b\"], [0.6666666666666666, \"#ed7953\"], [0.7777777777777778, \"#fb9f3a\"], [0.8888888888888888, \"#fdca26\"], [1.0, \"#f0f921\"]], \"type\": \"surface\"}], \"table\": [{\"cells\": {\"fill\": {\"color\": \"#EBF0F8\"}, \"line\": {\"color\": \"white\"}}, \"header\": {\"fill\": {\"color\": \"#C8D4E3\"}, \"line\": {\"color\": \"white\"}}, \"type\": \"table\"}]}, \"layout\": {\"annotationdefaults\": {\"arrowcolor\": \"#2a3f5f\", \"arrowhead\": 0, \"arrowwidth\": 1}, \"autotypenumbers\": \"strict\", \"coloraxis\": {\"colorbar\": {\"outlinewidth\": 0, \"ticks\": \"\"}}, \"colorscale\": {\"diverging\": [[0, \"#8e0152\"], [0.1, \"#c51b7d\"], [0.2, \"#de77ae\"], [0.3, \"#f1b6da\"], [0.4, \"#fde0ef\"], [0.5, \"#f7f7f7\"], [0.6, \"#e6f5d0\"], [0.7, \"#b8e186\"], [0.8, \"#7fbc41\"], [0.9, \"#4d9221\"], [1, \"#276419\"]], \"sequential\": [[0.0, \"#0d0887\"], [0.1111111111111111, \"#46039f\"], [0.2222222222222222, \"#7201a8\"], [0.3333333333333333, \"#9c179e\"], [0.4444444444444444, \"#bd3786\"], [0.5555555555555556, \"#d8576b\"], [0.6666666666666666, \"#ed7953\"], [0.7777777777777778, \"#fb9f3a\"], [0.8888888888888888, \"#fdca26\"], [1.0, \"#f0f921\"]], \"sequentialminus\": [[0.0, \"#0d0887\"], [0.1111111111111111, \"#46039f\"], [0.2222222222222222, \"#7201a8\"], [0.3333333333333333, \"#9c179e\"], [0.4444444444444444, \"#bd3786\"], [0.5555555555555556, \"#d8576b\"], [0.6666666666666666, \"#ed7953\"], [0.7777777777777778, \"#fb9f3a\"], [0.8888888888888888, \"#fdca26\"], [1.0, \"#f0f921\"]]}, \"colorway\": [\"#636efa\", \"#EF553B\", \"#00cc96\", \"#ab63fa\", \"#FFA15A\", \"#19d3f3\", \"#FF6692\", \"#B6E880\", \"#FF97FF\", \"#FECB52\"], \"font\": {\"color\": \"#2a3f5f\"}, \"geo\": {\"bgcolor\": \"white\", \"lakecolor\": \"white\", \"landcolor\": \"#E5ECF6\", \"showlakes\": true, \"showland\": true, \"subunitcolor\": \"white\"}, \"hoverlabel\": {\"align\": \"left\"}, \"hovermode\": \"closest\", \"mapbox\": {\"style\": \"light\"}, \"paper_bgcolor\": \"white\", \"plot_bgcolor\": \"#E5ECF6\", \"polar\": {\"angularaxis\": {\"gridcolor\": \"white\", \"linecolor\": \"white\", \"ticks\": \"\"}, \"bgcolor\": \"#E5ECF6\", \"radialaxis\": {\"gridcolor\": \"white\", \"linecolor\": \"white\", \"ticks\": \"\"}}, \"scene\": {\"xaxis\": {\"backgroundcolor\": \"#E5ECF6\", \"gridcolor\": \"white\", \"gridwidth\": 2, \"linecolor\": \"white\", \"showbackground\": true, \"ticks\": \"\", \"zerolinecolor\": \"white\"}, \"yaxis\": {\"backgroundcolor\": \"#E5ECF6\", \"gridcolor\": \"white\", \"gridwidth\": 2, \"linecolor\": \"white\", \"showbackground\": true, \"ticks\": \"\", \"zerolinecolor\": \"white\"}, \"zaxis\": {\"backgroundcolor\": \"#E5ECF6\", \"gridcolor\": \"white\", \"gridwidth\": 2, \"linecolor\": \"white\", \"showbackground\": true, \"ticks\": \"\", \"zerolinecolor\": \"white\"}}, \"shapedefaults\": {\"line\": {\"color\": \"#2a3f5f\"}}, \"ternary\": {\"aaxis\": {\"gridcolor\": \"white\", \"linecolor\": \"white\", \"ticks\": \"\"}, \"baxis\": {\"gridcolor\": \"white\", \"linecolor\": \"white\", \"ticks\": \"\"}, \"bgcolor\": \"#E5ECF6\", \"caxis\": {\"gridcolor\": \"white\", \"linecolor\": \"white\", \"ticks\": \"\"}}, \"title\": {\"x\": 0.05}, \"xaxis\": {\"automargin\": true, \"gridcolor\": \"white\", \"linecolor\": \"white\", \"ticks\": \"\", \"title\": {\"standoff\": 15}, \"zerolinecolor\": \"white\", \"zerolinewidth\": 2}, \"yaxis\": {\"automargin\": true, \"gridcolor\": \"white\", \"linecolor\": \"white\", \"ticks\": \"\", \"title\": {\"standoff\": 15}, \"zerolinecolor\": \"white\", \"zerolinewidth\": 2}}}, \"title\": {\"text\": \"Loss landscape for Fashion_MNIST\"}, \"xaxis\": {\"title\": {\"text\": \"Perturbation in first eigenvector direction\"}}, \"yaxis\": {\"title\": {\"text\": \"Perturbation in second eigenvector direction\"}}},                        {\"responsive\": true}                    ).then(function(){\n",
       "                            \n",
       "var gd = document.getElementById('51bcbb7e-a7d2-4db7-98d9-9346918e7c71');\n",
       "var x = new MutationObserver(function (mutations, observer) {{\n",
       "        var display = window.getComputedStyle(gd).display;\n",
       "        if (!display || display === 'none') {{\n",
       "            console.log([gd, 'removed!']);\n",
       "            Plotly.purge(gd);\n",
       "            observer.disconnect();\n",
       "        }}\n",
       "}});\n",
       "\n",
       "// Listen for the removal of the full notebook cells\n",
       "var notebookContainer = gd.closest('#notebook-container');\n",
       "if (notebookContainer) {{\n",
       "    x.observe(notebookContainer, {childList: true});\n",
       "}}\n",
       "\n",
       "// Listen for the clearing of the current output cell\n",
       "var outputEl = gd.closest('.output');\n",
       "if (outputEl) {{\n",
       "    x.observe(outputEl, {childList: true});\n",
       "}}\n",
       "\n",
       "                        })                };                });            </script>        </div>"
      ]
     },
     "metadata": {},
     "output_type": "display_data"
    },
    {
     "data": {
      "application/javascript": [
       "\n",
       "            setTimeout(function() {\n",
       "                var nbb_cell_id = 159;\n",
       "                var nbb_unformatted_code = \"# Different colormaps for different optimizers\\ndataset = \\\"Fashion_MNIST\\\"\\ncolors = [\\\"ylgn\\\", \\\"viridis\\\", \\\"blues\\\", \\\"plotly3\\\"]\\nfig = go.Figure()\\n\\nfor (optimizer, loss), c in zip(losses_3d[dataset].items(), colors):\\n    fig.add_trace(\\n        go.Surface(\\n            z=loss,\\n            x=alphas,\\n            y=alphas,\\n            opacity=0.7,\\n            name=optimizer,\\n            showscale=False,\\n            showlegend=True,\\n            colorscale=c,\\n        ),\\n    )\\n\\nfig.update_layout(\\n    title=f\\\"Loss landscape for {dataset}\\\",\\n    autosize=True,\\n    margin=dict(l=65, r=50, b=65, t=90),\\n    xaxis_title=\\\"Perturbation in first eigenvector direction\\\",\\n    yaxis_title=\\\"Perturbation in second eigenvector direction\\\",\\n    overwrite=True,\\n)\\nfig.show()\";\n",
       "                var nbb_formatted_code = \"# Different colormaps for different optimizers\\ndataset = \\\"Fashion_MNIST\\\"\\ncolors = [\\\"ylgn\\\", \\\"viridis\\\", \\\"blues\\\", \\\"plotly3\\\"]\\nfig = go.Figure()\\n\\nfor (optimizer, loss), c in zip(losses_3d[dataset].items(), colors):\\n    fig.add_trace(\\n        go.Surface(\\n            z=loss,\\n            x=alphas,\\n            y=alphas,\\n            opacity=0.7,\\n            name=optimizer,\\n            showscale=False,\\n            showlegend=True,\\n            colorscale=c,\\n        ),\\n    )\\n\\nfig.update_layout(\\n    title=f\\\"Loss landscape for {dataset}\\\",\\n    autosize=True,\\n    margin=dict(l=65, r=50, b=65, t=90),\\n    xaxis_title=\\\"Perturbation in first eigenvector direction\\\",\\n    yaxis_title=\\\"Perturbation in second eigenvector direction\\\",\\n    overwrite=True,\\n)\\nfig.show()\";\n",
       "                var nbb_cells = Jupyter.notebook.get_cells();\n",
       "                for (var i = 0; i < nbb_cells.length; ++i) {\n",
       "                    if (nbb_cells[i].input_prompt_number == nbb_cell_id) {\n",
       "                        if (nbb_cells[i].get_text() == nbb_unformatted_code) {\n",
       "                             nbb_cells[i].set_text(nbb_formatted_code);\n",
       "                        }\n",
       "                        break;\n",
       "                    }\n",
       "                }\n",
       "            }, 500);\n",
       "            "
      ],
      "text/plain": [
       "<IPython.core.display.Javascript object>"
      ]
     },
     "metadata": {},
     "output_type": "display_data"
    }
   ],
   "source": [
    "# Different colormaps for different optimizers\n",
    "dataset = \"Fashion_MNIST\"\n",
    "colors = [\"ylgn\", \"viridis\", \"blues\", \"plotly3\"]\n",
    "fig = go.Figure()\n",
    "\n",
    "for (optimizer, loss), c in zip(losses_3d[dataset].items(), colors):\n",
    "    fig.add_trace(\n",
    "        go.Surface(\n",
    "            z=loss,\n",
    "            x=alphas,\n",
    "            y=alphas,\n",
    "            opacity=0.7,\n",
    "            name=optimizer,\n",
    "            showscale=False,\n",
    "            showlegend=True,\n",
    "            colorscale=c,\n",
    "        ),\n",
    "    )\n",
    "\n",
    "fig.update_layout(\n",
    "    title=f\"Loss landscape for {dataset}\",\n",
    "    autosize=True,\n",
    "    margin=dict(l=65, r=50, b=65, t=90),\n",
    "    xaxis_title=\"Perturbation in first eigenvector direction\",\n",
    "    yaxis_title=\"Perturbation in second eigenvector direction\",\n",
    "    overwrite=True,\n",
    ")\n",
    "fig.show()"
   ]
  },
  {
   "cell_type": "markdown",
   "id": "8639285b",
   "metadata": {},
   "source": [
    "### CIFAR"
   ]
  },
  {
   "cell_type": "code",
   "execution_count": 160,
   "id": "78d0923c",
   "metadata": {},
   "outputs": [
    {
     "data": {
      "application/vnd.plotly.v1+json": {
       "config": {
        "plotlyServerURL": "https://plot.ly"
       },
       "data": [
        {
         "colorscale": [
          [
           0,
           "rgb(255,255,229)"
          ],
          [
           0.125,
           "rgb(247,252,185)"
          ],
          [
           0.25,
           "rgb(217,240,163)"
          ],
          [
           0.375,
           "rgb(173,221,142)"
          ],
          [
           0.5,
           "rgb(120,198,121)"
          ],
          [
           0.625,
           "rgb(65,171,93)"
          ],
          [
           0.75,
           "rgb(35,132,67)"
          ],
          [
           0.875,
           "rgb(0,104,55)"
          ],
          [
           1,
           "rgb(0,69,41)"
          ]
         ],
         "name": "Adam",
         "opacity": 0.7,
         "showlegend": true,
         "showscale": false,
         "type": "surface",
         "x": [
          -0.5,
          -0.4583333432674408,
          -0.4166666567325592,
          -0.375,
          -0.3333333432674408,
          -0.2916666567325592,
          -0.25,
          -0.2083333283662796,
          -0.1666666716337204,
          -0.125,
          -0.0833333358168602,
          -0.0416666679084301,
          0,
          0.0416666679084301,
          0.0833333358168602,
          0.125,
          0.1666666716337204,
          0.2083333283662796,
          0.25,
          0.2916666567325592,
          0.3333333432674408,
          0.375,
          0.4166666567325592,
          0.4583333432674408,
          0.5
         ],
         "y": [
          -0.5,
          -0.4583333432674408,
          -0.4166666567325592,
          -0.375,
          -0.3333333432674408,
          -0.2916666567325592,
          -0.25,
          -0.2083333283662796,
          -0.1666666716337204,
          -0.125,
          -0.0833333358168602,
          -0.0416666679084301,
          0,
          0.0416666679084301,
          0.0833333358168602,
          0.125,
          0.1666666716337204,
          0.2083333283662796,
          0.25,
          0.2916666567325592,
          0.3333333432674408,
          0.375,
          0.4166666567325592,
          0.4583333432674408,
          0.5
         ],
         "z": [
          [
           37.806678771972656,
           36.9344596862793,
           36.077030181884766,
           35.2288703918457,
           34.38700485229492,
           33.549442291259766,
           32.7156982421875,
           31.885421752929688,
           31.05914306640625,
           30.237316131591797,
           29.421335220336914,
           28.613466262817383,
           27.813234329223633,
           27.01347541809082,
           26.181095123291016,
           25.235382080078125,
           24.032855987548828,
           22.536983489990234,
           20.94683074951172,
           19.261062622070312,
           17.510723114013672,
           16.21651840209961,
           16.559833526611328,
           18.15125846862793,
           20.074813842773438
          ],
          [
           35.529991149902344,
           34.64237976074219,
           33.7793083190918,
           32.93254470825195,
           32.09629440307617,
           31.26739501953125,
           30.443387985229492,
           29.623626708984375,
           28.80802345275879,
           27.99701690673828,
           27.191219329833984,
           26.392929077148438,
           25.600929260253906,
           24.803529739379883,
           23.954755783081055,
           22.958242416381836,
           21.660669326782227,
           20.133636474609375,
           18.522899627685547,
           16.79977035522461,
           15.25671672821045,
           14.997997283935547,
           16.332929611206055,
           18.196386337280273,
           20.054546356201172
          ],
          [
           33.3192024230957,
           32.397621154785156,
           31.5166072845459,
           30.662704467773438,
           29.827091217041016,
           29.00338363647461,
           28.188032150268555,
           27.37807273864746,
           26.57324981689453,
           25.773134231567383,
           24.977807998657227,
           24.188947677612305,
           23.404098510742188,
           22.605030059814453,
           21.73194122314453,
           20.669910430908203,
           19.284473419189453,
           17.7365779876709,
           16.084732055664062,
           14.432808876037598,
           13.63188362121582,
           14.597947120666504,
           16.375730514526367,
           18.198942184448242,
           19.980213165283203
          ],
          [
           31.218318939208984,
           30.224557876586914,
           29.305288314819336,
           28.431026458740234,
           27.586347579956055,
           26.76217269897461,
           25.95186996459961,
           25.150632858276367,
           24.35588264465332,
           23.56646156311035,
           22.78199005126953,
           22.00232696533203,
           21.223220825195312,
           20.416955947875977,
           19.509641647338867,
           18.365161895751953,
           16.91371726989746,
           15.338666915893555,
           13.67457389831543,
           12.475964546203613,
           12.963565826416016,
           14.6156005859375,
           16.39889144897461,
           18.15077781677246,
           19.94318389892578
          ],
          [
           29.133474349975586,
           28.15456199645996,
           27.171855926513672,
           26.254344940185547,
           25.387346267700195,
           24.552322387695312,
           23.740432739257812,
           22.943817138671875,
           22.15753936767578,
           21.378665924072266,
           20.604944229125977,
           19.834205627441406,
           19.058399200439453,
           18.2382869720459,
           17.28461456298828,
           16.040319442749023,
           14.545632362365723,
           12.935298919677734,
           11.499337196350098,
           11.454792022705078,
           12.920462608337402,
           14.65573501586914,
           16.381431579589844,
           18.135549545288086,
           19.84220314025879
          ],
          [
           27.01983642578125,
           26.0801944732666,
           25.125484466552734,
           24.162456512451172,
           23.246488571166992,
           22.387741088867188,
           21.563308715820312,
           20.763896942138672,
           19.98233985900879,
           19.21194839477539,
           18.4486141204834,
           17.686019897460938,
           16.909683227539062,
           16.06756019592285,
           15.050567626953125,
           13.708906173706055,
           12.178176879882812,
           10.641995429992676,
           10.097039222717285,
           11.29588794708252,
           12.971837043762207,
           14.674976348876953,
           16.392976760864258,
           18.104944229125977,
           19.905256271362305
          ],
          [
           24.850921630859375,
           23.965147018432617,
           23.058191299438477,
           22.130952835083008,
           21.193620681762695,
           20.282468795776367,
           19.434965133666992,
           18.622291564941406,
           17.836881637573242,
           17.070955276489258,
           16.315731048583984,
           15.560014724731445,
           14.777908325195312,
           13.903435707092285,
           12.800522804260254,
           11.378743171691895,
           9.844731330871582,
           8.903712272644043,
           9.74984359741211,
           11.350165367126465,
           13.033036231994629,
           14.724157333374023,
           16.45789337158203,
           18.26316261291504,
           20.07639503479004
          ],
          [
           22.658214569091797,
           21.794754028320312,
           20.93549919128418,
           20.066146850585938,
           19.171192169189453,
           18.263437271118164,
           17.365161895751953,
           16.531557083129883,
           15.733675956726074,
           14.963473320007324,
           14.211569786071777,
           13.46010684967041,
           12.666730880737305,
           11.745814323425293,
           10.532310485839844,
           9.06676197052002,
           7.864343643188477,
           8.289477348327637,
           9.79308032989502,
           11.460171699523926,
           13.149240493774414,
           14.906764030456543,
           16.675703048706055,
           18.46209144592285,
           20.24298667907715
          ],
          [
           20.479158401489258,
           19.62067222595215,
           18.772098541259766,
           17.933135986328125,
           17.098731994628906,
           16.24652671813965,
           15.373623847961426,
           14.498562812805176,
           13.682724952697754,
           12.905279159545898,
           12.151596069335938,
           11.403660774230957,
           10.599757194519043,
           9.613475799560547,
           8.284900665283203,
           6.943408489227295,
           6.928552627563477,
           8.313958168029785,
           9.973904609680176,
           11.683907508850098,
           13.40572452545166,
           15.12459945678711,
           16.81194305419922,
           18.490007400512695,
           20.199525833129883
          ],
          [
           18.341577529907227,
           17.48859214782715,
           16.644914627075195,
           15.810850143432617,
           14.988155364990234,
           14.175249099731445,
           13.369006156921387,
           12.54776668548584,
           11.710865020751953,
           10.925061225891113,
           10.177336692810059,
           9.42299747467041,
           8.577216148376465,
           7.456160545349121,
           6.059292793273926,
           5.6705145835876465,
           6.925459861755371,
           8.581487655639648,
           10.262158393859863,
           11.899457931518555,
           13.508212089538574,
           15.121010780334473,
           16.771272659301758,
           18.455913543701172,
           20.170068740844727
          ],
          [
           16.178190231323242,
           15.352346420288086,
           14.532047271728516,
           13.719212532043457,
           12.911032676696777,
           12.10722541809082,
           11.310528755187988,
           10.527361869812012,
           9.755837440490723,
           8.978046417236328,
           8.210746765136719,
           7.424217224121094,
           6.465845108032227,
           5.1500349044799805,
           4.465289115905762,
           5.602726936340332,
           7.213522434234619,
           8.796875953674316,
           10.356361389160156,
           11.917741775512695,
           13.501511573791504,
           15.113941192626953,
           16.7576847076416,
           18.432340621948242,
           20.135637283325195
          ],
          [
           13.6879243850708,
           12.881336212158203,
           12.08737564086914,
           11.308639526367188,
           10.547391891479492,
           9.80249309539795,
           9.068215370178223,
           8.33935546875,
           7.6150288581848145,
           6.888569355010986,
           6.112493991851807,
           5.214916229248047,
           4.019692897796631,
           3.1874868869781494,
           4.2569074630737305,
           5.821079730987549,
           7.3658952713012695,
           8.88485336303711,
           10.402630805969238,
           11.94070816040039,
           13.505424499511719,
           15.100092887878418,
           16.727537155151367,
           18.388776779174805,
           20.081789016723633
          ],
          [
           11.681081771850586,
           10.862361907958984,
           10.05427360534668,
           9.25760269165039,
           8.472817420959473,
           7.6996355056762695,
           6.935342788696289,
           6.1782965660095215,
           5.424952983856201,
           4.646895885467529,
           3.715182065963745,
           2.44303822517395,
           1.5289392471313477,
           2.7046687602996826,
           4.4489850997924805,
           5.988351821899414,
           7.450782775878906,
           8.915351867675781,
           10.408773422241211,
           11.931488037109375,
           13.482426643371582,
           15.063228607177734,
           16.678508758544922,
           18.330163955688477,
           20.015417098999023
          ],
          [
           16.034454345703125,
           15.282708168029785,
           14.533843040466309,
           13.780506134033203,
           13.013490676879883,
           12.220297813415527,
           11.390876770019531,
           10.502434730529785,
           9.512763023376465,
           8.309123039245605,
           6.740778923034668,
           4.810798645019531,
           3.1679112911224365,
           3.4350593090057373,
           4.7439165115356445,
           6.068860054016113,
           7.4416279792785645,
           8.860932350158691,
           10.328689575195312,
           11.847229957580566,
           13.405556678771973,
           14.993614196777344,
           16.610685348510742,
           18.260141372680664,
           19.942489624023438
          ],
          [
           20.36880111694336,
           19.476123809814453,
           18.566064834594727,
           17.631519317626953,
           16.658039093017578,
           15.640016555786133,
           14.53278923034668,
           13.305923461914062,
           11.972959518432617,
           10.505449295043945,
           8.827333450317383,
           6.9085373878479,
           5.139492511749268,
           4.662136077880859,
           5.2877583503723145,
           6.281275272369385,
           7.4708170890808105,
           8.79788589477539,
           10.21325969696045,
           11.695103645324707,
           13.241004943847656,
           14.840750694274902,
           16.47968292236328,
           18.147451400756836,
           19.841468811035156
          ],
          [
           23.54572868347168,
           22.520671844482422,
           21.457353591918945,
           20.320453643798828,
           19.100675582885742,
           17.81348419189453,
           16.478443145751953,
           15.096522331237793,
           13.646172523498535,
           12.1008939743042,
           10.403586387634277,
           8.463479995727539,
           6.574014663696289,
           5.744976043701172,
           5.995373725891113,
           6.720678329467773,
           7.671138763427734,
           8.82978630065918,
           10.135958671569824,
           11.552083015441895,
           13.048644065856934,
           14.618752479553223,
           16.256052017211914,
           17.946611404418945,
           19.671062469482422
          ],
          [
           26.15375518798828,
           24.914506912231445,
           23.619823455810547,
           22.282747268676758,
           20.916889190673828,
           19.526962280273438,
           18.11089515686035,
           16.6573429107666,
           15.147217750549316,
           13.563108444213867,
           11.848660469055176,
           9.884866714477539,
           7.874904632568359,
           6.779491424560547,
           6.742971897125244,
           7.284453868865967,
           8.0858736038208,
           9.039329528808594,
           10.190020561218262,
           11.486176490783691,
           12.904390335083008,
           14.41425609588623,
           16.006969451904297,
           17.678482055664062,
           19.413240432739258
          ],
          [
           28.19976234436035,
           26.822547912597656,
           25.42437744140625,
           24.010879516601562,
           22.583215713500977,
           21.139076232910156,
           19.67099952697754,
           18.165939331054688,
           16.605823516845703,
           14.978903770446777,
           13.240306854248047,
           11.266280174255371,
           9.16038703918457,
           7.819184303283691,
           7.55975866317749,
           7.893024444580078,
           8.622989654541016,
           9.464136123657227,
           10.426036834716797,
           11.57556438446045,
           12.863838195800781,
           14.282795906066895,
           15.806949615478516,
           17.423002243041992,
           19.12626838684082
          ],
          [
           30.025875091552734,
           28.58007049560547,
           27.126691818237305,
           25.66595458984375,
           24.196035385131836,
           22.71039581298828,
           21.19852066040039,
           19.64847183227539,
           18.044803619384766,
           16.383371353149414,
           14.623250961303711,
           12.635788917541504,
           10.459677696228027,
           8.884552955627441,
           8.432660102844238,
           8.56126594543457,
           9.1762056350708,
           10.008038520812988,
           10.87157154083252,
           11.850432395935059,
           12.998200416564941,
           14.278891563415527,
           15.69624137878418,
           17.235198974609375,
           18.87456512451172
          ],
          [
           31.778564453125,
           30.285215377807617,
           28.78974723815918,
           27.29084587097168,
           25.784404754638672,
           24.260549545288086,
           22.708847045898438,
           21.116626739501953,
           19.474477767944336,
           17.788192749023438,
           16.010671615600586,
           14.011920928955078,
           11.78869915008545,
           9.99716854095459,
           9.352882385253906,
           9.308913230895996,
           9.771909713745117,
           10.546097755432129,
           11.433853149414062,
           12.314892768859863,
           13.317853927612305,
           14.462011337280273,
           15.735897064208984,
           17.150583267211914,
           18.70266342163086
          ],
          [
           33.49617004394531,
           31.969158172607422,
           30.440120697021484,
           28.907257080078125,
           27.36482048034668,
           25.802400588989258,
           24.21108627319336,
           22.577537536621094,
           20.90575408935547,
           19.200069427490234,
           17.40736961364746,
           15.401458740234375,
           13.145708084106445,
           11.173660278320312,
           10.336304664611816,
           10.138874053955078,
           10.403169631958008,
           11.11826229095459,
           11.98499870300293,
           12.893967628479004,
           13.79382610321045,
           14.822916030883789,
           15.965978622436523,
           17.23470115661621,
           18.646955490112305
          ],
          [
           35.195682525634766,
           33.642486572265625,
           32.08721923828125,
           30.525415420532227,
           28.947559356689453,
           27.346206665039062,
           25.71251678466797,
           24.041858673095703,
           22.34610939025879,
           20.623445510864258,
           18.817724227905273,
           16.806371688842773,
           14.527703285217285,
           12.40511417388916,
           11.378157615661621,
           11.051766395568848,
           11.124500274658203,
           11.712998390197754,
           12.542603492736816,
           13.465898513793945,
           14.379745483398438,
           15.304985046386719,
           16.36043930053711,
           17.506486892700195,
           18.77136993408203
          ],
          [
           36.886634826660156,
           35.31196594238281,
           33.7337532043457,
           32.14441680908203,
           30.534513473510742,
           28.895936965942383,
           27.221599578857422,
           25.51947593688965,
           23.802143096923828,
           22.062692642211914,
           20.244272232055664,
           18.227373123168945,
           15.932331085205078,
           13.684247970581055,
           12.462800979614258,
           12.030323028564453,
           11.94753646850586,
           12.338678359985352,
           13.142006874084473,
           14.040907859802246,
           14.981929779052734,
           15.898066520690918,
           16.848955154418945,
           17.927724838256836,
           19.081069946289062
          ],
          [
           38.5748291015625,
           36.98092269897461,
           35.380435943603516,
           33.763710021972656,
           32.122928619384766,
           30.449342727661133,
           28.742061614990234,
           27.016067504882812,
           25.27886199951172,
           23.521703720092773,
           21.6899471282959,
           19.66596031188965,
           17.35785675048828,
           15.006680488586426,
           13.584443092346191,
           13.057418823242188,
           12.854265213012695,
           13.047374725341797,
           13.7498779296875,
           14.636767387390137,
           15.595726013183594,
           16.533206939697266,
           17.454023361206055,
           18.429399490356445,
           19.528833389282227
          ],
          [
           40.26377487182617,
           38.6509895324707,
           37.02660369873047,
           35.382957458496094,
           33.71028518676758,
           32.00410079956055,
           30.271968841552734,
           28.528011322021484,
           26.77521514892578,
           25.002138137817383,
           23.155860900878906,
           21.12390899658203,
           18.803924560546875,
           16.36908721923828,
           14.744304656982422,
           14.11921501159668,
           13.824607849121094,
           13.851037979125977,
           14.372931480407715,
           15.258289337158203,
           16.198848724365234,
           17.178253173828125,
           18.11491584777832,
           19.047504425048828,
           20.046741485595703
          ]
         ]
        },
        {
         "colorscale": [
          [
           0,
           "#440154"
          ],
          [
           0.1111111111111111,
           "#482878"
          ],
          [
           0.2222222222222222,
           "#3e4989"
          ],
          [
           0.3333333333333333,
           "#31688e"
          ],
          [
           0.4444444444444444,
           "#26828e"
          ],
          [
           0.5555555555555556,
           "#1f9e89"
          ],
          [
           0.6666666666666666,
           "#35b779"
          ],
          [
           0.7777777777777778,
           "#6ece58"
          ],
          [
           0.8888888888888888,
           "#b5de2b"
          ],
          [
           1,
           "#fde725"
          ]
         ],
         "name": "LBFGS",
         "opacity": 0.7,
         "showlegend": true,
         "showscale": false,
         "type": "surface",
         "x": [
          -0.5,
          -0.4583333432674408,
          -0.4166666567325592,
          -0.375,
          -0.3333333432674408,
          -0.2916666567325592,
          -0.25,
          -0.2083333283662796,
          -0.1666666716337204,
          -0.125,
          -0.0833333358168602,
          -0.0416666679084301,
          0,
          0.0416666679084301,
          0.0833333358168602,
          0.125,
          0.1666666716337204,
          0.2083333283662796,
          0.25,
          0.2916666567325592,
          0.3333333432674408,
          0.375,
          0.4166666567325592,
          0.4583333432674408,
          0.5
         ],
         "y": [
          -0.5,
          -0.4583333432674408,
          -0.4166666567325592,
          -0.375,
          -0.3333333432674408,
          -0.2916666567325592,
          -0.25,
          -0.2083333283662796,
          -0.1666666716337204,
          -0.125,
          -0.0833333358168602,
          -0.0416666679084301,
          0,
          0.0416666679084301,
          0.0833333358168602,
          0.125,
          0.1666666716337204,
          0.2083333283662796,
          0.25,
          0.2916666567325592,
          0.3333333432674408,
          0.375,
          0.4166666567325592,
          0.4583333432674408,
          0.5
         ],
         "z": [
          [
           24.66282844543457,
           24.24767303466797,
           23.970027923583984,
           23.815446853637695,
           23.734619140625,
           23.65526580810547,
           23.55821418762207,
           23.424617767333984,
           23.23288917541504,
           23.010417938232422,
           22.807159423828125,
           22.640369415283203,
           22.50704574584961,
           22.403467178344727,
           22.344623565673828,
           22.34868049621582,
           22.409135818481445,
           22.524219512939453,
           22.740339279174805,
           23.14862632751465,
           23.869386672973633,
           24.97079086303711,
           26.360694885253906,
           27.868877410888672,
           29.42888641357422
          ],
          [
           23.44357681274414,
           22.907470703125,
           22.516464233398438,
           22.263275146484375,
           22.126405715942383,
           22.041484832763672,
           21.94257164001465,
           21.81656837463379,
           21.636781692504883,
           21.4150447845459,
           21.19512176513672,
           21.012300491333008,
           20.86833953857422,
           20.76000213623047,
           20.696508407592773,
           20.695369720458984,
           20.760229110717773,
           20.901479721069336,
           21.168697357177734,
           21.657880783081055,
           22.482494354248047,
           23.661746978759766,
           25.05837059020996,
           26.538362503051758,
           28.071130752563477
          ],
          [
           22.388652801513672,
           21.707406997680664,
           21.191322326660156,
           20.820833206176758,
           20.58885383605957,
           20.45925521850586,
           20.358983993530273,
           20.231307983398438,
           20.06198501586914,
           19.842514038085938,
           19.60651397705078,
           19.401887893676758,
           19.24163055419922,
           19.124610900878906,
           19.05624008178711,
           19.052370071411133,
           19.125919342041016,
           19.299386978149414,
           19.624753952026367,
           20.211435317993164,
           21.143190383911133,
           22.380033493041992,
           23.763835906982422,
           25.217411041259766,
           26.714689254760742
          ],
          [
           21.47797203063965,
           20.67035675048828,
           20.003793716430664,
           19.50335121154785,
           19.14997100830078,
           18.931489944458008,
           18.79824447631836,
           18.66901969909668,
           18.50116539001465,
           18.282968521118164,
           18.034252166748047,
           17.80377197265625,
           17.62142562866211,
           17.489959716796875,
           17.415348052978516,
           17.411849975585938,
           17.500398635864258,
           17.709793090820312,
           18.116342544555664,
           18.816495895385742,
           19.851070404052734,
           21.112239837646484,
           22.4741153717041,
           23.896923065185547,
           25.355863571166992
          ],
          [
           20.646751403808594,
           19.768798828125,
           18.975311279296875,
           18.31884765625,
           17.828641891479492,
           17.488067626953125,
           17.272459030151367,
           17.11964988708496,
           16.946256637573242,
           16.726959228515625,
           16.467432022094727,
           16.207860946655273,
           15.996847152709961,
           15.845311164855957,
           15.761285781860352,
           15.760229110717773,
           15.867572784423828,
           16.139429092407227,
           16.651790618896484,
           17.478031158447266,
           18.588298797607422,
           19.84418296813965,
           21.185211181640625,
           22.573989868164062,
           23.993825912475586
          ],
          [
           19.857484817504883,
           18.937856674194336,
           18.071409225463867,
           17.28626823425293,
           16.63343620300293,
           16.1466121673584,
           15.808572769165039,
           15.581603050231934,
           15.388492584228516,
           15.158705711364746,
           14.887299537658691,
           14.599446296691895,
           14.352477073669434,
           14.173286437988281,
           14.073980331420898,
           14.077157020568848,
           14.231545448303223,
           14.595905303955078,
           15.24352741241455,
           16.19073486328125,
           17.329057693481445,
           18.579570770263672,
           19.895328521728516,
           21.249977111816406,
           22.633638381958008
          ],
          [
           19.08660888671875,
           18.139495849609375,
           17.227230072021484,
           16.364032745361328,
           15.577693939208984,
           14.919211387634277,
           14.424200057983398,
           14.073650360107422,
           13.81421184539795,
           13.561402320861816,
           13.270380020141602,
           12.95390510559082,
           12.662077903747559,
           12.442593574523926,
           12.324156761169434,
           12.354646682739258,
           12.591695785522461,
           13.103487968444824,
           13.902993202209473,
           14.922852516174316,
           16.07852554321289,
           17.319602966308594,
           18.611995697021484,
           19.940582275390625,
           21.297035217285156
          ],
          [
           18.31974220275879,
           17.34882354736328,
           16.4023494720459,
           15.48569107055664,
           14.612363815307617,
           13.809516906738281,
           13.130083084106445,
           12.611833572387695,
           12.227720260620117,
           11.908263206481934,
           11.582383155822754,
           11.228836059570312,
           10.87874698638916,
           10.611492156982422,
           10.491239547729492,
           10.594862937927246,
           10.995434761047363,
           11.687115669250488,
           12.60927677154541,
           13.67985725402832,
           14.853419303894043,
           16.09117889404297,
           17.37262725830078,
           18.683853149414062,
           20.01974105834961
          ],
          [
           17.54422378540039,
           16.550025939941406,
           15.570528984069824,
           14.608474731445312,
           13.668936729431152,
           12.76743221282959,
           11.927607536315918,
           11.203624725341797,
           10.636539459228516,
           10.183820724487305,
           9.775117874145508,
           9.355025291442871,
           8.944657325744629,
           8.64694595336914,
           8.593071937561035,
           8.87440299987793,
           9.492146492004395,
           10.359107971191406,
           11.377785682678223,
           12.505146026611328,
           13.698722839355469,
           14.930469512939453,
           16.187822341918945,
           17.464527130126953,
           18.761600494384766
          ],
          [
           16.750988006591797,
           15.730737686157227,
           14.716222763061523,
           13.707523345947266,
           12.70766544342041,
           11.721242904663086,
           10.761029243469238,
           9.850262641906738,
           9.043013572692871,
           8.38002872467041,
           7.801541805267334,
           7.268815517425537,
           6.811858177185059,
           6.584256649017334,
           6.729386329650879,
           7.287657737731934,
           8.150644302368164,
           9.151927947998047,
           10.24419116973877,
           11.393080711364746,
           12.57176399230957,
           13.770544052124023,
           14.98483657836914,
           16.216510772705078,
           17.47101593017578
          ],
          [
           15.931053161621094,
           14.880290031433105,
           13.82787799835205,
           12.770655632019043,
           11.70926570892334,
           10.64314079284668,
           9.573846817016602,
           8.511787414550781,
           7.478194236755371,
           6.509008407592773,
           5.660516262054443,
           4.980814456939697,
           4.550660133361816,
           4.536386013031006,
           5.033833980560303,
           5.918549060821533,
           6.947447776794434,
           8.00862979888916,
           9.11941909790039,
           10.254171371459961,
           11.40363597869873,
           12.565075874328613,
           13.744538307189941,
           14.948046684265137,
           16.17966651916504
          ],
          [
           15.079362869262695,
           13.99583911895752,
           12.902257919311523,
           11.79428482055664,
           10.668657302856445,
           9.522587776184082,
           8.352889060974121,
           7.15623140335083,
           5.927654266357422,
           4.710236072540283,
           3.6293113231658936,
           2.850080966949463,
           2.50115966796875,
           2.725788116455078,
           3.5266220569610596,
           4.605347156524658,
           5.6762614250183105,
           6.755131244659424,
           7.8591766357421875,
           8.978463172912598,
           10.108223915100098,
           11.252847671508789,
           12.415515899658203,
           13.601272583007812,
           14.812036514282227
          ],
          [
           14.192349433898926,
           13.071548461914062,
           11.933368682861328,
           10.773070335388184,
           9.586688995361328,
           8.370296478271484,
           7.115929126739502,
           5.813157558441162,
           4.529273986816406,
           3.376373052597046,
           2.452970504760742,
           1.8394955396652222,
           1.5983866453170776,
           1.7924690246582031,
           2.3931424617767334,
           3.2176084518432617,
           4.165393829345703,
           5.202208042144775,
           6.275796413421631,
           7.371358871459961,
           8.48936939239502,
           9.626531600952148,
           10.781167030334473,
           11.956462860107422,
           13.157340049743652
          ],
          [
           13.267614364624023,
           12.106497764587402,
           10.925081253051758,
           9.7188081741333,
           8.483536720275879,
           7.212584018707275,
           5.914548397064209,
           4.686453342437744,
           3.6375534534454346,
           2.866772413253784,
           2.391633987426758,
           2.1573374271392822,
           2.0727877616882324,
           2.101167917251587,
           2.2365927696228027,
           2.5011534690856934,
           2.9297218322753906,
           3.5841212272644043,
           4.448835372924805,
           5.432497501373291,
           6.48897647857666,
           7.610796928405762,
           8.785041809082031,
           9.998468399047852,
           11.247687339782715
          ],
          [
           12.306097984313965,
           11.10927677154541,
           9.889744758605957,
           8.648005485534668,
           7.37854528427124,
           6.118393898010254,
           4.974820137023926,
           4.062800884246826,
           3.4620816707611084,
           3.1505067348480225,
           3.036961555480957,
           3.001002550125122,
           2.960836887359619,
           2.8761706352233887,
           2.759519100189209,
           2.709718704223633,
           2.7703661918640137,
           2.9818215370178223,
           3.385681629180908,
           4.001030445098877,
           4.80536413192749,
           5.752034664154053,
           6.81752347946167,
           7.970585823059082,
           9.187702178955078
          ],
          [
           11.317604064941406,
           10.090094566345215,
           8.84677791595459,
           7.586572647094727,
           6.375000476837158,
           5.321122646331787,
           4.531836986541748,
           4.061158657073975,
           3.8668816089630127,
           3.847301721572876,
           3.8767826557159424,
           3.878626823425293,
           3.831259250640869,
           3.7391998767852783,
           3.620140314102173,
           3.4624950885772705,
           3.3207263946533203,
           3.2588467597961426,
           3.32904314994812,
           3.5829644203186035,
           4.04589319229126,
           4.7017998695373535,
           5.504299163818359,
           6.435731887817383,
           7.496363639831543
          ],
          [
           10.31152057647705,
           9.068055152893066,
           7.824227809906006,
           6.661647319793701,
           5.687383651733398,
           4.999760150909424,
           4.624451160430908,
           4.508986473083496,
           4.546499729156494,
           4.620246410369873,
           4.671511650085449,
           4.680798053741455,
           4.661565780639648,
           4.62618350982666,
           4.562111854553223,
           4.444216251373291,
           4.241092205047607,
           4.030646800994873,
           3.8855366706848145,
           3.862506866455078,
           4.018417835235596,
           4.3891377449035645,
           4.965149879455566,
           5.6827592849731445,
           6.499023914337158
          ],
          [
           9.306328773498535,
           8.082158088684082,
           6.965609073638916,
           6.062386512756348,
           5.454047203063965,
           5.149211406707764,
           5.087122917175293,
           5.157031059265137,
           5.259093761444092,
           5.342315196990967,
           5.397372722625732,
           5.435583591461182,
           5.472690582275391,
           5.492184638977051,
           5.4731221199035645,
           5.386875152587891,
           5.234269618988037,
           5.004157543182373,
           4.758120536804199,
           4.567131042480469,
           4.486042022705078,
           4.5754241943359375,
           4.884829998016357,
           5.416431903839111,
           6.104992389678955
          ],
          [
           8.355902671813965,
           7.282598495483398,
           6.440248489379883,
           5.89689826965332,
           5.647550582885742,
           5.620708465576172,
           5.709187984466553,
           5.824374198913574,
           5.925769805908203,
           6.008419990539551,
           6.0827436447143555,
           6.17198371887207,
           6.253995418548584,
           6.309624671936035,
           6.312830924987793,
           6.256973743438721,
           6.149942874908447,
           5.988178730010986,
           5.750161170959473,
           5.490586757659912,
           5.273087978363037,
           5.152656555175781,
           5.192913055419922,
           5.4585065841674805,
           5.964364051818848
          ],
          [
           7.6084065437316895,
           6.820681571960449,
           6.335133075714111,
           6.131126403808594,
           6.128318786621094,
           6.226561069488525,
           6.343743324279785,
           6.449763298034668,
           6.544955730438232,
           6.641534328460693,
           6.761503219604492,
           6.887545108795166,
           6.998536586761475,
           7.074026584625244,
           7.095907211303711,
           7.0690693855285645,
           7.001165390014648,
           6.889825344085693,
           6.727845191955566,
           6.492422580718994,
           6.229215621948242,
           5.996700286865234,
           5.8487443923950195,
           5.849977970123291,
           6.0778303146362305
          ],
          [
           7.210390567779541,
           6.774106502532959,
           6.607001304626465,
           6.624267101287842,
           6.726950168609619,
           6.840169906616211,
           6.941773414611816,
           7.03806209564209,
           7.140323162078857,
           7.2750396728515625,
           7.429141521453857,
           7.57871675491333,
           7.710345268249512,
           7.800100326538086,
           7.841140270233154,
           7.840088844299316,
           7.805968761444092,
           7.737931728363037,
           7.6293535232543945,
           7.473344326019287,
           7.247478485107422,
           6.986751556396484,
           6.746134281158447,
           6.576837062835693,
           6.545039653778076
          ],
          [
           7.2177815437316895,
           7.084456920623779,
           7.118628978729248,
           7.2213969230651855,
           7.326535701751709,
           7.4190897941589355,
           7.509638786315918,
           7.610152721405029,
           7.74432897567749,
           7.909477710723877,
           8.084637641906738,
           8.256416320800781,
           8.40359878540039,
           8.505847930908203,
           8.564618110656738,
           8.586874008178711,
           8.582414627075195,
           8.550773620605469,
           8.488750457763672,
           8.3889799118042,
           8.244755744934082,
           8.032937049865723,
           7.778301239013672,
           7.533798694610596,
           7.347214698791504
          ],
          [
           7.571393966674805,
           7.617671489715576,
           7.717846393585205,
           7.812361717224121,
           7.892348289489746,
           7.973526954650879,
           8.066831588745117,
           8.194067001342773,
           8.356091499328613,
           8.54247760772705,
           8.74000358581543,
           8.930692672729492,
           9.087246894836426,
           9.203329086303711,
           9.27821159362793,
           9.32119083404541,
           9.342756271362305,
           9.343531608581543,
           9.3202486038208,
           9.269360542297363,
           9.183233261108398,
           9.055278778076172,
           8.860360145568848,
           8.614612579345703,
           8.369487762451172
          ],
          [
           8.124321937561035,
           8.220860481262207,
           8.302194595336914,
           8.367881774902344,
           8.438156127929688,
           8.521967887878418,
           8.638911247253418,
           8.789645195007324,
           8.975360870361328,
           9.183759689331055,
           9.403345108032227,
           9.603646278381348,
           9.76939582824707,
           9.899619102478027,
           9.98962688446045,
           10.051301956176758,
           10.096134185791016,
           10.124958992004395,
           10.135764122009277,
           10.1256742477417,
           10.09006118774414,
           10.021384239196777,
           9.912309646606445,
           9.736204147338867,
           9.49986743927002
          ],
          [
           8.731691360473633,
           8.7983980178833,
           8.849165916442871,
           8.907423973083496,
           8.980186462402344,
           9.0868558883667,
           9.222858428955078,
           9.398616790771484,
           9.608293533325195,
           9.841262817382812,
           10.07217788696289,
           10.279542922973633,
           10.45604419708252,
           10.600071907043457,
           10.704906463623047,
           10.784062385559082,
           10.849119186401367,
           10.90221881866455,
           10.942906379699707,
           10.968222618103027,
           10.974776268005371,
           10.956923484802246,
           10.906871795654297,
           10.815055847167969,
           10.653801918029785
          ]
         ]
        },
        {
         "colorscale": [
          [
           0,
           "rgb(247,251,255)"
          ],
          [
           0.125,
           "rgb(222,235,247)"
          ],
          [
           0.25,
           "rgb(198,219,239)"
          ],
          [
           0.375,
           "rgb(158,202,225)"
          ],
          [
           0.5,
           "rgb(107,174,214)"
          ],
          [
           0.625,
           "rgb(66,146,198)"
          ],
          [
           0.75,
           "rgb(33,113,181)"
          ],
          [
           0.875,
           "rgb(8,81,156)"
          ],
          [
           1,
           "rgb(8,48,107)"
          ]
         ],
         "name": "AdaHessian",
         "opacity": 0.7,
         "showlegend": true,
         "showscale": false,
         "type": "surface",
         "x": [
          -0.5,
          -0.4583333432674408,
          -0.4166666567325592,
          -0.375,
          -0.3333333432674408,
          -0.2916666567325592,
          -0.25,
          -0.2083333283662796,
          -0.1666666716337204,
          -0.125,
          -0.0833333358168602,
          -0.0416666679084301,
          0,
          0.0416666679084301,
          0.0833333358168602,
          0.125,
          0.1666666716337204,
          0.2083333283662796,
          0.25,
          0.2916666567325592,
          0.3333333432674408,
          0.375,
          0.4166666567325592,
          0.4583333432674408,
          0.5
         ],
         "y": [
          -0.5,
          -0.4583333432674408,
          -0.4166666567325592,
          -0.375,
          -0.3333333432674408,
          -0.2916666567325592,
          -0.25,
          -0.2083333283662796,
          -0.1666666716337204,
          -0.125,
          -0.0833333358168602,
          -0.0416666679084301,
          0,
          0.0416666679084301,
          0.0833333358168602,
          0.125,
          0.1666666716337204,
          0.2083333283662796,
          0.25,
          0.2916666567325592,
          0.3333333432674408,
          0.375,
          0.4166666567325592,
          0.4583333432674408,
          0.5
         ],
         "z": [
          [
           8.368547439575195,
           8.227091789245605,
           9.304269790649414,
           11.064630508422852,
           13.156292915344238,
           15.44700813293457,
           17.85163688659668,
           20.332639694213867,
           22.89204216003418,
           25.45435333251953,
           27.954124450683594,
           30.333078384399414,
           32.56281661987305,
           34.67624282836914,
           36.72081756591797,
           38.732574462890625,
           40.736961364746094,
           42.74636459350586,
           44.773399353027344,
           46.82564163208008,
           48.9085693359375,
           51.027076721191406,
           53.184391021728516,
           55.38933181762695,
           57.64887237548828
          ],
          [
           8.334333419799805,
           7.488761901855469,
           7.6307454109191895,
           8.901089668273926,
           10.722681999206543,
           12.828897476196289,
           15.111734390258789,
           17.502155303955078,
           19.976966857910156,
           22.482995986938477,
           24.95351791381836,
           27.327434539794922,
           29.565263748168945,
           31.690067291259766,
           33.742069244384766,
           35.756004333496094,
           37.755741119384766,
           39.753849029541016,
           41.7636833190918,
           43.79424285888672,
           45.85165023803711,
           47.93941879272461,
           50.06465530395508,
           52.24129867553711,
           54.47981262207031
          ],
          [
           8.564237594604492,
           7.412697792053223,
           6.712223529815674,
           7.116804599761963,
           8.528074264526367,
           10.399565696716309,
           12.512008666992188,
           14.78425407409668,
           17.16325569152832,
           19.59943389892578,
           22.029937744140625,
           24.386985778808594,
           26.62408447265625,
           28.754375457763672,
           30.808902740478516,
           32.820987701416016,
           34.812538146972656,
           36.79599380493164,
           38.78489303588867,
           40.78919982910156,
           42.81425857543945,
           44.86565017700195,
           46.95872497558594,
           49.1163444519043,
           51.34918212890625
          ],
          [
           8.87820816040039,
           7.667321681976318,
           6.563289642333984,
           6.034853458404541,
           6.665432453155518,
           8.1824369430542,
           10.088336944580078,
           12.202132225036621,
           14.462478637695312,
           16.813194274902344,
           19.187515258789062,
           21.516454696655273,
           23.743274688720703,
           25.871217727661133,
           27.92354965209961,
           29.928165435791016,
           31.905731201171875,
           33.86897277832031,
           35.83083724975586,
           37.80006790161133,
           39.78364562988281,
           41.79697799682617,
           43.8709602355957,
           46.0315055847168,
           48.32096481323242
          ],
          [
           9.202664375305176,
           8.010857582092285,
           6.823885917663574,
           5.789384841918945,
           5.445395469665527,
           6.261416435241699,
           7.86132287979126,
           9.786308288574219,
           11.89809799194336,
           14.136795997619629,
           16.433868408203125,
           18.722700119018555,
           20.928707122802734,
           23.0443058013916,
           25.086341857910156,
           27.075927734375,
           29.031694412231445,
           30.965578079223633,
           32.889442443847656,
           34.81144714355469,
           36.74823760986328,
           38.73777389526367,
           40.824302673339844,
           43.016448974609375,
           45.21488571166992
          ],
          [
           9.530718803405762,
           8.358098030090332,
           7.192300796508789,
           6.035372734069824,
           5.095019340515137,
           4.932280540466309,
           5.900584697723389,
           7.5608415603637695,
           9.49354362487793,
           11.594265937805176,
           13.786094665527344,
           16.012393951416016,
           18.18647575378418,
           20.27790069580078,
           22.298158645629883,
           24.262474060058594,
           26.18334197998047,
           28.072917938232422,
           29.940114974975586,
           31.804454803466797,
           33.70664596557617,
           35.71316146850586,
           37.78792953491211,
           39.87026596069336,
           41.97039794921875
          ],
          [
           9.846037864685059,
           8.705556869506836,
           7.566082954406738,
           6.425179958343506,
           5.309598445892334,
           4.479701519012451,
           4.48671817779541,
           5.5819196701049805,
           7.280964374542236,
           9.210099220275879,
           11.2725830078125,
           13.401252746582031,
           15.522294044494629,
           17.576196670532227,
           19.55957794189453,
           21.480815887451172,
           23.345752716064453,
           25.16514015197754,
           26.956857681274414,
           28.76556968688965,
           30.67504119873047,
           32.62516784667969,
           34.57434844970703,
           36.5152702331543,
           38.43846893310547
          ],
          [
           10.1262845993042,
           9.03151798248291,
           7.93553352355957,
           6.831164360046387,
           5.717088222503662,
           4.649837970733643,
           3.9385454654693604,
           4.1007981300354,
           5.30015754699707,
           7.015213489532471,
           8.919036865234375,
           10.920503616333008,
           12.954093933105469,
           14.945116996765137,
           16.865737915039062,
           18.712108612060547,
           20.48343276977539,
           22.197498321533203,
           23.9008731842041,
           25.69350242614746,
           27.506364822387695,
           29.294431686401367,
           31.04987144470215,
           32.78123092651367,
           34.501625061035156
          ],
          [
           10.36465072631836,
           9.315725326538086,
           8.272624015808105,
           7.222481727600098,
           6.1528754234313965,
           5.06706428527832,
           4.055608749389648,
           3.4663567543029785,
           3.7647716999053955,
           5.034419059753418,
           6.734930038452148,
           8.579167366027832,
           10.490482330322266,
           12.384517669677734,
           14.205877304077148,
           15.923274040222168,
           17.537437438964844,
           19.111757278442383,
           20.770610809326172,
           22.419673919677734,
           24.0255184173584,
           25.600128173828125,
           27.17458152770996,
           28.779531478881836,
           30.428977966308594
          ],
          [
           10.57070541381836,
           9.555375099182129,
           8.559818267822266,
           7.568485260009766,
           6.562836170196533,
           5.5275444984436035,
           4.475150108337402,
           3.5300912857055664,
           3.055192708969116,
           3.4527621269226074,
           4.735307216644287,
           6.365212917327881,
           8.098188400268555,
           9.846123695373535,
           11.503961563110352,
           13.018327713012695,
           14.451935768127441,
           15.95313549041748,
           17.416868209838867,
           18.84414291381836,
           20.26584243774414,
           21.729246139526367,
           23.247411727905273,
           24.821670532226562,
           26.45253562927246
          ],
          [
           10.752631187438965,
           9.762267112731934,
           8.79969310760498,
           7.855536460876465,
           6.912841320037842,
           5.951202869415283,
           4.955404281616211,
           3.947965383529663,
           3.07551908493042,
           2.6807758808135986,
           3.089823007583618,
           4.258268356323242,
           5.704333305358887,
           7.195992469787598,
           8.610824584960938,
           9.93635082244873,
           11.284193992614746,
           12.576204299926758,
           13.85689926147461,
           15.173748016357422,
           16.548439025878906,
           17.979089736938477,
           19.463237762451172,
           21.003997802734375,
           22.60462760925293
          ],
          [
           10.917864799499512,
           9.944485664367676,
           9.005255699157715,
           8.092280387878418,
           7.1967549324035645,
           6.302640914916992,
           5.3893961906433105,
           4.445771217346191,
           3.4967470169067383,
           2.684501886367798,
           2.2698514461517334,
           2.454148530960083,
           3.2071378231048584,
           4.250470161437988,
           5.412987232208252,
           6.6523823738098145,
           7.8204240798950195,
           8.98471736907959,
           10.196475982666016,
           11.481866836547852,
           12.844877243041992,
           14.271103858947754,
           15.754803657531738,
           17.294851303100586,
           18.893413543701172
          ],
          [
           11.07219409942627,
           10.109389305114746,
           9.183768272399902,
           8.293067932128906,
           7.429296016693115,
           6.583162784576416,
           5.742147922515869,
           4.890491485595703,
           4.0218963623046875,
           3.1582741737365723,
           2.3816146850585938,
           1.7990328073501587,
           1.5477006435394287,
           1.9594990015029907,
           2.8294286727905273,
           3.855670213699341,
           4.884069919586182,
           5.938819885253906,
           7.06410026550293,
           8.284396171569824,
           9.600335121154785,
           10.997973442077637,
           12.461127281188965,
           13.9827880859375,
           15.559944152832031
          ],
          [
           11.21766185760498,
           10.262067794799805,
           9.346708297729492,
           8.468660354614258,
           7.626260757446289,
           6.813643455505371,
           6.023333549499512,
           5.250017166137695,
           4.493608474731445,
           3.7696597576141357,
           3.132038116455078,
           2.744302988052368,
           2.9201912879943848,
           3.2974798679351807,
           3.866698980331421,
           4.668412208557129,
           5.513383865356445,
           6.356927394866943,
           7.222250938415527,
           8.11389446258545,
           9.041925430297852,
           10.019170761108398,
           11.065378189086914,
           12.198113441467285,
           13.431058883666992
          ],
          [
           11.356237411499023,
           10.406314849853516,
           9.498525619506836,
           8.631643295288086,
           7.804135322570801,
           7.014252185821533,
           6.262797832489014,
           5.550790786743164,
           4.8998942375183105,
           4.3688178062438965,
           4.147322654724121,
           4.314248561859131,
           4.550960063934326,
           4.865419387817383,
           5.350131988525391,
           6.039834022521973,
           6.861860275268555,
           7.655113697052002,
           8.43017578125,
           9.2606782913208,
           10.144017219543457,
           11.063323974609375,
           12.016342163085938,
           13.00584602355957,
           14.038087844848633
          ],
          [
           11.489255905151367,
           10.545018196105957,
           9.64456844329834,
           8.788030624389648,
           7.976713180541992,
           7.210435390472412,
           6.495550155639648,
           5.85133171081543,
           5.340313911437988,
           5.154769420623779,
           5.296728134155273,
           5.506178855895996,
           5.757797718048096,
           6.08931303024292,
           6.546138286590576,
           7.156230926513672,
           7.93087911605835,
           8.792926788330078,
           9.649286270141602,
           10.489415168762207,
           11.345895767211914,
           12.255213737487793,
           13.212639808654785,
           14.214075088500977,
           15.256867408752441
          ],
          [
           11.619296073913574,
           10.682036399841309,
           9.79189395904541,
           8.95069408416748,
           8.162099838256836,
           7.430700778961182,
           6.776186466217041,
           6.260921955108643,
           6.073246479034424,
           6.189082622528076,
           6.396204948425293,
           6.650268077850342,
           6.941601753234863,
           7.290617942810059,
           7.726466655731201,
           8.265501976013184,
           8.917548179626465,
           9.712789535522461,
           10.626907348632812,
           11.58584976196289,
           12.557096481323242,
           13.525494575500488,
           14.49314022064209,
           15.486929893493652,
           16.52421760559082
          ],
          [
           11.751359939575195,
           10.825626373291016,
           9.952896118164062,
           9.1395263671875,
           8.390658378601074,
           7.724555015563965,
           7.208491802215576,
           7.009374618530273,
           7.098263263702393,
           7.292226791381836,
           7.5407891273498535,
           7.8313679695129395,
           8.147151947021484,
           8.515610694885254,
           8.954894065856934,
           9.464885711669922,
           10.052433013916016,
           10.733281135559082,
           11.545360565185547,
           12.498617172241211,
           13.537036895751953,
           14.622926712036133,
           15.727873802185059,
           16.819705963134766,
           17.899991989135742
          ],
          [
           11.893899917602539,
           10.989654541015625,
           10.151244163513184,
           9.386848449707031,
           8.713743209838867,
           8.20591926574707,
           7.993716239929199,
           8.052022933959961,
           8.223365783691406,
           8.441805839538574,
           8.728114128112793,
           9.03736686706543,
           9.368627548217773,
           9.75165843963623,
           10.195392608642578,
           10.700765609741211,
           11.272045135498047,
           11.910224914550781,
           12.625338554382324,
           13.45866870880127,
           14.451815605163574,
           15.555512428283691,
           16.722972869873047,
           17.935197830200195,
           19.16484832763672
          ],
          [
           12.064177513122559,
           11.202666282653809,
           10.425531387329102,
           9.750768661499023,
           9.262144088745117,
           9.034465789794922,
           9.060625076293945,
           9.203697204589844,
           9.380375862121582,
           9.636880874633789,
           9.942829132080078,
           10.261271476745605,
           10.602459907531738,
           10.9951810836792,
           11.44088077545166,
           11.945601463317871,
           12.516318321228027,
           13.15087604522705,
           13.836255073547363,
           14.587075233459473,
           15.449287414550781,
           16.47966766357422,
           17.654916763305664,
           18.907062530517578,
           20.212512969970703
          ],
          [
           12.297057151794434,
           11.511096000671387,
           10.840738296508789,
           10.376690864562988,
           10.136245727539062,
           10.131242752075195,
           10.232888221740723,
           10.37279224395752,
           10.577585220336914,
           10.862730979919434,
           11.173314094543457,
           11.494193077087402,
           11.845128059387207,
           12.24378490447998,
           12.688921928405762,
           13.191357612609863,
           13.76099967956543,
           14.399727821350098,
           15.093416213989258,
           15.826764106750488,
           16.62122344970703,
           17.520843505859375,
           18.590553283691406,
           19.83683967590332,
           21.198204040527344
          ],
          [
           12.645787239074707,
           11.989286422729492,
           11.550047874450684,
           11.301973342895508,
           11.264925003051758,
           11.316123962402344,
           11.419163703918457,
           11.566033363342285,
           11.80722713470459,
           12.10002326965332,
           12.407987594604492,
           12.734254837036133,
           13.09778881072998,
           13.500873565673828,
           13.941299438476562,
           14.437938690185547,
           15.003396987915039,
           15.64167594909668,
           16.349958419799805,
           17.097864151000977,
           17.882814407348633,
           18.72934913635254,
           19.67856788635254,
           20.800800323486328,
           22.128582000732422
          ],
          [
           13.20017147064209,
           12.783097267150879,
           12.533949851989746,
           12.463193893432617,
           12.462095260620117,
           12.518084526062012,
           12.614439010620117,
           12.789331436157227,
           13.047002792358398,
           13.338374137878418,
           13.649199485778809,
           13.989781379699707,
           14.363965034484863,
           14.766371726989746,
           15.202314376831055,
           15.690509796142578,
           16.246997833251953,
           16.879152297973633,
           17.592544555664062,
           18.36335563659668,
           19.16740608215332,
           20.01087760925293,
           20.92066192626953,
           21.941198348999023,
           23.144014358520508
          ],
          [
           14.078393936157227,
           13.830788612365723,
           13.727129936218262,
           13.676346778869629,
           13.6737642288208,
           13.725847244262695,
           13.826873779296875,
           14.02644157409668,
           14.28857135772705,
           14.583053588867188,
           14.910778999328613,
           15.264945983886719,
           15.64404296875,
           16.044105529785156,
           16.473909378051758,
           16.951623916625977,
           17.495407104492188,
           18.117185592651367,
           18.826601028442383,
           19.613954544067383,
           20.44629669189453,
           21.3142147064209,
           22.231962203979492,
           23.230119705200195,
           24.353515625
          ],
          [
           15.192386627197266,
           15.056459426879883,
           14.96142292022705,
           14.895294189453125,
           14.898306846618652,
           14.932435989379883,
           15.053423881530762,
           15.266146659851074,
           15.535901069641113,
           15.850610733032227,
           16.195392608642578,
           16.557802200317383,
           16.937984466552734,
           17.333965301513672,
           17.756229400634766,
           18.22299575805664,
           18.75339126586914,
           19.362634658813477,
           20.062768936157227,
           20.855470657348633,
           21.71355628967285,
           22.618120193481445,
           23.571380615234375,
           24.592472076416016,
           25.706939697265625
          ]
         ]
        },
        {
         "colorscale": [
          [
           0,
           "#0508b8"
          ],
          [
           0.08333333333333333,
           "#1910d8"
          ],
          [
           0.16666666666666666,
           "#3c19f0"
          ],
          [
           0.25,
           "#6b1cfb"
          ],
          [
           0.3333333333333333,
           "#981cfd"
          ],
          [
           0.4166666666666667,
           "#bf1cfd"
          ],
          [
           0.5,
           "#dd2bfd"
          ],
          [
           0.5833333333333334,
           "#f246fe"
          ],
          [
           0.6666666666666666,
           "#fc67fd"
          ],
          [
           0.75,
           "#fe88fc"
          ],
          [
           0.8333333333333334,
           "#fea5fd"
          ],
          [
           0.9166666666666666,
           "#febefe"
          ],
          [
           1,
           "#fec3fe"
          ]
         ],
         "name": "Apollo",
         "opacity": 0.7,
         "showlegend": true,
         "showscale": false,
         "type": "surface",
         "x": [
          -0.5,
          -0.4583333432674408,
          -0.4166666567325592,
          -0.375,
          -0.3333333432674408,
          -0.2916666567325592,
          -0.25,
          -0.2083333283662796,
          -0.1666666716337204,
          -0.125,
          -0.0833333358168602,
          -0.0416666679084301,
          0,
          0.0416666679084301,
          0.0833333358168602,
          0.125,
          0.1666666716337204,
          0.2083333283662796,
          0.25,
          0.2916666567325592,
          0.3333333432674408,
          0.375,
          0.4166666567325592,
          0.4583333432674408,
          0.5
         ],
         "y": [
          -0.5,
          -0.4583333432674408,
          -0.4166666567325592,
          -0.375,
          -0.3333333432674408,
          -0.2916666567325592,
          -0.25,
          -0.2083333283662796,
          -0.1666666716337204,
          -0.125,
          -0.0833333358168602,
          -0.0416666679084301,
          0,
          0.0416666679084301,
          0.0833333358168602,
          0.125,
          0.1666666716337204,
          0.2083333283662796,
          0.25,
          0.2916666567325592,
          0.3333333432674408,
          0.375,
          0.4166666567325592,
          0.4583333432674408,
          0.5
         ],
         "z": [
          [
           13.019768714904785,
           11.642411231994629,
           10.471539497375488,
           9.591994285583496,
           9.038806915283203,
           8.746305465698242,
           8.620708465576172,
           8.594927787780762,
           8.608501434326172,
           8.619222640991211,
           8.615259170532227,
           8.606680870056152,
           8.6030912399292,
           8.619977951049805,
           8.67025375366211,
           8.771990776062012,
           8.93033218383789,
           9.135384559631348,
           9.371367454528809,
           9.629666328430176,
           9.906360626220703,
           10.198471069335938,
           10.502681732177734,
           10.817540168762207,
           11.141120910644531
          ],
          [
           13.305731773376465,
           11.868685722351074,
           10.559929847717285,
           9.472747802734375,
           8.683635711669922,
           8.213521957397461,
           7.99341344833374,
           7.930893898010254,
           7.948188304901123,
           7.979152679443359,
           7.9920759201049805,
           7.993022918701172,
           7.993748188018799,
           8.01309871673584,
           8.068550109863281,
           8.177700996398926,
           8.3416166305542,
           8.54751205444336,
           8.780038833618164,
           9.032901763916016,
           9.302489280700684,
           9.585826873779297,
           9.880537033081055,
           10.184310913085938,
           10.495638847351074
          ],
          [
           13.582828521728516,
           12.13418197631836,
           10.752994537353516,
           9.516764640808105,
           8.515547752380371,
           7.817419528961182,
           7.4314188957214355,
           7.2845869064331055,
           7.281791687011719,
           7.328606605529785,
           7.361867904663086,
           7.375035285949707,
           7.383378028869629,
           7.40690279006958,
           7.470017433166504,
           7.586668491363525,
           7.754674911499023,
           7.958925724029541,
           8.18634033203125,
           8.43264389038086,
           8.69361400604248,
           8.966697692871094,
           9.250021934509277,
           9.541356086730957,
           9.838497161865234
          ],
          [
           13.83227825164795,
           12.39734172821045,
           10.991751670837402,
           9.669877052307129,
           8.510462760925293,
           7.596639633178711,
           6.9906721115112305,
           6.690896511077881,
           6.617952346801758,
           6.660800457000732,
           6.7169694900512695,
           6.746933460235596,
           6.766264915466309,
           6.798737525939941,
           6.870948314666748,
           6.995383262634277,
           7.165371894836426,
           7.366176605224609,
           7.587498188018799,
           7.825319290161133,
           8.075940132141113,
           8.337285041809082,
           8.607284545898438,
           8.883437156677246,
           9.163939476013184
          ],
          [
           14.049067497253418,
           12.636850357055664,
           11.235301971435547,
           9.875265121459961,
           8.615249633789062,
           7.534296989440918,
           6.710992813110352,
           6.2006378173828125,
           5.986285209655762,
           5.979814052581787,
           6.046812057495117,
           6.101126670837402,
           6.13815450668335,
           6.183347225189209,
           6.267548084259033,
           6.399126052856445,
           6.568916320800781,
           6.764820575714111,
           6.978046894073486,
           7.205488204956055,
           7.444265365600586,
           7.691735744476318,
           7.9463677406311035,
           8.206006050109863,
           8.469043731689453
          ],
          [
           14.227802276611328,
           12.84355354309082,
           11.46010971069336,
           10.092207908630371,
           8.777336120605469,
           7.581216335296631,
           6.582757949829102,
           5.85443115234375,
           5.4401044845581055,
           5.307981967926025,
           5.348990440368652,
           5.42686653137207,
           5.488697528839111,
           5.553934574127197,
           5.652037143707275,
           5.790489673614502,
           5.959453105926514,
           6.148946285247803,
           6.352878093719482,
           6.568098545074463,
           6.793529510498047,
           7.026909828186035,
           7.265653610229492,
           7.507571220397949,
           7.752201080322266
          ],
          [
           14.368892669677734,
           13.008606910705566,
           11.649333953857422,
           10.293370246887207,
           8.9589204788208,
           7.691973686218262,
           6.563241958618164,
           5.65108060836792,
           5.018763542175293,
           4.697844505310059,
           4.638293743133545,
           4.711196422576904,
           4.803706169128418,
           4.8989081382751465,
           5.017119884490967,
           5.163609504699707,
           5.3324503898620605,
           5.515093803405762,
           5.708827495574951,
           5.912391662597656,
           6.124095439910889,
           6.341054916381836,
           6.56139612197876,
           6.785373687744141,
           7.015251159667969
          ],
          [
           14.466657638549805,
           13.126275062561035,
           11.78892707824707,
           10.453572273254395,
           9.12315845489502,
           7.8242950439453125,
           6.608968734741211,
           5.551922798156738,
           4.726541996002197,
           4.190524578094482,
           3.960639476776123,
           3.96512770652771,
           4.074003219604492,
           4.209813594818115,
           4.35614538192749,
           4.515282154083252,
           4.6844611167907715,
           4.860533714294434,
           5.044392108917236,
           5.235705375671387,
           5.432408809661865,
           5.633167266845703,
           5.83914852142334,
           6.050765037536621,
           6.268162727355957
          ],
          [
           14.51319694519043,
           13.185358047485352,
           11.866410255432129,
           10.5498685836792,
           9.235495567321777,
           7.93200159072876,
           6.673387050628662,
           5.514976501464844,
           4.5319342613220215,
           3.7986490726470947,
           3.3675243854522705,
           3.2352850437164307,
           3.3143725395202637,
           3.4866983890533447,
           3.6696691513061523,
           3.8457629680633545,
           4.017043590545654,
           4.187950134277344,
           4.362844467163086,
           4.542511463165283,
           4.727413177490234,
           4.917596817016602,
           5.112223148345947,
           5.31209135055542,
           5.517341136932373
          ],
          [
           14.50684642791748,
           13.180709838867188,
           11.871424674987793,
           10.569984436035156,
           9.273093223571777,
           7.980905055999756,
           6.709160804748535,
           5.497735023498535,
           4.401970863342285,
           3.504648447036743,
           2.884385585784912,
           2.5882723331451416,
           2.5861828327178955,
           2.7603166103363037,
           2.974883794784546,
           3.1700987815856934,
           3.345695734024048,
           3.514866590499878,
           3.6847221851348877,
           3.8568525314331055,
           4.032497406005859,
           4.212022304534912,
           4.396815776824951,
           4.589025974273682,
           4.7903218269348145
          ],
          [
           14.445992469787598,
           13.120773315429688,
           11.811223983764648,
           10.515216827392578,
           9.228011131286621,
           7.949763298034668,
           6.686992168426514,
           5.459948539733887,
           4.301866054534912,
           3.286304235458374,
           2.519610643386841,
           2.0791139602661133,
           1.9820246696472168,
           2.116945743560791,
           2.3328425884246826,
           2.537224292755127,
           2.718824625015259,
           2.887632131576538,
           3.052506685256958,
           3.218334674835205,
           3.3886401653289795,
           3.5648224353790283,
           3.748530387878418,
           3.9412729740142822,
           4.1441850662231445
          ],
          [
           14.302679061889648,
           12.977795600891113,
           11.67259407043457,
           10.383779525756836,
           9.108909606933594,
           7.846912860870361,
           6.600376129150391,
           5.38055419921875,
           4.20383358001709,
           3.1301369667053223,
           2.275641918182373,
           1.7515336275100708,
           1.5916236639022827,
           1.6877244710922241,
           1.8800113201141357,
           2.0705301761627197,
           2.2437071800231934,
           2.405721664428711,
           2.562689781188965,
           2.7215893268585205,
           2.8855695724487305,
           3.056622266769409,
           3.2359495162963867,
           3.4252259731292725,
           3.624871015548706
          ],
          [
           14.07819652557373,
           12.74831485748291,
           11.440290451049805,
           10.153525352478027,
           8.887048721313477,
           7.645488262176514,
           6.430265426635742,
           5.249760627746582,
           4.10781192779541,
           3.0469932556152344,
           2.187869071960449,
           1.6698335409164429,
           1.5115833282470703,
           1.5776182413101196,
           1.7267816066741943,
           1.8807353973388672,
           2.0266520977020264,
           2.1695237159729004,
           2.3129518032073975,
           2.459986686706543,
           2.6129941940307617,
           2.77309513092041,
           2.94313907623291,
           3.1235454082489014,
           3.3156142234802246
          ],
          [
           13.773818016052246,
           12.431636810302734,
           11.11356258392334,
           9.823166847229004,
           8.564826965332031,
           7.346494197845459,
           6.173421859741211,
           5.057028293609619,
           4.00118350982666,
           3.0447638034820557,
           2.310169219970703,
           1.9115159511566162,
           1.7991172075271606,
           1.8264168500900269,
           1.900840163230896,
           1.9885419607162476,
           2.08445405960083,
           2.1917526721954346,
           2.310610294342041,
           2.4405064582824707,
           2.5811805725097656,
           2.7323620319366455,
           2.893709897994995,
           3.0669643878936768,
           3.2528295516967773
          ],
          [
           13.384634017944336,
           12.025847434997559,
           10.696340560913086,
           9.404047012329102,
           8.160245895385742,
           6.976215362548828,
           5.865700721740723,
           4.842919826507568,
           3.922687530517578,
           3.1653201580047607,
           2.67047119140625,
           2.4398531913757324,
           2.362569808959961,
           2.3375329971313477,
           2.332322835922241,
           2.3429508209228516,
           2.376552104949951,
           2.4330337047576904,
           2.5121545791625977,
           2.611497640609741,
           2.7282886505126953,
           2.8613791465759277,
           3.010535478591919,
           3.1750266551971436,
           3.354846954345703
          ],
          [
           12.911849975585938,
           11.534378051757812,
           10.19553279876709,
           8.909363746643066,
           7.693118095397949,
           6.567526817321777,
           5.553884983062744,
           4.672155380249023,
           3.962545871734619,
           3.4796366691589355,
           3.222053289413452,
           3.0965588092803955,
           3.0207784175872803,
           2.958913564682007,
           2.904137372970581,
           2.8594298362731934,
           2.837078332901001,
           2.841061592102051,
           2.8728787899017334,
           2.930713415145874,
           3.0135555267333984,
           3.1192615032196045,
           3.2459774017333984,
           3.39285945892334,
           3.5592422485351562
          ],
          [
           12.366205215454102,
           10.971477508544922,
           9.631341934204102,
           8.369071960449219,
           7.213061332702637,
           6.18972635269165,
           5.330793857574463,
           4.667766571044922,
           4.225259304046631,
           3.987246513366699,
           3.8635334968566895,
           3.7770164012908936,
           3.695096969604492,
           3.610292434692383,
           3.52652645111084,
           3.4534215927124023,
           3.3968005180358887,
           3.3599002361297607,
           3.3496007919311523,
           3.366156816482544,
           3.411076307296753,
           3.482970952987671,
           3.58126163482666,
           3.7045509815216064,
           3.8509929180145264
          ],
          [
           11.753344535827637,
           10.354887008666992,
           9.040056228637695,
           7.844274044036865,
           6.804957866668701,
           5.958006858825684,
           5.334906101226807,
           4.93431282043457,
           4.716015338897705,
           4.608841419219971,
           4.535192966461182,
           4.460964202880859,
           4.370006084442139,
           4.2710065841674805,
           4.171176910400391,
           4.082096099853516,
           4.009326457977295,
           3.953800916671753,
           3.9157752990722656,
           3.8991243839263916,
           3.9076809883117676,
           3.944430112838745,
           4.010567665100098,
           4.105856418609619,
           4.22955322265625
          ],
          [
           11.09498405456543,
           9.728233337402344,
           8.490971565246582,
           7.430288791656494,
           6.594820976257324,
           6.010204315185547,
           5.649904727935791,
           5.451567649841309,
           5.349908828735352,
           5.286858558654785,
           5.228068828582764,
           5.153233051300049,
           5.0538249015808105,
           4.946409702301025,
           4.840799808502197,
           4.743370532989502,
           4.661044120788574,
           4.596821308135986,
           4.5484137535095215,
           4.515501022338867,
           4.498493194580078,
           4.504853248596191,
           4.538839817047119,
           4.603277206420898,
           4.698251724243164
          ],
          [
           10.444540023803711,
           9.166051864624023,
           8.08613109588623,
           7.262386322021484,
           6.7145795822143555,
           6.392920970916748,
           6.217199325561523,
           6.118871688842773,
           6.056680679321289,
           6.006361484527588,
           5.948214530944824,
           5.86654806137085,
           5.759223937988281,
           5.647213459014893,
           5.540016174316406,
           5.440727233886719,
           5.3545098304748535,
           5.2851362228393555,
           5.233359336853027,
           5.19594144821167,
           5.172304153442383,
           5.1606221199035645,
           5.167993545532227,
           5.199321746826172,
           5.259372711181641
          ],
          [
           9.876836776733398,
           8.779908180236816,
           7.969083786010742,
           7.4535908699035645,
           7.166489124298096,
           7.015688896179199,
           6.9276123046875,
           6.8618292808532715,
           6.812221527099609,
           6.7619829177856445,
           6.699076175689697,
           6.607816219329834,
           6.4969258308410645,
           6.385494232177734,
           6.279942035675049,
           6.184354305267334,
           6.100461959838867,
           6.029188632965088,
           5.973567962646484,
           5.93302583694458,
           5.9052581787109375,
           5.888308525085449,
           5.879973888397217,
           5.885272026062012,
           5.913265228271484
          ],
          [
           9.514318466186523,
           8.71568489074707,
           8.226425170898438,
           7.967185974121094,
           7.83909797668457,
           7.76696252822876,
           7.707922458648682,
           7.656582355499268,
           7.607707500457764,
           7.553515434265137,
           7.483519077301025,
           7.385282039642334,
           7.278334617614746,
           7.17290735244751,
           7.074456691741943,
           6.9852681159973145,
           6.906156539916992,
           6.835317611694336,
           6.773726463317871,
           6.723077774047852,
           6.685360908508301,
           6.660459995269775,
           6.647350788116455,
           6.643622398376465,
           6.649331569671631
          ],
          [
           9.500782012939453,
           9.031946182250977,
           8.794002532958984,
           8.683722496032715,
           8.627875328063965,
           8.581904411315918,
           8.537646293640137,
           8.492960929870605,
           8.441146850585938,
           8.381537437438965,
           8.307077407836914,
           8.212879180908203,
           8.115219116210938,
           8.019969940185547,
           7.929518222808838,
           7.8440141677856445,
           7.7646307945251465,
           7.6911301612854,
           7.62408447265625,
           7.56446647644043,
           7.514898777008057,
           7.478404521942139,
           7.456157684326172,
           7.446465015411377,
           7.447907447814941
          ],
          [
           9.870261192321777,
           9.646140098571777,
           9.54906940460205,
           9.506143569946289,
           9.473925590515137,
           9.442567825317383,
           9.408883094787598,
           9.365185737609863,
           9.312539100646973,
           9.252723693847656,
           9.182657241821289,
           9.098727226257324,
           9.010509490966797,
           8.921370506286621,
           8.832939147949219,
           8.74670124053955,
           8.665647506713867,
           8.589799880981445,
           8.518722534179688,
           8.453683853149414,
           8.394784927368164,
           8.345928192138672,
           8.310546875,
           8.290891647338867,
           8.284854888916016
          ],
          [
           10.52428913116455,
           10.43508243560791,
           10.401832580566406,
           10.381609916687012,
           10.362859725952148,
           10.344138145446777,
           10.317330360412598,
           10.277658462524414,
           10.228761672973633,
           10.176108360290527,
           10.111040115356445,
           10.03279972076416,
           9.948840141296387,
           9.862415313720703,
           9.775172233581543,
           9.688668251037598,
           9.606236457824707,
           9.52829647064209,
           9.454617500305176,
           9.385857582092285,
           9.32186222076416,
           9.263575553894043,
           9.215564727783203,
           9.18148422241211,
           9.164072036743164
          ]
         ]
        }
       ],
       "layout": {
        "autosize": true,
        "margin": {
         "b": 65,
         "l": 65,
         "r": 50,
         "t": 90
        },
        "template": {
         "data": {
          "bar": [
           {
            "error_x": {
             "color": "#2a3f5f"
            },
            "error_y": {
             "color": "#2a3f5f"
            },
            "marker": {
             "line": {
              "color": "#E5ECF6",
              "width": 0.5
             }
            },
            "type": "bar"
           }
          ],
          "barpolar": [
           {
            "marker": {
             "line": {
              "color": "#E5ECF6",
              "width": 0.5
             }
            },
            "type": "barpolar"
           }
          ],
          "carpet": [
           {
            "aaxis": {
             "endlinecolor": "#2a3f5f",
             "gridcolor": "white",
             "linecolor": "white",
             "minorgridcolor": "white",
             "startlinecolor": "#2a3f5f"
            },
            "baxis": {
             "endlinecolor": "#2a3f5f",
             "gridcolor": "white",
             "linecolor": "white",
             "minorgridcolor": "white",
             "startlinecolor": "#2a3f5f"
            },
            "type": "carpet"
           }
          ],
          "choropleth": [
           {
            "colorbar": {
             "outlinewidth": 0,
             "ticks": ""
            },
            "type": "choropleth"
           }
          ],
          "contour": [
           {
            "colorbar": {
             "outlinewidth": 0,
             "ticks": ""
            },
            "colorscale": [
             [
              0,
              "#0d0887"
             ],
             [
              0.1111111111111111,
              "#46039f"
             ],
             [
              0.2222222222222222,
              "#7201a8"
             ],
             [
              0.3333333333333333,
              "#9c179e"
             ],
             [
              0.4444444444444444,
              "#bd3786"
             ],
             [
              0.5555555555555556,
              "#d8576b"
             ],
             [
              0.6666666666666666,
              "#ed7953"
             ],
             [
              0.7777777777777778,
              "#fb9f3a"
             ],
             [
              0.8888888888888888,
              "#fdca26"
             ],
             [
              1,
              "#f0f921"
             ]
            ],
            "type": "contour"
           }
          ],
          "contourcarpet": [
           {
            "colorbar": {
             "outlinewidth": 0,
             "ticks": ""
            },
            "type": "contourcarpet"
           }
          ],
          "heatmap": [
           {
            "colorbar": {
             "outlinewidth": 0,
             "ticks": ""
            },
            "colorscale": [
             [
              0,
              "#0d0887"
             ],
             [
              0.1111111111111111,
              "#46039f"
             ],
             [
              0.2222222222222222,
              "#7201a8"
             ],
             [
              0.3333333333333333,
              "#9c179e"
             ],
             [
              0.4444444444444444,
              "#bd3786"
             ],
             [
              0.5555555555555556,
              "#d8576b"
             ],
             [
              0.6666666666666666,
              "#ed7953"
             ],
             [
              0.7777777777777778,
              "#fb9f3a"
             ],
             [
              0.8888888888888888,
              "#fdca26"
             ],
             [
              1,
              "#f0f921"
             ]
            ],
            "type": "heatmap"
           }
          ],
          "heatmapgl": [
           {
            "colorbar": {
             "outlinewidth": 0,
             "ticks": ""
            },
            "colorscale": [
             [
              0,
              "#0d0887"
             ],
             [
              0.1111111111111111,
              "#46039f"
             ],
             [
              0.2222222222222222,
              "#7201a8"
             ],
             [
              0.3333333333333333,
              "#9c179e"
             ],
             [
              0.4444444444444444,
              "#bd3786"
             ],
             [
              0.5555555555555556,
              "#d8576b"
             ],
             [
              0.6666666666666666,
              "#ed7953"
             ],
             [
              0.7777777777777778,
              "#fb9f3a"
             ],
             [
              0.8888888888888888,
              "#fdca26"
             ],
             [
              1,
              "#f0f921"
             ]
            ],
            "type": "heatmapgl"
           }
          ],
          "histogram": [
           {
            "marker": {
             "colorbar": {
              "outlinewidth": 0,
              "ticks": ""
             }
            },
            "type": "histogram"
           }
          ],
          "histogram2d": [
           {
            "colorbar": {
             "outlinewidth": 0,
             "ticks": ""
            },
            "colorscale": [
             [
              0,
              "#0d0887"
             ],
             [
              0.1111111111111111,
              "#46039f"
             ],
             [
              0.2222222222222222,
              "#7201a8"
             ],
             [
              0.3333333333333333,
              "#9c179e"
             ],
             [
              0.4444444444444444,
              "#bd3786"
             ],
             [
              0.5555555555555556,
              "#d8576b"
             ],
             [
              0.6666666666666666,
              "#ed7953"
             ],
             [
              0.7777777777777778,
              "#fb9f3a"
             ],
             [
              0.8888888888888888,
              "#fdca26"
             ],
             [
              1,
              "#f0f921"
             ]
            ],
            "type": "histogram2d"
           }
          ],
          "histogram2dcontour": [
           {
            "colorbar": {
             "outlinewidth": 0,
             "ticks": ""
            },
            "colorscale": [
             [
              0,
              "#0d0887"
             ],
             [
              0.1111111111111111,
              "#46039f"
             ],
             [
              0.2222222222222222,
              "#7201a8"
             ],
             [
              0.3333333333333333,
              "#9c179e"
             ],
             [
              0.4444444444444444,
              "#bd3786"
             ],
             [
              0.5555555555555556,
              "#d8576b"
             ],
             [
              0.6666666666666666,
              "#ed7953"
             ],
             [
              0.7777777777777778,
              "#fb9f3a"
             ],
             [
              0.8888888888888888,
              "#fdca26"
             ],
             [
              1,
              "#f0f921"
             ]
            ],
            "type": "histogram2dcontour"
           }
          ],
          "mesh3d": [
           {
            "colorbar": {
             "outlinewidth": 0,
             "ticks": ""
            },
            "type": "mesh3d"
           }
          ],
          "parcoords": [
           {
            "line": {
             "colorbar": {
              "outlinewidth": 0,
              "ticks": ""
             }
            },
            "type": "parcoords"
           }
          ],
          "pie": [
           {
            "automargin": true,
            "type": "pie"
           }
          ],
          "scatter": [
           {
            "marker": {
             "colorbar": {
              "outlinewidth": 0,
              "ticks": ""
             }
            },
            "type": "scatter"
           }
          ],
          "scatter3d": [
           {
            "line": {
             "colorbar": {
              "outlinewidth": 0,
              "ticks": ""
             }
            },
            "marker": {
             "colorbar": {
              "outlinewidth": 0,
              "ticks": ""
             }
            },
            "type": "scatter3d"
           }
          ],
          "scattercarpet": [
           {
            "marker": {
             "colorbar": {
              "outlinewidth": 0,
              "ticks": ""
             }
            },
            "type": "scattercarpet"
           }
          ],
          "scattergeo": [
           {
            "marker": {
             "colorbar": {
              "outlinewidth": 0,
              "ticks": ""
             }
            },
            "type": "scattergeo"
           }
          ],
          "scattergl": [
           {
            "marker": {
             "colorbar": {
              "outlinewidth": 0,
              "ticks": ""
             }
            },
            "type": "scattergl"
           }
          ],
          "scattermapbox": [
           {
            "marker": {
             "colorbar": {
              "outlinewidth": 0,
              "ticks": ""
             }
            },
            "type": "scattermapbox"
           }
          ],
          "scatterpolar": [
           {
            "marker": {
             "colorbar": {
              "outlinewidth": 0,
              "ticks": ""
             }
            },
            "type": "scatterpolar"
           }
          ],
          "scatterpolargl": [
           {
            "marker": {
             "colorbar": {
              "outlinewidth": 0,
              "ticks": ""
             }
            },
            "type": "scatterpolargl"
           }
          ],
          "scatterternary": [
           {
            "marker": {
             "colorbar": {
              "outlinewidth": 0,
              "ticks": ""
             }
            },
            "type": "scatterternary"
           }
          ],
          "surface": [
           {
            "colorbar": {
             "outlinewidth": 0,
             "ticks": ""
            },
            "colorscale": [
             [
              0,
              "#0d0887"
             ],
             [
              0.1111111111111111,
              "#46039f"
             ],
             [
              0.2222222222222222,
              "#7201a8"
             ],
             [
              0.3333333333333333,
              "#9c179e"
             ],
             [
              0.4444444444444444,
              "#bd3786"
             ],
             [
              0.5555555555555556,
              "#d8576b"
             ],
             [
              0.6666666666666666,
              "#ed7953"
             ],
             [
              0.7777777777777778,
              "#fb9f3a"
             ],
             [
              0.8888888888888888,
              "#fdca26"
             ],
             [
              1,
              "#f0f921"
             ]
            ],
            "type": "surface"
           }
          ],
          "table": [
           {
            "cells": {
             "fill": {
              "color": "#EBF0F8"
             },
             "line": {
              "color": "white"
             }
            },
            "header": {
             "fill": {
              "color": "#C8D4E3"
             },
             "line": {
              "color": "white"
             }
            },
            "type": "table"
           }
          ]
         },
         "layout": {
          "annotationdefaults": {
           "arrowcolor": "#2a3f5f",
           "arrowhead": 0,
           "arrowwidth": 1
          },
          "autotypenumbers": "strict",
          "coloraxis": {
           "colorbar": {
            "outlinewidth": 0,
            "ticks": ""
           }
          },
          "colorscale": {
           "diverging": [
            [
             0,
             "#8e0152"
            ],
            [
             0.1,
             "#c51b7d"
            ],
            [
             0.2,
             "#de77ae"
            ],
            [
             0.3,
             "#f1b6da"
            ],
            [
             0.4,
             "#fde0ef"
            ],
            [
             0.5,
             "#f7f7f7"
            ],
            [
             0.6,
             "#e6f5d0"
            ],
            [
             0.7,
             "#b8e186"
            ],
            [
             0.8,
             "#7fbc41"
            ],
            [
             0.9,
             "#4d9221"
            ],
            [
             1,
             "#276419"
            ]
           ],
           "sequential": [
            [
             0,
             "#0d0887"
            ],
            [
             0.1111111111111111,
             "#46039f"
            ],
            [
             0.2222222222222222,
             "#7201a8"
            ],
            [
             0.3333333333333333,
             "#9c179e"
            ],
            [
             0.4444444444444444,
             "#bd3786"
            ],
            [
             0.5555555555555556,
             "#d8576b"
            ],
            [
             0.6666666666666666,
             "#ed7953"
            ],
            [
             0.7777777777777778,
             "#fb9f3a"
            ],
            [
             0.8888888888888888,
             "#fdca26"
            ],
            [
             1,
             "#f0f921"
            ]
           ],
           "sequentialminus": [
            [
             0,
             "#0d0887"
            ],
            [
             0.1111111111111111,
             "#46039f"
            ],
            [
             0.2222222222222222,
             "#7201a8"
            ],
            [
             0.3333333333333333,
             "#9c179e"
            ],
            [
             0.4444444444444444,
             "#bd3786"
            ],
            [
             0.5555555555555556,
             "#d8576b"
            ],
            [
             0.6666666666666666,
             "#ed7953"
            ],
            [
             0.7777777777777778,
             "#fb9f3a"
            ],
            [
             0.8888888888888888,
             "#fdca26"
            ],
            [
             1,
             "#f0f921"
            ]
           ]
          },
          "colorway": [
           "#636efa",
           "#EF553B",
           "#00cc96",
           "#ab63fa",
           "#FFA15A",
           "#19d3f3",
           "#FF6692",
           "#B6E880",
           "#FF97FF",
           "#FECB52"
          ],
          "font": {
           "color": "#2a3f5f"
          },
          "geo": {
           "bgcolor": "white",
           "lakecolor": "white",
           "landcolor": "#E5ECF6",
           "showlakes": true,
           "showland": true,
           "subunitcolor": "white"
          },
          "hoverlabel": {
           "align": "left"
          },
          "hovermode": "closest",
          "mapbox": {
           "style": "light"
          },
          "paper_bgcolor": "white",
          "plot_bgcolor": "#E5ECF6",
          "polar": {
           "angularaxis": {
            "gridcolor": "white",
            "linecolor": "white",
            "ticks": ""
           },
           "bgcolor": "#E5ECF6",
           "radialaxis": {
            "gridcolor": "white",
            "linecolor": "white",
            "ticks": ""
           }
          },
          "scene": {
           "xaxis": {
            "backgroundcolor": "#E5ECF6",
            "gridcolor": "white",
            "gridwidth": 2,
            "linecolor": "white",
            "showbackground": true,
            "ticks": "",
            "zerolinecolor": "white"
           },
           "yaxis": {
            "backgroundcolor": "#E5ECF6",
            "gridcolor": "white",
            "gridwidth": 2,
            "linecolor": "white",
            "showbackground": true,
            "ticks": "",
            "zerolinecolor": "white"
           },
           "zaxis": {
            "backgroundcolor": "#E5ECF6",
            "gridcolor": "white",
            "gridwidth": 2,
            "linecolor": "white",
            "showbackground": true,
            "ticks": "",
            "zerolinecolor": "white"
           }
          },
          "shapedefaults": {
           "line": {
            "color": "#2a3f5f"
           }
          },
          "ternary": {
           "aaxis": {
            "gridcolor": "white",
            "linecolor": "white",
            "ticks": ""
           },
           "baxis": {
            "gridcolor": "white",
            "linecolor": "white",
            "ticks": ""
           },
           "bgcolor": "#E5ECF6",
           "caxis": {
            "gridcolor": "white",
            "linecolor": "white",
            "ticks": ""
           }
          },
          "title": {
           "x": 0.05
          },
          "xaxis": {
           "automargin": true,
           "gridcolor": "white",
           "linecolor": "white",
           "ticks": "",
           "title": {
            "standoff": 15
           },
           "zerolinecolor": "white",
           "zerolinewidth": 2
          },
          "yaxis": {
           "automargin": true,
           "gridcolor": "white",
           "linecolor": "white",
           "ticks": "",
           "title": {
            "standoff": 15
           },
           "zerolinecolor": "white",
           "zerolinewidth": 2
          }
         }
        },
        "title": {
         "text": "Loss landscape for CIFAR"
        },
        "xaxis": {
         "title": {
          "text": "Perturbation in first eigenvector direction"
         }
        },
        "yaxis": {
         "title": {
          "text": "Perturbation in second eigenvector direction"
         }
        }
       }
      },
      "text/html": [
       "<div>                            <div id=\"f9d9057c-b6a1-4a9e-9294-571389f3af17\" class=\"plotly-graph-div\" style=\"height:525px; width:100%;\"></div>            <script type=\"text/javascript\">                require([\"plotly\"], function(Plotly) {                    window.PLOTLYENV=window.PLOTLYENV || {};                                    if (document.getElementById(\"f9d9057c-b6a1-4a9e-9294-571389f3af17\")) {                    Plotly.newPlot(                        \"f9d9057c-b6a1-4a9e-9294-571389f3af17\",                        [{\"colorscale\": [[0.0, \"rgb(255,255,229)\"], [0.125, \"rgb(247,252,185)\"], [0.25, \"rgb(217,240,163)\"], [0.375, \"rgb(173,221,142)\"], [0.5, \"rgb(120,198,121)\"], [0.625, \"rgb(65,171,93)\"], [0.75, \"rgb(35,132,67)\"], [0.875, \"rgb(0,104,55)\"], [1.0, \"rgb(0,69,41)\"]], \"name\": \"Adam\", \"opacity\": 0.7, \"showlegend\": true, \"showscale\": false, \"type\": \"surface\", \"x\": [-0.5, -0.4583333432674408, -0.4166666567325592, -0.375, -0.3333333432674408, -0.2916666567325592, -0.25, -0.2083333283662796, -0.1666666716337204, -0.125, -0.0833333358168602, -0.0416666679084301, 0.0, 0.0416666679084301, 0.0833333358168602, 0.125, 0.1666666716337204, 0.2083333283662796, 0.25, 0.2916666567325592, 0.3333333432674408, 0.375, 0.4166666567325592, 0.4583333432674408, 0.5], \"y\": [-0.5, -0.4583333432674408, -0.4166666567325592, -0.375, -0.3333333432674408, -0.2916666567325592, -0.25, -0.2083333283662796, -0.1666666716337204, -0.125, -0.0833333358168602, -0.0416666679084301, 0.0, 0.0416666679084301, 0.0833333358168602, 0.125, 0.1666666716337204, 0.2083333283662796, 0.25, 0.2916666567325592, 0.3333333432674408, 0.375, 0.4166666567325592, 0.4583333432674408, 0.5], \"z\": [[37.806678771972656, 36.9344596862793, 36.077030181884766, 35.2288703918457, 34.38700485229492, 33.549442291259766, 32.7156982421875, 31.885421752929688, 31.05914306640625, 30.237316131591797, 29.421335220336914, 28.613466262817383, 27.813234329223633, 27.01347541809082, 26.181095123291016, 25.235382080078125, 24.032855987548828, 22.536983489990234, 20.94683074951172, 19.261062622070312, 17.510723114013672, 16.21651840209961, 16.559833526611328, 18.15125846862793, 20.074813842773438], [35.529991149902344, 34.64237976074219, 33.7793083190918, 32.93254470825195, 32.09629440307617, 31.26739501953125, 30.443387985229492, 29.623626708984375, 28.80802345275879, 27.99701690673828, 27.191219329833984, 26.392929077148438, 25.600929260253906, 24.803529739379883, 23.954755783081055, 22.958242416381836, 21.660669326782227, 20.133636474609375, 18.522899627685547, 16.79977035522461, 15.25671672821045, 14.997997283935547, 16.332929611206055, 18.196386337280273, 20.054546356201172], [33.3192024230957, 32.397621154785156, 31.5166072845459, 30.662704467773438, 29.827091217041016, 29.00338363647461, 28.188032150268555, 27.37807273864746, 26.57324981689453, 25.773134231567383, 24.977807998657227, 24.188947677612305, 23.404098510742188, 22.605030059814453, 21.73194122314453, 20.669910430908203, 19.284473419189453, 17.7365779876709, 16.084732055664062, 14.432808876037598, 13.63188362121582, 14.597947120666504, 16.375730514526367, 18.198942184448242, 19.980213165283203], [31.218318939208984, 30.224557876586914, 29.305288314819336, 28.431026458740234, 27.586347579956055, 26.76217269897461, 25.95186996459961, 25.150632858276367, 24.35588264465332, 23.56646156311035, 22.78199005126953, 22.00232696533203, 21.223220825195312, 20.416955947875977, 19.509641647338867, 18.365161895751953, 16.91371726989746, 15.338666915893555, 13.67457389831543, 12.475964546203613, 12.963565826416016, 14.6156005859375, 16.39889144897461, 18.15077781677246, 19.94318389892578], [29.133474349975586, 28.15456199645996, 27.171855926513672, 26.254344940185547, 25.387346267700195, 24.552322387695312, 23.740432739257812, 22.943817138671875, 22.15753936767578, 21.378665924072266, 20.604944229125977, 19.834205627441406, 19.058399200439453, 18.2382869720459, 17.28461456298828, 16.040319442749023, 14.545632362365723, 12.935298919677734, 11.499337196350098, 11.454792022705078, 12.920462608337402, 14.65573501586914, 16.381431579589844, 18.135549545288086, 19.84220314025879], [27.01983642578125, 26.0801944732666, 25.125484466552734, 24.162456512451172, 23.246488571166992, 22.387741088867188, 21.563308715820312, 20.763896942138672, 19.98233985900879, 19.21194839477539, 18.4486141204834, 17.686019897460938, 16.909683227539062, 16.06756019592285, 15.050567626953125, 13.708906173706055, 12.178176879882812, 10.641995429992676, 10.097039222717285, 11.29588794708252, 12.971837043762207, 14.674976348876953, 16.392976760864258, 18.104944229125977, 19.905256271362305], [24.850921630859375, 23.965147018432617, 23.058191299438477, 22.130952835083008, 21.193620681762695, 20.282468795776367, 19.434965133666992, 18.622291564941406, 17.836881637573242, 17.070955276489258, 16.315731048583984, 15.560014724731445, 14.777908325195312, 13.903435707092285, 12.800522804260254, 11.378743171691895, 9.844731330871582, 8.903712272644043, 9.74984359741211, 11.350165367126465, 13.033036231994629, 14.724157333374023, 16.45789337158203, 18.26316261291504, 20.07639503479004], [22.658214569091797, 21.794754028320312, 20.93549919128418, 20.066146850585938, 19.171192169189453, 18.263437271118164, 17.365161895751953, 16.531557083129883, 15.733675956726074, 14.963473320007324, 14.211569786071777, 13.46010684967041, 12.666730880737305, 11.745814323425293, 10.532310485839844, 9.06676197052002, 7.864343643188477, 8.289477348327637, 9.79308032989502, 11.460171699523926, 13.149240493774414, 14.906764030456543, 16.675703048706055, 18.46209144592285, 20.24298667907715], [20.479158401489258, 19.62067222595215, 18.772098541259766, 17.933135986328125, 17.098731994628906, 16.24652671813965, 15.373623847961426, 14.498562812805176, 13.682724952697754, 12.905279159545898, 12.151596069335938, 11.403660774230957, 10.599757194519043, 9.613475799560547, 8.284900665283203, 6.943408489227295, 6.928552627563477, 8.313958168029785, 9.973904609680176, 11.683907508850098, 13.40572452545166, 15.12459945678711, 16.81194305419922, 18.490007400512695, 20.199525833129883], [18.341577529907227, 17.48859214782715, 16.644914627075195, 15.810850143432617, 14.988155364990234, 14.175249099731445, 13.369006156921387, 12.54776668548584, 11.710865020751953, 10.925061225891113, 10.177336692810059, 9.42299747467041, 8.577216148376465, 7.456160545349121, 6.059292793273926, 5.6705145835876465, 6.925459861755371, 8.581487655639648, 10.262158393859863, 11.899457931518555, 13.508212089538574, 15.121010780334473, 16.771272659301758, 18.455913543701172, 20.170068740844727], [16.178190231323242, 15.352346420288086, 14.532047271728516, 13.719212532043457, 12.911032676696777, 12.10722541809082, 11.310528755187988, 10.527361869812012, 9.755837440490723, 8.978046417236328, 8.210746765136719, 7.424217224121094, 6.465845108032227, 5.1500349044799805, 4.465289115905762, 5.602726936340332, 7.213522434234619, 8.796875953674316, 10.356361389160156, 11.917741775512695, 13.501511573791504, 15.113941192626953, 16.7576847076416, 18.432340621948242, 20.135637283325195], [13.6879243850708, 12.881336212158203, 12.08737564086914, 11.308639526367188, 10.547391891479492, 9.80249309539795, 9.068215370178223, 8.33935546875, 7.6150288581848145, 6.888569355010986, 6.112493991851807, 5.214916229248047, 4.019692897796631, 3.1874868869781494, 4.2569074630737305, 5.821079730987549, 7.3658952713012695, 8.88485336303711, 10.402630805969238, 11.94070816040039, 13.505424499511719, 15.100092887878418, 16.727537155151367, 18.388776779174805, 20.081789016723633], [11.681081771850586, 10.862361907958984, 10.05427360534668, 9.25760269165039, 8.472817420959473, 7.6996355056762695, 6.935342788696289, 6.1782965660095215, 5.424952983856201, 4.646895885467529, 3.715182065963745, 2.44303822517395, 1.5289392471313477, 2.7046687602996826, 4.4489850997924805, 5.988351821899414, 7.450782775878906, 8.915351867675781, 10.408773422241211, 11.931488037109375, 13.482426643371582, 15.063228607177734, 16.678508758544922, 18.330163955688477, 20.015417098999023], [16.034454345703125, 15.282708168029785, 14.533843040466309, 13.780506134033203, 13.013490676879883, 12.220297813415527, 11.390876770019531, 10.502434730529785, 9.512763023376465, 8.309123039245605, 6.740778923034668, 4.810798645019531, 3.1679112911224365, 3.4350593090057373, 4.7439165115356445, 6.068860054016113, 7.4416279792785645, 8.860932350158691, 10.328689575195312, 11.847229957580566, 13.405556678771973, 14.993614196777344, 16.610685348510742, 18.260141372680664, 19.942489624023438], [20.36880111694336, 19.476123809814453, 18.566064834594727, 17.631519317626953, 16.658039093017578, 15.640016555786133, 14.53278923034668, 13.305923461914062, 11.972959518432617, 10.505449295043945, 8.827333450317383, 6.9085373878479, 5.139492511749268, 4.662136077880859, 5.2877583503723145, 6.281275272369385, 7.4708170890808105, 8.79788589477539, 10.21325969696045, 11.695103645324707, 13.241004943847656, 14.840750694274902, 16.47968292236328, 18.147451400756836, 19.841468811035156], [23.54572868347168, 22.520671844482422, 21.457353591918945, 20.320453643798828, 19.100675582885742, 17.81348419189453, 16.478443145751953, 15.096522331237793, 13.646172523498535, 12.1008939743042, 10.403586387634277, 8.463479995727539, 6.574014663696289, 5.744976043701172, 5.995373725891113, 6.720678329467773, 7.671138763427734, 8.82978630065918, 10.135958671569824, 11.552083015441895, 13.048644065856934, 14.618752479553223, 16.256052017211914, 17.946611404418945, 19.671062469482422], [26.15375518798828, 24.914506912231445, 23.619823455810547, 22.282747268676758, 20.916889190673828, 19.526962280273438, 18.11089515686035, 16.6573429107666, 15.147217750549316, 13.563108444213867, 11.848660469055176, 9.884866714477539, 7.874904632568359, 6.779491424560547, 6.742971897125244, 7.284453868865967, 8.0858736038208, 9.039329528808594, 10.190020561218262, 11.486176490783691, 12.904390335083008, 14.41425609588623, 16.006969451904297, 17.678482055664062, 19.413240432739258], [28.19976234436035, 26.822547912597656, 25.42437744140625, 24.010879516601562, 22.583215713500977, 21.139076232910156, 19.67099952697754, 18.165939331054688, 16.605823516845703, 14.978903770446777, 13.240306854248047, 11.266280174255371, 9.16038703918457, 7.819184303283691, 7.55975866317749, 7.893024444580078, 8.622989654541016, 9.464136123657227, 10.426036834716797, 11.57556438446045, 12.863838195800781, 14.282795906066895, 15.806949615478516, 17.423002243041992, 19.12626838684082], [30.025875091552734, 28.58007049560547, 27.126691818237305, 25.66595458984375, 24.196035385131836, 22.71039581298828, 21.19852066040039, 19.64847183227539, 18.044803619384766, 16.383371353149414, 14.623250961303711, 12.635788917541504, 10.459677696228027, 8.884552955627441, 8.432660102844238, 8.56126594543457, 9.1762056350708, 10.008038520812988, 10.87157154083252, 11.850432395935059, 12.998200416564941, 14.278891563415527, 15.69624137878418, 17.235198974609375, 18.87456512451172], [31.778564453125, 30.285215377807617, 28.78974723815918, 27.29084587097168, 25.784404754638672, 24.260549545288086, 22.708847045898438, 21.116626739501953, 19.474477767944336, 17.788192749023438, 16.010671615600586, 14.011920928955078, 11.78869915008545, 9.99716854095459, 9.352882385253906, 9.308913230895996, 9.771909713745117, 10.546097755432129, 11.433853149414062, 12.314892768859863, 13.317853927612305, 14.462011337280273, 15.735897064208984, 17.150583267211914, 18.70266342163086], [33.49617004394531, 31.969158172607422, 30.440120697021484, 28.907257080078125, 27.36482048034668, 25.802400588989258, 24.21108627319336, 22.577537536621094, 20.90575408935547, 19.200069427490234, 17.40736961364746, 15.401458740234375, 13.145708084106445, 11.173660278320312, 10.336304664611816, 10.138874053955078, 10.403169631958008, 11.11826229095459, 11.98499870300293, 12.893967628479004, 13.79382610321045, 14.822916030883789, 15.965978622436523, 17.23470115661621, 18.646955490112305], [35.195682525634766, 33.642486572265625, 32.08721923828125, 30.525415420532227, 28.947559356689453, 27.346206665039062, 25.71251678466797, 24.041858673095703, 22.34610939025879, 20.623445510864258, 18.817724227905273, 16.806371688842773, 14.527703285217285, 12.40511417388916, 11.378157615661621, 11.051766395568848, 11.124500274658203, 11.712998390197754, 12.542603492736816, 13.465898513793945, 14.379745483398438, 15.304985046386719, 16.36043930053711, 17.506486892700195, 18.77136993408203], [36.886634826660156, 35.31196594238281, 33.7337532043457, 32.14441680908203, 30.534513473510742, 28.895936965942383, 27.221599578857422, 25.51947593688965, 23.802143096923828, 22.062692642211914, 20.244272232055664, 18.227373123168945, 15.932331085205078, 13.684247970581055, 12.462800979614258, 12.030323028564453, 11.94753646850586, 12.338678359985352, 13.142006874084473, 14.040907859802246, 14.981929779052734, 15.898066520690918, 16.848955154418945, 17.927724838256836, 19.081069946289062], [38.5748291015625, 36.98092269897461, 35.380435943603516, 33.763710021972656, 32.122928619384766, 30.449342727661133, 28.742061614990234, 27.016067504882812, 25.27886199951172, 23.521703720092773, 21.6899471282959, 19.66596031188965, 17.35785675048828, 15.006680488586426, 13.584443092346191, 13.057418823242188, 12.854265213012695, 13.047374725341797, 13.7498779296875, 14.636767387390137, 15.595726013183594, 16.533206939697266, 17.454023361206055, 18.429399490356445, 19.528833389282227], [40.26377487182617, 38.6509895324707, 37.02660369873047, 35.382957458496094, 33.71028518676758, 32.00410079956055, 30.271968841552734, 28.528011322021484, 26.77521514892578, 25.002138137817383, 23.155860900878906, 21.12390899658203, 18.803924560546875, 16.36908721923828, 14.744304656982422, 14.11921501159668, 13.824607849121094, 13.851037979125977, 14.372931480407715, 15.258289337158203, 16.198848724365234, 17.178253173828125, 18.11491584777832, 19.047504425048828, 20.046741485595703]]}, {\"colorscale\": [[0.0, \"#440154\"], [0.1111111111111111, \"#482878\"], [0.2222222222222222, \"#3e4989\"], [0.3333333333333333, \"#31688e\"], [0.4444444444444444, \"#26828e\"], [0.5555555555555556, \"#1f9e89\"], [0.6666666666666666, \"#35b779\"], [0.7777777777777778, \"#6ece58\"], [0.8888888888888888, \"#b5de2b\"], [1.0, \"#fde725\"]], \"name\": \"LBFGS\", \"opacity\": 0.7, \"showlegend\": true, \"showscale\": false, \"type\": \"surface\", \"x\": [-0.5, -0.4583333432674408, -0.4166666567325592, -0.375, -0.3333333432674408, -0.2916666567325592, -0.25, -0.2083333283662796, -0.1666666716337204, -0.125, -0.0833333358168602, -0.0416666679084301, 0.0, 0.0416666679084301, 0.0833333358168602, 0.125, 0.1666666716337204, 0.2083333283662796, 0.25, 0.2916666567325592, 0.3333333432674408, 0.375, 0.4166666567325592, 0.4583333432674408, 0.5], \"y\": [-0.5, -0.4583333432674408, -0.4166666567325592, -0.375, -0.3333333432674408, -0.2916666567325592, -0.25, -0.2083333283662796, -0.1666666716337204, -0.125, -0.0833333358168602, -0.0416666679084301, 0.0, 0.0416666679084301, 0.0833333358168602, 0.125, 0.1666666716337204, 0.2083333283662796, 0.25, 0.2916666567325592, 0.3333333432674408, 0.375, 0.4166666567325592, 0.4583333432674408, 0.5], \"z\": [[24.66282844543457, 24.24767303466797, 23.970027923583984, 23.815446853637695, 23.734619140625, 23.65526580810547, 23.55821418762207, 23.424617767333984, 23.23288917541504, 23.010417938232422, 22.807159423828125, 22.640369415283203, 22.50704574584961, 22.403467178344727, 22.344623565673828, 22.34868049621582, 22.409135818481445, 22.524219512939453, 22.740339279174805, 23.14862632751465, 23.869386672973633, 24.97079086303711, 26.360694885253906, 27.868877410888672, 29.42888641357422], [23.44357681274414, 22.907470703125, 22.516464233398438, 22.263275146484375, 22.126405715942383, 22.041484832763672, 21.94257164001465, 21.81656837463379, 21.636781692504883, 21.4150447845459, 21.19512176513672, 21.012300491333008, 20.86833953857422, 20.76000213623047, 20.696508407592773, 20.695369720458984, 20.760229110717773, 20.901479721069336, 21.168697357177734, 21.657880783081055, 22.482494354248047, 23.661746978759766, 25.05837059020996, 26.538362503051758, 28.071130752563477], [22.388652801513672, 21.707406997680664, 21.191322326660156, 20.820833206176758, 20.58885383605957, 20.45925521850586, 20.358983993530273, 20.231307983398438, 20.06198501586914, 19.842514038085938, 19.60651397705078, 19.401887893676758, 19.24163055419922, 19.124610900878906, 19.05624008178711, 19.052370071411133, 19.125919342041016, 19.299386978149414, 19.624753952026367, 20.211435317993164, 21.143190383911133, 22.380033493041992, 23.763835906982422, 25.217411041259766, 26.714689254760742], [21.47797203063965, 20.67035675048828, 20.003793716430664, 19.50335121154785, 19.14997100830078, 18.931489944458008, 18.79824447631836, 18.66901969909668, 18.50116539001465, 18.282968521118164, 18.034252166748047, 17.80377197265625, 17.62142562866211, 17.489959716796875, 17.415348052978516, 17.411849975585938, 17.500398635864258, 17.709793090820312, 18.116342544555664, 18.816495895385742, 19.851070404052734, 21.112239837646484, 22.4741153717041, 23.896923065185547, 25.355863571166992], [20.646751403808594, 19.768798828125, 18.975311279296875, 18.31884765625, 17.828641891479492, 17.488067626953125, 17.272459030151367, 17.11964988708496, 16.946256637573242, 16.726959228515625, 16.467432022094727, 16.207860946655273, 15.996847152709961, 15.845311164855957, 15.761285781860352, 15.760229110717773, 15.867572784423828, 16.139429092407227, 16.651790618896484, 17.478031158447266, 18.588298797607422, 19.84418296813965, 21.185211181640625, 22.573989868164062, 23.993825912475586], [19.857484817504883, 18.937856674194336, 18.071409225463867, 17.28626823425293, 16.63343620300293, 16.1466121673584, 15.808572769165039, 15.581603050231934, 15.388492584228516, 15.158705711364746, 14.887299537658691, 14.599446296691895, 14.352477073669434, 14.173286437988281, 14.073980331420898, 14.077157020568848, 14.231545448303223, 14.595905303955078, 15.24352741241455, 16.19073486328125, 17.329057693481445, 18.579570770263672, 19.895328521728516, 21.249977111816406, 22.633638381958008], [19.08660888671875, 18.139495849609375, 17.227230072021484, 16.364032745361328, 15.577693939208984, 14.919211387634277, 14.424200057983398, 14.073650360107422, 13.81421184539795, 13.561402320861816, 13.270380020141602, 12.95390510559082, 12.662077903747559, 12.442593574523926, 12.324156761169434, 12.354646682739258, 12.591695785522461, 13.103487968444824, 13.902993202209473, 14.922852516174316, 16.07852554321289, 17.319602966308594, 18.611995697021484, 19.940582275390625, 21.297035217285156], [18.31974220275879, 17.34882354736328, 16.4023494720459, 15.48569107055664, 14.612363815307617, 13.809516906738281, 13.130083084106445, 12.611833572387695, 12.227720260620117, 11.908263206481934, 11.582383155822754, 11.228836059570312, 10.87874698638916, 10.611492156982422, 10.491239547729492, 10.594862937927246, 10.995434761047363, 11.687115669250488, 12.60927677154541, 13.67985725402832, 14.853419303894043, 16.09117889404297, 17.37262725830078, 18.683853149414062, 20.01974105834961], [17.54422378540039, 16.550025939941406, 15.570528984069824, 14.608474731445312, 13.668936729431152, 12.76743221282959, 11.927607536315918, 11.203624725341797, 10.636539459228516, 10.183820724487305, 9.775117874145508, 9.355025291442871, 8.944657325744629, 8.64694595336914, 8.593071937561035, 8.87440299987793, 9.492146492004395, 10.359107971191406, 11.377785682678223, 12.505146026611328, 13.698722839355469, 14.930469512939453, 16.187822341918945, 17.464527130126953, 18.761600494384766], [16.750988006591797, 15.730737686157227, 14.716222763061523, 13.707523345947266, 12.70766544342041, 11.721242904663086, 10.761029243469238, 9.850262641906738, 9.043013572692871, 8.38002872467041, 7.801541805267334, 7.268815517425537, 6.811858177185059, 6.584256649017334, 6.729386329650879, 7.287657737731934, 8.150644302368164, 9.151927947998047, 10.24419116973877, 11.393080711364746, 12.57176399230957, 13.770544052124023, 14.98483657836914, 16.216510772705078, 17.47101593017578], [15.931053161621094, 14.880290031433105, 13.82787799835205, 12.770655632019043, 11.70926570892334, 10.64314079284668, 9.573846817016602, 8.511787414550781, 7.478194236755371, 6.509008407592773, 5.660516262054443, 4.980814456939697, 4.550660133361816, 4.536386013031006, 5.033833980560303, 5.918549060821533, 6.947447776794434, 8.00862979888916, 9.11941909790039, 10.254171371459961, 11.40363597869873, 12.565075874328613, 13.744538307189941, 14.948046684265137, 16.17966651916504], [15.079362869262695, 13.99583911895752, 12.902257919311523, 11.79428482055664, 10.668657302856445, 9.522587776184082, 8.352889060974121, 7.15623140335083, 5.927654266357422, 4.710236072540283, 3.6293113231658936, 2.850080966949463, 2.50115966796875, 2.725788116455078, 3.5266220569610596, 4.605347156524658, 5.6762614250183105, 6.755131244659424, 7.8591766357421875, 8.978463172912598, 10.108223915100098, 11.252847671508789, 12.415515899658203, 13.601272583007812, 14.812036514282227], [14.192349433898926, 13.071548461914062, 11.933368682861328, 10.773070335388184, 9.586688995361328, 8.370296478271484, 7.115929126739502, 5.813157558441162, 4.529273986816406, 3.376373052597046, 2.452970504760742, 1.8394955396652222, 1.5983866453170776, 1.7924690246582031, 2.3931424617767334, 3.2176084518432617, 4.165393829345703, 5.202208042144775, 6.275796413421631, 7.371358871459961, 8.48936939239502, 9.626531600952148, 10.781167030334473, 11.956462860107422, 13.157340049743652], [13.267614364624023, 12.106497764587402, 10.925081253051758, 9.7188081741333, 8.483536720275879, 7.212584018707275, 5.914548397064209, 4.686453342437744, 3.6375534534454346, 2.866772413253784, 2.391633987426758, 2.1573374271392822, 2.0727877616882324, 2.101167917251587, 2.2365927696228027, 2.5011534690856934, 2.9297218322753906, 3.5841212272644043, 4.448835372924805, 5.432497501373291, 6.48897647857666, 7.610796928405762, 8.785041809082031, 9.998468399047852, 11.247687339782715], [12.306097984313965, 11.10927677154541, 9.889744758605957, 8.648005485534668, 7.37854528427124, 6.118393898010254, 4.974820137023926, 4.062800884246826, 3.4620816707611084, 3.1505067348480225, 3.036961555480957, 3.001002550125122, 2.960836887359619, 2.8761706352233887, 2.759519100189209, 2.709718704223633, 2.7703661918640137, 2.9818215370178223, 3.385681629180908, 4.001030445098877, 4.80536413192749, 5.752034664154053, 6.81752347946167, 7.970585823059082, 9.187702178955078], [11.317604064941406, 10.090094566345215, 8.84677791595459, 7.586572647094727, 6.375000476837158, 5.321122646331787, 4.531836986541748, 4.061158657073975, 3.8668816089630127, 3.847301721572876, 3.8767826557159424, 3.878626823425293, 3.831259250640869, 3.7391998767852783, 3.620140314102173, 3.4624950885772705, 3.3207263946533203, 3.2588467597961426, 3.32904314994812, 3.5829644203186035, 4.04589319229126, 4.7017998695373535, 5.504299163818359, 6.435731887817383, 7.496363639831543], [10.31152057647705, 9.068055152893066, 7.824227809906006, 6.661647319793701, 5.687383651733398, 4.999760150909424, 4.624451160430908, 4.508986473083496, 4.546499729156494, 4.620246410369873, 4.671511650085449, 4.680798053741455, 4.661565780639648, 4.62618350982666, 4.562111854553223, 4.444216251373291, 4.241092205047607, 4.030646800994873, 3.8855366706848145, 3.862506866455078, 4.018417835235596, 4.3891377449035645, 4.965149879455566, 5.6827592849731445, 6.499023914337158], [9.306328773498535, 8.082158088684082, 6.965609073638916, 6.062386512756348, 5.454047203063965, 5.149211406707764, 5.087122917175293, 5.157031059265137, 5.259093761444092, 5.342315196990967, 5.397372722625732, 5.435583591461182, 5.472690582275391, 5.492184638977051, 5.4731221199035645, 5.386875152587891, 5.234269618988037, 5.004157543182373, 4.758120536804199, 4.567131042480469, 4.486042022705078, 4.5754241943359375, 4.884829998016357, 5.416431903839111, 6.104992389678955], [8.355902671813965, 7.282598495483398, 6.440248489379883, 5.89689826965332, 5.647550582885742, 5.620708465576172, 5.709187984466553, 5.824374198913574, 5.925769805908203, 6.008419990539551, 6.0827436447143555, 6.17198371887207, 6.253995418548584, 6.309624671936035, 6.312830924987793, 6.256973743438721, 6.149942874908447, 5.988178730010986, 5.750161170959473, 5.490586757659912, 5.273087978363037, 5.152656555175781, 5.192913055419922, 5.4585065841674805, 5.964364051818848], [7.6084065437316895, 6.820681571960449, 6.335133075714111, 6.131126403808594, 6.128318786621094, 6.226561069488525, 6.343743324279785, 6.449763298034668, 6.544955730438232, 6.641534328460693, 6.761503219604492, 6.887545108795166, 6.998536586761475, 7.074026584625244, 7.095907211303711, 7.0690693855285645, 7.001165390014648, 6.889825344085693, 6.727845191955566, 6.492422580718994, 6.229215621948242, 5.996700286865234, 5.8487443923950195, 5.849977970123291, 6.0778303146362305], [7.210390567779541, 6.774106502532959, 6.607001304626465, 6.624267101287842, 6.726950168609619, 6.840169906616211, 6.941773414611816, 7.03806209564209, 7.140323162078857, 7.2750396728515625, 7.429141521453857, 7.57871675491333, 7.710345268249512, 7.800100326538086, 7.841140270233154, 7.840088844299316, 7.805968761444092, 7.737931728363037, 7.6293535232543945, 7.473344326019287, 7.247478485107422, 6.986751556396484, 6.746134281158447, 6.576837062835693, 6.545039653778076], [7.2177815437316895, 7.084456920623779, 7.118628978729248, 7.2213969230651855, 7.326535701751709, 7.4190897941589355, 7.509638786315918, 7.610152721405029, 7.74432897567749, 7.909477710723877, 8.084637641906738, 8.256416320800781, 8.40359878540039, 8.505847930908203, 8.564618110656738, 8.586874008178711, 8.582414627075195, 8.550773620605469, 8.488750457763672, 8.3889799118042, 8.244755744934082, 8.032937049865723, 7.778301239013672, 7.533798694610596, 7.347214698791504], [7.571393966674805, 7.617671489715576, 7.717846393585205, 7.812361717224121, 7.892348289489746, 7.973526954650879, 8.066831588745117, 8.194067001342773, 8.356091499328613, 8.54247760772705, 8.74000358581543, 8.930692672729492, 9.087246894836426, 9.203329086303711, 9.27821159362793, 9.32119083404541, 9.342756271362305, 9.343531608581543, 9.3202486038208, 9.269360542297363, 9.183233261108398, 9.055278778076172, 8.860360145568848, 8.614612579345703, 8.369487762451172], [8.124321937561035, 8.220860481262207, 8.302194595336914, 8.367881774902344, 8.438156127929688, 8.521967887878418, 8.638911247253418, 8.789645195007324, 8.975360870361328, 9.183759689331055, 9.403345108032227, 9.603646278381348, 9.76939582824707, 9.899619102478027, 9.98962688446045, 10.051301956176758, 10.096134185791016, 10.124958992004395, 10.135764122009277, 10.1256742477417, 10.09006118774414, 10.021384239196777, 9.912309646606445, 9.736204147338867, 9.49986743927002], [8.731691360473633, 8.7983980178833, 8.849165916442871, 8.907423973083496, 8.980186462402344, 9.0868558883667, 9.222858428955078, 9.398616790771484, 9.608293533325195, 9.841262817382812, 10.07217788696289, 10.279542922973633, 10.45604419708252, 10.600071907043457, 10.704906463623047, 10.784062385559082, 10.849119186401367, 10.90221881866455, 10.942906379699707, 10.968222618103027, 10.974776268005371, 10.956923484802246, 10.906871795654297, 10.815055847167969, 10.653801918029785]]}, {\"colorscale\": [[0.0, \"rgb(247,251,255)\"], [0.125, \"rgb(222,235,247)\"], [0.25, \"rgb(198,219,239)\"], [0.375, \"rgb(158,202,225)\"], [0.5, \"rgb(107,174,214)\"], [0.625, \"rgb(66,146,198)\"], [0.75, \"rgb(33,113,181)\"], [0.875, \"rgb(8,81,156)\"], [1.0, \"rgb(8,48,107)\"]], \"name\": \"AdaHessian\", \"opacity\": 0.7, \"showlegend\": true, \"showscale\": false, \"type\": \"surface\", \"x\": [-0.5, -0.4583333432674408, -0.4166666567325592, -0.375, -0.3333333432674408, -0.2916666567325592, -0.25, -0.2083333283662796, -0.1666666716337204, -0.125, -0.0833333358168602, -0.0416666679084301, 0.0, 0.0416666679084301, 0.0833333358168602, 0.125, 0.1666666716337204, 0.2083333283662796, 0.25, 0.2916666567325592, 0.3333333432674408, 0.375, 0.4166666567325592, 0.4583333432674408, 0.5], \"y\": [-0.5, -0.4583333432674408, -0.4166666567325592, -0.375, -0.3333333432674408, -0.2916666567325592, -0.25, -0.2083333283662796, -0.1666666716337204, -0.125, -0.0833333358168602, -0.0416666679084301, 0.0, 0.0416666679084301, 0.0833333358168602, 0.125, 0.1666666716337204, 0.2083333283662796, 0.25, 0.2916666567325592, 0.3333333432674408, 0.375, 0.4166666567325592, 0.4583333432674408, 0.5], \"z\": [[8.368547439575195, 8.227091789245605, 9.304269790649414, 11.064630508422852, 13.156292915344238, 15.44700813293457, 17.85163688659668, 20.332639694213867, 22.89204216003418, 25.45435333251953, 27.954124450683594, 30.333078384399414, 32.56281661987305, 34.67624282836914, 36.72081756591797, 38.732574462890625, 40.736961364746094, 42.74636459350586, 44.773399353027344, 46.82564163208008, 48.9085693359375, 51.027076721191406, 53.184391021728516, 55.38933181762695, 57.64887237548828], [8.334333419799805, 7.488761901855469, 7.6307454109191895, 8.901089668273926, 10.722681999206543, 12.828897476196289, 15.111734390258789, 17.502155303955078, 19.976966857910156, 22.482995986938477, 24.95351791381836, 27.327434539794922, 29.565263748168945, 31.690067291259766, 33.742069244384766, 35.756004333496094, 37.755741119384766, 39.753849029541016, 41.7636833190918, 43.79424285888672, 45.85165023803711, 47.93941879272461, 50.06465530395508, 52.24129867553711, 54.47981262207031], [8.564237594604492, 7.412697792053223, 6.712223529815674, 7.116804599761963, 8.528074264526367, 10.399565696716309, 12.512008666992188, 14.78425407409668, 17.16325569152832, 19.59943389892578, 22.029937744140625, 24.386985778808594, 26.62408447265625, 28.754375457763672, 30.808902740478516, 32.820987701416016, 34.812538146972656, 36.79599380493164, 38.78489303588867, 40.78919982910156, 42.81425857543945, 44.86565017700195, 46.95872497558594, 49.1163444519043, 51.34918212890625], [8.87820816040039, 7.667321681976318, 6.563289642333984, 6.034853458404541, 6.665432453155518, 8.1824369430542, 10.088336944580078, 12.202132225036621, 14.462478637695312, 16.813194274902344, 19.187515258789062, 21.516454696655273, 23.743274688720703, 25.871217727661133, 27.92354965209961, 29.928165435791016, 31.905731201171875, 33.86897277832031, 35.83083724975586, 37.80006790161133, 39.78364562988281, 41.79697799682617, 43.8709602355957, 46.0315055847168, 48.32096481323242], [9.202664375305176, 8.010857582092285, 6.823885917663574, 5.789384841918945, 5.445395469665527, 6.261416435241699, 7.86132287979126, 9.786308288574219, 11.89809799194336, 14.136795997619629, 16.433868408203125, 18.722700119018555, 20.928707122802734, 23.0443058013916, 25.086341857910156, 27.075927734375, 29.031694412231445, 30.965578079223633, 32.889442443847656, 34.81144714355469, 36.74823760986328, 38.73777389526367, 40.824302673339844, 43.016448974609375, 45.21488571166992], [9.530718803405762, 8.358098030090332, 7.192300796508789, 6.035372734069824, 5.095019340515137, 4.932280540466309, 5.900584697723389, 7.5608415603637695, 9.49354362487793, 11.594265937805176, 13.786094665527344, 16.012393951416016, 18.18647575378418, 20.27790069580078, 22.298158645629883, 24.262474060058594, 26.18334197998047, 28.072917938232422, 29.940114974975586, 31.804454803466797, 33.70664596557617, 35.71316146850586, 37.78792953491211, 39.87026596069336, 41.97039794921875], [9.846037864685059, 8.705556869506836, 7.566082954406738, 6.425179958343506, 5.309598445892334, 4.479701519012451, 4.48671817779541, 5.5819196701049805, 7.280964374542236, 9.210099220275879, 11.2725830078125, 13.401252746582031, 15.522294044494629, 17.576196670532227, 19.55957794189453, 21.480815887451172, 23.345752716064453, 25.16514015197754, 26.956857681274414, 28.76556968688965, 30.67504119873047, 32.62516784667969, 34.57434844970703, 36.5152702331543, 38.43846893310547], [10.1262845993042, 9.03151798248291, 7.93553352355957, 6.831164360046387, 5.717088222503662, 4.649837970733643, 3.9385454654693604, 4.1007981300354, 5.30015754699707, 7.015213489532471, 8.919036865234375, 10.920503616333008, 12.954093933105469, 14.945116996765137, 16.865737915039062, 18.712108612060547, 20.48343276977539, 22.197498321533203, 23.9008731842041, 25.69350242614746, 27.506364822387695, 29.294431686401367, 31.04987144470215, 32.78123092651367, 34.501625061035156], [10.36465072631836, 9.315725326538086, 8.272624015808105, 7.222481727600098, 6.1528754234313965, 5.06706428527832, 4.055608749389648, 3.4663567543029785, 3.7647716999053955, 5.034419059753418, 6.734930038452148, 8.579167366027832, 10.490482330322266, 12.384517669677734, 14.205877304077148, 15.923274040222168, 17.537437438964844, 19.111757278442383, 20.770610809326172, 22.419673919677734, 24.0255184173584, 25.600128173828125, 27.17458152770996, 28.779531478881836, 30.428977966308594], [10.57070541381836, 9.555375099182129, 8.559818267822266, 7.568485260009766, 6.562836170196533, 5.5275444984436035, 4.475150108337402, 3.5300912857055664, 3.055192708969116, 3.4527621269226074, 4.735307216644287, 6.365212917327881, 8.098188400268555, 9.846123695373535, 11.503961563110352, 13.018327713012695, 14.451935768127441, 15.95313549041748, 17.416868209838867, 18.84414291381836, 20.26584243774414, 21.729246139526367, 23.247411727905273, 24.821670532226562, 26.45253562927246], [10.752631187438965, 9.762267112731934, 8.79969310760498, 7.855536460876465, 6.912841320037842, 5.951202869415283, 4.955404281616211, 3.947965383529663, 3.07551908493042, 2.6807758808135986, 3.089823007583618, 4.258268356323242, 5.704333305358887, 7.195992469787598, 8.610824584960938, 9.93635082244873, 11.284193992614746, 12.576204299926758, 13.85689926147461, 15.173748016357422, 16.548439025878906, 17.979089736938477, 19.463237762451172, 21.003997802734375, 22.60462760925293], [10.917864799499512, 9.944485664367676, 9.005255699157715, 8.092280387878418, 7.1967549324035645, 6.302640914916992, 5.3893961906433105, 4.445771217346191, 3.4967470169067383, 2.684501886367798, 2.2698514461517334, 2.454148530960083, 3.2071378231048584, 4.250470161437988, 5.412987232208252, 6.6523823738098145, 7.8204240798950195, 8.98471736907959, 10.196475982666016, 11.481866836547852, 12.844877243041992, 14.271103858947754, 15.754803657531738, 17.294851303100586, 18.893413543701172], [11.07219409942627, 10.109389305114746, 9.183768272399902, 8.293067932128906, 7.429296016693115, 6.583162784576416, 5.742147922515869, 4.890491485595703, 4.0218963623046875, 3.1582741737365723, 2.3816146850585938, 1.7990328073501587, 1.5477006435394287, 1.9594990015029907, 2.8294286727905273, 3.855670213699341, 4.884069919586182, 5.938819885253906, 7.06410026550293, 8.284396171569824, 9.600335121154785, 10.997973442077637, 12.461127281188965, 13.9827880859375, 15.559944152832031], [11.21766185760498, 10.262067794799805, 9.346708297729492, 8.468660354614258, 7.626260757446289, 6.813643455505371, 6.023333549499512, 5.250017166137695, 4.493608474731445, 3.7696597576141357, 3.132038116455078, 2.744302988052368, 2.9201912879943848, 3.2974798679351807, 3.866698980331421, 4.668412208557129, 5.513383865356445, 6.356927394866943, 7.222250938415527, 8.11389446258545, 9.041925430297852, 10.019170761108398, 11.065378189086914, 12.198113441467285, 13.431058883666992], [11.356237411499023, 10.406314849853516, 9.498525619506836, 8.631643295288086, 7.804135322570801, 7.014252185821533, 6.262797832489014, 5.550790786743164, 4.8998942375183105, 4.3688178062438965, 4.147322654724121, 4.314248561859131, 4.550960063934326, 4.865419387817383, 5.350131988525391, 6.039834022521973, 6.861860275268555, 7.655113697052002, 8.43017578125, 9.2606782913208, 10.144017219543457, 11.063323974609375, 12.016342163085938, 13.00584602355957, 14.038087844848633], [11.489255905151367, 10.545018196105957, 9.64456844329834, 8.788030624389648, 7.976713180541992, 7.210435390472412, 6.495550155639648, 5.85133171081543, 5.340313911437988, 5.154769420623779, 5.296728134155273, 5.506178855895996, 5.757797718048096, 6.08931303024292, 6.546138286590576, 7.156230926513672, 7.93087911605835, 8.792926788330078, 9.649286270141602, 10.489415168762207, 11.345895767211914, 12.255213737487793, 13.212639808654785, 14.214075088500977, 15.256867408752441], [11.619296073913574, 10.682036399841309, 9.79189395904541, 8.95069408416748, 8.162099838256836, 7.430700778961182, 6.776186466217041, 6.260921955108643, 6.073246479034424, 6.189082622528076, 6.396204948425293, 6.650268077850342, 6.941601753234863, 7.290617942810059, 7.726466655731201, 8.265501976013184, 8.917548179626465, 9.712789535522461, 10.626907348632812, 11.58584976196289, 12.557096481323242, 13.525494575500488, 14.49314022064209, 15.486929893493652, 16.52421760559082], [11.751359939575195, 10.825626373291016, 9.952896118164062, 9.1395263671875, 8.390658378601074, 7.724555015563965, 7.208491802215576, 7.009374618530273, 7.098263263702393, 7.292226791381836, 7.5407891273498535, 7.8313679695129395, 8.147151947021484, 8.515610694885254, 8.954894065856934, 9.464885711669922, 10.052433013916016, 10.733281135559082, 11.545360565185547, 12.498617172241211, 13.537036895751953, 14.622926712036133, 15.727873802185059, 16.819705963134766, 17.899991989135742], [11.893899917602539, 10.989654541015625, 10.151244163513184, 9.386848449707031, 8.713743209838867, 8.20591926574707, 7.993716239929199, 8.052022933959961, 8.223365783691406, 8.441805839538574, 8.728114128112793, 9.03736686706543, 9.368627548217773, 9.75165843963623, 10.195392608642578, 10.700765609741211, 11.272045135498047, 11.910224914550781, 12.625338554382324, 13.45866870880127, 14.451815605163574, 15.555512428283691, 16.722972869873047, 17.935197830200195, 19.16484832763672], [12.064177513122559, 11.202666282653809, 10.425531387329102, 9.750768661499023, 9.262144088745117, 9.034465789794922, 9.060625076293945, 9.203697204589844, 9.380375862121582, 9.636880874633789, 9.942829132080078, 10.261271476745605, 10.602459907531738, 10.9951810836792, 11.44088077545166, 11.945601463317871, 12.516318321228027, 13.15087604522705, 13.836255073547363, 14.587075233459473, 15.449287414550781, 16.47966766357422, 17.654916763305664, 18.907062530517578, 20.212512969970703], [12.297057151794434, 11.511096000671387, 10.840738296508789, 10.376690864562988, 10.136245727539062, 10.131242752075195, 10.232888221740723, 10.37279224395752, 10.577585220336914, 10.862730979919434, 11.173314094543457, 11.494193077087402, 11.845128059387207, 12.24378490447998, 12.688921928405762, 13.191357612609863, 13.76099967956543, 14.399727821350098, 15.093416213989258, 15.826764106750488, 16.62122344970703, 17.520843505859375, 18.590553283691406, 19.83683967590332, 21.198204040527344], [12.645787239074707, 11.989286422729492, 11.550047874450684, 11.301973342895508, 11.264925003051758, 11.316123962402344, 11.419163703918457, 11.566033363342285, 11.80722713470459, 12.10002326965332, 12.407987594604492, 12.734254837036133, 13.09778881072998, 13.500873565673828, 13.941299438476562, 14.437938690185547, 15.003396987915039, 15.64167594909668, 16.349958419799805, 17.097864151000977, 17.882814407348633, 18.72934913635254, 19.67856788635254, 20.800800323486328, 22.128582000732422], [13.20017147064209, 12.783097267150879, 12.533949851989746, 12.463193893432617, 12.462095260620117, 12.518084526062012, 12.614439010620117, 12.789331436157227, 13.047002792358398, 13.338374137878418, 13.649199485778809, 13.989781379699707, 14.363965034484863, 14.766371726989746, 15.202314376831055, 15.690509796142578, 16.246997833251953, 16.879152297973633, 17.592544555664062, 18.36335563659668, 19.16740608215332, 20.01087760925293, 20.92066192626953, 21.941198348999023, 23.144014358520508], [14.078393936157227, 13.830788612365723, 13.727129936218262, 13.676346778869629, 13.6737642288208, 13.725847244262695, 13.826873779296875, 14.02644157409668, 14.28857135772705, 14.583053588867188, 14.910778999328613, 15.264945983886719, 15.64404296875, 16.044105529785156, 16.473909378051758, 16.951623916625977, 17.495407104492188, 18.117185592651367, 18.826601028442383, 19.613954544067383, 20.44629669189453, 21.3142147064209, 22.231962203979492, 23.230119705200195, 24.353515625], [15.192386627197266, 15.056459426879883, 14.96142292022705, 14.895294189453125, 14.898306846618652, 14.932435989379883, 15.053423881530762, 15.266146659851074, 15.535901069641113, 15.850610733032227, 16.195392608642578, 16.557802200317383, 16.937984466552734, 17.333965301513672, 17.756229400634766, 18.22299575805664, 18.75339126586914, 19.362634658813477, 20.062768936157227, 20.855470657348633, 21.71355628967285, 22.618120193481445, 23.571380615234375, 24.592472076416016, 25.706939697265625]]}, {\"colorscale\": [[0.0, \"#0508b8\"], [0.08333333333333333, \"#1910d8\"], [0.16666666666666666, \"#3c19f0\"], [0.25, \"#6b1cfb\"], [0.3333333333333333, \"#981cfd\"], [0.4166666666666667, \"#bf1cfd\"], [0.5, \"#dd2bfd\"], [0.5833333333333334, \"#f246fe\"], [0.6666666666666666, \"#fc67fd\"], [0.75, \"#fe88fc\"], [0.8333333333333334, \"#fea5fd\"], [0.9166666666666666, \"#febefe\"], [1.0, \"#fec3fe\"]], \"name\": \"Apollo\", \"opacity\": 0.7, \"showlegend\": true, \"showscale\": false, \"type\": \"surface\", \"x\": [-0.5, -0.4583333432674408, -0.4166666567325592, -0.375, -0.3333333432674408, -0.2916666567325592, -0.25, -0.2083333283662796, -0.1666666716337204, -0.125, -0.0833333358168602, -0.0416666679084301, 0.0, 0.0416666679084301, 0.0833333358168602, 0.125, 0.1666666716337204, 0.2083333283662796, 0.25, 0.2916666567325592, 0.3333333432674408, 0.375, 0.4166666567325592, 0.4583333432674408, 0.5], \"y\": [-0.5, -0.4583333432674408, -0.4166666567325592, -0.375, -0.3333333432674408, -0.2916666567325592, -0.25, -0.2083333283662796, -0.1666666716337204, -0.125, -0.0833333358168602, -0.0416666679084301, 0.0, 0.0416666679084301, 0.0833333358168602, 0.125, 0.1666666716337204, 0.2083333283662796, 0.25, 0.2916666567325592, 0.3333333432674408, 0.375, 0.4166666567325592, 0.4583333432674408, 0.5], \"z\": [[13.019768714904785, 11.642411231994629, 10.471539497375488, 9.591994285583496, 9.038806915283203, 8.746305465698242, 8.620708465576172, 8.594927787780762, 8.608501434326172, 8.619222640991211, 8.615259170532227, 8.606680870056152, 8.6030912399292, 8.619977951049805, 8.67025375366211, 8.771990776062012, 8.93033218383789, 9.135384559631348, 9.371367454528809, 9.629666328430176, 9.906360626220703, 10.198471069335938, 10.502681732177734, 10.817540168762207, 11.141120910644531], [13.305731773376465, 11.868685722351074, 10.559929847717285, 9.472747802734375, 8.683635711669922, 8.213521957397461, 7.99341344833374, 7.930893898010254, 7.948188304901123, 7.979152679443359, 7.9920759201049805, 7.993022918701172, 7.993748188018799, 8.01309871673584, 8.068550109863281, 8.177700996398926, 8.3416166305542, 8.54751205444336, 8.780038833618164, 9.032901763916016, 9.302489280700684, 9.585826873779297, 9.880537033081055, 10.184310913085938, 10.495638847351074], [13.582828521728516, 12.13418197631836, 10.752994537353516, 9.516764640808105, 8.515547752380371, 7.817419528961182, 7.4314188957214355, 7.2845869064331055, 7.281791687011719, 7.328606605529785, 7.361867904663086, 7.375035285949707, 7.383378028869629, 7.40690279006958, 7.470017433166504, 7.586668491363525, 7.754674911499023, 7.958925724029541, 8.18634033203125, 8.43264389038086, 8.69361400604248, 8.966697692871094, 9.250021934509277, 9.541356086730957, 9.838497161865234], [13.83227825164795, 12.39734172821045, 10.991751670837402, 9.669877052307129, 8.510462760925293, 7.596639633178711, 6.9906721115112305, 6.690896511077881, 6.617952346801758, 6.660800457000732, 6.7169694900512695, 6.746933460235596, 6.766264915466309, 6.798737525939941, 6.870948314666748, 6.995383262634277, 7.165371894836426, 7.366176605224609, 7.587498188018799, 7.825319290161133, 8.075940132141113, 8.337285041809082, 8.607284545898438, 8.883437156677246, 9.163939476013184], [14.049067497253418, 12.636850357055664, 11.235301971435547, 9.875265121459961, 8.615249633789062, 7.534296989440918, 6.710992813110352, 6.2006378173828125, 5.986285209655762, 5.979814052581787, 6.046812057495117, 6.101126670837402, 6.13815450668335, 6.183347225189209, 6.267548084259033, 6.399126052856445, 6.568916320800781, 6.764820575714111, 6.978046894073486, 7.205488204956055, 7.444265365600586, 7.691735744476318, 7.9463677406311035, 8.206006050109863, 8.469043731689453], [14.227802276611328, 12.84355354309082, 11.46010971069336, 10.092207908630371, 8.777336120605469, 7.581216335296631, 6.582757949829102, 5.85443115234375, 5.4401044845581055, 5.307981967926025, 5.348990440368652, 5.42686653137207, 5.488697528839111, 5.553934574127197, 5.652037143707275, 5.790489673614502, 5.959453105926514, 6.148946285247803, 6.352878093719482, 6.568098545074463, 6.793529510498047, 7.026909828186035, 7.265653610229492, 7.507571220397949, 7.752201080322266], [14.368892669677734, 13.008606910705566, 11.649333953857422, 10.293370246887207, 8.9589204788208, 7.691973686218262, 6.563241958618164, 5.65108060836792, 5.018763542175293, 4.697844505310059, 4.638293743133545, 4.711196422576904, 4.803706169128418, 4.8989081382751465, 5.017119884490967, 5.163609504699707, 5.3324503898620605, 5.515093803405762, 5.708827495574951, 5.912391662597656, 6.124095439910889, 6.341054916381836, 6.56139612197876, 6.785373687744141, 7.015251159667969], [14.466657638549805, 13.126275062561035, 11.78892707824707, 10.453572273254395, 9.12315845489502, 7.8242950439453125, 6.608968734741211, 5.551922798156738, 4.726541996002197, 4.190524578094482, 3.960639476776123, 3.96512770652771, 4.074003219604492, 4.209813594818115, 4.35614538192749, 4.515282154083252, 4.6844611167907715, 4.860533714294434, 5.044392108917236, 5.235705375671387, 5.432408809661865, 5.633167266845703, 5.83914852142334, 6.050765037536621, 6.268162727355957], [14.51319694519043, 13.185358047485352, 11.866410255432129, 10.5498685836792, 9.235495567321777, 7.93200159072876, 6.673387050628662, 5.514976501464844, 4.5319342613220215, 3.7986490726470947, 3.3675243854522705, 3.2352850437164307, 3.3143725395202637, 3.4866983890533447, 3.6696691513061523, 3.8457629680633545, 4.017043590545654, 4.187950134277344, 4.362844467163086, 4.542511463165283, 4.727413177490234, 4.917596817016602, 5.112223148345947, 5.31209135055542, 5.517341136932373], [14.50684642791748, 13.180709838867188, 11.871424674987793, 10.569984436035156, 9.273093223571777, 7.980905055999756, 6.709160804748535, 5.497735023498535, 4.401970863342285, 3.504648447036743, 2.884385585784912, 2.5882723331451416, 2.5861828327178955, 2.7603166103363037, 2.974883794784546, 3.1700987815856934, 3.345695734024048, 3.514866590499878, 3.6847221851348877, 3.8568525314331055, 4.032497406005859, 4.212022304534912, 4.396815776824951, 4.589025974273682, 4.7903218269348145], [14.445992469787598, 13.120773315429688, 11.811223983764648, 10.515216827392578, 9.228011131286621, 7.949763298034668, 6.686992168426514, 5.459948539733887, 4.301866054534912, 3.286304235458374, 2.519610643386841, 2.0791139602661133, 1.9820246696472168, 2.116945743560791, 2.3328425884246826, 2.537224292755127, 2.718824625015259, 2.887632131576538, 3.052506685256958, 3.218334674835205, 3.3886401653289795, 3.5648224353790283, 3.748530387878418, 3.9412729740142822, 4.1441850662231445], [14.302679061889648, 12.977795600891113, 11.67259407043457, 10.383779525756836, 9.108909606933594, 7.846912860870361, 6.600376129150391, 5.38055419921875, 4.20383358001709, 3.1301369667053223, 2.275641918182373, 1.7515336275100708, 1.5916236639022827, 1.6877244710922241, 1.8800113201141357, 2.0705301761627197, 2.2437071800231934, 2.405721664428711, 2.562689781188965, 2.7215893268585205, 2.8855695724487305, 3.056622266769409, 3.2359495162963867, 3.4252259731292725, 3.624871015548706], [14.07819652557373, 12.74831485748291, 11.440290451049805, 10.153525352478027, 8.887048721313477, 7.645488262176514, 6.430265426635742, 5.249760627746582, 4.10781192779541, 3.0469932556152344, 2.187869071960449, 1.6698335409164429, 1.5115833282470703, 1.5776182413101196, 1.7267816066741943, 1.8807353973388672, 2.0266520977020264, 2.1695237159729004, 2.3129518032073975, 2.459986686706543, 2.6129941940307617, 2.77309513092041, 2.94313907623291, 3.1235454082489014, 3.3156142234802246], [13.773818016052246, 12.431636810302734, 11.11356258392334, 9.823166847229004, 8.564826965332031, 7.346494197845459, 6.173421859741211, 5.057028293609619, 4.00118350982666, 3.0447638034820557, 2.310169219970703, 1.9115159511566162, 1.7991172075271606, 1.8264168500900269, 1.900840163230896, 1.9885419607162476, 2.08445405960083, 2.1917526721954346, 2.310610294342041, 2.4405064582824707, 2.5811805725097656, 2.7323620319366455, 2.893709897994995, 3.0669643878936768, 3.2528295516967773], [13.384634017944336, 12.025847434997559, 10.696340560913086, 9.404047012329102, 8.160245895385742, 6.976215362548828, 5.865700721740723, 4.842919826507568, 3.922687530517578, 3.1653201580047607, 2.67047119140625, 2.4398531913757324, 2.362569808959961, 2.3375329971313477, 2.332322835922241, 2.3429508209228516, 2.376552104949951, 2.4330337047576904, 2.5121545791625977, 2.611497640609741, 2.7282886505126953, 2.8613791465759277, 3.010535478591919, 3.1750266551971436, 3.354846954345703], [12.911849975585938, 11.534378051757812, 10.19553279876709, 8.909363746643066, 7.693118095397949, 6.567526817321777, 5.553884983062744, 4.672155380249023, 3.962545871734619, 3.4796366691589355, 3.222053289413452, 3.0965588092803955, 3.0207784175872803, 2.958913564682007, 2.904137372970581, 2.8594298362731934, 2.837078332901001, 2.841061592102051, 2.8728787899017334, 2.930713415145874, 3.0135555267333984, 3.1192615032196045, 3.2459774017333984, 3.39285945892334, 3.5592422485351562], [12.366205215454102, 10.971477508544922, 9.631341934204102, 8.369071960449219, 7.213061332702637, 6.18972635269165, 5.330793857574463, 4.667766571044922, 4.225259304046631, 3.987246513366699, 3.8635334968566895, 3.7770164012908936, 3.695096969604492, 3.610292434692383, 3.52652645111084, 3.4534215927124023, 3.3968005180358887, 3.3599002361297607, 3.3496007919311523, 3.366156816482544, 3.411076307296753, 3.482970952987671, 3.58126163482666, 3.7045509815216064, 3.8509929180145264], [11.753344535827637, 10.354887008666992, 9.040056228637695, 7.844274044036865, 6.804957866668701, 5.958006858825684, 5.334906101226807, 4.93431282043457, 4.716015338897705, 4.608841419219971, 4.535192966461182, 4.460964202880859, 4.370006084442139, 4.2710065841674805, 4.171176910400391, 4.082096099853516, 4.009326457977295, 3.953800916671753, 3.9157752990722656, 3.8991243839263916, 3.9076809883117676, 3.944430112838745, 4.010567665100098, 4.105856418609619, 4.22955322265625], [11.09498405456543, 9.728233337402344, 8.490971565246582, 7.430288791656494, 6.594820976257324, 6.010204315185547, 5.649904727935791, 5.451567649841309, 5.349908828735352, 5.286858558654785, 5.228068828582764, 5.153233051300049, 5.0538249015808105, 4.946409702301025, 4.840799808502197, 4.743370532989502, 4.661044120788574, 4.596821308135986, 4.5484137535095215, 4.515501022338867, 4.498493194580078, 4.504853248596191, 4.538839817047119, 4.603277206420898, 4.698251724243164], [10.444540023803711, 9.166051864624023, 8.08613109588623, 7.262386322021484, 6.7145795822143555, 6.392920970916748, 6.217199325561523, 6.118871688842773, 6.056680679321289, 6.006361484527588, 5.948214530944824, 5.86654806137085, 5.759223937988281, 5.647213459014893, 5.540016174316406, 5.440727233886719, 5.3545098304748535, 5.2851362228393555, 5.233359336853027, 5.19594144821167, 5.172304153442383, 5.1606221199035645, 5.167993545532227, 5.199321746826172, 5.259372711181641], [9.876836776733398, 8.779908180236816, 7.969083786010742, 7.4535908699035645, 7.166489124298096, 7.015688896179199, 6.9276123046875, 6.8618292808532715, 6.812221527099609, 6.7619829177856445, 6.699076175689697, 6.607816219329834, 6.4969258308410645, 6.385494232177734, 6.279942035675049, 6.184354305267334, 6.100461959838867, 6.029188632965088, 5.973567962646484, 5.93302583694458, 5.9052581787109375, 5.888308525085449, 5.879973888397217, 5.885272026062012, 5.913265228271484], [9.514318466186523, 8.71568489074707, 8.226425170898438, 7.967185974121094, 7.83909797668457, 7.76696252822876, 7.707922458648682, 7.656582355499268, 7.607707500457764, 7.553515434265137, 7.483519077301025, 7.385282039642334, 7.278334617614746, 7.17290735244751, 7.074456691741943, 6.9852681159973145, 6.906156539916992, 6.835317611694336, 6.773726463317871, 6.723077774047852, 6.685360908508301, 6.660459995269775, 6.647350788116455, 6.643622398376465, 6.649331569671631], [9.500782012939453, 9.031946182250977, 8.794002532958984, 8.683722496032715, 8.627875328063965, 8.581904411315918, 8.537646293640137, 8.492960929870605, 8.441146850585938, 8.381537437438965, 8.307077407836914, 8.212879180908203, 8.115219116210938, 8.019969940185547, 7.929518222808838, 7.8440141677856445, 7.7646307945251465, 7.6911301612854, 7.62408447265625, 7.56446647644043, 7.514898777008057, 7.478404521942139, 7.456157684326172, 7.446465015411377, 7.447907447814941], [9.870261192321777, 9.646140098571777, 9.54906940460205, 9.506143569946289, 9.473925590515137, 9.442567825317383, 9.408883094787598, 9.365185737609863, 9.312539100646973, 9.252723693847656, 9.182657241821289, 9.098727226257324, 9.010509490966797, 8.921370506286621, 8.832939147949219, 8.74670124053955, 8.665647506713867, 8.589799880981445, 8.518722534179688, 8.453683853149414, 8.394784927368164, 8.345928192138672, 8.310546875, 8.290891647338867, 8.284854888916016], [10.52428913116455, 10.43508243560791, 10.401832580566406, 10.381609916687012, 10.362859725952148, 10.344138145446777, 10.317330360412598, 10.277658462524414, 10.228761672973633, 10.176108360290527, 10.111040115356445, 10.03279972076416, 9.948840141296387, 9.862415313720703, 9.775172233581543, 9.688668251037598, 9.606236457824707, 9.52829647064209, 9.454617500305176, 9.385857582092285, 9.32186222076416, 9.263575553894043, 9.215564727783203, 9.18148422241211, 9.164072036743164]]}],                        {\"autosize\": true, \"margin\": {\"b\": 65, \"l\": 65, \"r\": 50, \"t\": 90}, \"template\": {\"data\": {\"bar\": [{\"error_x\": {\"color\": \"#2a3f5f\"}, \"error_y\": {\"color\": \"#2a3f5f\"}, \"marker\": {\"line\": {\"color\": \"#E5ECF6\", \"width\": 0.5}}, \"type\": \"bar\"}], \"barpolar\": [{\"marker\": {\"line\": {\"color\": \"#E5ECF6\", \"width\": 0.5}}, \"type\": \"barpolar\"}], \"carpet\": [{\"aaxis\": {\"endlinecolor\": \"#2a3f5f\", \"gridcolor\": \"white\", \"linecolor\": \"white\", \"minorgridcolor\": \"white\", \"startlinecolor\": \"#2a3f5f\"}, \"baxis\": {\"endlinecolor\": \"#2a3f5f\", \"gridcolor\": \"white\", \"linecolor\": \"white\", \"minorgridcolor\": \"white\", \"startlinecolor\": \"#2a3f5f\"}, \"type\": \"carpet\"}], \"choropleth\": [{\"colorbar\": {\"outlinewidth\": 0, \"ticks\": \"\"}, \"type\": \"choropleth\"}], \"contour\": [{\"colorbar\": {\"outlinewidth\": 0, \"ticks\": \"\"}, \"colorscale\": [[0.0, \"#0d0887\"], [0.1111111111111111, \"#46039f\"], [0.2222222222222222, \"#7201a8\"], [0.3333333333333333, \"#9c179e\"], [0.4444444444444444, \"#bd3786\"], [0.5555555555555556, \"#d8576b\"], [0.6666666666666666, \"#ed7953\"], [0.7777777777777778, \"#fb9f3a\"], [0.8888888888888888, \"#fdca26\"], [1.0, \"#f0f921\"]], \"type\": \"contour\"}], \"contourcarpet\": [{\"colorbar\": {\"outlinewidth\": 0, \"ticks\": \"\"}, \"type\": \"contourcarpet\"}], \"heatmap\": [{\"colorbar\": {\"outlinewidth\": 0, \"ticks\": \"\"}, \"colorscale\": [[0.0, \"#0d0887\"], [0.1111111111111111, \"#46039f\"], [0.2222222222222222, \"#7201a8\"], [0.3333333333333333, \"#9c179e\"], [0.4444444444444444, \"#bd3786\"], [0.5555555555555556, \"#d8576b\"], [0.6666666666666666, \"#ed7953\"], [0.7777777777777778, \"#fb9f3a\"], [0.8888888888888888, \"#fdca26\"], [1.0, \"#f0f921\"]], \"type\": \"heatmap\"}], \"heatmapgl\": [{\"colorbar\": {\"outlinewidth\": 0, \"ticks\": \"\"}, \"colorscale\": [[0.0, \"#0d0887\"], [0.1111111111111111, \"#46039f\"], [0.2222222222222222, \"#7201a8\"], [0.3333333333333333, \"#9c179e\"], [0.4444444444444444, \"#bd3786\"], [0.5555555555555556, \"#d8576b\"], [0.6666666666666666, \"#ed7953\"], [0.7777777777777778, \"#fb9f3a\"], [0.8888888888888888, \"#fdca26\"], [1.0, \"#f0f921\"]], \"type\": \"heatmapgl\"}], \"histogram\": [{\"marker\": {\"colorbar\": {\"outlinewidth\": 0, \"ticks\": \"\"}}, \"type\": \"histogram\"}], \"histogram2d\": [{\"colorbar\": {\"outlinewidth\": 0, \"ticks\": \"\"}, \"colorscale\": [[0.0, \"#0d0887\"], [0.1111111111111111, \"#46039f\"], [0.2222222222222222, \"#7201a8\"], [0.3333333333333333, \"#9c179e\"], [0.4444444444444444, \"#bd3786\"], [0.5555555555555556, \"#d8576b\"], [0.6666666666666666, \"#ed7953\"], [0.7777777777777778, \"#fb9f3a\"], [0.8888888888888888, \"#fdca26\"], [1.0, \"#f0f921\"]], \"type\": \"histogram2d\"}], \"histogram2dcontour\": [{\"colorbar\": {\"outlinewidth\": 0, \"ticks\": \"\"}, \"colorscale\": [[0.0, \"#0d0887\"], [0.1111111111111111, \"#46039f\"], [0.2222222222222222, \"#7201a8\"], [0.3333333333333333, \"#9c179e\"], [0.4444444444444444, \"#bd3786\"], [0.5555555555555556, \"#d8576b\"], [0.6666666666666666, \"#ed7953\"], [0.7777777777777778, \"#fb9f3a\"], [0.8888888888888888, \"#fdca26\"], [1.0, \"#f0f921\"]], \"type\": \"histogram2dcontour\"}], \"mesh3d\": [{\"colorbar\": {\"outlinewidth\": 0, \"ticks\": \"\"}, \"type\": \"mesh3d\"}], \"parcoords\": [{\"line\": {\"colorbar\": {\"outlinewidth\": 0, \"ticks\": \"\"}}, \"type\": \"parcoords\"}], \"pie\": [{\"automargin\": true, \"type\": \"pie\"}], \"scatter\": [{\"marker\": {\"colorbar\": {\"outlinewidth\": 0, \"ticks\": \"\"}}, \"type\": \"scatter\"}], \"scatter3d\": [{\"line\": {\"colorbar\": {\"outlinewidth\": 0, \"ticks\": \"\"}}, \"marker\": {\"colorbar\": {\"outlinewidth\": 0, \"ticks\": \"\"}}, \"type\": \"scatter3d\"}], \"scattercarpet\": [{\"marker\": {\"colorbar\": {\"outlinewidth\": 0, \"ticks\": \"\"}}, \"type\": \"scattercarpet\"}], \"scattergeo\": [{\"marker\": {\"colorbar\": {\"outlinewidth\": 0, \"ticks\": \"\"}}, \"type\": \"scattergeo\"}], \"scattergl\": [{\"marker\": {\"colorbar\": {\"outlinewidth\": 0, \"ticks\": \"\"}}, \"type\": \"scattergl\"}], \"scattermapbox\": [{\"marker\": {\"colorbar\": {\"outlinewidth\": 0, \"ticks\": \"\"}}, \"type\": \"scattermapbox\"}], \"scatterpolar\": [{\"marker\": {\"colorbar\": {\"outlinewidth\": 0, \"ticks\": \"\"}}, \"type\": \"scatterpolar\"}], \"scatterpolargl\": [{\"marker\": {\"colorbar\": {\"outlinewidth\": 0, \"ticks\": \"\"}}, \"type\": \"scatterpolargl\"}], \"scatterternary\": [{\"marker\": {\"colorbar\": {\"outlinewidth\": 0, \"ticks\": \"\"}}, \"type\": \"scatterternary\"}], \"surface\": [{\"colorbar\": {\"outlinewidth\": 0, \"ticks\": \"\"}, \"colorscale\": [[0.0, \"#0d0887\"], [0.1111111111111111, \"#46039f\"], [0.2222222222222222, \"#7201a8\"], [0.3333333333333333, \"#9c179e\"], [0.4444444444444444, \"#bd3786\"], [0.5555555555555556, \"#d8576b\"], [0.6666666666666666, \"#ed7953\"], [0.7777777777777778, \"#fb9f3a\"], [0.8888888888888888, \"#fdca26\"], [1.0, \"#f0f921\"]], \"type\": \"surface\"}], \"table\": [{\"cells\": {\"fill\": {\"color\": \"#EBF0F8\"}, \"line\": {\"color\": \"white\"}}, \"header\": {\"fill\": {\"color\": \"#C8D4E3\"}, \"line\": {\"color\": \"white\"}}, \"type\": \"table\"}]}, \"layout\": {\"annotationdefaults\": {\"arrowcolor\": \"#2a3f5f\", \"arrowhead\": 0, \"arrowwidth\": 1}, \"autotypenumbers\": \"strict\", \"coloraxis\": {\"colorbar\": {\"outlinewidth\": 0, \"ticks\": \"\"}}, \"colorscale\": {\"diverging\": [[0, \"#8e0152\"], [0.1, \"#c51b7d\"], [0.2, \"#de77ae\"], [0.3, \"#f1b6da\"], [0.4, \"#fde0ef\"], [0.5, \"#f7f7f7\"], [0.6, \"#e6f5d0\"], [0.7, \"#b8e186\"], [0.8, \"#7fbc41\"], [0.9, \"#4d9221\"], [1, \"#276419\"]], \"sequential\": [[0.0, \"#0d0887\"], [0.1111111111111111, \"#46039f\"], [0.2222222222222222, \"#7201a8\"], [0.3333333333333333, \"#9c179e\"], [0.4444444444444444, \"#bd3786\"], [0.5555555555555556, \"#d8576b\"], [0.6666666666666666, \"#ed7953\"], [0.7777777777777778, \"#fb9f3a\"], [0.8888888888888888, \"#fdca26\"], [1.0, \"#f0f921\"]], \"sequentialminus\": [[0.0, \"#0d0887\"], [0.1111111111111111, \"#46039f\"], [0.2222222222222222, \"#7201a8\"], [0.3333333333333333, \"#9c179e\"], [0.4444444444444444, \"#bd3786\"], [0.5555555555555556, \"#d8576b\"], [0.6666666666666666, \"#ed7953\"], [0.7777777777777778, \"#fb9f3a\"], [0.8888888888888888, \"#fdca26\"], [1.0, \"#f0f921\"]]}, \"colorway\": [\"#636efa\", \"#EF553B\", \"#00cc96\", \"#ab63fa\", \"#FFA15A\", \"#19d3f3\", \"#FF6692\", \"#B6E880\", \"#FF97FF\", \"#FECB52\"], \"font\": {\"color\": \"#2a3f5f\"}, \"geo\": {\"bgcolor\": \"white\", \"lakecolor\": \"white\", \"landcolor\": \"#E5ECF6\", \"showlakes\": true, \"showland\": true, \"subunitcolor\": \"white\"}, \"hoverlabel\": {\"align\": \"left\"}, \"hovermode\": \"closest\", \"mapbox\": {\"style\": \"light\"}, \"paper_bgcolor\": \"white\", \"plot_bgcolor\": \"#E5ECF6\", \"polar\": {\"angularaxis\": {\"gridcolor\": \"white\", \"linecolor\": \"white\", \"ticks\": \"\"}, \"bgcolor\": \"#E5ECF6\", \"radialaxis\": {\"gridcolor\": \"white\", \"linecolor\": \"white\", \"ticks\": \"\"}}, \"scene\": {\"xaxis\": {\"backgroundcolor\": \"#E5ECF6\", \"gridcolor\": \"white\", \"gridwidth\": 2, \"linecolor\": \"white\", \"showbackground\": true, \"ticks\": \"\", \"zerolinecolor\": \"white\"}, \"yaxis\": {\"backgroundcolor\": \"#E5ECF6\", \"gridcolor\": \"white\", \"gridwidth\": 2, \"linecolor\": \"white\", \"showbackground\": true, \"ticks\": \"\", \"zerolinecolor\": \"white\"}, \"zaxis\": {\"backgroundcolor\": \"#E5ECF6\", \"gridcolor\": \"white\", \"gridwidth\": 2, \"linecolor\": \"white\", \"showbackground\": true, \"ticks\": \"\", \"zerolinecolor\": \"white\"}}, \"shapedefaults\": {\"line\": {\"color\": \"#2a3f5f\"}}, \"ternary\": {\"aaxis\": {\"gridcolor\": \"white\", \"linecolor\": \"white\", \"ticks\": \"\"}, \"baxis\": {\"gridcolor\": \"white\", \"linecolor\": \"white\", \"ticks\": \"\"}, \"bgcolor\": \"#E5ECF6\", \"caxis\": {\"gridcolor\": \"white\", \"linecolor\": \"white\", \"ticks\": \"\"}}, \"title\": {\"x\": 0.05}, \"xaxis\": {\"automargin\": true, \"gridcolor\": \"white\", \"linecolor\": \"white\", \"ticks\": \"\", \"title\": {\"standoff\": 15}, \"zerolinecolor\": \"white\", \"zerolinewidth\": 2}, \"yaxis\": {\"automargin\": true, \"gridcolor\": \"white\", \"linecolor\": \"white\", \"ticks\": \"\", \"title\": {\"standoff\": 15}, \"zerolinecolor\": \"white\", \"zerolinewidth\": 2}}}, \"title\": {\"text\": \"Loss landscape for CIFAR\"}, \"xaxis\": {\"title\": {\"text\": \"Perturbation in first eigenvector direction\"}}, \"yaxis\": {\"title\": {\"text\": \"Perturbation in second eigenvector direction\"}}},                        {\"responsive\": true}                    ).then(function(){\n",
       "                            \n",
       "var gd = document.getElementById('f9d9057c-b6a1-4a9e-9294-571389f3af17');\n",
       "var x = new MutationObserver(function (mutations, observer) {{\n",
       "        var display = window.getComputedStyle(gd).display;\n",
       "        if (!display || display === 'none') {{\n",
       "            console.log([gd, 'removed!']);\n",
       "            Plotly.purge(gd);\n",
       "            observer.disconnect();\n",
       "        }}\n",
       "}});\n",
       "\n",
       "// Listen for the removal of the full notebook cells\n",
       "var notebookContainer = gd.closest('#notebook-container');\n",
       "if (notebookContainer) {{\n",
       "    x.observe(notebookContainer, {childList: true});\n",
       "}}\n",
       "\n",
       "// Listen for the clearing of the current output cell\n",
       "var outputEl = gd.closest('.output');\n",
       "if (outputEl) {{\n",
       "    x.observe(outputEl, {childList: true});\n",
       "}}\n",
       "\n",
       "                        })                };                });            </script>        </div>"
      ]
     },
     "metadata": {},
     "output_type": "display_data"
    },
    {
     "data": {
      "application/javascript": [
       "\n",
       "            setTimeout(function() {\n",
       "                var nbb_cell_id = 160;\n",
       "                var nbb_unformatted_code = \"# Different colormaps for different optimizers\\ndataset = \\\"CIFAR\\\"\\ncolors = [\\\"ylgn\\\", \\\"viridis\\\", \\\"blues\\\", \\\"plotly3\\\"]\\nfig = go.Figure()\\n\\nfor (optimizer, loss), c in zip(losses_3d[dataset].items(), colors):\\n    fig.add_trace(\\n        go.Surface(\\n            z=loss,\\n            x=alphas,\\n            y=alphas,\\n            opacity=0.7,\\n            name=optimizer,\\n            showscale=False,\\n            showlegend=True,\\n            colorscale=c,\\n        ),\\n    )\\n\\nfig.update_layout(\\n    title=f\\\"Loss landscape for {dataset}\\\",\\n    autosize=True,\\n    margin=dict(l=65, r=50, b=65, t=90),\\n    xaxis_title=\\\"Perturbation in first eigenvector direction\\\",\\n    yaxis_title=\\\"Perturbation in second eigenvector direction\\\",\\n    overwrite=True,\\n)\\nfig.show()\";\n",
       "                var nbb_formatted_code = \"# Different colormaps for different optimizers\\ndataset = \\\"CIFAR\\\"\\ncolors = [\\\"ylgn\\\", \\\"viridis\\\", \\\"blues\\\", \\\"plotly3\\\"]\\nfig = go.Figure()\\n\\nfor (optimizer, loss), c in zip(losses_3d[dataset].items(), colors):\\n    fig.add_trace(\\n        go.Surface(\\n            z=loss,\\n            x=alphas,\\n            y=alphas,\\n            opacity=0.7,\\n            name=optimizer,\\n            showscale=False,\\n            showlegend=True,\\n            colorscale=c,\\n        ),\\n    )\\n\\nfig.update_layout(\\n    title=f\\\"Loss landscape for {dataset}\\\",\\n    autosize=True,\\n    margin=dict(l=65, r=50, b=65, t=90),\\n    xaxis_title=\\\"Perturbation in first eigenvector direction\\\",\\n    yaxis_title=\\\"Perturbation in second eigenvector direction\\\",\\n    overwrite=True,\\n)\\nfig.show()\";\n",
       "                var nbb_cells = Jupyter.notebook.get_cells();\n",
       "                for (var i = 0; i < nbb_cells.length; ++i) {\n",
       "                    if (nbb_cells[i].input_prompt_number == nbb_cell_id) {\n",
       "                        if (nbb_cells[i].get_text() == nbb_unformatted_code) {\n",
       "                             nbb_cells[i].set_text(nbb_formatted_code);\n",
       "                        }\n",
       "                        break;\n",
       "                    }\n",
       "                }\n",
       "            }, 500);\n",
       "            "
      ],
      "text/plain": [
       "<IPython.core.display.Javascript object>"
      ]
     },
     "metadata": {},
     "output_type": "display_data"
    }
   ],
   "source": [
    "# Different colormaps for different optimizers\n",
    "dataset = \"CIFAR\"\n",
    "colors = [\"ylgn\", \"viridis\", \"blues\", \"plotly3\"]\n",
    "fig = go.Figure()\n",
    "\n",
    "for (optimizer, loss), c in zip(losses_3d[dataset].items(), colors):\n",
    "    fig.add_trace(\n",
    "        go.Surface(\n",
    "            z=loss,\n",
    "            x=alphas,\n",
    "            y=alphas,\n",
    "            opacity=0.7,\n",
    "            name=optimizer,\n",
    "            showscale=False,\n",
    "            showlegend=True,\n",
    "            colorscale=c,\n",
    "        ),\n",
    "    )\n",
    "\n",
    "fig.update_layout(\n",
    "    title=f\"Loss landscape for {dataset}\",\n",
    "    autosize=True,\n",
    "    margin=dict(l=65, r=50, b=65, t=90),\n",
    "    xaxis_title=\"Perturbation in first eigenvector direction\",\n",
    "    yaxis_title=\"Perturbation in second eigenvector direction\",\n",
    "    overwrite=True,\n",
    ")\n",
    "fig.show()"
   ]
  },
  {
   "cell_type": "markdown",
   "id": "fa9806b7",
   "metadata": {},
   "source": [
    "## Hessian traces"
   ]
  },
  {
   "cell_type": "code",
   "execution_count": 40,
   "id": "4d516872",
   "metadata": {
    "scrolled": false
   },
   "outputs": [
    {
     "name": "stdout",
     "output_type": "stream",
     "text": [
      "Files already downloaded and verified\n",
      "Files already downloaded and verified\n",
      "Files already downloaded and verified\n",
      "Files already downloaded and verified\n",
      "Files already downloaded and verified\n",
      "Files already downloaded and verified\n",
      "Files already downloaded and verified\n",
      "Files already downloaded and verified\n"
     ]
    },
    {
     "data": {
      "application/javascript": [
       "\n",
       "            setTimeout(function() {\n",
       "                var nbb_cell_id = 40;\n",
       "                var nbb_unformatted_code = \"datasets = [\\\"MNIST\\\", \\\"Fashion_MNIST\\\", \\\"CIFAR\\\"]\\nalphas, traces = [], {}\\nfor dataset in datasets:\\n    results = pickle.load(open(f\\\"/home/app/results/{dataset}_results.dic\\\", \\\"rb\\\"))\\n    traces[dataset] = {}\\n    for optimizer in results[dataset].keys():\\n        trace = compute_hessian_trace(results[dataset][optimizer][\\\"model\\\"], dataset)\\n        traces[dataset][optimizer] = np.array(trace)\";\n",
       "                var nbb_formatted_code = \"datasets = [\\\"MNIST\\\", \\\"Fashion_MNIST\\\", \\\"CIFAR\\\"]\\nalphas, traces = [], {}\\nfor dataset in datasets:\\n    results = pickle.load(open(f\\\"/home/app/results/{dataset}_results.dic\\\", \\\"rb\\\"))\\n    traces[dataset] = {}\\n    for optimizer in results[dataset].keys():\\n        trace = compute_hessian_trace(results[dataset][optimizer][\\\"model\\\"], dataset)\\n        traces[dataset][optimizer] = np.array(trace)\";\n",
       "                var nbb_cells = Jupyter.notebook.get_cells();\n",
       "                for (var i = 0; i < nbb_cells.length; ++i) {\n",
       "                    if (nbb_cells[i].input_prompt_number == nbb_cell_id) {\n",
       "                        if (nbb_cells[i].get_text() == nbb_unformatted_code) {\n",
       "                             nbb_cells[i].set_text(nbb_formatted_code);\n",
       "                        }\n",
       "                        break;\n",
       "                    }\n",
       "                }\n",
       "            }, 500);\n",
       "            "
      ],
      "text/plain": [
       "<IPython.core.display.Javascript object>"
      ]
     },
     "metadata": {},
     "output_type": "display_data"
    }
   ],
   "source": [
    "datasets = [\"MNIST\", \"Fashion_MNIST\", \"CIFAR\"]\n",
    "traces = {}\n",
    "for dataset in datasets:\n",
    "    results = pickle.load(open(f\"/home/app/results/{dataset}_results.dic\", \"rb\"))\n",
    "    traces[dataset] = {}\n",
    "    for optimizer in results[dataset].keys():\n",
    "        trace = compute_hessian_trace(results[dataset][optimizer][\"model\"], dataset)\n",
    "        traces[dataset][optimizer] = np.array(trace)"
   ]
  },
  {
   "cell_type": "code",
   "execution_count": 41,
   "id": "0252a89b",
   "metadata": {},
   "outputs": [
    {
     "data": {
      "text/html": [
       "<div>\n",
       "<style scoped>\n",
       "    .dataframe tbody tr th:only-of-type {\n",
       "        vertical-align: middle;\n",
       "    }\n",
       "\n",
       "    .dataframe tbody tr th {\n",
       "        vertical-align: top;\n",
       "    }\n",
       "\n",
       "    .dataframe thead th {\n",
       "        text-align: right;\n",
       "    }\n",
       "</style>\n",
       "<table border=\"1\" class=\"dataframe\">\n",
       "  <thead>\n",
       "    <tr style=\"text-align: right;\">\n",
       "      <th></th>\n",
       "      <th>Dataset</th>\n",
       "      <th>Optimizer</th>\n",
       "      <th>Trace</th>\n",
       "    </tr>\n",
       "  </thead>\n",
       "  <tbody>\n",
       "    <tr>\n",
       "      <th>2</th>\n",
       "      <td>MNIST</td>\n",
       "      <td>AdaHessian</td>\n",
       "      <td>2281.419990539551</td>\n",
       "    </tr>\n",
       "    <tr>\n",
       "      <th>6</th>\n",
       "      <td>Fashion_MNIST</td>\n",
       "      <td>AdaHessian</td>\n",
       "      <td>43558.05355834961</td>\n",
       "    </tr>\n",
       "    <tr>\n",
       "      <th>10</th>\n",
       "      <td>CIFAR</td>\n",
       "      <td>AdaHessian</td>\n",
       "      <td>377798.77252197266</td>\n",
       "    </tr>\n",
       "    <tr>\n",
       "      <th>0</th>\n",
       "      <td>MNIST</td>\n",
       "      <td>Adam</td>\n",
       "      <td>4333.956886291504</td>\n",
       "    </tr>\n",
       "    <tr>\n",
       "      <th>4</th>\n",
       "      <td>Fashion_MNIST</td>\n",
       "      <td>Adam</td>\n",
       "      <td>16188.822402954102</td>\n",
       "    </tr>\n",
       "    <tr>\n",
       "      <th>8</th>\n",
       "      <td>CIFAR</td>\n",
       "      <td>Adam</td>\n",
       "      <td>210134.19189453125</td>\n",
       "    </tr>\n",
       "    <tr>\n",
       "      <th>3</th>\n",
       "      <td>MNIST</td>\n",
       "      <td>Apollo</td>\n",
       "      <td>438.83083724975586</td>\n",
       "    </tr>\n",
       "    <tr>\n",
       "      <th>7</th>\n",
       "      <td>Fashion_MNIST</td>\n",
       "      <td>Apollo</td>\n",
       "      <td>8025.53524017334</td>\n",
       "    </tr>\n",
       "    <tr>\n",
       "      <th>11</th>\n",
       "      <td>CIFAR</td>\n",
       "      <td>Apollo</td>\n",
       "      <td>13266.279052734375</td>\n",
       "    </tr>\n",
       "    <tr>\n",
       "      <th>1</th>\n",
       "      <td>MNIST</td>\n",
       "      <td>LBFGS</td>\n",
       "      <td>101336.79260253906</td>\n",
       "    </tr>\n",
       "    <tr>\n",
       "      <th>5</th>\n",
       "      <td>Fashion_MNIST</td>\n",
       "      <td>LBFGS</td>\n",
       "      <td>129822.259765625</td>\n",
       "    </tr>\n",
       "    <tr>\n",
       "      <th>9</th>\n",
       "      <td>CIFAR</td>\n",
       "      <td>LBFGS</td>\n",
       "      <td>76633.40014648438</td>\n",
       "    </tr>\n",
       "  </tbody>\n",
       "</table>\n",
       "</div>"
      ],
      "text/plain": [
       "          Dataset   Optimizer               Trace\n",
       "2           MNIST  AdaHessian   2281.419990539551\n",
       "6   Fashion_MNIST  AdaHessian   43558.05355834961\n",
       "10          CIFAR  AdaHessian  377798.77252197266\n",
       "0           MNIST        Adam   4333.956886291504\n",
       "4   Fashion_MNIST        Adam  16188.822402954102\n",
       "8           CIFAR        Adam  210134.19189453125\n",
       "3           MNIST      Apollo  438.83083724975586\n",
       "7   Fashion_MNIST      Apollo    8025.53524017334\n",
       "11          CIFAR      Apollo  13266.279052734375\n",
       "1           MNIST       LBFGS  101336.79260253906\n",
       "5   Fashion_MNIST       LBFGS    129822.259765625\n",
       "9           CIFAR       LBFGS   76633.40014648438"
      ]
     },
     "execution_count": 41,
     "metadata": {},
     "output_type": "execute_result"
    },
    {
     "data": {
      "application/javascript": [
       "\n",
       "            setTimeout(function() {\n",
       "                var nbb_cell_id = 41;\n",
       "                var nbb_unformatted_code = \"pd.DataFrame(\\n    np.array(\\n        [\\n            [(dataset, optimizer, np.sum(trace)) for optimizer, trace in v.items()]\\n            for dataset, v in traces.items()\\n        ]\\n    ).reshape(12, -1),\\n    columns=[\\\"Dataset\\\", \\\"Optimizer\\\", \\\"Trace\\\"],\\n).sort_values(by=\\\"Optimizer\\\")\";\n",
       "                var nbb_formatted_code = \"pd.DataFrame(\\n    np.array(\\n        [\\n            [(dataset, optimizer, np.sum(trace)) for optimizer, trace in v.items()]\\n            for dataset, v in traces.items()\\n        ]\\n    ).reshape(12, -1),\\n    columns=[\\\"Dataset\\\", \\\"Optimizer\\\", \\\"Trace\\\"],\\n).sort_values(by=\\\"Optimizer\\\")\";\n",
       "                var nbb_cells = Jupyter.notebook.get_cells();\n",
       "                for (var i = 0; i < nbb_cells.length; ++i) {\n",
       "                    if (nbb_cells[i].input_prompt_number == nbb_cell_id) {\n",
       "                        if (nbb_cells[i].get_text() == nbb_unformatted_code) {\n",
       "                             nbb_cells[i].set_text(nbb_formatted_code);\n",
       "                        }\n",
       "                        break;\n",
       "                    }\n",
       "                }\n",
       "            }, 500);\n",
       "            "
      ],
      "text/plain": [
       "<IPython.core.display.Javascript object>"
      ]
     },
     "metadata": {},
     "output_type": "display_data"
    }
   ],
   "source": [
    "pd.DataFrame(\n",
    "    np.array(\n",
    "        [\n",
    "            [(dataset, optimizer, np.sum(trace)) for optimizer, trace in v.items()]\n",
    "            for dataset, v in traces.items()\n",
    "        ]\n",
    "    ).reshape(12, -1),\n",
    "    columns=[\"Dataset\", \"Optimizer\", \"Trace\"],\n",
    ").sort_values(by=\"Optimizer\")"
   ]
  },
  {
   "cell_type": "markdown",
   "id": "6d93abfe",
   "metadata": {},
   "source": [
    "## Eigenvalue Spectral Density"
   ]
  },
  {
   "cell_type": "code",
   "execution_count": null,
   "id": "4050edbe",
   "metadata": {},
   "outputs": [],
   "source": [
    "datasets = [\"MNIST\", \"Fashion_MNIST\", \"CIFAR\"]\n",
    "esds = {}\n",
    "for dataset in datasets:\n",
    "    results = pickle.load(open(f\"{dataset}_results.dic\", \"rb\"))\n",
    "    esds[dataset] = {}\n",
    "    for optimizer in results[dataset].keys():\n",
    "        esd = compute_esd(results[dataset][optimizer][\"model\"], dataset)\n",
    "        esds[dataset][optimizer] = esd"
   ]
  },
  {
   "cell_type": "code",
   "execution_count": 33,
   "id": "8cb8636f",
   "metadata": {},
   "outputs": [
    {
     "data": {
      "image/png": "[encoded data removed]",
      "text/plain": [
       "<Figure size 1080x1440 with 12 Axes>"
      ]
     },
     "metadata": {
      "needs_background": "light"
     },
     "output_type": "display_data"
    },
    {
     "data": {
      "application/javascript": [
       "\n",
       "            setTimeout(function() {\n",
       "                var nbb_cell_id = 33;\n",
       "                var nbb_unformatted_code = \"fig, axs = plt.subplots(nrows=4, ncols=3, figsize=(15, 20))\\nfor i, (dataset, v) in enumerate(esds.items()):\\n    for j, (optimizer, esd) in enumerate(v.items()):\\n        density, grids = density_generate(esd[0], esd[1])\\n        axs[j, i].plot(grids, density + 1.0e-7)\\n        axs[j, i].semilogy(True)\\n        axs[j, i].set_title(f\\\"{dataset} ({optimizer})\\\")\\n        axs[j, i].set_xlabel(\\\"Eigenvalue\\\")\\n        axs[j, i].set_ylabel(\\\"Density (log scale)\\\")\\n        axs[j, i].grid(True)\\n\\nfig.tight_layout()\\nfig.show()\";\n",
       "                var nbb_formatted_code = \"fig, axs = plt.subplots(nrows=4, ncols=3, figsize=(15, 20))\\nfor i, (dataset, v) in enumerate(esds.items()):\\n    for j, (optimizer, esd) in enumerate(v.items()):\\n        density, grids = density_generate(esd[0], esd[1])\\n        axs[j, i].plot(grids, density + 1.0e-7)\\n        axs[j, i].semilogy(True)\\n        axs[j, i].set_title(f\\\"{dataset} ({optimizer})\\\")\\n        axs[j, i].set_xlabel(\\\"Eigenvalue\\\")\\n        axs[j, i].set_ylabel(\\\"Density (log scale)\\\")\\n        axs[j, i].grid(True)\\n\\nfig.tight_layout()\\nfig.show()\";\n",
       "                var nbb_cells = Jupyter.notebook.get_cells();\n",
       "                for (var i = 0; i < nbb_cells.length; ++i) {\n",
       "                    if (nbb_cells[i].input_prompt_number == nbb_cell_id) {\n",
       "                        if (nbb_cells[i].get_text() == nbb_unformatted_code) {\n",
       "                             nbb_cells[i].set_text(nbb_formatted_code);\n",
       "                        }\n",
       "                        break;\n",
       "                    }\n",
       "                }\n",
       "            }, 500);\n",
       "            "
      ],
      "text/plain": [
       "<IPython.core.display.Javascript object>"
      ]
     },
     "metadata": {},
     "output_type": "display_data"
    }
   ],
   "source": [
    "fig, axs = plt.subplots(nrows=4, ncols=3, figsize=(15, 20))\n",
    "for i, (dataset, v) in enumerate(esds.items()):\n",
    "    for j, (optimizer, esd) in enumerate(v.items()):\n",
    "        density, grids = density_generate(esd[0], esd[1])\n",
    "        axs[j, i].plot(grids, density + 1.0e-7)\n",
    "        axs[j, i].semilogy(True)\n",
    "        axs[j, i].set_title(f\"{dataset} ({optimizer})\")\n",
    "        axs[j, i].set_xlabel(\"Eigenvalue\")\n",
    "        axs[j, i].set_ylabel(\"Density (log scale)\")\n",
    "        axs[j, i].grid(True)\n",
    "\n",
    "fig.tight_layout()\n",
    "fig.show()"
   ]
  }
 ],
 "metadata": {
  "kernelspec": {
   "display_name": "Python 3",
   "language": "python",
   "name": "python3"
  },
  "language_info": {
   "codemirror_mode": {
    "name": "ipython",
    "version": 3
   },
   "file_extension": ".py",
   "mimetype": "text/x-python",
   "name": "python",
   "nbconvert_exporter": "python",
   "pygments_lexer": "ipython3",
   "version": "3.8.8"
  }
 },
 "nbformat": 4,
 "nbformat_minor": 5
}
